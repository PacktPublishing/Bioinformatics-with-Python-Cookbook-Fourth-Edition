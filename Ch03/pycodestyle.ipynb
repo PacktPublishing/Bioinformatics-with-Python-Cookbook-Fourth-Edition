{
 "cells": [
  {
   "cell_type": "code",
   "execution_count": 5,
   "id": "86c669e3-1d83-459f-8a43-321dda3b7071",
   "metadata": {},
   "outputs": [
    {
     "name": "stdout",
     "output_type": "stream",
     "text": [
      "Requirement already satisfied: flake8 in /opt/anaconda3/lib/python3.12/site-packages (7.0.0)\n",
      "Requirement already satisfied: mccabe<0.8.0,>=0.7.0 in /opt/anaconda3/lib/python3.12/site-packages (from flake8) (0.7.0)\n",
      "Requirement already satisfied: pycodestyle<2.12.0,>=2.11.0 in /opt/anaconda3/lib/python3.12/site-packages (from flake8) (2.11.1)\n",
      "Requirement already satisfied: pyflakes<3.3.0,>=3.2.0 in /opt/anaconda3/lib/python3.12/site-packages (from flake8) (3.2.0)\n",
      "Requirement already satisfied: pycodestyle in /opt/anaconda3/lib/python3.12/site-packages (2.11.1)\n",
      "Requirement already satisfied: pycodestyle_magic in /opt/anaconda3/lib/python3.12/site-packages (0.5)\n"
     ]
    }
   ],
   "source": [
    "!pip install flake8\n",
    "!pip install pycodestyle \n",
    "!pip install pycodestyle_magic"
   ]
  },
  {
   "cell_type": "code",
   "execution_count": 11,
   "id": "186d6989-aed9-4cc0-b01e-c225ae3e1ab5",
   "metadata": {},
   "outputs": [
    {
     "name": "stdout",
     "output_type": "stream",
     "text": [
      "The pycodestyle_magic extension is already loaded. To reload it, use:\n",
      "  %reload_ext pycodestyle_magic\n"
     ]
    }
   ],
   "source": [
    "%load_ext pycodestyle_magic"
   ]
  },
  {
   "cell_type": "code",
   "execution_count": 12,
   "id": "beba9f29-84ad-4b96-a694-24efe2826bc4",
   "metadata": {},
   "outputs": [
    {
     "name": "stderr",
     "output_type": "stream",
     "text": [
      "2:25: W291 trailing whitespace\n",
      "3:7: E225 missing whitespace around operator\n",
      "3:10: W291 trailing whitespace\n",
      "4:1: W391 blank line at end of file\n"
     ]
    }
   ],
   "source": [
    "%%pycodestyle \n",
    "# 3.1.2 - Example Code A \n",
    "my_var=10 "
   ]
  },
  {
   "cell_type": "code",
   "execution_count": 14,
   "id": "2c42823c-29c5-4960-bcc8-894468d70219",
   "metadata": {},
   "outputs": [
    {
     "name": "stderr",
     "output_type": "stream",
     "text": [
      "2:10: E401 multiple imports on one line\n",
      "3:1: E302 expected 2 blank lines, found 0\n",
      "5:7: E111 indentation is not a multiple of 4\n",
      "9:1: E305 expected 2 blank lines after class or function definition, found 0\n",
      "9:80: E501 line too long (92 > 79 characters)\n",
      "12:1: W391 blank line at end of file\n"
     ]
    }
   ],
   "source": [
    "%%pycodestyle \n",
    "import os, sys  # Unused imports and multiple imports on one line\n",
    "def example_function(a, b):   # Missing docstring\n",
    "    if a > b:\n",
    "      print(\"a is greater than b\")  # Improper indentation\n",
    "    else:\n",
    "        print(\"b is greater or equal to a\")  # Extra indentation\n",
    "# Long line exceeding 80 characters\n",
    "print(\"This is a really, really, really, really, really, really, really long line of code.\")\n",
    "\n",
    "example_function(10, 5)  # Function call with no meaningful context\n"
   ]
  },
  {
   "cell_type": "code",
   "execution_count": null,
   "id": "c5c1e0dc-3037-4296-8a8e-6a0450265359",
   "metadata": {},
   "outputs": [],
   "source": []
  },
  {
   "cell_type": "code",
   "execution_count": null,
   "id": "76b8fde1-79b6-476d-8611-7e627cc8d646",
   "metadata": {},
   "outputs": [],
   "source": []
  },
  {
   "cell_type": "code",
   "execution_count": null,
   "id": "b58b633b-4ecb-4a51-94a9-3a290a5b758e",
   "metadata": {},
   "outputs": [],
   "source": []
  }
 ],
 "metadata": {
  "kernelspec": {
   "display_name": "Python 3 (ipykernel)",
   "language": "python",
   "name": "python3"
  },
  "language_info": {
   "codemirror_mode": {
    "name": "ipython",
    "version": 3
   },
   "file_extension": ".py",
   "mimetype": "text/x-python",
   "name": "python",
   "nbconvert_exporter": "python",
   "pygments_lexer": "ipython3",
   "version": "3.12.2"
  }
 },
 "nbformat": 4,
 "nbformat_minor": 5
}
