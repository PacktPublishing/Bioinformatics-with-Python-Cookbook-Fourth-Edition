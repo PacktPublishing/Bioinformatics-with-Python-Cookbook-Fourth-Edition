{
 "cells": [
  {
   "cell_type": "code",
   "execution_count": null,
   "id": "09c662f9-9479-42fb-9e60-88d839b3db11",
   "metadata": {},
   "outputs": [],
   "source": [
    "# 3-1 - Linting and Style"
   ]
  },
  {
   "cell_type": "code",
   "execution_count": null,
   "id": "c9631482-1cb5-49ec-b372-26c7c7081c72",
   "metadata": {},
   "outputs": [],
   "source": [
    "# pycodestyle usage"
   ]
  },
  {
   "cell_type": "code",
   "execution_count": null,
   "id": "2df1320f-a791-4033-8739-3ff8cfaebe59",
   "metadata": {},
   "outputs": [],
   "source": [
    "# Load the pycodestyle extention\n",
    "%load_ext pycodestyle_magic"
   ]
  },
  {
   "cell_type": "code",
   "execution_count": null,
   "id": "0d1faf3d-4a2f-4c99-824a-8433eb9c237a",
   "metadata": {},
   "outputs": [],
   "source": [
    "%%pycodestyle\n",
    "import os, sys  # Unused imports and multiple imports on one line\n",
    "def example_function(a, b):  # Missing docstring\n",
    "    if a > b:\n",
    "        print(\"a is greater than b\")  # Improper indentation\n",
    "    else:\n",
    "        print(\"b is greater or equal to a\")  # Extra indentation\n",
    "# Long line exceeding 80 characters\n",
    "print(\n",
    "    \"This is a really, really, really, really, really, really, really long line of code.\"\n",
    ")\n",
    "example_function(10, 5)  # Function call with no meaningful context"
   ]
  },
  {
   "cell_type": "code",
   "execution_count": null,
   "id": "ea6cde80-0604-43b0-9908-484fee5e31be",
   "metadata": {},
   "outputs": [],
   "source": [
    "# Above in the output you should see a series of style suggestions"
   ]
  },
  {
   "cell_type": "code",
   "execution_count": null,
   "id": "1c0cdd0a-df99-4d3e-b5e5-c57d7fe0027c",
   "metadata": {},
   "outputs": [],
   "source": [
    "## End of Notebook ##"
   ]
  }
 ],
 "metadata": {
  "kernelspec": {
   "display_name": "Python 3 (ipykernel)",
   "language": "python",
   "name": "python3"
  },
  "language_info": {
   "codemirror_mode": {
    "name": "ipython",
    "version": 3
   },
   "file_extension": ".py",
   "mimetype": "text/x-python",
   "name": "python",
   "nbconvert_exporter": "python",
   "pygments_lexer": "ipython3",
   "version": "3.11.13"
  }
 },
 "nbformat": 4,
 "nbformat_minor": 5
}
