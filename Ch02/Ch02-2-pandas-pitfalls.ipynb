{
 "cells": [
  {
   "cell_type": "code",
   "execution_count": null,
   "id": "9a6d23f7",
   "metadata": {},
   "outputs": [],
   "source": [
    "# Ch02-2 - Pitfalls of joining data with pandas"
   ]
  },
  {
   "cell_type": "code",
   "execution_count": null,
   "id": "cd5b26a0-b105-4219-a1df-b21464aa2675",
   "metadata": {},
   "outputs": [],
   "source": [
    "########################## Notes & Updates ##############################################################\n",
    "# If you are using Docker and your data directory is mapped to \"/data\" then you can use the commented-out\n",
    "#   Docker lines below in place of the primary line (which you will comment out when running)\n",
    "# You will also find other alternative lines or blocks that can be used to avoid potential issues \n",
    "#########################################################################################################"
   ]
  },
  {
   "cell_type": "code",
   "execution_count": null,
   "id": "4d64b416",
   "metadata": {},
   "outputs": [],
   "source": [
    "# 1. Import Libraries\n",
    "import pandas as pd"
   ]
  },
  {
   "cell_type": "code",
   "execution_count": null,
   "id": "923bc568",
   "metadata": {},
   "outputs": [],
   "source": [
    "# 2. Jumble the data using random sampling\n",
    "vdata = pd.read_csv(\"data/2021VAERSDATA.csv.gz\", encoding=\"iso-8859-1\") \n",
    "# vdata = pd.read_csv(\"/data/2021VAERSDATA.csv.gz\", encoding=\"iso-8859-1\")  # Docker\n",
    "vdata.sample(frac=0.9).to_csv(\"vdata_sample.csv.gz\", index=False) \n",
    "vax = pd.read_csv(\"data/2021VAERSVAX.csv.gz\", encoding=\"iso-8859-1\") \n",
    "# vax = pd.read_csv(\"/data/2021VAERSVAX.csv.gz\", encoding=\"iso-8859-1\") # Docker \n",
    "vax.sample(frac=0.9).to_csv(\"vax_sample.csv.gz\", index=False) \n",
    "# Note - it is ok to get a dtype warning here"
   ]
  },
  {
   "cell_type": "code",
   "execution_count": null,
   "id": "d0ef3b0d",
   "metadata": {},
   "outputs": [],
   "source": [
    "# 3. Inner join on the tables\n",
    "vdata = pd.read_csv(\"vdata_sample.csv.gz\", low_memory=False) \n",
    "vax = pd.read_csv(\"vax_sample.csv.gz\", low_memory=False) \n",
    "vdata_with_vax = vdata.join(vax.set_index(\"VAERS_ID\"), on=\"VAERS_ID\", how=\"inner\") \n",
    "# vdata_with_vax = vdata.merge(vax, on=\"VAERS_ID\", how=\"inner\") # Docker - Alternate method \n",
    "len(vdata), len(vax), len(vdata_with_vax) "
   ]
  },
  {
   "cell_type": "code",
   "execution_count": null,
   "id": "9ed5a95b",
   "metadata": {},
   "outputs": [],
   "source": [
    "# 4. Find the data not captured by the join\n",
    "lost_vdata = vdata.loc[~vdata.index.isin(vdata_with_vax.index)] \n",
    "lost_vdata \n",
    "lost_vax = vax[~vax[\"VAERS_ID\"].isin(vdata.index)] \n",
    "lost_vax "
   ]
  },
  {
   "cell_type": "code",
   "execution_count": null,
   "id": "13329af6",
   "metadata": {},
   "outputs": [],
   "source": [
    "# 5. Left outer join\n",
    "vdata_with_vax_left = vdata.join(vax.set_index(\"VAERS_ID\"), on=\"VAERS_ID\") \n",
    "vdata_with_vax_left.groupby(\"VAERS_ID\").size().sort_values() \n",
    "# vdata_with_vax_left = vdata.merge(vax, on=\"VAERS_ID\", how=\"left\") # Docker - alternate version\n",
    "# vdata_with_vax_left.groupby(\"VAERS_ID\").size().sort_values() # Docker - alternate version"
   ]
  },
  {
   "cell_type": "code",
   "execution_count": null,
   "id": "24d2f205",
   "metadata": {},
   "outputs": [],
   "source": [
    "# 6. Right join\n",
    "dead = vdata[vdata.DIED == \"Y\"] \n",
    "vax19 = vax[vax.VAX_TYPE == \"COVID19\"] \n",
    "vax19_dead = vax19.join(dead.set_index(\"VAERS_ID\"), on=\"VAERS_ID\", how=\"right\") \n",
    "len(vax19), len(dead), len(vax19_dead) \n",
    "len(vax19_dead[vax19_dead.VAERS_ID.duplicated()]) \n",
    "len(vax19_dead) - len(dead) "
   ]
  },
  {
   "cell_type": "code",
   "execution_count": null,
   "id": "a92b51dc-111a-4b05-a5b4-1124a631bc03",
   "metadata": {},
   "outputs": [],
   "source": [
    "# 6. Right join (alternate method)\n",
    "# dead = vdata[vdata.DIED == \"Y\"] \n",
    "# vax19 = vax[vax.VAX_TYPE == \"COVID19\"] \n",
    "# vax19_dead = vax19.merge(dead, on=\"VAERS_ID\", how=\"right\")\n",
    "# len(vax19), len(dead), len(vax19_dead)\n",
    "# len(vax19_dead[vax19_dead.VAERS_ID.duplicated()])\n",
    "# len(vax19_dead) - len(dead) "
   ]
  },
  {
   "cell_type": "code",
   "execution_count": null,
   "id": "b877c4b5",
   "metadata": {},
   "outputs": [],
   "source": [
    "# Problematic lots\n",
    "vax19_dead[\"STATE\"] = vax19_dead[\"STATE\"].str.upper() \n",
    "dead_lot = vax19_dead[[\"VAERS_ID\", \"VAX_LOT\", \"STATE\"]].set_index([\"VAERS_ID\", \"VAX_LOT\"]) \n",
    "dead_lot_clean = dead_lot[~dead_lot.index.duplicated()] \n",
    "dead_lot_clean = dead_lot_clean.reset_index() \n",
    "dead_lot_clean[dead_lot_clean.VAERS_ID.isna()] \n",
    "baddies = dead_lot_clean.groupby(\"VAX_LOT\").size().sort_values(ascending=False) "
   ]
  },
  {
   "cell_type": "code",
   "execution_count": null,
   "id": "6b3cc8a5",
   "metadata": {},
   "outputs": [],
   "source": [
    "# Print problematic lots\n",
    "for i, (lot, cnt) in enumerate(baddies.items()):\n",
    "    print(lot, cnt, len(dead_lot_clean[dead_lot_clean.VAX_LOT == lot].groupby(\"STATE\")))\n",
    "    if i == 10:\n",
    "        break"
   ]
  },
  {
   "cell_type": "code",
   "execution_count": null,
   "id": "d249a4e0",
   "metadata": {},
   "outputs": [],
   "source": [
    "# End of Notebook #"
   ]
  }
 ],
 "metadata": {
  "kernelspec": {
   "display_name": "Python 3 (ipykernel)",
   "language": "python",
   "name": "python3"
  },
  "language_info": {
   "codemirror_mode": {
    "name": "ipython",
    "version": 3
   },
   "file_extension": ".py",
   "mimetype": "text/x-python",
   "name": "python",
   "nbconvert_exporter": "python",
   "pygments_lexer": "ipython3",
   "version": "3.12.11"
  }
 },
 "nbformat": 4,
 "nbformat_minor": 5
}
