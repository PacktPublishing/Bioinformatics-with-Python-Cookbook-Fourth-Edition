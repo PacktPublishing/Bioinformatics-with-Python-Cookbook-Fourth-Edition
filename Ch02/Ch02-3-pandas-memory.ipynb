{
 "cells": [
  {
   "cell_type": "code",
   "execution_count": null,
   "id": "fbeff717",
   "metadata": {},
   "outputs": [],
   "source": [
    "# Ch02-3 Pandas Memory"
   ]
  },
  {
   "cell_type": "code",
   "execution_count": null,
   "id": "71c9ea98-4713-4e8d-9a39-8fa2b764e200",
   "metadata": {},
   "outputs": [],
   "source": [
    "########################## Notes & Updates ##############################################################\n",
    "# If you are using Docker and your data directory is mapped to \"/data\" then you can use the commented-out\n",
    "#   Docker lines below in place of the primary line (which you will comment out when running)\n",
    "# You will also find other alternative lines or blocks that can be used to avoid potential issues \n",
    "#########################################################################################################"
   ]
  },
  {
   "cell_type": "code",
   "execution_count": null,
   "id": "1e62c334",
   "metadata": {},
   "outputs": [],
   "source": [
    "# Libraries \n",
    "import numpy as np \n",
    "import pandas as pd "
   ]
  },
  {
   "cell_type": "code",
   "execution_count": null,
   "id": "dbf171c1",
   "metadata": {},
   "outputs": [],
   "source": [
    "# Load data\n",
    "vdata = pd.read_csv(\"data/2021VAERSDATA.csv.gz\", encoding=\"iso-8859-1\", low_memory=False) \n",
    "# vdata = pd.read_csv(\"/data/2021VAERSDATA.csv.gz\", encoding=\"iso-8859-1\", low_memory=False) # Docker\n",
    "vdata.info(memory_usage=\"deep\") "
   ]
  },
  {
   "cell_type": "code",
   "execution_count": null,
   "id": "5258bc2e",
   "metadata": {},
   "outputs": [],
   "source": [
    "# Inspect the size of each column\n",
    "for name in vdata.columns:\n",
    "    col_bytes = vdata[name].memory_usage(index=False, deep=True) \n",
    "    col_type = vdata[name].dtype\n",
    "    print(name, col_type, col_bytes // (1024 ** 2)) "
   ]
  },
  {
   "cell_type": "code",
   "execution_count": null,
   "id": "75883fe5",
   "metadata": {},
   "outputs": [],
   "source": [
    "# Review the Died column\n",
    "vdata.DIED.memory_usage(index=False, deep=True) \n",
    "vdata.DIED.fillna(False).astype(bool).memory_usage(index=False, deep=True) "
   ]
  },
  {
   "cell_type": "code",
   "execution_count": null,
   "id": "551e9be4",
   "metadata": {},
   "outputs": [],
   "source": [
    "# State column\n",
    "vdata[\"STATE\"] = vdata.STATE.str.upper() \n",
    "states = list(vdata[\"STATE\"].unique()) \n",
    "vdata[\"encoded_state\"] = vdata.STATE.apply(lambda state: states.index(state)) \n",
    "vdata[\"encoded_state\"] = vdata[\"encoded_state\"].astype(np.uint8) \n",
    "vdata[\"STATE\"].memory_usage(index=False, deep=True) \n",
    "vdata[\"encoded_state\"].memory_usage(index=False, deep=True) "
   ]
  },
  {
   "cell_type": "code",
   "execution_count": null,
   "id": "26d93734",
   "metadata": {},
   "outputs": [],
   "source": [
    "# Apply optimizations while loading the data\n",
    "states = list(pd.read_csv(\"vdata_sample.csv.gz\",\n",
    "    converters={\"STATE\": lambda state: state.upper()}, \n",
    "    usecols=[\"STATE\"] \n",
    ")[\"STATE\"].unique()) "
   ]
  },
  {
   "cell_type": "code",
   "execution_count": null,
   "id": "bd132f8b",
   "metadata": {},
   "outputs": [],
   "source": [
    "# Skip the symptom_text column\n",
    "vdata = pd.read_csv(\"vdata_sample.csv.gz\", index_col=\"VAERS_ID\",\n",
    "    converters={\n",
    "        \"DIED\": lambda died: died == \"Y\", \"STATE\": lambda state: states.index(state.upper())\n",
    "    }, usecols=lambda name: name != \"SYMPTOM_TEXT\")\n",
    "vdata[\"STATE\"] = vdata[\"STATE\"].astype(np.uint8)\n",
    "vdata.info(memory_usage=\"deep\") "
   ]
  },
  {
   "cell_type": "code",
   "execution_count": null,
   "id": "28e8a98c-39d0-407f-a3ca-aa37b12bcad0",
   "metadata": {},
   "outputs": [],
   "source": [
    "# Note - it is ok to get a dtype warning on the above"
   ]
  },
  {
   "cell_type": "code",
   "execution_count": null,
   "id": "a6e2cac3",
   "metadata": {},
   "outputs": [],
   "source": [
    "# End of Notebook #"
   ]
  }
 ],
 "metadata": {
  "kernelspec": {
   "display_name": "Python 3 (ipykernel)",
   "language": "python",
   "name": "python3"
  },
  "language_info": {
   "codemirror_mode": {
    "name": "ipython",
    "version": 3
   },
   "file_extension": ".py",
   "mimetype": "text/x-python",
   "name": "python",
   "nbconvert_exporter": "python",
   "pygments_lexer": "ipython3",
   "version": "3.12.11"
  }
 },
 "nbformat": 4,
 "nbformat_minor": 5
}
