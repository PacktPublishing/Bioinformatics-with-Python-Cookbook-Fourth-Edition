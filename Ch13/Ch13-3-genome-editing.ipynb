{
 "cells": [
  {
   "cell_type": "code",
   "execution_count": null,
   "id": "713dfbd1",
   "metadata": {},
   "outputs": [],
   "source": [
    "# Ch13-3-genome-editing"
   ]
  },
  {
   "cell_type": "code",
   "execution_count": null,
   "id": "3cf4015c",
   "metadata": {},
   "outputs": [],
   "source": [
    "# Nanopore Read Analysis for Gene Insertion Verification\n",
    "# This notebook demonstrates how to use nanopore sequencing to verify a gene insertion"
   ]
  },
  {
   "cell_type": "code",
   "execution_count": 1,
   "id": "98145966",
   "metadata": {},
   "outputs": [],
   "source": [
    "# Import Libraries #\n",
    "import random\n",
    "import matplotlib.pyplot as plt\n",
    "import numpy as np\n",
    "import pandas as pd\n",
    "import seaborn as sns\n",
    "from Bio.Seq import Seq\n",
    "from Bio.SeqRecord import SeqRecord\n",
    "from collections import Counter\n",
    "from IPython.display import display, HTML"
   ]
  },
  {
   "cell_type": "code",
   "execution_count": 3,
   "id": "f8bf239e-df25-4322-845f-9a140f95806d",
   "metadata": {},
   "outputs": [],
   "source": [
    "# Set random seed for reproducibility\n",
    "np.random.seed(42)\n",
    "random.seed(42)"
   ]
  },
  {
   "cell_type": "code",
   "execution_count": 4,
   "id": "490da6a2-c118-407a-891f-cf6b936f2597",
   "metadata": {},
   "outputs": [],
   "source": [
    "# --- Step 1: Simulate Genomes and Insertions ---\n",
    "\n",
    "def generate_random_sequence(length, gc_content=0.5):\n",
    "    \"\"\"Generate a random DNA sequence with specified GC content\"\"\"\n",
    "    # Calculate probabilities based on GC content\n",
    "    p_g = p_c = gc_content / 2\n",
    "    p_a = p_t = (1 - gc_content) / 2\n",
    "    \n",
    "    # Generate sequence\n",
    "    nucleotides = []\n",
    "    for _ in range(length):\n",
    "        nuc = np.random.choice(['A', 'C', 'G', 'T'], p=[p_a, p_c, p_g, p_t])\n",
    "        nucleotides.append(nuc)\n",
    "    \n",
    "    return ''.join(nucleotides)"
   ]
  },
  {
   "cell_type": "code",
   "execution_count": 5,
   "id": "3443d7e6-7035-4f7b-a8cf-6773fb5da498",
   "metadata": {},
   "outputs": [
    {
     "name": "stdout",
     "output_type": "stream",
     "text": [
      "Creating reference genome...\n",
      "Reference genome length: 100000\n",
      "Reference sample: CTGGAAATGGATTAAACGCCGACCCTAGGAGAATTTCAGCACATCGCGGA...\n",
      "\n",
      "Creating gene insertion...\n",
      "Insertion length: 5000\n",
      "Insertion sample: GGCCCGTGCGATCCAGGCGAGCGTACATCCGGTGTAATTCCCGGCCCAAA...\n",
      "\n",
      "Modified genome length: 105000\n",
      "Insertion position: 40000\n"
     ]
    }
   ],
   "source": [
    "# Create reference genome (wild type)\n",
    "print(\"Creating reference genome...\")\n",
    "reference_genome = generate_random_sequence(100000)\n",
    "print(f\"Reference genome length: {len(reference_genome)}\")\n",
    "print(f\"Reference sample: {reference_genome[:50]}...\")\n",
    "\n",
    "# Create gene insertion sequence\n",
    "print(\"\\nCreating gene insertion...\")\n",
    "insertion_sequence = generate_random_sequence(5000, gc_content=0.6)\n",
    "print(f\"Insertion length: {len(insertion_sequence)}\")\n",
    "print(f\"Insertion sample: {insertion_sequence[:50]}...\")\n",
    "\n",
    "# Create modified genome with insertion\n",
    "insertion_position = 40000  # We'll insert at a known position\n",
    "modified_genome = reference_genome[:insertion_position] + insertion_sequence + reference_genome[insertion_position:]\n",
    "print(f\"\\nModified genome length: {len(modified_genome)}\")\n",
    "print(f\"Insertion position: {insertion_position}\")"
   ]
  },
  {
   "cell_type": "code",
   "execution_count": 6,
   "id": "ada03b68-b1ed-4584-8d00-a815c6c55b0e",
   "metadata": {},
   "outputs": [],
   "source": [
    "# --- Step 2: Simulate Nanopore Reads ---\n",
    "def apply_nanopore_errors(sequence):\n",
    "    \"\"\"Apply typical nanopore sequencing errors to a sequence\"\"\"\n",
    "    result = ''\n",
    "    for base in sequence:\n",
    "        # Error probabilities\n",
    "        p_error = 0.05  # 5% total error rate\n",
    "        if random.random() < p_error:\n",
    "            error_type = random.choice(['substitution', 'deletion', 'insertion'])\n",
    "            \n",
    "            if error_type == 'substitution':\n",
    "                # Replace with a different base\n",
    "                possible_bases = [b for b in 'ACGT' if b != base]\n",
    "                result += random.choice(possible_bases)\n",
    "            elif error_type == 'deletion':\n",
    "                # Skip this base (delete)\n",
    "                continue\n",
    "            else:  # insertion\n",
    "                # Insert a random base before the current base\n",
    "                result += random.choice('ACGT') + base\n",
    "        else:\n",
    "            result += base\n",
    "    \n",
    "    return result"
   ]
  },
  {
   "cell_type": "code",
   "execution_count": 7,
   "id": "fe5f782f-a7ce-490a-8493-b4bbb49dcacc",
   "metadata": {},
   "outputs": [],
   "source": [
    "def generate_nanopore_reads(genome, n_reads=100, min_length=5000, max_length=15000):\n",
    "    \"\"\"Generate a set of nanopore reads from a genome\"\"\"\n",
    "    reads = []\n",
    "    read_info = []\n",
    "    \n",
    "    for i in range(n_reads):\n",
    "        # Choose read length\n",
    "        read_length = random.randint(min_length, max_length)\n",
    "        \n",
    "        # Choose a random starting position\n",
    "        start_pos = random.randint(0, len(genome) - read_length)\n",
    "        \n",
    "        # Extract the read\n",
    "        read = genome[start_pos:start_pos + read_length]\n",
    "        \n",
    "        # Apply nanopore errors\n",
    "        read_with_errors = apply_nanopore_errors(read)\n",
    "        \n",
    "        # Store the read\n",
    "        read_record = SeqRecord(\n",
    "            Seq(read_with_errors),\n",
    "            id=f\"Read_{i+1}\",\n",
    "            description=f\"simulated nanopore read\"\n",
    "        )\n",
    "        \n",
    "        reads.append(read_record)\n",
    "        read_info.append({\n",
    "            'read_id': f\"Read_{i+1}\",\n",
    "            'start': start_pos,\n",
    "            'end': start_pos + len(read_with_errors),\n",
    "            'length': len(read_with_errors)\n",
    "        })\n",
    "    \n",
    "    return reads, pd.DataFrame(read_info)"
   ]
  },
  {
   "cell_type": "code",
   "execution_count": 8,
   "id": "6f1c0568-681c-42d1-a375-3d3d030a4d42",
   "metadata": {},
   "outputs": [
    {
     "name": "stdout",
     "output_type": "stream",
     "text": [
      "\n",
      "Generating nanopore reads...\n",
      "Generated 100 nanopore reads\n",
      "\n",
      "Sample of read information:\n"
     ]
    },
    {
     "data": {
      "text/html": [
       "<div>\n",
       "<style scoped>\n",
       "    .dataframe tbody tr th:only-of-type {\n",
       "        vertical-align: middle;\n",
       "    }\n",
       "\n",
       "    .dataframe tbody tr th {\n",
       "        vertical-align: top;\n",
       "    }\n",
       "\n",
       "    .dataframe thead th {\n",
       "        text-align: right;\n",
       "    }\n",
       "</style>\n",
       "<table border=\"1\" class=\"dataframe\">\n",
       "  <thead>\n",
       "    <tr style=\"text-align: right;\">\n",
       "      <th></th>\n",
       "      <th>read_id</th>\n",
       "      <th>start</th>\n",
       "      <th>end</th>\n",
       "      <th>length</th>\n",
       "    </tr>\n",
       "  </thead>\n",
       "  <tbody>\n",
       "    <tr>\n",
       "      <th>0</th>\n",
       "      <td>Read_1</td>\n",
       "      <td>3278</td>\n",
       "      <td>10101</td>\n",
       "      <td>6823</td>\n",
       "    </tr>\n",
       "    <tr>\n",
       "      <th>1</th>\n",
       "      <td>Read_2</td>\n",
       "      <td>82864</td>\n",
       "      <td>93635</td>\n",
       "      <td>10771</td>\n",
       "    </tr>\n",
       "    <tr>\n",
       "      <th>2</th>\n",
       "      <td>Read_3</td>\n",
       "      <td>14810</td>\n",
       "      <td>20321</td>\n",
       "      <td>5511</td>\n",
       "    </tr>\n",
       "    <tr>\n",
       "      <th>3</th>\n",
       "      <td>Read_4</td>\n",
       "      <td>78823</td>\n",
       "      <td>86502</td>\n",
       "      <td>7679</td>\n",
       "    </tr>\n",
       "    <tr>\n",
       "      <th>4</th>\n",
       "      <td>Read_5</td>\n",
       "      <td>18081</td>\n",
       "      <td>23271</td>\n",
       "      <td>5190</td>\n",
       "    </tr>\n",
       "  </tbody>\n",
       "</table>\n",
       "</div>"
      ],
      "text/plain": [
       "  read_id  start    end  length\n",
       "0  Read_1   3278  10101    6823\n",
       "1  Read_2  82864  93635   10771\n",
       "2  Read_3  14810  20321    5511\n",
       "3  Read_4  78823  86502    7679\n",
       "4  Read_5  18081  23271    5190"
      ]
     },
     "metadata": {},
     "output_type": "display_data"
    }
   ],
   "source": [
    "# Generate nanopore reads\n",
    "print(\"\\nGenerating nanopore reads...\")\n",
    "reads, read_info = generate_nanopore_reads(modified_genome, n_reads=100)\n",
    "print(f\"Generated {len(reads)} nanopore reads\")\n",
    "\n",
    "# Display read info\n",
    "print(\"\\nSample of read information:\")\n",
    "display(read_info.head())"
   ]
  },
  {
   "cell_type": "code",
   "execution_count": 9,
   "id": "bc502a05-df15-4ded-87c3-edb3a886bdff",
   "metadata": {},
   "outputs": [],
   "source": [
    "# --- Step 3: Kmer-based Read Mapping ---\n",
    "\n",
    "def find_kmers(sequence, k=15):\n",
    "    \"\"\"Find all k-mers in a sequence\"\"\"\n",
    "    kmers = []\n",
    "    for i in range(len(sequence) - k + 1):\n",
    "        kmers.append(sequence[i:i+k])\n",
    "    return kmers\n"
   ]
  },
  {
   "cell_type": "code",
   "execution_count": 10,
   "id": "85af7349-e653-4c71-b3cb-f8224235ca8e",
   "metadata": {},
   "outputs": [],
   "source": [
    "def map_read_to_genome(read, reference, k=15):\n",
    "    \"\"\"Simple k-mer based mapping of a read to the reference genome\"\"\"\n",
    "    read_kmers = find_kmers(read, k)\n",
    "    \n",
    "    # Find all positions of each k-mer in the reference\n",
    "    kmer_positions = {}\n",
    "    for i in range(len(reference) - k + 1):\n",
    "        kmer = reference[i:i+k]\n",
    "        if kmer not in kmer_positions:\n",
    "            kmer_positions[kmer] = []\n",
    "        kmer_positions[kmer].append(i)\n",
    "    \n",
    "    # Count matches for each position\n",
    "    position_counts = Counter()\n",
    "    \n",
    "    for kmer in read_kmers:\n",
    "        if kmer in kmer_positions:\n",
    "            for pos in kmer_positions[kmer]:\n",
    "                # Increment the count for the starting position\n",
    "                position_counts[pos] += 1\n",
    "    \n",
    "    # Find position with maximum k-mer matches\n",
    "    if position_counts:\n",
    "        best_pos = position_counts.most_common(1)[0][0]\n",
    "        confidence = position_counts[best_pos] / len(read_kmers)\n",
    "        return best_pos, confidence\n",
    "    else:\n",
    "        return -1, 0.0"
   ]
  },
  {
   "cell_type": "code",
   "execution_count": 11,
   "id": "0998015b-d737-4b62-a2b7-ffb807baa31f",
   "metadata": {},
   "outputs": [
    {
     "name": "stdout",
     "output_type": "stream",
     "text": [
      "\n",
      "Mapping reads to reference and modified genomes...\n"
     ]
    }
   ],
   "source": [
    "# Map each read to both reference and modified genomes\n",
    "print(\"\\nMapping reads to reference and modified genomes...\")\n",
    "\n",
    "# Results container\n",
    "mapping_results = []\n",
    "\n",
    "for read in reads:\n",
    "    read_seq = str(read.seq)\n",
    "    \n",
    "    # Map to reference genome\n",
    "    ref_pos, ref_conf = map_read_to_genome(read_seq, reference_genome)\n",
    "    \n",
    "    # Map to modified genome\n",
    "    mod_pos, mod_conf = map_read_to_genome(read_seq, modified_genome)\n",
    "    \n",
    "    # Determine if read supports insertion\n",
    "    read_type = 'ambiguous'\n",
    "    conf_diff = mod_conf - ref_conf\n",
    "    read_len = len(read_seq)\n",
    "    \n",
    "    # Check if read spans or crosses insertion\n",
    "    if conf_diff > 0.1:  # Maps better to modified genome\n",
    "        if mod_pos < insertion_position and mod_pos + read_len > insertion_position + len(insertion_sequence):\n",
    "            read_type = 'spanning'  # Read completely spans the insertion\n",
    "        elif (mod_pos <= insertion_position and mod_pos + read_len > insertion_position) or \\\n",
    "             (mod_pos < insertion_position + len(insertion_sequence) and mod_pos + read_len >= insertion_position + len(insertion_sequence)):\n",
    "            read_type = 'supporting'  # Read crosses one end of the insertion\n",
    "        else:\n",
    "            read_type = 'non-insertion'  # Read aligns to modified genome but doesn't cross insertion\n",
    "    elif conf_diff < -0.1:  # Maps better to reference genome\n",
    "        read_type = 'reference'  # Read aligns better to reference genome\n",
    "    \n",
    "    mapping_results.append({\n",
    "        'read_id': read.id,\n",
    "        'read_length': read_len,\n",
    "        'ref_position': ref_pos,\n",
    "        'ref_confidence': ref_conf,\n",
    "        'mod_position': mod_pos,\n",
    "        'mod_confidence': mod_conf,\n",
    "        'confidence_diff': conf_diff,\n",
    "        'read_type': read_type\n",
    "    })"
   ]
  },
  {
   "cell_type": "code",
   "execution_count": 12,
   "id": "c525fee1-8929-4345-b537-f00a6f5cb385",
   "metadata": {},
   "outputs": [
    {
     "name": "stdout",
     "output_type": "stream",
     "text": [
      "\n",
      "Alignment results summary:\n"
     ]
    },
    {
     "data": {
      "text/html": [
       "<div>\n",
       "<style scoped>\n",
       "    .dataframe tbody tr th:only-of-type {\n",
       "        vertical-align: middle;\n",
       "    }\n",
       "\n",
       "    .dataframe tbody tr th {\n",
       "        vertical-align: top;\n",
       "    }\n",
       "\n",
       "    .dataframe thead th {\n",
       "        text-align: right;\n",
       "    }\n",
       "</style>\n",
       "<table border=\"1\" class=\"dataframe\">\n",
       "  <thead>\n",
       "    <tr style=\"text-align: right;\">\n",
       "      <th></th>\n",
       "      <th>read_id</th>\n",
       "      <th>read_length</th>\n",
       "      <th>ref_position</th>\n",
       "      <th>ref_confidence</th>\n",
       "      <th>mod_position</th>\n",
       "      <th>mod_confidence</th>\n",
       "      <th>confidence_diff</th>\n",
       "      <th>read_type</th>\n",
       "    </tr>\n",
       "  </thead>\n",
       "  <tbody>\n",
       "    <tr>\n",
       "      <th>0</th>\n",
       "      <td>Read_1</td>\n",
       "      <td>6823</td>\n",
       "      <td>3286</td>\n",
       "      <td>0.000147</td>\n",
       "      <td>3286</td>\n",
       "      <td>0.000147</td>\n",
       "      <td>0.0</td>\n",
       "      <td>ambiguous</td>\n",
       "    </tr>\n",
       "    <tr>\n",
       "      <th>1</th>\n",
       "      <td>Read_2</td>\n",
       "      <td>10771</td>\n",
       "      <td>77864</td>\n",
       "      <td>0.000093</td>\n",
       "      <td>82864</td>\n",
       "      <td>0.000093</td>\n",
       "      <td>0.0</td>\n",
       "      <td>ambiguous</td>\n",
       "    </tr>\n",
       "    <tr>\n",
       "      <th>2</th>\n",
       "      <td>Read_3</td>\n",
       "      <td>5511</td>\n",
       "      <td>14821</td>\n",
       "      <td>0.000182</td>\n",
       "      <td>14821</td>\n",
       "      <td>0.000182</td>\n",
       "      <td>0.0</td>\n",
       "      <td>ambiguous</td>\n",
       "    </tr>\n",
       "    <tr>\n",
       "      <th>3</th>\n",
       "      <td>Read_4</td>\n",
       "      <td>7679</td>\n",
       "      <td>73823</td>\n",
       "      <td>0.000130</td>\n",
       "      <td>78823</td>\n",
       "      <td>0.000130</td>\n",
       "      <td>0.0</td>\n",
       "      <td>ambiguous</td>\n",
       "    </tr>\n",
       "    <tr>\n",
       "      <th>4</th>\n",
       "      <td>Read_5</td>\n",
       "      <td>5190</td>\n",
       "      <td>18081</td>\n",
       "      <td>0.000193</td>\n",
       "      <td>18081</td>\n",
       "      <td>0.000193</td>\n",
       "      <td>0.0</td>\n",
       "      <td>ambiguous</td>\n",
       "    </tr>\n",
       "  </tbody>\n",
       "</table>\n",
       "</div>"
      ],
      "text/plain": [
       "  read_id  read_length  ref_position  ref_confidence  mod_position  \\\n",
       "0  Read_1         6823          3286        0.000147          3286   \n",
       "1  Read_2        10771         77864        0.000093         82864   \n",
       "2  Read_3         5511         14821        0.000182         14821   \n",
       "3  Read_4         7679         73823        0.000130         78823   \n",
       "4  Read_5         5190         18081        0.000193         18081   \n",
       "\n",
       "   mod_confidence  confidence_diff  read_type  \n",
       "0        0.000147              0.0  ambiguous  \n",
       "1        0.000093              0.0  ambiguous  \n",
       "2        0.000182              0.0  ambiguous  \n",
       "3        0.000130              0.0  ambiguous  \n",
       "4        0.000193              0.0  ambiguous  "
      ]
     },
     "metadata": {},
     "output_type": "display_data"
    },
    {
     "name": "stdout",
     "output_type": "stream",
     "text": [
      "\n",
      "Read type distribution:\n"
     ]
    },
    {
     "data": {
      "text/plain": [
       "ambiguous    100\n",
       "Name: read_type, dtype: int64"
      ]
     },
     "metadata": {},
     "output_type": "display_data"
    }
   ],
   "source": [
    "# Convert to DataFrame for analysis\n",
    "alignment_df = pd.DataFrame(mapping_results)\n",
    "\n",
    "print(\"\\nAlignment results summary:\")\n",
    "display(alignment_df.head())\n",
    "\n",
    "# Count the different read types\n",
    "read_type_counts = alignment_df['read_type'].value_counts()\n",
    "print(\"\\nRead type distribution:\")\n",
    "display(read_type_counts)"
   ]
  },
  {
   "cell_type": "code",
   "execution_count": 13,
   "id": "ba775e08-20c1-4c93-8414-1f5635137489",
   "metadata": {},
   "outputs": [
    {
     "name": "stdout",
     "output_type": "stream",
     "text": [
      "\n",
      "Insertion evidence summary:\n",
      "Total reads: 100\n",
      "Reads spanning the insertion: 0 (0.0%)\n",
      "Reads supporting the insertion: 0 (0.0%)\n"
     ]
    }
   ],
   "source": [
    "# --- Step 4: Analyze Insertion Evidence ---\n",
    "\n",
    "# Calculate summary statistics\n",
    "spanning_reads = len(alignment_df[alignment_df['read_type'] == 'spanning'])\n",
    "supporting_reads = len(alignment_df[alignment_df['read_type'] == 'supporting'])\n",
    "total_reads = len(alignment_df)\n",
    "\n",
    "print(f\"\\nInsertion evidence summary:\")\n",
    "print(f\"Total reads: {total_reads}\")\n",
    "print(f\"Reads spanning the insertion: {spanning_reads} ({spanning_reads/total_reads*100:.1f}%)\")\n",
    "print(f\"Reads supporting the insertion: {supporting_reads} ({supporting_reads/total_reads*100:.1f}%)\")"
   ]
  },
  {
   "cell_type": "code",
   "execution_count": 14,
   "id": "d0e37022-3097-4941-b536-19b9cbb29ebe",
   "metadata": {},
   "outputs": [
    {
     "data": {
      "image/png": "[encoded data removed]",
      "text/plain": [
       "<Figure size 1000x600 with 1 Axes>"
      ]
     },
     "metadata": {},
     "output_type": "display_data"
    }
   ],
   "source": [
    "# Create visualization of the results\n",
    "\n",
    "# 1. Read type distribution\n",
    "plt.figure(figsize=(10, 6))\n",
    "sns.countplot(x='read_type', data=alignment_df, palette='viridis')\n",
    "plt.title('Distribution of Read Types', fontsize=14)\n",
    "plt.xlabel('Read Type')\n",
    "plt.ylabel('Count')\n",
    "plt.xticks(rotation=45)\n",
    "plt.tight_layout()\n",
    "plt.show()"
   ]
  },
  {
   "cell_type": "code",
   "execution_count": 15,
   "id": "f1a3e8ce-9580-4d72-b3f5-c4717f61d64a",
   "metadata": {},
   "outputs": [
    {
     "data": {
      "image/png": "[encoded data removed]",
      "text/plain": [
       "<Figure size 1000x600 with 1 Axes>"
      ]
     },
     "metadata": {},
     "output_type": "display_data"
    }
   ],
   "source": [
    "# 2. Confidence difference histogram\n",
    "plt.figure(figsize=(10, 6))\n",
    "sns.histplot(alignment_df['confidence_diff'], bins=30, kde=True)\n",
    "plt.axvline(x=0, color='red', linestyle='--')\n",
    "plt.title('Alignment Confidence Difference (Modified - Reference)', fontsize=14)\n",
    "plt.xlabel('Confidence Difference')\n",
    "plt.ylabel('Count')\n",
    "plt.tight_layout()\n",
    "plt.show()"
   ]
  },
  {
   "cell_type": "code",
   "execution_count": 16,
   "id": "e1b1bb7d-2f57-43a6-804a-6604de4eafef",
   "metadata": {},
   "outputs": [
    {
     "data": {
      "text/plain": [
       "<Figure size 1200x800 with 0 Axes>"
      ]
     },
     "metadata": {},
     "output_type": "display_data"
    }
   ],
   "source": [
    "# 3. Read alignment visualization\n",
    "plt.figure(figsize=(12, 8))\n",
    "\n",
    "# Sort by read type for better visualization\n",
    "sorted_df = alignment_df.sort_values('read_type')\n",
    "\n",
    "# Prepare data for visualization\n",
    "y_positions = np.arange(len(sorted_df))\n",
    "read_starts = []\n",
    "read_ends = []\n",
    "colors = []\n",
    "\n",
    "color_map = {\n",
    "    'spanning': 'green',\n",
    "    'supporting': 'blue',\n",
    "    'reference': 'red',\n",
    "    'non-insertion': 'purple',\n",
    "    'ambiguous': 'gray'\n",
    "}"
   ]
  },
  {
   "cell_type": "code",
   "execution_count": 17,
   "id": "3c4e7d7e-057b-40f3-9b40-225e824d2888",
   "metadata": {},
   "outputs": [],
   "source": [
    "for _, row in sorted_df.iterrows():\n",
    "    if row['read_type'] in ['spanning', 'supporting', 'non-insertion']:\n",
    "        start = row['mod_position']\n",
    "        end = row['mod_position'] + row['read_length']\n",
    "    else:\n",
    "        start = row['ref_position']\n",
    "        end = row['ref_position'] + row['read_length']\n",
    "    \n",
    "    read_starts.append(start)\n",
    "    read_ends.append(end)\n",
    "    colors.append(color_map.get(row['read_type'], 'gray'))\n"
   ]
  },
  {
   "cell_type": "code",
   "execution_count": 18,
   "id": "5c2f5e20-958a-4f2f-86aa-4c694d53fcd9",
   "metadata": {},
   "outputs": [
    {
     "data": {
      "image/png": "[encoded data removed]",
      "text/plain": [
       "<Figure size 640x480 with 1 Axes>"
      ]
     },
     "metadata": {},
     "output_type": "display_data"
    }
   ],
   "source": [
    "# Plot reads as horizontal lines\n",
    "for y, start, end, color in zip(y_positions, read_starts, read_ends, colors):\n",
    "    plt.plot([start, end], [y, y], color=color, linewidth=1.5)\n",
    "\n",
    "# Highlight insertion region\n",
    "insertion_region = plt.Rectangle((insertion_position, -1), len(insertion_sequence), \n",
    "                                len(sorted_df) + 1, color='yellow', alpha=0.2, zorder=0)\n",
    "plt.gca().add_patch(insertion_region)\n",
    "\n",
    "# Add legend\n",
    "from matplotlib.lines import Line2D\n",
    "legend_elements = [\n",
    "    Line2D([0], [0], color='green', lw=2, label='Spanning Reads'),\n",
    "    Line2D([0], [0], color='blue', lw=2, label='Supporting Reads'),\n",
    "    Line2D([0], [0], color='red', lw=2, label='Reference Reads'),\n",
    "    Line2D([0], [0], color='purple', lw=2, label='Non-insertion Reads'),\n",
    "    Line2D([0], [0], color='gray', lw=2, label='Ambiguous Reads'),\n",
    "    plt.Rectangle((0, 0), 1, 1, color='yellow', alpha=0.2, label='Insertion Region')\n",
    "]\n",
    "plt.legend(handles=legend_elements, loc='upper right')\n",
    "\n",
    "plt.title('Read Alignment Visualization', fontsize=14)\n",
    "plt.xlabel('Genome Position')\n",
    "plt.ylabel('Reads')\n",
    "plt.yticks([])\n",
    "plt.tight_layout()\n",
    "plt.show()\n"
   ]
  },
  {
   "cell_type": "code",
   "execution_count": 19,
   "id": "c511d07f-8746-4e08-bb46-431d42411757",
   "metadata": {},
   "outputs": [],
   "source": [
    "# --- Step 5: Verify Insertion ---\n",
    "\n",
    "def verify_insertion(spanning_count, supporting_count, total_reads, \n",
    "                    spanning_threshold=5, supporting_threshold=15):\n",
    "    \"\"\"\n",
    "    Make a final verification decision based on the analysis results\n",
    "    \"\"\"\n",
    "    # Calculate percentages\n",
    "    spanning_percentage = spanning_count / total_reads * 100\n",
    "    supporting_percentage = supporting_count / total_reads * 100\n",
    "    \n",
    "    # Check if insertion is verified\n",
    "    is_verified = (spanning_count >= spanning_threshold and \n",
    "                  supporting_count >= supporting_threshold)\n",
    "    \n",
    "    # Calculate confidence score (simple heuristic)\n",
    "    confidence = min(1.0, supporting_percentage / 30)\n",
    "    \n",
    "    verification_result = {\n",
    "        'insertion_verified': is_verified,\n",
    "        'confidence': confidence,\n",
    "        'message': ''\n",
    "    }\n",
    "    \n",
    "    if is_verified:\n",
    "        if confidence >= 0.9:\n",
    "            verification_result['message'] = (\n",
    "                f\"Insertion VERIFIED with high confidence ({confidence:.2f}). \"\n",
    "                f\"Found {spanning_count} spanning reads and \"\n",
    "                f\"{supporting_count} supporting reads.\"\n",
    "            )\n",
    "        else:\n",
    "            verification_result['message'] = (\n",
    "                f\"Insertion VERIFIED with moderate confidence ({confidence:.2f}). \"\n",
    "                f\"Found {spanning_count} spanning reads and \"\n",
    "                f\"{supporting_count} supporting reads.\"\n",
    "            )\n",
    "    else:\n",
    "        verification_result['message'] = (\n",
    "            f\"Insertion NOT VERIFIED. Insufficient evidence with confidence ({confidence:.2f}). \"\n",
    "            f\"Found only {spanning_count} spanning reads and \"\n",
    "            f\"{supporting_count} supporting reads.\"\n",
    "        )\n",
    "    \n",
    "    return verification_result"
   ]
  },
  {
   "cell_type": "code",
   "execution_count": 20,
   "id": "836e9f15-8b49-45c6-8ace-1b688f6f0ec9",
   "metadata": {},
   "outputs": [
    {
     "data": {
      "text/html": [
       "\n",
       "<div style=\"background-color: red; color: white; padding: 20px; border-radius: 5px;\">\n",
       "    <h3>Insertion Verification Result</h3>\n",
       "    <p><b>Status:</b> NOT VERIFIED</p>\n",
       "    <p><b>Confidence:</b> 0.00</p>\n",
       "    <p><b>Details:</b> Insertion NOT VERIFIED. Insufficient evidence with confidence (0.00). Found only 0 spanning reads and 0 supporting reads.</p>\n",
       "</div>\n"
      ],
      "text/plain": [
       "<IPython.core.display.HTML object>"
      ]
     },
     "metadata": {},
     "output_type": "display_data"
    }
   ],
   "source": [
    "# Run verification\n",
    "verification_result = verify_insertion(spanning_reads, supporting_reads, total_reads)\n",
    "\n",
    "# Display result in a styled box\n",
    "result_color = \"green\" if verification_result['insertion_verified'] else \"red\"\n",
    "result_html = f\"\"\"\n",
    "<div style=\"background-color: {result_color}; color: white; padding: 20px; border-radius: 5px;\">\n",
    "    <h3>Insertion Verification Result</h3>\n",
    "    <p><b>Status:</b> {'VERIFIED' if verification_result['insertion_verified'] else 'NOT VERIFIED'}</p>\n",
    "    <p><b>Confidence:</b> {verification_result['confidence']:.2f}</p>\n",
    "    <p><b>Details:</b> {verification_result['message']}</p>\n",
    "</div>\n",
    "\"\"\"\n",
    "display(HTML(result_html))"
   ]
  },
  {
   "cell_type": "code",
   "execution_count": 21,
   "id": "ad01ad08-6c1a-4aa5-8859-44ffd0480f01",
   "metadata": {},
   "outputs": [],
   "source": [
    "# --- Step 6: Coverage Analysis Across Insertion Site ---\n",
    "\n",
    "# Create position-specific coverage data\n",
    "positions = range(insertion_position - 5000, insertion_position + len(insertion_sequence) + 5000)\n",
    "coverage = {pos: 0 for pos in positions}\n",
    "\n",
    "# Count reads covering each position\n",
    "for _, row in alignment_df.iterrows():\n",
    "    if row['read_type'] in ['spanning', 'supporting', 'non-insertion']:\n",
    "        start = row['mod_position']\n",
    "        end = start + row['read_length']\n",
    "        \n",
    "        for pos in range(start, end + 1):\n",
    "            if pos in coverage:\n",
    "                coverage[pos] += 1\n",
    "\n",
    "# Convert to DataFrame for plotting\n",
    "coverage_df = pd.DataFrame({\n",
    "    'position': list(coverage.keys()),\n",
    "    'coverage': list(coverage.values())\n",
    "})"
   ]
  },
  {
   "cell_type": "code",
   "execution_count": 22,
   "id": "87cb0a26-7691-42a0-821a-3234fd230007",
   "metadata": {},
   "outputs": [
    {
     "data": {
      "image/png": "[encoded data removed]",
      "text/plain": [
       "<Figure size 1200x600 with 1 Axes>"
      ]
     },
     "metadata": {},
     "output_type": "display_data"
    }
   ],
   "source": [
    "# Plot coverage\n",
    "plt.figure(figsize=(12, 6))\n",
    "plt.plot(coverage_df['position'], coverage_df['coverage'])\n",
    "\n",
    "# Highlight insertion region\n",
    "plt.axvspan(insertion_position, insertion_position + len(insertion_sequence), \n",
    "            color='yellow', alpha=0.3, label='Insertion Region')\n",
    "\n",
    "# Add vertical lines at insertion boundaries\n",
    "plt.axvline(x=insertion_position, color='red', linestyle='--', label='Insertion Start')\n",
    "plt.axvline(x=insertion_position + len(insertion_sequence), color='red', linestyle='--', label='Insertion End')\n",
    "\n",
    "plt.title('Read Coverage Across Insertion Site', fontsize=14)\n",
    "plt.xlabel('Genome Position')\n",
    "plt.ylabel('Coverage Depth')\n",
    "plt.legend()\n",
    "plt.tight_layout()\n",
    "plt.show()"
   ]
  },
  {
   "cell_type": "code",
   "execution_count": 23,
   "id": "8404a3e2",
   "metadata": {},
   "outputs": [
    {
     "name": "stdout",
     "output_type": "stream",
     "text": [
      "\n",
      "--- Conclusion ---\n",
      "Insertion NOT VERIFIED. Insufficient evidence with confidence (0.00). Found only 0 spanning reads and 0 supporting reads.\n",
      "\n",
      "Recommended next steps:\n",
      "1. Increase sequencing depth for more evidence\n",
      "2. Try targeted PCR across insertion junctions\n",
      "3. Consider alternative sequencing approaches\n",
      "\n",
      "This analysis demonstrates how nanopore sequencing can be used to verify gene insertions\n",
      "through read mapping and coverage analysis. The long reads provided by nanopore technology\n",
      "are particularly valuable for spanning entire insertion regions, enabling confident verification.\n"
     ]
    }
   ],
   "source": [
    "# --- Step 7: Conclusion and Next Steps ---\n",
    "\n",
    "print(\"\\n--- Conclusion ---\")\n",
    "print(verification_result['message'])\n",
    "print(\"\\nRecommended next steps:\")\n",
    "if verification_result['insertion_verified']:\n",
    "    print(\"1. Validate insertion boundaries with targeted PCR\")\n",
    "    print(\"2. Confirm insertion sequence with Sanger sequencing\")\n",
    "    print(\"3. Verify expression of inserted gene (if applicable)\")\n",
    "else:\n",
    "    print(\"1. Increase sequencing depth for more evidence\")\n",
    "    print(\"2. Try targeted PCR across insertion junctions\")\n",
    "    print(\"3. Consider alternative sequencing approaches\")\n",
    "\n",
    "print(\"\\nThis analysis demonstrates how nanopore sequencing can be used to verify gene insertions\")\n",
    "print(\"through read mapping and coverage analysis. The long reads provided by nanopore technology\")\n",
    "print(\"are particularly valuable for spanning entire insertion regions, enabling confident verification.\")"
   ]
  },
  {
   "cell_type": "code",
   "execution_count": null,
   "id": "d9dea56f",
   "metadata": {},
   "outputs": [],
   "source": [
    "## End of Notebook ##"
   ]
  }
 ],
 "metadata": {
  "kernelspec": {
   "display_name": "Python 3 (ipykernel)",
   "language": "python",
   "name": "python3"
  },
  "language_info": {
   "codemirror_mode": {
    "name": "ipython",
    "version": 3
   },
   "file_extension": ".py",
   "mimetype": "text/x-python",
   "name": "python",
   "nbconvert_exporter": "python",
   "pygments_lexer": "ipython3",
   "version": "3.11.3"
  }
 },
 "nbformat": 4,
 "nbformat_minor": 5
}
