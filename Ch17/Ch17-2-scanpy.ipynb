{
 "cells": [
  {
   "cell_type": "code",
   "execution_count": null,
   "id": "0f18daca-60ce-4546-86d2-a0a6b4f41f3c",
   "metadata": {},
   "outputs": [],
   "source": [
    "# Ch17-2 ScanPy - Single Cell Analysis "
   ]
  },
  {
   "cell_type": "code",
   "execution_count": null,
   "id": "ebe66112-7958-4454-b6d1-f269aeea6076",
   "metadata": {},
   "outputs": [],
   "source": [
    "# Install Tools #\n",
    "! pip install scanpy igraph leidenalg"
   ]
  },
  {
   "cell_type": "code",
   "execution_count": null,
   "id": "16160847-06be-4dea-bc93-a6247ac2a4fe",
   "metadata": {},
   "outputs": [],
   "source": [
    "# Import Libraries #\n",
    "import scanpy as sc\n",
    "import pandas as pd\n",
    "import numpy as np\n",
    "import matplotlib.pyplot as plt\n",
    "import seaborn as sns\n",
    "import warnings"
   ]
  },
  {
   "cell_type": "code",
   "execution_count": null,
   "id": "9e05f95e-5e63-44a8-83b4-d757db63019b",
   "metadata": {},
   "outputs": [],
   "source": [
    "# Optional: Suppress common single-cell analysis warnings for cleaner output\n",
    "warnings.filterwarnings('ignore', category=RuntimeWarning, message='overflow encountered in expm1')\n",
    "warnings.filterwarnings('ignore', category=UserWarning, message='Received a view of an AnnData')\n",
    "warnings.filterwarnings('ignore', category=UserWarning, message='zero-centering a sparse array')"
   ]
  },
  {
   "cell_type": "code",
   "execution_count": null,
   "id": "962ac692-43fb-4e74-bcfe-da3d9d73b940",
   "metadata": {},
   "outputs": [],
   "source": [
    "# Configure scanpy settings\n",
    "sc.settings.verbosity = 3  # verbosity level\n",
    "\n",
    "# Configure matplotlib directly instead of using sc.settings.set_figure_params\n",
    "import matplotlib\n",
    "matplotlib.rcParams['figure.dpi'] = 80\n",
    "matplotlib.rcParams['figure.facecolor'] = 'white'\n",
    "matplotlib.rcParams['savefig.dpi'] = 300  # for high-quality saved figures"
   ]
  },
  {
   "cell_type": "code",
   "execution_count": null,
   "id": "b9614104-7544-4977-96e9-5d399525ee4d",
   "metadata": {},
   "outputs": [],
   "source": [
    "# 1. LOAD DATA\n",
    "# Load the built-in PBMC3k dataset from scanpy\n",
    "print(\"Loading PBMC3k dataset...\")\n",
    "adata = sc.datasets.pbmc3k()"
   ]
  },
  {
   "cell_type": "code",
   "execution_count": null,
   "id": "b185271e-0b9e-423e-9093-e081fcf9c872",
   "metadata": {},
   "outputs": [],
   "source": [
    "# Alternative: Load preprocessed version (if you want to skip filtering steps)\n",
    "# adata = sc.datasets.pbmc3k_processed()\n",
    "\n",
    "# Alternative: Loading from 10X Genomics format files\n",
    "# adata = sc.read_10x_mtx(\n",
    "#     'data/',  # Path to the directory containing matrix.mtx, features.tsv, barcodes.tsv\n",
    "#     var_names='gene_symbols',\n",
    "#     cache=True\n",
    "# )"
   ]
  },
  {
   "cell_type": "code",
   "execution_count": null,
   "id": "9a87e85e-81f5-45d4-a65b-349853197c35",
   "metadata": {},
   "outputs": [],
   "source": [
    "# Check and handle duplicate names (usually not needed for PBMC3k dataset)\n",
    "print(f\"Variable names unique: {adata.var_names.is_unique}\")\n",
    "print(f\"Observation names unique: {adata.obs_names.is_unique}\")\n",
    "\n",
    "# The PBMC3k dataset usually has unique names already, but if not:\n",
    "if not adata.var_names.is_unique:\n",
    "    print(\"Warning: Duplicate gene names found. Consider manual inspection.\")\n",
    "if not adata.obs_names.is_unique:\n",
    "    print(\"Warning: Duplicate cell names found. Consider manual inspection.\")"
   ]
  },
  {
   "cell_type": "code",
   "execution_count": null,
   "id": "40d20385-2cff-4816-93ff-ff13e9b05563",
   "metadata": {},
   "outputs": [],
   "source": [
    "# 2. INITIAL DATA EXPLORATION\n",
    "print(f\"Number of cells: {adata.n_obs}\")\n",
    "print(f\"Number of genes: {adata.n_vars}\")\n",
    "print(f\"Data shape: {adata.shape}\")"
   ]
  },
  {
   "cell_type": "code",
   "execution_count": null,
   "id": "8505febd-0c1d-4d69-8fa3-0e174e4e74c4",
   "metadata": {},
   "outputs": [],
   "source": [
    "# 3. QUALITY CONTROL METRICS\n",
    "# Calculate QC metrics\n",
    "# Mitochondrial genes\n",
    "adata.var['mt'] = adata.var_names.str.startswith('MT-')\n",
    "# Ribosomal genes  \n",
    "adata.var['ribo'] = adata.var_names.str.startswith(('RPS', 'RPL'))\n",
    "# Hemoglobin genes\n",
    "adata.var['hb'] = adata.var_names.str.contains('^HB[^(P)]')\n",
    "\n",
    "# Calculate QC metrics for each cell\n",
    "sc.pp.calculate_qc_metrics(adata, percent_top=None, log1p=False, inplace=True)\n",
    "\n",
    "# Add mitochondrial gene percentage\n",
    "sc.pp.calculate_qc_metrics(adata, qc_vars=['mt'], percent_top=None, log1p=False, inplace=True)"
   ]
  },
  {
   "cell_type": "code",
   "execution_count": null,
   "id": "239b6b99-dda5-45e4-89c4-4d807c32228d",
   "metadata": {},
   "outputs": [],
   "source": [
    "# 4. VISUALIZE QC METRICS\n",
    "# Let scanpy handle the plotting layout automatically\n",
    "sc.pl.violin(adata, ['n_genes_by_counts', 'total_counts', 'pct_counts_mt'],\n",
    "             jitter=0.4, multi_panel=True)\n",
    "\n",
    "# Scatter plots to identify outliers\n",
    "sc.pl.scatter(adata, x='total_counts', y='pct_counts_mt')\n",
    "sc.pl.scatter(adata, x='total_counts', y='n_genes_by_counts')"
   ]
  },
  {
   "cell_type": "code",
   "execution_count": null,
   "id": "55b8d011-8423-4267-b304-4681caa4e825",
   "metadata": {},
   "outputs": [],
   "source": [
    "# 5. FILTER CELLS AND GENES\n",
    "print(f\"Before filtering: {adata.n_obs} cells, {adata.n_vars} genes\")\n",
    "\n",
    "# Filter cells with too few or too many genes\n",
    "sc.pp.filter_cells(adata, min_genes=200)  # filter out cells with < 200 genes\n",
    "sc.pp.filter_genes(adata, min_cells=3)    # filter out genes expressed in < 3 cells\n",
    "\n",
    "# Filter cells with high mitochondrial gene percentage (dying cells)\n",
    "adata = adata[adata.obs.pct_counts_mt < 20, :]\n",
    "\n",
    "# Filter cells with too many total counts (potential doublets)\n",
    "adata = adata[adata.obs.total_counts < 30000, :]\n",
    "\n",
    "# Filter cells with too few total counts\n",
    "adata = adata[adata.obs.total_counts > 1000, :]\n",
    "\n",
    "print(f\"After filtering: {adata.n_obs} cells, {adata.n_vars} genes\")"
   ]
  },
  {
   "cell_type": "code",
   "execution_count": null,
   "id": "f45f2fd5-145a-4397-bc94-73b431e49722",
   "metadata": {},
   "outputs": [],
   "source": [
    "# 6. SAVE RAW DATA\n",
    "# Save the raw data before normalization\n",
    "adata.raw = adata\n",
    "\n",
    "# Check basic statistics of the raw data\n",
    "print(\"Raw data statistics:\")\n",
    "if hasattr(adata.X, 'data'):  # sparse matrix\n",
    "    print(f\"Raw data range: {adata.X.data.min():.2f} to {adata.X.data.max():.2f}\")\n",
    "    print(f\"Raw data mean: {adata.X.data.mean():.2f}\")\n",
    "    print(f\"Number of zeros: {(adata.X.data == 0).sum()}\")\n",
    "else:  # dense matrix\n",
    "    print(f\"Raw data range: {adata.X.min():.2f} to {adata.X.max():.2f}\")\n",
    "    print(f\"Raw data mean: {adata.X.mean():.2f}\")\n",
    "    print(f\"Number of zeros: {(adata.X == 0).sum()}\")"
   ]
  },
  {
   "cell_type": "code",
   "execution_count": null,
   "id": "b99a7c77-c886-4c2f-8a37-215887784450",
   "metadata": {},
   "outputs": [],
   "source": [
    "# 7. FIND HIGHLY VARIABLE GENES\n",
    "# First, let's check for problematic values in the data\n",
    "print(\"Checking for infinite or NaN values...\")\n",
    "print(f\"Contains infinite values: {np.isinf(adata.X.data).any() if hasattr(adata.X, 'data') else np.isinf(adata.X).any()}\")\n",
    "print(f\"Contains NaN values: {np.isnan(adata.X.data).any() if hasattr(adata.X, 'data') else np.isnan(adata.X).any()}\")\n",
    "\n",
    "# Clean the data if needed\n",
    "if hasattr(adata.X, 'data'):  # sparse matrix\n",
    "    # Replace infinite values with zero\n",
    "    inf_mask = np.isinf(adata.X.data)\n",
    "    if inf_mask.any():\n",
    "        print(\"Replacing infinite values with zero...\")\n",
    "        adata.X.data[inf_mask] = 0\n",
    "    \n",
    "    # Replace NaN values with zero\n",
    "    nan_mask = np.isnan(adata.X.data)\n",
    "    if nan_mask.any():\n",
    "        print(\"Replacing NaN values with zero...\")\n",
    "        adata.X.data[nan_mask] = 0\n",
    "else:  # dense matrix\n",
    "    adata.X[np.isinf(adata.X)] = 0\n",
    "    adata.X[np.isnan(adata.X)] = 0\n",
    "\n",
    "# Try different approaches for highly variable genes\n",
    "try:\n",
    "    # Use n_top_genes without conflicting parameters\n",
    "    sc.pp.highly_variable_genes(adata, n_top_genes=2000, flavor='seurat')\n",
    "    print(f\"Selected {adata.var['highly_variable'].sum()} highly variable genes using Seurat method\")\n",
    "        \n",
    "except (ValueError, RuntimeError) as e:\n",
    "    print(f\"Standard highly variable genes failed: {e}\")\n",
    "    print(\"Trying alternative approach...\")\n",
    "    \n",
    "    # Alternative: use Seurat method which is more robust\n",
    "    try:\n",
    "        sc.pp.highly_variable_genes(adata, flavor='seurat', n_top_genes=2000)\n",
    "        print(f\"Selected {adata.var['highly_variable'].sum()} highly variable genes\")\n",
    "    except Exception as e2:\n",
    "        print(f\"Seurat method also failed: {e2}\")\n",
    "        print(\"Using simple variance-based selection...\")\n",
    "        \n",
    "        # Manual selection based on variance\n",
    "        if hasattr(adata.X, 'toarray'):\n",
    "            X_dense = adata.X.toarray()\n",
    "        else:\n",
    "            X_dense = adata.X\n",
    "        \n",
    "        # Calculate variance for each gene\n",
    "        gene_var = np.var(X_dense, axis=0)\n",
    "        # Select top 2000 most variable genes\n",
    "        top_var_indices = np.argsort(gene_var)[-2000:]\n",
    "        adata.var['highly_variable'] = False\n",
    "        adata.var.iloc[top_var_indices, adata.var.columns.get_loc('highly_variable')] = True\n",
    "        \n",
    "        print(f\"Selected {adata.var['highly_variable'].sum()} highly variable genes\")\n",
    "\n",
    "# Keep only highly variable genes for downstream analysis\n",
    "adata = adata[:, adata.var.highly_variable]"
   ]
  },
  {
   "cell_type": "code",
   "execution_count": null,
   "id": "cb7940c3-5d9e-445c-ad3c-13147213de18",
   "metadata": {},
   "outputs": [],
   "source": [
    "# 8. NORMALIZATION AND SCALING\n",
    "# Normalize to 10,000 reads per cell\n",
    "sc.pp.normalize_total(adata, target_sum=1e4)\n",
    "\n",
    "# Log transform (add pseudocount to avoid log(0))\n",
    "sc.pp.log1p(adata)\n",
    "\n",
    "# IMPORTANT: Save log-normalized data for later differential expression analysis\n",
    "adata.layers['log1p'] = adata.X.copy()\n",
    "\n",
    "# Check for problematic values after log transformation\n",
    "print(\"After log transformation:\")\n",
    "if hasattr(adata.X, 'data'):\n",
    "    print(f\"Max value: {adata.X.data.max()}\")\n",
    "    print(f\"Min value: {adata.X.data.min()}\")\n",
    "    print(f\"Contains infinite: {np.isinf(adata.X.data).any()}\")\n",
    "else:\n",
    "    print(f\"Max value: {adata.X.max()}\")\n",
    "    print(f\"Min value: {adata.X.min()}\")\n",
    "    print(f\"Contains infinite: {np.isinf(adata.X).any()}\")\n",
    "\n",
    "# Scale data (zero mean, unit variance) - be more conservative\n",
    "sc.pp.scale(adata, max_value=10)"
   ]
  },
  {
   "cell_type": "code",
   "execution_count": null,
   "id": "c42ea15a-6e8c-45ea-8ee9-4252452c9351",
   "metadata": {},
   "outputs": [],
   "source": [
    "# 9. PRINCIPAL COMPONENT ANALYSIS\n",
    "sc.tl.pca(adata, svd_solver='arpack')\n",
    "sc.pl.pca_variance_ratio(adata, log=True, n_pcs=50)"
   ]
  },
  {
   "cell_type": "code",
   "execution_count": null,
   "id": "bfcb0a6b-fb03-477b-96fb-148ed7f5ceee",
   "metadata": {},
   "outputs": [],
   "source": [
    "# 10. COMPUTE NEIGHBORHOOD GRAPH\n",
    "# Compute neighborhood graph\n",
    "sc.pp.neighbors(adata, n_neighbors=10, n_pcs=40)"
   ]
  },
  {
   "cell_type": "code",
   "execution_count": null,
   "id": "b8a66656-46f6-40e9-bb0c-fc198a6afa7d",
   "metadata": {},
   "outputs": [],
   "source": [
    "# 11. PERFORM UMAP EMBEDDING\n",
    "sc.tl.umap(adata)"
   ]
  },
  {
   "cell_type": "code",
   "execution_count": null,
   "id": "14ab439c-21b2-454f-94fe-6063f8bbc2dc",
   "metadata": {},
   "outputs": [],
   "source": [
    "# 12. CLUSTERING\n",
    "# Leiden clustering\n",
    "sc.tl.leiden(adata, resolution=0.5)\n",
    "\n",
    "# Alternative: Louvain clustering\n",
    "# sc.tl.louvain(adata, resolution=0.5)"
   ]
  },
  {
   "cell_type": "code",
   "execution_count": null,
   "id": "d65dca9a-ba5e-4bc1-a902-db4276b73eee",
   "metadata": {},
   "outputs": [],
   "source": [
    "# 13. VISUALIZATION\n",
    "# Plot UMAP with clusters\n",
    "sc.pl.umap(adata, color=['leiden'], legend_loc='on data', \n",
    "           title='Leiden Clustering', frameon=False, save='.pdf')\n",
    "\n",
    "# Plot QC metrics on UMAP\n",
    "sc.pl.umap(adata, color=['total_counts', 'n_genes_by_counts', 'pct_counts_mt'], \n",
    "           ncols=3)"
   ]
  },
  {
   "cell_type": "code",
   "execution_count": null,
   "id": "78d66db6-d173-4230-b47d-bfc95f59a62b",
   "metadata": {},
   "outputs": [],
   "source": [
    "# 14. FIND MARKER GENES\n",
    "# Find marker genes for each cluster using log-transformed (but unscaled) data\n",
    "sc.tl.rank_genes_groups(adata, 'leiden', method='wilcoxon', use_raw=False, layer='log1p')\n",
    "\n",
    "# Plot top marker genes\n",
    "sc.pl.rank_genes_groups(adata, n_genes=5, sharey=False)\n",
    "\n",
    "# Get marker gene results as DataFrame\n",
    "result = sc.get.rank_genes_groups_df(adata, group='0')  # for cluster 0\n",
    "print(result.head(10))"
   ]
  },
  {
   "cell_type": "code",
   "execution_count": null,
   "id": "003f8b9a-bb1d-480f-8afd-5e70b450c44f",
   "metadata": {},
   "outputs": [],
   "source": [
    "# 15. PLOT SPECIFIC GENES\n",
    "# PBMC-specific marker genes (these should be present in the PBMC3k dataset)\n",
    "marker_genes = ['CD3D', 'CD3E', 'CD8A', 'CD4', 'IL7R',  # T cells\n",
    "                'CD14', 'LYZ', 'FCGR3A',                 # Monocytes  \n",
    "                'MS4A1', 'CD79A',                        # B cells\n",
    "                'GNLY', 'NKG7',                          # NK cells\n",
    "                'FCER1A', 'CST3']                        # Dendritic cells\n",
    "\n",
    "# Check which genes are available in the dataset\n",
    "available_genes = [gene for gene in marker_genes if gene in adata.raw.var_names]\n",
    "print(f\"Available marker genes: {available_genes}\")\n",
    "\n",
    "if available_genes:\n",
    "    # Use raw data for plotting to show actual expression levels\n",
    "    sc.pl.umap(adata, color=available_genes, use_raw=True, ncols=3)\n"
   ]
  },
  {
   "cell_type": "code",
   "execution_count": null,
   "id": "cbd33cad-5aa5-4cf6-b716-785d2604a2c0",
   "metadata": {},
   "outputs": [],
   "source": [
    "# 16. SAVE RESULTS\n",
    "# Create results directory if it doesn't exist\n",
    "import os\n",
    "os.makedirs('results', exist_ok=True)\n",
    "\n",
    "# Save the analysis results\n",
    "adata.write('results/pbmc3k_analyzed.h5ad')\n",
    "\n",
    "# Export cluster information\n",
    "cluster_df = pd.DataFrame({\n",
    "    'cell_barcode': adata.obs.index,\n",
    "    'cluster': adata.obs['leiden'],\n",
    "    'n_genes': adata.obs['n_genes_by_counts'],\n",
    "    'total_counts': adata.obs['total_counts'],\n",
    "    'mt_percent': adata.obs['pct_counts_mt']\n",
    "})\n",
    "cluster_df.to_csv('results/pbmc3k_cluster_assignments.csv', index=False)\n",
    "\n",
    "# Export marker genes for all clusters\n",
    "marker_genes_df = sc.get.rank_genes_groups_df(adata, group=None)\n",
    "marker_genes_df.to_csv('results/pbmc3k_marker_genes.csv', index=False)\n",
    "\n",
    "print(\"Analysis complete! Results saved to 'results/' directory.\")"
   ]
  },
  {
   "cell_type": "code",
   "execution_count": null,
   "id": "fd69a34b-793b-478f-a504-a7f8c81644d3",
   "metadata": {},
   "outputs": [],
   "source": [
    "# 17. OPTIONAL: CELL TYPE ANNOTATION\n",
    "# This would typically involve comparing marker genes to known cell type signatures\n",
    "# For PBMC data, we expect to see major immune cell types\n",
    "\n",
    "# First, let's see what clusters we actually have\n",
    "print(f\"Found clusters: {sorted(adata.obs['leiden'].unique())}\")\n",
    "\n",
    "# Example of manual annotation based on marker genes (adjust based on your results):\n",
    "# You would determine these mappings by examining the marker genes for each cluster\n",
    "cluster_annotations = {\n",
    "    '0': 'CD4+ T cells',\n",
    "    '1': 'CD14+ Monocytes', \n",
    "    '2': 'B cells',\n",
    "    '3': 'CD8+ T cells',\n",
    "    '4': 'FCGR3A+ Monocytes',\n",
    "    '5': 'NK cells',\n",
    "    '6': 'Dendritic cells',\n",
    "    '7': 'Megakaryocytes',\n",
    "    # Add more based on your marker gene analysis\n",
    "    # The exact mapping will depend on your clustering resolution and results\n",
    "}\n",
    "\n",
    "# Add annotations to the data (handle categorical properly)\n",
    "existing_clusters = adata.obs['leiden'].unique()\n",
    "print(f\"Existing clusters: {list(existing_clusters)}\")\n",
    "\n",
    "# Convert leiden to string to avoid categorical issues\n",
    "leiden_str = adata.obs['leiden'].astype(str)\n",
    "\n",
    "# Create cell type annotations\n",
    "cell_types = []\n",
    "for cluster in leiden_str:\n",
    "    if cluster in cluster_annotations:\n",
    "        cell_types.append(cluster_annotations[cluster])\n",
    "    else:\n",
    "        cell_types.append('Unknown')\n",
    "\n",
    "# Add to adata\n",
    "adata.obs['cell_type'] = cell_types\n",
    "\n",
    "# Convert to categorical for memory efficiency (optional)\n",
    "adata.obs['cell_type'] = adata.obs['cell_type'].astype('category')\n",
    "\n",
    "print(f\"Cell type counts:\")\n",
    "print(adata.obs['cell_type'].value_counts())\n",
    "\n",
    "# Plot with cell type annotations\n",
    "sc.pl.umap(adata, color='cell_type', title='Cell Type Annotations')\n",
    "\n",
    "print(\"\\nFinal dataset info:\")\n",
    "print(f\"Cells: {adata.n_obs}\")\n",
    "print(f\"Genes: {adata.n_vars}\")\n",
    "print(f\"Clusters found: {len(adata.obs['leiden'].unique())}\")\n",
    "print(f\"Cell types annotated: {adata.obs['cell_type'].value_counts()}\")"
   ]
  },
  {
   "cell_type": "code",
   "execution_count": null,
   "id": "12b4f7ea-298d-4987-8531-f6ccab2fe529",
   "metadata": {},
   "outputs": [],
   "source": [
    "## End of Notebook ##"
   ]
  }
 ],
 "metadata": {
  "kernelspec": {
   "display_name": "Python 3 (ipykernel)",
   "language": "python",
   "name": "python3"
  },
  "language_info": {
   "codemirror_mode": {
    "name": "ipython",
    "version": 3
   },
   "file_extension": ".py",
   "mimetype": "text/x-python",
   "name": "python",
   "nbconvert_exporter": "python",
   "pygments_lexer": "ipython3",
   "version": "3.11.3"
  }
 },
 "nbformat": 4,
 "nbformat_minor": 5
}
