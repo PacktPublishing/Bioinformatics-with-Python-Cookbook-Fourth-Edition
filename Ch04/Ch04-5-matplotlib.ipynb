{
 "cells": [
  {
   "cell_type": "code",
   "execution_count": null,
   "id": "8156c762",
   "metadata": {},
   "outputs": [],
   "source": [
    "# Ch04-5 - Matplotlib "
   ]
  },
  {
   "cell_type": "code",
   "execution_count": null,
   "id": "0b879eca",
   "metadata": {},
   "outputs": [],
   "source": [
    "# Libraries\n",
    "import numpy as np \n",
    "import pandas as pd \n",
    "import matplotlib as mpl \n",
    "import matplotlib.pyplot as plt "
   ]
  },
  {
   "cell_type": "code",
   "execution_count": null,
   "id": "7fa09341",
   "metadata": {},
   "outputs": [],
   "source": [
    "# Read in Data\n",
    "vdata = pd.read_csv( \n",
    "    \"data/2021VAERSDATA.csv.gz\", encoding=\"iso-8859-1\", low_memory=False,\n",
    "    usecols=lambda name: name != \"SYMPTOM_TEXT\") "
   ]
  },
  {
   "cell_type": "code",
   "execution_count": null,
   "id": "15454c4b",
   "metadata": {},
   "outputs": [],
   "source": [
    "# Plot fraction of NULLs per Column\n",
    "num_rows = len(vdata) \n",
    "perc_nan = {} \n",
    "for col_name in vdata.columns: \n",
    "    num_nans = len(vdata[col_name][vdata[col_name].isna()]) \n",
    "    perc_nan[col_name] = 100 * num_nans / num_rows \n",
    "labels = perc_nan.keys() \n",
    "bar_values = list(perc_nan.values()) \n",
    "x_positions = np.arange(len(labels)) "
   ]
  },
  {
   "cell_type": "code",
   "execution_count": null,
   "id": "81368c6c",
   "metadata": {},
   "outputs": [],
   "source": [
    "# First version of Bar Chart\n",
    "fig = plt.figure() \n",
    "fig.suptitle(\"Fraction of empty values per column\") \n",
    "ax = fig.add_subplot() \n",
    "ax.bar(x_positions, bar_values) \n",
    "ax.set_ylabel(\"Percent of empty values\") \n",
    "ax.set_ylabel(\"Column\") \n",
    "ax.set_xticks(x_positions) \n",
    "ax.set_xticklabels(labels) \n",
    "ax.legend() \n",
    "fig.savefig(\"naive_chart.png\") "
   ]
  },
  {
   "cell_type": "code",
   "execution_count": null,
   "id": "a20014f3",
   "metadata": {
    "scrolled": true
   },
   "outputs": [],
   "source": [
    "# Second attempt\n",
    "fig = plt.figure(figsize=(16, 9), tight_layout=True, dpi=600) \n",
    "fig.suptitle(\"Fraction of empty values per column\", fontsize=\"48\") \n",
    "ax = fig.add_subplot() \n",
    "b1 = ax.bar(x_positions, bar_values) \n",
    "ax.set_ylabel(\"Percent of empty values\", fontsize=\"xx-large\") \n",
    "ax.set_xticks(x_positions) \n",
    "ax.set_xticklabels(labels, rotation=45, ha=\"right\") \n",
    "ax.set_ylim(0, 100) \n",
    "ax.set_xlim(-0.5, len(labels)) \n",
    "for i, x in enumerate(x_positions): \n",
    "    ax.text( \n",
    "        x, 2, \"%.1f\" % bar_values[i], rotation=90, \n",
    "        va=\"bottom\", ha=\"center\", \n",
    "        backgroundcolor=\"white\") \n",
    "fig.text(0.2, 0.01, \"Column\", fontsize=\"xx-large\") \n",
    "fig.savefig(\"cleaner_chart.png\") "
   ]
  },
  {
   "cell_type": "code",
   "execution_count": null,
   "id": "05a4b9f1",
   "metadata": {},
   "outputs": [],
   "source": [
    "# Summary Data\n",
    "dead = vdata[vdata.DIED == \"Y\"] \n",
    "vax = pd.read_csv(\"data/2021VAERSVAX.csv.gz\", encoding=\"iso-8859-1\").set_index(\"VAERS_ID\") \n",
    "vax_dead = dead.join(vax, on=\"VAERS_ID\", how=\"inner\") \n",
    "dead_counts = vax_dead[\"VAX_TYPE\"].value_counts() \n",
    "large_values = dead_counts[dead_counts >= 10] \n",
    "other_sum = dead_counts[dead_counts < 10].sum() \n",
    "large_values = pd.concat([large_values, pd.Series({\"OTHER\": other_sum})])\n",
    "distance_df = vax_dead[vax_dead.DATEDIED.notna() & vax_dead.VAX_DATE.notna()] \n",
    "distance_df[\"DATEDIED\"] = pd.to_datetime(distance_df[\"DATEDIED\"]) \n",
    "distance_df[\"VAX_DATE\"] = pd.to_datetime(distance_df[\"VAX_DATE\"]) \n",
    "distance_df = distance_df[distance_df.DATEDIED >= \"2021\"] \n",
    "distance_df = distance_df[distance_df.VAX_DATE >= \"2021\"] \n",
    "distance_df = distance_df[distance_df.DATEDIED >= distance_df.VAX_DATE] \n",
    "time_distances = distance_df[\"DATEDIED\"] - distance_df[\"VAX_DATE\"] \n",
    "time_distances_d = time_distances.astype(int) / (10**9 * 60 * 60 * 24) \n",
    "date_died = pd.to_datetime(vax_dead[vax_dead.DATEDIED.notna()][\"DATEDIED\"]) \n",
    "date_died = date_died[date_died >= \"2021\"] \n",
    "date_died_counts = date_died.value_counts().sort_index() \n",
    "cum_deaths = date_died_counts.cumsum() \n",
    "state_dead = vax_dead[vax_dead[\"STATE\"].notna()][[\"STATE\", \"SEX\"]] \n",
    "top_states = sorted(state_dead[\"STATE\"].value_counts().head(10).index) \n",
    "top_state_dead = state_dead[state_dead[\"STATE\"].isin(top_states)].groupby([\"STATE\", \"SEX\"]).size()#.reset_index() \n",
    "top_state_dead.loc[\"MN\", \"U\"] = 0  # XXXX \n",
    "top_state_dead = top_state_dead.sort_index().reset_index() \n",
    "top_state_females = top_state_dead[top_state_dead.SEX == \"F\"][0] \n",
    "top_state_males = top_state_dead[top_state_dead.SEX == \"M\"][0] \n",
    "top_state_unk = top_state_dead[top_state_dead.SEX == \"U\"][0] "
   ]
  },
  {
   "cell_type": "code",
   "execution_count": null,
   "id": "1b5693ce",
   "metadata": {},
   "outputs": [],
   "source": [
    "# All 4 Plots in a 2x2 matrix\n",
    "fig, ((vax_cnt, time_dist), (death_time, state_reps)) = plt.subplots( \n",
    "    2, 2, \n",
    "    figsize=(16, 9), tight_layout=True) \n",
    "vax_cnt.set_title(\"Vaccines involved in deaths\") \n",
    "wedges, texts = vax_cnt.pie(large_values) \n",
    "vax_cnt.legend(wedges, large_values.index, loc=\"lower left\") \n",
    "time_dist.hist(time_distances_d, bins=50) \n",
    "time_dist.set_title(\"Days between vaccine administration and death\") \n",
    "time_dist.set_xlabel(\"Days\") \n",
    "time_dist.set_ylabel(\"Observations\") \n",
    "death_time.plot(date_died_counts.index, date_died_counts, \".\") \n",
    "death_time.set_title(\"Deaths over time\") \n",
    "death_time.set_ylabel(\"Daily deaths\") \n",
    "death_time.set_xlabel(\"Date\") \n",
    "tw = death_time.twinx() \n",
    "tw.plot(cum_deaths.index, cum_deaths) \n",
    "tw.set_ylabel(\"Cummulative deaths\") \n",
    "state_reps.set_title(\"Deaths per state stratified by sex\") \n",
    "state_reps.bar(top_states, top_state_females, label=\"Females\") \n",
    "state_reps.bar(top_states, top_state_males, label=\"Males\", bottom=top_state_females) \n",
    "state_reps.bar(top_states, top_state_unk, label=\"Unknown\", \n",
    "               bottom=top_state_females.values + top_state_males.values) \n",
    "state_reps.legend() \n",
    "state_reps.set_xlabel(\"State\") \n",
    "state_reps.set_ylabel(\"Deaths\") \n",
    "fig.savefig(\"summary.png\") "
   ]
  },
  {
   "cell_type": "code",
   "execution_count": null,
   "id": "f8b61a74",
   "metadata": {},
   "outputs": [],
   "source": [
    "## End of Notebook ##"
   ]
  }
 ],
 "metadata": {
  "kernelspec": {
   "display_name": "Python 3 (ipykernel)",
   "language": "python",
   "name": "python3"
  },
  "language_info": {
   "codemirror_mode": {
    "name": "ipython",
    "version": 3
   },
   "file_extension": ".py",
   "mimetype": "text/x-python",
   "name": "python",
   "nbconvert_exporter": "python",
   "pygments_lexer": "ipython3",
   "version": "3.8.6"
  }
 },
 "nbformat": 4,
 "nbformat_minor": 5
}
