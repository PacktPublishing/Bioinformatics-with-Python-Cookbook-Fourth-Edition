{
 "cells": [
  {
   "cell_type": "code",
   "execution_count": null,
   "id": "a4c28fae",
   "metadata": {},
   "outputs": [],
   "source": [
    "# Ch04-6 - Build a UMAP using Seaborn"
   ]
  },
  {
   "cell_type": "code",
   "execution_count": null,
   "id": "116b7cac",
   "metadata": {},
   "outputs": [],
   "source": [
    "# Install pacakges\n",
    "%pip install umap-learn\n",
    "%pip install ipywidgets"
   ]
  },
  {
   "cell_type": "code",
   "execution_count": null,
   "id": "43b3220b",
   "metadata": {},
   "outputs": [],
   "source": [
    "# Libraries\n",
    "import numpy as np\n",
    "import matplotlib.pyplot as plt\n",
    "import seaborn as sns\n",
    "from sklearn.datasets import load_breast_cancer\n",
    "from sklearn.preprocessing import StandardScaler\n",
    "import umap"
   ]
  },
  {
   "cell_type": "code",
   "execution_count": null,
   "id": "61307b2e",
   "metadata": {},
   "outputs": [],
   "source": [
    "# Load Breast Cancer dataset\n",
    "data = load_breast_cancer()\n",
    "X, y = data.data, data.target"
   ]
  },
  {
   "cell_type": "code",
   "execution_count": null,
   "id": "00e9f97a-f3d5-4e06-af1c-c0472ccc3914",
   "metadata": {},
   "outputs": [],
   "source": [
    "# Normalization\n",
    "scaler = StandardScaler()\n",
    "X_scaled = scaler.fit_transform(X)"
   ]
  },
  {
   "cell_type": "code",
   "execution_count": null,
   "id": "3b2d9615-2fa3-4925-97b5-0ce0ec50cb7c",
   "metadata": {},
   "outputs": [],
   "source": [
    "# Create UMAP embedding\n",
    "umap_reducer = umap.UMAP(\n",
    "    n_neighbors=15,  # Controls local vs global structure\n",
    "    min_dist=0.1,    # Controls how tightly points are packed\n",
    "    n_components=2,  # 2D visualization\n",
    "    random_state=42,  # For reproducibility\n",
    "    n_jobs=1\n",
    ")\n",
    "X_umap = umap_reducer.fit_transform(X_scaled)"
   ]
  },
  {
   "cell_type": "code",
   "execution_count": null,
   "id": "8499af82-6043-4a8f-a251-1a2e3df718e6",
   "metadata": {},
   "outputs": [],
   "source": [
    "# Visualize the Umap\n",
    "plt.figure(figsize=(10, 8))\n",
    "for i in [0, 1]:\n",
    "    mask = y == i\n",
    "    plt.scatter(\n",
    "        X_umap[mask, 0], \n",
    "        X_umap[mask, 1], \n",
    "        label=data.target_names[i],\n",
    "        alpha=0.7,\n",
    "        edgecolors='black', \n",
    "        linewidth=0.5\n",
    "    )\n",
    "plt.title('UMAP Visualization of Breast Cancer Dataset', fontsize=16)\n",
    "plt.xlabel('UMAP Dimension 1', fontsize=12)\n",
    "plt.ylabel('UMAP Dimension 2', fontsize=12)\n",
    "plt.legend()\n",
    "plt.grid(True, linestyle='--', alpha=0.7)\n",
    "plt.tight_layout()\n",
    "plt.show()"
   ]
  },
  {
   "cell_type": "code",
   "execution_count": null,
   "id": "ffb69ab5-e629-4c84-aa71-186b026fa5aa",
   "metadata": {},
   "outputs": [],
   "source": [
    "# Explore different UMAP parameters to improve the Clustering\n",
    "def plot_umap_parameter_comparison():\n",
    "    # Create a figure with subplots for different UMAP configurations\n",
    "    fig, axs = plt.subplots(2, 2, figsize=(16, 16))\n",
    "    \n",
    "    # Different n_neighbors values\n",
    "    neighbors_values = [5, 15, 30, 50]\n",
    "    \n",
    "    for i, n_neighbors in enumerate(neighbors_values):\n",
    "        row = i // 2\n",
    "        col = i % 2\n",
    "        \n",
    "        # Create UMAP embedding with specific n_neighbors\n",
    "        umap_reducer = umap.UMAP(\n",
    "            n_neighbors=n_neighbors,\n",
    "            min_dist=0.1,\n",
    "            n_components=2,\n",
    "            random_state=42,\n",
    "            n_jobs=1\n",
    "        )\n",
    "        X_umap = umap_reducer.fit_transform(X_scaled)\n",
    "        \n",
    "        # Plot\n",
    "        axs[row, col].scatter(\n",
    "            X_umap[:, 0], \n",
    "            X_umap[:, 1], \n",
    "            c=y, \n",
    "            cmap='viridis', \n",
    "            alpha=0.7,\n",
    "            edgecolors='black', \n",
    "            linewidth=0.5\n",
    "        )\n",
    "        axs[row, col].set_title(f'UMAP (n_neighbors = {n_neighbors})')\n",
    "        axs[row, col].set_xlabel('UMAP Dimension 1')\n",
    "        axs[row, col].set_ylabel('UMAP Dimension 2')\n",
    "    \n",
    "    plt.tight_layout()\n",
    "    plt.show()"
   ]
  },
  {
   "cell_type": "code",
   "execution_count": null,
   "id": "0d39763c-4518-4fe5-a8fa-78eee13d5818",
   "metadata": {},
   "outputs": [],
   "source": [
    "# Run parameter comparison\n",
    "plot_umap_parameter_comparison()"
   ]
  },
  {
   "cell_type": "code",
   "execution_count": null,
   "id": "e3042be9-5bb6-4e4a-8a54-d13994886821",
   "metadata": {},
   "outputs": [],
   "source": [
    "## End of Notebook ##"
   ]
  }
 ],
 "metadata": {
  "kernelspec": {
   "display_name": "Python 3 (ipykernel)",
   "language": "python",
   "name": "python3"
  },
  "language_info": {
   "codemirror_mode": {
    "name": "ipython",
    "version": 3
   },
   "file_extension": ".py",
   "mimetype": "text/x-python",
   "name": "python",
   "nbconvert_exporter": "python",
   "pygments_lexer": "ipython3",
   "version": "3.11.3"
  }
 },
 "nbformat": 4,
 "nbformat_minor": 5
}
