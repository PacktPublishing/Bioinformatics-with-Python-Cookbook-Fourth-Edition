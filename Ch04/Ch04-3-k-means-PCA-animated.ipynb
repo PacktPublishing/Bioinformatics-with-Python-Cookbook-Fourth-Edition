{
 "cells": [
  {
   "cell_type": "code",
   "execution_count": null,
   "id": "50013f28",
   "metadata": {},
   "outputs": [],
   "source": [
    "# Ch04-3 K Means Analysis of Breast Cancer dataset"
   ]
  },
  {
   "cell_type": "code",
   "execution_count": null,
   "id": "21d488b5",
   "metadata": {},
   "outputs": [],
   "source": [
    "# Install scipy\n",
    "! pip install scipy==1.15.3"
   ]
  },
  {
   "cell_type": "code",
   "execution_count": null,
   "id": "e81ad048",
   "metadata": {},
   "outputs": [],
   "source": [
    "# Libraries\n",
    "from sklearn.datasets import load_breast_cancer\n",
    "from sklearn.cluster import KMeans\n",
    "from sklearn.preprocessing import StandardScaler\n",
    "from sklearn.decomposition import PCA\n",
    "import matplotlib.pyplot as plt\n",
    "import pandas as pd\n",
    "import numpy as np\n",
    "from sklearn.metrics import accuracy_score\n",
    "from scipy.stats import mode"
   ]
  },
  {
   "cell_type": "code",
   "execution_count": null,
   "id": "2c0b64a8",
   "metadata": {},
   "outputs": [],
   "source": [
    "# Load Breast Cancer dataset\n",
    "data = load_breast_cancer()\n",
    "X = data.data  # Features array\n",
    "y = data.target  # Labels / classes"
   ]
  },
  {
   "cell_type": "code",
   "execution_count": null,
   "id": "48f15654",
   "metadata": {},
   "outputs": [],
   "source": [
    "# Normalize the data\n",
    "scaler = StandardScaler()\n",
    "X_scaled = scaler.fit_transform(X)"
   ]
  },
  {
   "cell_type": "code",
   "execution_count": null,
   "id": "05349bc4",
   "metadata": {},
   "outputs": [],
   "source": [
    "# K-Means clustering\n",
    "kmeans = KMeans(n_clusters=2, random_state=42, n_init=10)  # We know there are 2 classes; initialize 10 times\n",
    "clusters = kmeans.fit_predict(X_scaled)"
   ]
  },
  {
   "cell_type": "code",
   "execution_count": null,
   "id": "b155954b",
   "metadata": {},
   "outputs": [],
   "source": [
    "# Build a dataframe to analyze\n",
    "bc_kmeans_df = pd.DataFrame(X_scaled, columns=data.feature_names)\n",
    "bc_kmeans_df['Cluster'] = clusters\n",
    "bc_kmeans_df['True Label'] = y"
   ]
  },
  {
   "cell_type": "code",
   "execution_count": null,
   "id": "a1740f02",
   "metadata": {},
   "outputs": [],
   "source": [
    "# Align the labels to avoid Cluster Flipping\n",
    "def align_labels(true_labels, cluster_labels):\n",
    "    # Map cluster labels to the majority true label in each cluster\n",
    "    new_labels = np.zeros_like(cluster_labels)\n",
    "    for cluster in np.unique(cluster_labels):\n",
    "        mask = cluster_labels == cluster\n",
    "        new_labels[mask] = mode(true_labels[mask], keepdims=False)[0]\n",
    "    return new_labels\n",
    "aligned_clusters = align_labels(y, clusters)"
   ]
  },
  {
   "cell_type": "code",
   "execution_count": null,
   "id": "461f859d",
   "metadata": {},
   "outputs": [],
   "source": [
    "# Evaluate accuracy of clustering\n",
    "accuracy = accuracy_score(y, aligned_clusters)\n",
    "print(f\"Accuracy of clustering: {accuracy:.2f}\")"
   ]
  },
  {
   "cell_type": "code",
   "execution_count": null,
   "id": "b1c96bff",
   "metadata": {},
   "outputs": [],
   "source": [
    "# Reduce the dimensions using PCA\n",
    "pca = PCA(n_components=2)  # Use 2 components\n",
    "X_pca = pca.fit_transform(X_scaled)\n",
    "bc_kmeans_df['PC1'] = X_pca[:, 0]\n",
    "bc_kmeans_df['PC2'] = X_pca[:, 1]"
   ]
  },
  {
   "cell_type": "code",
   "execution_count": null,
   "id": "9538605b",
   "metadata": {},
   "outputs": [],
   "source": [
    "# Plot the K-means clustering results\n",
    "plt.figure(figsize=(8, 6))\n",
    "for cluster, color, marker in zip([0, 1], ['red', 'blue'], ['o', '^']):\n",
    "    subset = bc_kmeans_df[bc_kmeans_df['Cluster'] == cluster]\n",
    "    plt.scatter(subset['PC1'], subset['PC2'], c=color, label=f'Cluster {cluster}', marker=marker, alpha=0.7)\n",
    "\n",
    "plt.title('K-Means Clustering on Breast Cancer Dataset')\n",
    "plt.xlabel('Principal Component 1')\n",
    "plt.ylabel('Principal Component 2')\n",
    "plt.legend()\n",
    "plt.grid()\n",
    "plt.show()"
   ]
  },
  {
   "cell_type": "code",
   "execution_count": null,
   "id": "09d475f1",
   "metadata": {},
   "outputs": [],
   "source": [
    "## End of main original section ##"
   ]
  },
  {
   "cell_type": "code",
   "execution_count": null,
   "id": "1c8dbe24",
   "metadata": {},
   "outputs": [],
   "source": [
    "## Bonus AI section for 3D PCA with Animation"
   ]
  },
  {
   "cell_type": "code",
   "execution_count": null,
   "id": "11a83173",
   "metadata": {},
   "outputs": [],
   "source": [
    "# 3D Visualization of K-Means Clustering\n",
    "from mpl_toolkits.mplot3d import Axes3D\n",
    "import matplotlib.pyplot as plt\n",
    "\n",
    "fig = plt.figure(figsize=(10, 8))\n",
    "ax = fig.add_subplot(111, projection='3d')\n",
    "\n",
    "# Plot using the first 3 features (or replace X with PCA-transformed data if available)\n",
    "ax.scatter(X[:, 0], X[:, 1], X[:, 2], c=kmeans.labels_, cmap='viridis', s=50)\n",
    "ax.set_title('3D Visualization of K-Means Clustering')\n",
    "ax.set_xlabel('Feature 1')\n",
    "ax.set_ylabel('Feature 2')\n",
    "ax.set_zlabel('Feature 3')\n",
    "plt.show()"
   ]
  },
  {
   "cell_type": "code",
   "execution_count": null,
   "id": "d5ff9524",
   "metadata": {},
   "outputs": [],
   "source": [
    "## Import additional tools for PCA and animation\n",
    "from sklearn.decomposition import PCA\n",
    "from matplotlib import animation\n",
    "from IPython.display import HTML"
   ]
  },
  {
   "cell_type": "code",
   "execution_count": null,
   "id": "ed1efc19",
   "metadata": {},
   "outputs": [],
   "source": [
    "# Perform PCA to reduce to 3 components\n",
    "pca = PCA(n_components=3)   # Note that we now use 3 components here instead of 2\n",
    "X_pca = pca.fit_transform(X)"
   ]
  },
  {
   "cell_type": "code",
   "execution_count": null,
   "id": "301d671f",
   "metadata": {},
   "outputs": [],
   "source": [
    "def anim_to_html(anim):\n",
    "    from matplotlib import rc\n",
    "    rc('animation', html='jshtml')\n",
    "    return anim.to_jshtml()"
   ]
  },
  {
   "cell_type": "code",
   "execution_count": null,
   "id": "91d813fb",
   "metadata": {},
   "outputs": [],
   "source": [
    "# Animated 3D plot of K-means clustering results on PCA-reduced data\n",
    "#. Note - you may get a warning about exceeding the animation size limit below\n",
    "#   - the animation will still work\n",
    "#.  Hit the Play button to run the animation\n",
    "fig = plt.figure(figsize=(10, 8))\n",
    "ax = fig.add_subplot(111, projection='3d')\n",
    "\n",
    "sc = ax.scatter(X_pca[:, 0], X_pca[:, 1], X_pca[:, 2], c=kmeans.labels_, cmap='viridis', s=50)\n",
    "ax.set_title('3D PCA Visualization of K-Means Clustering')\n",
    "ax.set_xlabel('PCA 1')\n",
    "ax.set_ylabel('PCA 2')\n",
    "ax.set_zlabel('PCA 3')\n",
    "\n",
    "def rotate(angle):\n",
    "    ax.view_init(azim=angle)\n",
    "\n",
    "rot_animation = animation.FuncAnimation(fig, rotate, frames=range(0, 360, 2), interval=100)\n",
    "HTML(anim_to_html(rot_animation))"
   ]
  },
  {
   "cell_type": "code",
   "execution_count": null,
   "id": "7c3dfba3",
   "metadata": {},
   "outputs": [],
   "source": [
    "## End of Notebook ##"
   ]
  }
 ],
 "metadata": {
  "kernelspec": {
   "display_name": "Python 3 (ipykernel)",
   "language": "python",
   "name": "python3"
  },
  "language_info": {
   "codemirror_mode": {
    "name": "ipython",
    "version": 3
   },
   "file_extension": ".py",
   "mimetype": "text/x-python",
   "name": "python",
   "nbconvert_exporter": "python",
   "pygments_lexer": "ipython3",
   "version": "3.8.6"
  }
 },
 "nbformat": 4,
 "nbformat_minor": 5
}
