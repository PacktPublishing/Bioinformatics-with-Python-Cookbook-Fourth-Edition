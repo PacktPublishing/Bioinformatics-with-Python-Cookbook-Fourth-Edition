{
 "cells": [
  {
   "cell_type": "code",
   "execution_count": null,
   "id": "3bca36d9",
   "metadata": {},
   "outputs": [],
   "source": [
    "# Ch04-2-PCA "
   ]
  },
  {
   "cell_type": "code",
   "execution_count": null,
   "id": "0dabaee9",
   "metadata": {},
   "outputs": [],
   "source": [
    "# Install scikit-learn\n",
    "!  pip install scikit-learn==1.7.0"
   ]
  },
  {
   "cell_type": "code",
   "execution_count": null,
   "id": "283a2653",
   "metadata": {},
   "outputs": [],
   "source": [
    "# Libraries\n",
    "from sklearn.datasets import load_breast_cancer\n",
    "from sklearn.decomposition import PCA\n",
    "from sklearn.preprocessing import StandardScaler\n",
    "import matplotlib.pyplot as plt\n",
    "import pandas as pd"
   ]
  },
  {
   "cell_type": "code",
   "execution_count": null,
   "id": "42defdf1",
   "metadata": {},
   "outputs": [],
   "source": [
    "# Load Breast Cancer dataset\n",
    "bc_data = load_breast_cancer()\n",
    "X = bc_data.data  # Features\n",
    "y = bc_data.target  # Target labels (0 = malignant, 1 = benign)"
   ]
  },
  {
   "cell_type": "code",
   "execution_count": null,
   "id": "3c11d674",
   "metadata": {},
   "outputs": [],
   "source": [
    "type(bc_data)  # See what type of data is returned by sklearn - it is a Bunch"
   ]
  },
  {
   "cell_type": "code",
   "execution_count": null,
   "id": "572461df",
   "metadata": {},
   "outputs": [],
   "source": [
    "# Standardize the data so that mean = 0 & variance = 1\n",
    "scaler = StandardScaler()\n",
    "X_scaled = scaler.fit_transform(X)"
   ]
  },
  {
   "cell_type": "code",
   "execution_count": null,
   "id": "24527df4",
   "metadata": {},
   "outputs": [],
   "source": [
    "# Perform PCA with 3 components\n",
    "bc_pca = PCA(n_components=3)\n",
    "X_bc_pca = bc_pca.fit_transform(X_scaled)"
   ]
  },
  {
   "cell_type": "code",
   "execution_count": null,
   "id": "bdd8a277",
   "metadata": {},
   "outputs": [],
   "source": [
    "# Load ther results into a dataframe\n",
    "bc_pca_df = pd.DataFrame(X_bc_pca, columns=['PC1', 'PC2', 'PC3'])\n",
    "bc_pca_df['label'] = y"
   ]
  },
  {
   "cell_type": "code",
   "execution_count": null,
   "id": "ecd40b92",
   "metadata": {},
   "outputs": [],
   "source": [
    "# 3D Scatter Plot for PC1, PC2, and PC3\n",
    "fig = plt.figure(figsize=(10, 8))\n",
    "ax = fig.add_subplot(111, projection='3d')\n",
    "# Loop to create the 3 axes\n",
    "for label, color, marker in zip([0, 1], ['red', 'blue'], ['o', '^']):\n",
    "    subset = bc_pca_df[bc_pca_df['label'] == label]\n",
    "    ax.scatter(subset['PC1'], subset['PC2'], subset['PC3'], c=color, label=bc_data.target_names[label], marker=marker, alpha=0.7)\n",
    "# end for\n",
    "ax.set_title('PCA on Breast Cancer Dataset (3D View: PC1, PC2, PC3)')\n",
    "ax.set_xlabel('Principal Component 1')\n",
    "ax.set_ylabel('Principal Component 2')\n",
    "ax.set_zlabel('Principal Component 3')\n",
    "ax.legend()\n",
    "plt.show()"
   ]
  },
  {
   "cell_type": "code",
   "execution_count": null,
   "id": "5bca3af8",
   "metadata": {},
   "outputs": [],
   "source": [
    "# Get the explained variance ratio\n",
    "explained_variance = bc_pca.explained_variance_ratio_\n",
    "\n",
    "# Print explained variance for each component\n",
    "for i, variance in enumerate(explained_variance, 1):\n",
    "    print(f\"Explained variance for PC{i}: {variance:.2f}\")\n",
    "\n",
    "# Print cumulative explained variance\n",
    "cumulative_variance = explained_variance.sum()\n",
    "print(f\"Total variance explained by the first 3 components: {cumulative_variance:.2f}\")"
   ]
  },
  {
   "cell_type": "code",
   "execution_count": null,
   "id": "882b2889",
   "metadata": {},
   "outputs": [],
   "source": [
    "# Plot cumulative explained variance\n",
    "cumulative_variance = explained_variance.cumsum()\n",
    "plt.figure(figsize=(8, 6))\n",
    "plt.plot(range(1, len(cumulative_variance) + 1), cumulative_variance, marker='o', linestyle='--')\n",
    "plt.title('Cumulative Explained Variance by Principal Components')\n",
    "plt.xlabel('Number of Principal Components')\n",
    "plt.ylabel('Cumulative Explained Variance')\n",
    "plt.grid(True)\n",
    "plt.show()"
   ]
  },
  {
   "cell_type": "code",
   "execution_count": null,
   "id": "01d4c628",
   "metadata": {},
   "outputs": [],
   "source": [
    "## End of Notebook ##"
   ]
  }
 ],
 "metadata": {
  "kernelspec": {
   "display_name": "Python 3 (ipykernel)",
   "language": "python",
   "name": "python3"
  },
  "language_info": {
   "codemirror_mode": {
    "name": "ipython",
    "version": 3
   },
   "file_extension": ".py",
   "mimetype": "text/x-python",
   "name": "python",
   "nbconvert_exporter": "python",
   "pygments_lexer": "ipython3",
   "version": "3.8.6"
  }
 },
 "nbformat": 4,
 "nbformat_minor": 5
}
