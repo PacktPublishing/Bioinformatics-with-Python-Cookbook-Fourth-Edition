{
 "cells": [
  {
   "cell_type": "code",
   "execution_count": null,
   "id": "a973d0e3",
   "metadata": {},
   "outputs": [],
   "source": [
    "# Ch04-1 - NumPy as the engine behind Python data science"
   ]
  },
  {
   "cell_type": "code",
   "execution_count": null,
   "id": "61e15559",
   "metadata": {},
   "outputs": [],
   "source": [
    "# Libraries\n",
    "import numpy as np \n",
    "import pandas as pd \n",
    "import matplotlib.pyplot as plt "
   ]
  },
  {
   "cell_type": "code",
   "execution_count": null,
   "id": "e0532438",
   "metadata": {},
   "outputs": [],
   "source": [
    "# Read in the data\n",
    "vdata = pd.read_csv( \n",
    "    \"data/2021VAERSDATA.csv.gz\", encoding=\"iso-8859-1\", low_memory=False) "
   ]
  },
  {
   "cell_type": "code",
   "execution_count": null,
   "id": "c8e2b9d5",
   "metadata": {},
   "outputs": [],
   "source": [
    "# Determine the top states\n",
    "vdata[\"STATE\"] = vdata[\"STATE\"].str.upper()  # make state upper case\n",
    "# Create a dataframe called top_states to hold our results\n",
    "top_states = pd.DataFrame({ \n",
    "    \"size\": vdata.groupby(\"STATE\").size().sort_values(ascending=False).head(5)\n",
    "}).reset_index() \n",
    "top_states[\"rank\"] = top_states.index \n",
    "top_states = top_states.set_index(\"STATE\") \n",
    "# Use .copy() to create dataframe top_vdata with the VAERS data from just the top states\n",
    "top_vdata = vdata[vdata[\"STATE\"].isin(top_states.index)].copy()\n",
    "# Now add the state_code column \n",
    "top_vdata[\"state_code\"] = top_vdata[\"STATE\"].apply( \n",
    "    lambda state: top_states[\"rank\"].at[state] \n",
    ").astype(np.uint8) \n",
    "top_vdata = top_vdata[top_vdata[\"AGE_YRS\"].notna()].copy()  # Remove data with empty age\n",
    "top_vdata.loc[:,\"AGE_YRS\"] = top_vdata[\"AGE_YRS\"].astype(int) # Convert age to integer\n",
    "top_states # Print out the top states"
   ]
  },
  {
   "cell_type": "code",
   "execution_count": null,
   "id": "1744a654",
   "metadata": {},
   "outputs": [],
   "source": [
    "# Extract numpy arrays that contain Age and State data\n",
    "age_state = top_vdata[[\"state_code\", \"AGE_YRS\"]] # create a dataframe with age and state data from top_vdata\n",
    "age_state[\"state_code\"]  # show the state code column"
   ]
  },
  {
   "cell_type": "code",
   "execution_count": null,
   "id": "cfc792a5",
   "metadata": {},
   "outputs": [],
   "source": [
    "state_code_arr = age_state[\"state_code\"].values # Create a numpy array of the state code values\n",
    "type(state_code_arr), state_code_arr.shape, state_code_arr.dtype # Show the type of this array"
   ]
  },
  {
   "cell_type": "code",
   "execution_count": 16,
   "id": "a74ec7ea",
   "metadata": {},
   "outputs": [
    {
     "data": {
      "text/plain": [
       "(numpy.ndarray, (198290,), dtype('float64'))"
      ]
     },
     "execution_count": 16,
     "metadata": {},
     "output_type": "execute_result"
    }
   ],
   "source": [
    "age_arr = age_state[\"AGE_YRS\"].values # Create a numpy array of the age values\n",
    "type(age_arr), age_arr.shape, age_arr.dtype # Show the type of the array"
   ]
  },
  {
   "cell_type": "code",
   "execution_count": 19,
   "id": "90b88dfd",
   "metadata": {},
   "outputs": [
    {
     "data": {
      "text/plain": [
       "array([[ 5535, 17607, 21406, 16680,  2662,    24],\n",
       "       [ 1601,  7151, 11258, 14650,  2762,    11],\n",
       "       [ 3199, 10568, 13285,  9253,  1334,     2],\n",
       "       [ 2556,  9826, 11701,  9630,  1632,    14],\n",
       "       [ 1591,  6213,  8124,  6956,  1052,     7]], dtype=uint64)"
      ]
     },
     "execution_count": 19,
     "metadata": {},
     "output_type": "execute_result"
    }
   ],
   "source": [
    "# Create a numpy matrix from scratch \n",
    "age_state_mat = np.zeros((5, 6), dtype=np.uint64)  # Create a matrix to count occurrences\n",
    "# Loop over the data\n",
    "for row in age_state.itertuples(index=False):\n",
    "    # Convert to int \n",
    "    state_code = int(row.state_code)\n",
    "    age_bin = min(int(row.AGE_YRS // 20), 5)\n",
    "    # Ensure indices are within bounds\n",
    "    if 0 <= state_code < 5 and 0 <= age_bin < 6:\n",
    "        age_state_mat[state_code, age_bin] += 1\n",
    "age_state_mat  # print out the results - number of events in each age bin per State"
   ]
  },
  {
   "cell_type": "code",
   "execution_count": 20,
   "id": "6234ade7",
   "metadata": {},
   "outputs": [],
   "source": [
    "cal = age_state_mat[0,:] # extract a single row\n",
    "kids = age_state_mat[:,0] # extract a single column"
   ]
  },
  {
   "cell_type": "code",
   "execution_count": 21,
   "id": "fa87f15a",
   "metadata": {},
   "outputs": [],
   "source": [
    "# Compute a new matrix with the fraction of cases per age group\n",
    "def compute_frac(arr_1d): \n",
    "    return arr_1d / arr_1d.sum() \n",
    "frac_age_stat_mat = np.apply_along_axis(compute_frac, 1, age_state_mat) "
   ]
  },
  {
   "cell_type": "code",
   "execution_count": 23,
   "id": "0f913780",
   "metadata": {},
   "outputs": [
    {
     "data": {
      "text/plain": [
       "array([[ 8, 27, 33, 26,  4,  0],\n",
       "       [ 4, 19, 30, 39,  7,  0],\n",
       "       [ 8, 28, 35, 24,  3,  0],\n",
       "       [ 7, 27, 33, 27,  4,  0],\n",
       "       [ 6, 25, 33, 29,  4,  0]], dtype=uint8)"
      ]
     },
     "execution_count": 23,
     "metadata": {},
     "output_type": "execute_result"
    }
   ],
   "source": [
    "# Create a new matrix with percentages\n",
    "perc_age_stat_mat = frac_age_stat_mat * 100 \n",
    "perc_age_stat_mat = perc_age_stat_mat.astype(np.uint8) \n",
    "perc_age_stat_mat "
   ]
  },
  {
   "cell_type": "code",
   "execution_count": 24,
   "id": "751bf25f",
   "metadata": {},
   "outputs": [
    {
     "data": {
      "image/png": "[encoded data removed]",
      "text/plain": [
       "<Figure size 640x480 with 1 Axes>"
      ]
     },
     "metadata": {},
     "output_type": "display_data"
    }
   ],
   "source": [
    "# Create a graphical representation using matplotlib\n",
    "fig = plt.figure() # initialize a figure\n",
    "ax = fig.add_subplot()  # create a plot within the figure\n",
    "ax.matshow(perc_age_stat_mat, cmap=plt.get_cmap(\"Greys\")) # Display a greyscale matrix\n",
    "# Set the tick marks and labels for the Y and X axis\n",
    "ax.set_yticks(range(5))  \n",
    "ax.set_yticklabels(top_states.index) \n",
    "ax.set_xticks(range(6)) \n",
    "ax.set_xticklabels([\"0-19\", \"20-39\", \"40-59\", \"60-79\", \"80-99\", \"100-119\"]) \n",
    "fig.savefig(\"matrix.png\") # Save the figure"
   ]
  },
  {
   "cell_type": "code",
   "execution_count": null,
   "id": "b86004d2",
   "metadata": {},
   "outputs": [],
   "source": [
    "## End of Notebook ##"
   ]
  }
 ],
 "metadata": {
  "kernelspec": {
   "display_name": "Python 3 (ipykernel)",
   "language": "python",
   "name": "python3"
  },
  "language_info": {
   "codemirror_mode": {
    "name": "ipython",
    "version": 3
   },
   "file_extension": ".py",
   "mimetype": "text/x-python",
   "name": "python",
   "nbconvert_exporter": "python",
   "pygments_lexer": "ipython3",
   "version": "3.8.6"
  }
 },
 "nbformat": 4,
 "nbformat_minor": 5
}
