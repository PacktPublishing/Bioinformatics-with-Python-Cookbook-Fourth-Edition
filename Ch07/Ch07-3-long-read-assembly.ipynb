{
 "cells": [
  {
   "cell_type": "code",
   "execution_count": null,
   "id": "1d3b4ccb",
   "metadata": {},
   "outputs": [],
   "source": [
    "# Ch07-3 - Long Read Assembly"
   ]
  },
  {
   "cell_type": "code",
   "execution_count": null,
   "id": "9210885f",
   "metadata": {},
   "outputs": [],
   "source": [
    "# Get nanopore reads for E Coli (Loman lab)\n",
    "! wget https://nanopore.s3.climb.ac.uk/MAP006-1_2D_pass.fasta\n",
    "! mv MAP006-1_2D_pass.fasta data/"
   ]
  },
  {
   "cell_type": "code",
   "execution_count": null,
   "id": "7d11b44f",
   "metadata": {},
   "outputs": [],
   "source": [
    "# Install Raven\n",
    "! git clone https://github.com/lbcb-sci/raven.git && cd raven\n",
    "! cmake -S ./ -B./build -DRAVEN_BUILD_EXE=1 -DCMAKE_BUILD_TYPE=Release\n",
    "!cmake --build build"
   ]
  },
  {
   "cell_type": "code",
   "execution_count": null,
   "id": "c5e0a7dc",
   "metadata": {},
   "outputs": [],
   "source": [
    "# To put Raven in your path\n",
    "! export PATH=$PATH:~/work/CookBook/Ch07/raven/build/bin"
   ]
  },
  {
   "cell_type": "code",
   "execution_count": null,
   "id": "16e6690e",
   "metadata": {},
   "outputs": [],
   "source": [
    "# To add Raven to your .zschrc\n",
    "! echo 'export PATH=$PATH:~/work/CookBook/Ch07/raven/build/bin' >> ~/.zshrc\n",
    "! source ~/.zshrc"
   ]
  },
  {
   "cell_type": "code",
   "execution_count": null,
   "id": "9a8244ca",
   "metadata": {},
   "outputs": [],
   "source": [
    "# Check if raven is working (you may need to restart your Jupyter notebook)\n",
    "! raven --help"
   ]
  },
  {
   "cell_type": "code",
   "execution_count": 1,
   "id": "608bdf6b-0e59-4780-8eba-0310b42fa548",
   "metadata": {},
   "outputs": [],
   "source": [
    "# Import Libraries\n",
    "import subprocess"
   ]
  },
  {
   "cell_type": "code",
   "execution_count": null,
   "id": "f6971be9",
   "metadata": {},
   "outputs": [],
   "source": [
    "# Run Raven assembler\n",
    "def run_raven(input_fasta, output_fasta):\n",
    "    \"\"\"\n",
    "    Runs Raven to assemble a genome from an input FASTA file.\n",
    "\n",
    "    Parameters:\n",
    "        input_fasta (str): Path to the input FASTA file containing long reads.\n",
    "        output_fasta (str): Path to save the assembled genome in FASTA format.\n",
    "\n",
    "    Returns:\n",
    "        None\n",
    "    \"\"\"\n",
    "    try:\n",
    "        print(f\"Running Raven on {input_fasta}...\")\n",
    "        # Use stdout redirection for Raven output\n",
    "        with open(output_fasta, \"w\") as output_file:\n",
    "            command = [\"raven\", input_fasta]\n",
    "            subprocess.run(command, stdout=output_file, check=True)\n",
    "        print(f\"Assembly completed. Output saved to {output_fasta}\")\n",
    "    except FileNotFoundError:\n",
    "        print(\"Error: Raven is not installed or not found in the system PATH.\")\n",
    "    except subprocess.CalledProcessError as e:\n",
    "        print(f\"Error running Raven: {e}\")\n",
    "    except Exception as e:\n",
    "        print(f\"Unexpected error: {e}\")"
   ]
  },
  {
   "cell_type": "code",
   "execution_count": null,
   "id": "e754c1e6",
   "metadata": {},
   "outputs": [],
   "source": [
    "# Run the Raven function on our long read input data\n",
    "if __name__ == \"__main__\":\n",
    "    input_fasta = \"data/MAP006-1_2D_pass.fasta\"\n",
    "    output_fasta = \"assembly.fasta\"\n",
    "    run_raven(input_fasta, output_fasta)"
   ]
  },
  {
   "cell_type": "code",
   "execution_count": null,
   "id": "68ccff06",
   "metadata": {},
   "outputs": [],
   "source": [
    "# Move the assembly fasta file to the output directory\n",
    "! mkdir -p output\n",
    "! mv assembly.fasta output/ecoli-assembly.fasta"
   ]
  },
  {
   "cell_type": "code",
   "execution_count": null,
   "id": "51b3ff98",
   "metadata": {},
   "outputs": [],
   "source": [
    "## End of Noteboook ##"
   ]
  }
 ],
 "metadata": {
  "kernelspec": {
   "display_name": "Python 3 (ipykernel)",
   "language": "python",
   "name": "python3"
  },
  "language_info": {
   "codemirror_mode": {
    "name": "ipython",
    "version": 3
   },
   "file_extension": ".py",
   "mimetype": "text/x-python",
   "name": "python",
   "nbconvert_exporter": "python",
   "pygments_lexer": "ipython3",
   "version": "3.11.3"
  }
 },
 "nbformat": 4,
 "nbformat_minor": 5
}
