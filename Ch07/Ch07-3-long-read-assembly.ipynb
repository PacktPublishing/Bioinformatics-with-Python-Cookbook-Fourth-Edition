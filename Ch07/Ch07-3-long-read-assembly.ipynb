{
 "cells": [
  {
   "cell_type": "code",
   "execution_count": null,
   "id": "1d3b4ccb",
   "metadata": {},
   "outputs": [],
   "source": [
    "# Ch07-3 - Long Read Assembly"
   ]
  },
  {
   "cell_type": "code",
   "execution_count": null,
   "id": "9210885f",
   "metadata": {},
   "outputs": [],
   "source": [
    "# Get nanopore reads for E Coli (Loman lab)\n",
    "! wget https://nanopore.s3.climb.ac.uk/MAP006-1_2D_pass.fasta\n",
    "! mv MAP006-1_2D_pass.fasta data/"
   ]
  },
  {
   "cell_type": "code",
   "execution_count": null,
   "id": "7d11b44f",
   "metadata": {},
   "outputs": [],
   "source": [
    "# Install Raven\n",
    "! git clone https://github.com/lbcb-sci/raven.git && cd raven\n",
    "! cmake -S ./ -B./build -DRAVEN_BUILD_EXE=1 -DCMAKE_BUILD_TYPE=Release\n",
    "!cmake --build build"
   ]
  },
  {
   "cell_type": "code",
   "execution_count": 11,
   "id": "c5e0a7dc",
   "metadata": {},
   "outputs": [],
   "source": [
    "# To put Raven in your path\n",
    "! export PATH=$PATH:/Users/shanebrubaker/work/CookBook/Ch07/raven/build/bin"
   ]
  },
  {
   "cell_type": "code",
   "execution_count": null,
   "id": "16e6690e",
   "metadata": {},
   "outputs": [],
   "source": [
    "# To add Raven to your .zschrc\n",
    "! echo 'export PATH=$PATH:/Users/shanebrubaker/work/CookBook/Ch07/raven/build/bin' >> ~/.zshrc\n",
    "! source ~/.zshrc"
   ]
  },
  {
   "cell_type": "code",
   "execution_count": 12,
   "id": "9a8244ca",
   "metadata": {},
   "outputs": [
    {
     "name": "stdout",
     "output_type": "stream",
     "text": [
      "zsh:1: command not found: raven\r\n"
     ]
    }
   ],
   "source": [
    "# Check if raven is working (you may need to restart your Jupyter notebook)\n",
    "! raven --help"
   ]
  },
  {
   "cell_type": "code",
   "execution_count": null,
   "id": "f6971be9",
   "metadata": {},
   "outputs": [],
   "source": []
  },
  {
   "cell_type": "code",
   "execution_count": 2,
   "id": "e754c1e6",
   "metadata": {},
   "outputs": [
    {
     "name": "stdout",
     "output_type": "stream",
     "text": [
      "Running Raven on data/MAP006-1_2D_pass.fasta...\n"
     ]
    },
    {
     "name": "stderr",
     "output_type": "stream",
     "text": [
      "[raven::] loaded 25483 sequences 0.366036s\n",
      "[raven::Graph::Construct] minimized 0 - 25483 / 25483 7.639175s\n",
      "[raven::Graph::Construct] mapped sequences 18.573082s\n",
      "[raven::Graph::Construct] annotated piles 0.263190s\n",
      "[raven::Graph::Construct] removed contained sequences 0.023342s\n",
      "[raven::Graph::Construct] removed chimeric sequences 0.002034s\n",
      "[raven::Graph::Construct] reached checkpoint 0.034226s\n",
      "[raven::Graph::Construct] minimized 0 - 1579 / 1579 1.441758s\n",
      "[raven::Graph::Construct] mapped valid sequences 2.314599s\n",
      "[raven::Graph::Construct] updated overlaps 0.000234s\n",
      "[raven::Graph::Construct] removed false overlaps 0.051294s\n",
      "[raven::Graph::Construct] stored 3038 nodes 0.083575s\n",
      "[raven::Graph::Construct] stored 16416 edges 0.000000s\n",
      "[raven::Graph::Construct] reached checkpoint 0.034268s\n",
      "[raven::Graph::Construct] 30.467926s\n",
      "[raven::Graph::Assemble] removed transitive edges 0.002745s\n",
      "[raven::Graph::Assemble] reached checkpoint 0.032912s\n",
      "[raven::Graph::Assemble] removed tips and bubbles 0.000155s\n",
      "[raven::Graph::Assemble] reached checkpoint 0.031566s\n",
      "[raven::Graph::Assemble] removed long edges 0.058641s\n",
      "[raven::Graph::Assemble] reached checkpoint 0.027356s\n",
      "[raven::Graph::Assemble] 0.186573s\n",
      "[racon::Polisher::Polish] minimized 0 - 1 / 1 0.186066s\n",
      "[racon::Polisher::Polish] mapped sequences 11.881089s\n",
      "[racon::Polisher::Polish] found 24755 overlaps 12.088664s\n",
      "[racon::Polisher::Polish] reverse complemented sequences 0.000145s\n",
      "[racon::Polisher::Polish] aligned 24755 / 24755 overlaps [================] 120.253788s\n",
      "[racon::Polisher::Polish] prepared 9527 window placeholders 0.027113s\n",
      "[racon::Polisher::Polish] called consensus for 9527 / 9527 windows [================] 310.110724s\n",
      "[racon::Polisher::Polish] 442.487763s\n",
      "[raven::Graph::Polish] reached checkpoint 0.002319s\n",
      "[racon::Polisher::Polish] minimized 0 - 1 / 1 0.182181s\n",
      "[racon::Polisher::Polish] mapped sequences 13.426058s\n",
      "[racon::Polisher::Polish] found 24833 overlaps 13.630004s\n",
      "[racon::Polisher::Polish] reverse complemented sequences 0.000059s\n",
      "[racon::Polisher::Polish] aligned 24833 / 24833 overlaps [================] 87.009891s\n",
      "[racon::Polisher::Polish] prepared 9269 window placeholders 0.028220s\n",
      "[racon::Polisher::Polish] called consensus for 8690 / 9269 windows [===============>] 300.953733s\r"
     ]
    },
    {
     "name": "stdout",
     "output_type": "stream",
     "text": [
      "Assembly completed. Output saved to assembly.fasta\n"
     ]
    },
    {
     "name": "stderr",
     "output_type": "stream",
     "text": [
      "[racon::Polisher::Polish] called consensus for 9269 / 9269 windows [================] 321.956541s\r\n",
      "[racon::Polisher::Polish] 422.633388s\n",
      "[raven::Graph::Polish] reached checkpoint 0.002768s\n",
      "[raven::] 896.324871s\n"
     ]
    }
   ],
   "source": [
    "def run_raven(input_fasta, output_fasta):\n",
    "    \"\"\"\n",
    "    Runs Raven to assemble a genome from an input FASTA file.\n",
    "\n",
    "    Parameters:\n",
    "        input_fasta (str): Path to the input FASTA file containing long reads.\n",
    "        output_fasta (str): Path to save the assembled genome in FASTA format.\n",
    "\n",
    "    Returns:\n",
    "        None\n",
    "    \"\"\"\n",
    "    try:\n",
    "        print(f\"Running Raven on {input_fasta}...\")\n",
    "        # Use stdout redirection for Raven output\n",
    "        with open(output_fasta, \"w\") as output_file:\n",
    "            command = [\"raven\", input_fasta]\n",
    "            subprocess.run(command, stdout=output_file, check=True)\n",
    "        print(f\"Assembly completed. Output saved to {output_fasta}\")\n",
    "    except FileNotFoundError:\n",
    "        print(\"Error: Raven is not installed or not found in the system PATH.\")\n",
    "    except subprocess.CalledProcessError as e:\n",
    "        print(f\"Error running Raven: {e}\")\n",
    "    except Exception as e:\n",
    "        print(f\"Unexpected error: {e}\")\n",
    "\n",
    "# Example usage\n",
    "if __name__ == \"__main__\":\n",
    "    input_fasta = \"data/MAP006-1_2D_pass.fasta\"\n",
    "    output_fasta = \"assembly.fasta\"\n",
    "    run_raven(input_fasta, output_fasta)\n"
   ]
  },
  {
   "cell_type": "code",
   "execution_count": null,
   "id": "68ccff06",
   "metadata": {},
   "outputs": [],
   "source": []
  },
  {
   "cell_type": "code",
   "execution_count": null,
   "id": "15478f6e",
   "metadata": {},
   "outputs": [],
   "source": []
  },
  {
   "cell_type": "code",
   "execution_count": null,
   "id": "51b3ff98",
   "metadata": {},
   "outputs": [],
   "source": []
  }
 ],
 "metadata": {
  "kernelspec": {
   "display_name": "Python 3 (ipykernel)",
   "language": "python",
   "name": "python3"
  },
  "language_info": {
   "codemirror_mode": {
    "name": "ipython",
    "version": 3
   },
   "file_extension": ".py",
   "mimetype": "text/x-python",
   "name": "python",
   "nbconvert_exporter": "python",
   "pygments_lexer": "ipython3",
   "version": "3.11.3"
  }
 },
 "nbformat": 4,
 "nbformat_minor": 5
}
