{
 "cells": [
  {
   "cell_type": "code",
   "execution_count": null,
   "id": "7a53703d",
   "metadata": {},
   "outputs": [],
   "source": [
    "# Ch07-4 genome assessment"
   ]
  },
  {
   "cell_type": "code",
   "execution_count": null,
   "id": "ceed0c38",
   "metadata": {},
   "outputs": [],
   "source": [
    "# Install QUAST\n",
    "! pip install quast"
   ]
  },
  {
   "cell_type": "code",
   "execution_count": null,
   "id": "347ee336",
   "metadata": {},
   "outputs": [],
   "source": [
    "# Check that QUAST is installed\n",
    "! quast.py --version"
   ]
  },
  {
   "cell_type": "code",
   "execution_count": null,
   "id": "b7f0e097",
   "metadata": {},
   "outputs": [],
   "source": []
  },
  {
   "cell_type": "code",
   "execution_count": null,
   "id": "e9ea5965",
   "metadata": {},
   "outputs": [],
   "source": []
  },
  {
   "cell_type": "code",
   "execution_count": 1,
   "id": "02cd5ded",
   "metadata": {},
   "outputs": [
    {
     "name": "stdout",
     "output_type": "stream",
     "text": [
      "Running QUAST...\n",
      "Command: quast.py output/ecoli-assembly.fasta -o quast_results\n",
      "/Users/shanebrubaker/anaconda3/bin/quast.py output/ecoli-assembly.fasta -o quast_results\n",
      "\n",
      "Version: 5.2.0\n",
      "\n",
      "System information:\n",
      "  OS: macOS-15.1.1-arm64-arm-64bit (macosx)\n",
      "  Python version: 3.11.3\n",
      "  CPUs number: 10\n",
      "\n",
      "Started: 2025-01-12 14:05:03\n",
      "\n",
      "Logging to /Users/shanebrubaker/work/CookBook/Ch07/quast_results/quast.log\n",
      "NOTICE: Maximum number of threads is set to 2 (use --threads option to set it manually)\n",
      "\n",
      "CWD: /Users/shanebrubaker/work/CookBook/Ch07\n",
      "Main parameters: \n",
      "  MODE: default, threads: 2, min contig length: 500, min alignment length: 65, min alignment IDY: 95.0, \\\n",
      "  ambiguity: one, min local misassembly length: 200, min extensive misassembly length: 1000\n",
      "\n",
      "Contigs:\n",
      "  Pre-processing...\n",
      "  output/ecoli-assembly.fasta ==> ecoli-assembly\n",
      "\n",
      "2025-01-12 14:05:03\n",
      "Running Basic statistics processor...\n",
      "  Contig files: \n",
      "    ecoli-assembly\n",
      "  Calculating N50 and L50...\n",
      "    ecoli-assembly, N50 = 4629606, L50 = 1, auN = 4629606.0, Total length = 4629606, GC % = 50.99, # N's per 100 kbp =  0.00\n",
      "  Drawing Nx plot...\n",
      "    saved to /Users/shanebrubaker/work/CookBook/Ch07/quast_results/basic_stats/Nx_plot.pdf\n",
      "  Drawing cumulative plot...\n",
      "    saved to /Users/shanebrubaker/work/CookBook/Ch07/quast_results/basic_stats/cumulative_plot.pdf\n",
      "  Drawing GC content plot...\n",
      "    saved to /Users/shanebrubaker/work/CookBook/Ch07/quast_results/basic_stats/GC_content_plot.pdf\n",
      "  Drawing ecoli-assembly GC content plot...\n",
      "    saved to /Users/shanebrubaker/work/CookBook/Ch07/quast_results/basic_stats/ecoli-assembly_GC_content_plot.pdf\n",
      "Done.\n",
      "\n",
      "NOTICE: Genes are not predicted by default. Use --gene-finding or --glimmer option to enable it.\n",
      "\n",
      "2025-01-12 14:05:04\n",
      "Creating large visual summaries...\n",
      "This may take a while: press Ctrl-C to skip this step..\n",
      "  1 of 2: Creating PDF with all tables and plots...\n",
      "  2 of 2: Creating Icarus viewers...\n",
      "Done\n",
      "\n",
      "2025-01-12 14:05:04\n",
      "RESULTS:\n",
      "  Text versions of total report are saved to /Users/shanebrubaker/work/CookBook/Ch07/quast_results/report.txt, report.tsv, and report.tex\n",
      "  Text versions of transposed total report are saved to /Users/shanebrubaker/work/CookBook/Ch07/quast_results/transposed_report.txt, transposed_report.tsv, and transposed_report.tex\n",
      "  HTML version (interactive tables and plots) is saved to /Users/shanebrubaker/work/CookBook/Ch07/quast_results/report.html\n",
      "  PDF version (tables and plots) is saved to /Users/shanebrubaker/work/CookBook/Ch07/quast_results/report.pdf\n",
      "  Icarus (contig browser) is saved to /Users/shanebrubaker/work/CookBook/Ch07/quast_results/icarus.html\n",
      "  Log is saved to /Users/shanebrubaker/work/CookBook/Ch07/quast_results/quast.log\n",
      "\n",
      "Finished: 2025-01-12 14:05:04\n",
      "Elapsed time: 0:00:00.953581\n",
      "NOTICEs: 2; WARNINGs: 0; non-fatal ERRORs: 0\n",
      "\n",
      "Thank you for using QUAST!\n",
      "QUAST analysis complete. Results saved in: quast_results\n"
     ]
    }
   ],
   "source": [
    "import subprocess\n",
    "\n",
    "def run_quast(assembly_file, reference_file=None, output_dir=\"quast_output\"):\n",
    "    \"\"\"\n",
    "    Runs QUAST to assess the quality of a genome assembly.\n",
    "\n",
    "    Parameters:\n",
    "        assembly_file (str): Path to the assembled genome FASTA file.\n",
    "        reference_file (str, optional): Path to the reference genome FASTA file. Defaults to None.\n",
    "        output_dir (str): Directory to save QUAST results. Defaults to \"quast_output\".\n",
    "\n",
    "    Returns:\n",
    "        None\n",
    "    \"\"\"\n",
    "    try:\n",
    "        command = [\"quast.py\", assembly_file, \"-o\", output_dir]\n",
    "        if reference_file:\n",
    "            command.extend([\"-r\", reference_file])\n",
    "\n",
    "        print(f\"Running QUAST...\\nCommand: {' '.join(command)}\")\n",
    "        subprocess.run(command, check=True)\n",
    "        print(f\"QUAST analysis complete. Results saved in: {output_dir}\")\n",
    "    except FileNotFoundError:\n",
    "        print(\"QUAST is not installed or not found in the system PATH.\")\n",
    "    except subprocess.CalledProcessError as e:\n",
    "        print(f\"Error running QUAST: {e}\")\n",
    "    except Exception as e:\n",
    "        print(f\"Unexpected error: {e}\")\n",
    "\n",
    "# Example usage\n",
    "if __name__ == \"__main__\":\n",
    "    assembly = \"output/ecoli-assembly.fasta\"\n",
    "    reference = None  # Set to \"reference.fasta\" if available\n",
    "    output = \"quast_results\"\n",
    "    run_quast(assembly, reference, output)\n"
   ]
  },
  {
   "cell_type": "code",
   "execution_count": null,
   "id": "5006dc24",
   "metadata": {},
   "outputs": [],
   "source": [
    "# Open the QUAST report\n",
    "! open quast_results/report.html"
   ]
  },
  {
   "cell_type": "code",
   "execution_count": null,
   "id": "d2382821",
   "metadata": {},
   "outputs": [],
   "source": []
  }
 ],
 "metadata": {
  "kernelspec": {
   "display_name": "Python 3 (ipykernel)",
   "language": "python",
   "name": "python3"
  },
  "language_info": {
   "codemirror_mode": {
    "name": "ipython",
    "version": 3
   },
   "file_extension": ".py",
   "mimetype": "text/x-python",
   "name": "python",
   "nbconvert_exporter": "python",
   "pygments_lexer": "ipython3",
   "version": "3.11.3"
  }
 },
 "nbformat": 4,
 "nbformat_minor": 5
}
