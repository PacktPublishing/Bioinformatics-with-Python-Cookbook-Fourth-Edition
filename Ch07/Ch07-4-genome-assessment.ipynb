{
 "cells": [
  {
   "cell_type": "code",
   "execution_count": null,
   "id": "fca2f045",
   "metadata": {},
   "outputs": [],
   "source": [
    "# Ch07-4 genome assessment"
   ]
  },
  {
   "cell_type": "code",
   "execution_count": null,
   "id": "8a7ad84e",
   "metadata": {},
   "outputs": [],
   "source": [
    "# Install QUAST\n",
    "! pip install quast"
   ]
  },
  {
   "cell_type": "code",
   "execution_count": null,
   "id": "9500e3dd",
   "metadata": {},
   "outputs": [],
   "source": [
    "# Check that QUAST is installed\n",
    "! quast.py --version"
   ]
  },
  {
   "cell_type": "code",
   "execution_count": null,
   "id": "fecf93af",
   "metadata": {},
   "outputs": [],
   "source": [
    "# Import libraries\n",
    "import subprocess"
   ]
  },
  {
   "cell_type": "code",
   "execution_count": null,
   "id": "00032b5e",
   "metadata": {},
   "outputs": [],
   "source": [
    "# Function to run QUAST on a genome assembly\n",
    "def run_quast(assembly_file, reference_file=None, output_dir=\"quast_output\"):\n",
    "    \"\"\"\n",
    "    Runs QUAST to assess the quality of a genome assembly.\n",
    "\n",
    "    Parameters:\n",
    "        assembly_file (str): Path to the assembled genome FASTA file.\n",
    "        reference_file (str, optional): Path to the reference genome FASTA file. Defaults to None.\n",
    "        output_dir (str): Directory to save QUAST results. Defaults to \"quast_output\".\n",
    "\n",
    "    Returns:\n",
    "        None\n",
    "    \"\"\"\n",
    "    try:\n",
    "        command = [\"quast.py\", assembly_file, \"-o\", output_dir]\n",
    "        if reference_file:\n",
    "            command.extend([\"-r\", reference_file])\n",
    "\n",
    "        print(f\"Running QUAST...\\nCommand: {' '.join(command)}\")\n",
    "        subprocess.run(command, check=True)\n",
    "        print(f\"QUAST analysis complete. Results saved in: {output_dir}\")\n",
    "    except FileNotFoundError:\n",
    "        print(\"QUAST is not installed or not found in the system PATH.\")\n",
    "    except subprocess.CalledProcessError as e:\n",
    "        print(f\"Error running QUAST: {e}\")\n",
    "    except Exception as e:\n",
    "        print(f\"Unexpected error: {e}\")"
   ]
  },
  {
   "cell_type": "code",
   "execution_count": null,
   "id": "ab030149",
   "metadata": {},
   "outputs": [],
   "source": [
    "## Main code to run our QUAST function ##\n",
    "if __name__ == \"__main__\":\n",
    "    assembly = \"output/ecoli-assembly.fasta\"\n",
    "    reference = None  # Set to \"reference.fasta\" if available\n",
    "    output = \"quast_results\"\n",
    "    run_quast(assembly, reference, output)"
   ]
  },
  {
   "cell_type": "code",
   "execution_count": null,
   "id": "8a33b21b",
   "metadata": {},
   "outputs": [],
   "source": [
    "# Open the QUAST report\n",
    "! open quast_results/report.html"
   ]
  },
  {
   "cell_type": "code",
   "execution_count": null,
   "id": "002ea16f",
   "metadata": {},
   "outputs": [],
   "source": [
    "## End of Notebook ##"
   ]
  }
 ],
 "metadata": {
  "kernelspec": {
   "display_name": "Python 3 (ipykernel)",
   "language": "python",
   "name": "python3"
  },
  "language_info": {
   "codemirror_mode": {
    "name": "ipython",
    "version": 3
   },
   "file_extension": ".py",
   "mimetype": "text/x-python",
   "name": "python",
   "nbconvert_exporter": "python",
   "pygments_lexer": "ipython3",
   "version": "3.11.3"
  }
 },
 "nbformat": 4,
 "nbformat_minor": 5
}
