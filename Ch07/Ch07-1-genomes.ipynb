{
 "cells": [
  {
   "cell_type": "code",
   "execution_count": null,
   "id": "3edb2ba6",
   "metadata": {},
   "outputs": [],
   "source": [
    "# Ch07-1-genomes"
   ]
  },
  {
   "cell_type": "code",
   "execution_count": 6,
   "id": "8c12f0f4",
   "metadata": {},
   "outputs": [
    {
     "name": "stdout",
     "output_type": "stream",
     "text": [
      "--2025-01-06 23:18:39--  https://ftp.ncbi.nlm.nih.gov/genomes/all/GCA/009/914/755/GCA_009914755.4_T2T-CHM13v2.0/GCA_009914755.4_T2T-CHM13v2.0_genomic.fna.gz\n",
      "Resolving ftp.ncbi.nlm.nih.gov (ftp.ncbi.nlm.nih.gov)... 2607:f220:41e:250::10, 2607:f220:41e:250::31, 2607:f220:41e:250::11, ...\n",
      "Connecting to ftp.ncbi.nlm.nih.gov (ftp.ncbi.nlm.nih.gov)|2607:f220:41e:250::10|:443... connected.\n",
      "HTTP request sent, awaiting response... 200 OK\n",
      "Length: 932696125 (889M) [application/x-gzip]\n",
      "Saving to: ‘GCA_009914755.4_T2T-CHM13v2.0_genomic.fna.gz’\n",
      "\n",
      "GCA_009914755.4_T2T 100%[===================>] 889.49M  10.6MB/s    in 34s     \n",
      "\n",
      "2025-01-06 23:19:13 (26.3 MB/s) - ‘GCA_009914755.4_T2T-CHM13v2.0_genomic.fna.gz’ saved [932696125/932696125]\n",
      "\n"
     ]
    }
   ],
   "source": [
    "# Download T2T reference genome\n",
    "! mkdir -p data\n",
    "! wget https://ftp.ncbi.nlm.nih.gov/genomes/all/GCA/009/914/755/GCA_009914755.4_T2T-CHM13v2.0/GCA_009914755.4_T2T-CHM13v2.0_genomic.fna.gz\n",
    "! gunzip GCA_009914755.4_T2T-CHM13v2.0_genomic.fna.gz\n",
    "! mv GCA_009914755.4_T2T-CHM13v2.0_genomic.fna data/T2T_genome.fasta"
   ]
  },
  {
   "cell_type": "code",
   "execution_count": null,
   "id": "3d2c7cfc",
   "metadata": {},
   "outputs": [],
   "source": [
    "# Install pyfastx\n",
    "! pip install pyfastx"
   ]
  },
  {
   "cell_type": "code",
   "execution_count": 12,
   "id": "27609d52",
   "metadata": {},
   "outputs": [
    {
     "name": "stdout",
     "output_type": "stream",
     "text": [
      "Genome Quality Metrics for data/T2T_genome.fasta:\n",
      "Total Genome Size: 3,117,292,070 bp\n",
      "GC Content: 25.32%\n",
      "N50: 150,617,247 bp\n"
     ]
    }
   ],
   "source": [
    "import pyfastx\n",
    "\n",
    "# Input genome file\n",
    "genome_fasta = \"data/T2T_genome.fasta\"\n",
    "\n",
    "def compute_genome_size(fasta_file):\n",
    "    \"\"\"\n",
    "    Compute the total genome size from a FASTA file.\n",
    "    \"\"\"\n",
    "    genome_size = 0\n",
    "    genome = pyfastx.Fasta(fasta_file, build_index=False)\n",
    "    for _, seq in genome:  # Use the sequence directly from the tuple\n",
    "        genome_size += len(seq)\n",
    "    return genome_size\n",
    "\n",
    "def compute_gc_content(fasta_file):\n",
    "    \"\"\"\n",
    "    Compute the overall GC content of the genome.\n",
    "    \"\"\"\n",
    "    total_bases = 0\n",
    "    gc_count = 0\n",
    "    genome = pyfastx.Fasta(fasta_file, build_index=False)\n",
    "    for _, seq in genome:  # Use the sequence directly from the tuple\n",
    "        total_bases += len(seq)\n",
    "        gc_count += seq.count('G') + seq.count('C')\n",
    "    return (gc_count / total_bases) * 100 if total_bases > 0 else 0\n",
    "\n",
    "def compute_n50(fasta_file):\n",
    "    \"\"\"\n",
    "    Compute the N50 value for the genome.\n",
    "    \"\"\"\n",
    "    lengths = []\n",
    "    genome = pyfastx.Fasta(fasta_file, build_index=False)\n",
    "    lengths = sorted([len(seq) for _, seq in genome], reverse=True)\n",
    "    \n",
    "    cumulative_length = 0\n",
    "    total_length = sum(lengths)\n",
    "    for length in lengths:\n",
    "        cumulative_length += length\n",
    "        if cumulative_length >= total_length / 2:\n",
    "            return length\n",
    "    return 0\n",
    "\n",
    "def assess_quality(fasta_file):\n",
    "    \"\"\"\n",
    "    Assess the quality of a T2T genome by calculating key metrics.\n",
    "    \"\"\"\n",
    "    genome_size = compute_genome_size(fasta_file)\n",
    "    gc_content = compute_gc_content(fasta_file)\n",
    "    n50 = compute_n50(fasta_file)\n",
    "\n",
    "    print(f\"Genome Quality Metrics for {fasta_file}:\")\n",
    "    print(f\"Total Genome Size: {genome_size:,} bp\")\n",
    "    print(f\"GC Content: {gc_content:.2f}%\")\n",
    "    print(f\"N50: {n50:,} bp\")\n",
    "\n",
    "# Run the quality assessment\n",
    "if __name__ == \"__main__\":\n",
    "    assess_quality(genome_fasta)\n"
   ]
  },
  {
   "cell_type": "code",
   "execution_count": null,
   "id": "a8c18feb",
   "metadata": {},
   "outputs": [],
   "source": []
  },
  {
   "cell_type": "code",
   "execution_count": null,
   "id": "83e12d86",
   "metadata": {},
   "outputs": [],
   "source": []
  },
  {
   "cell_type": "code",
   "execution_count": null,
   "id": "12649e66",
   "metadata": {},
   "outputs": [],
   "source": []
  },
  {
   "cell_type": "code",
   "execution_count": null,
   "id": "59545357",
   "metadata": {},
   "outputs": [],
   "source": []
  },
  {
   "cell_type": "code",
   "execution_count": null,
   "id": "3d9e4b8d",
   "metadata": {},
   "outputs": [],
   "source": []
  }
 ],
 "metadata": {
  "kernelspec": {
   "display_name": "Python 3 (ipykernel)",
   "language": "python",
   "name": "python3"
  },
  "language_info": {
   "codemirror_mode": {
    "name": "ipython",
    "version": 3
   },
   "file_extension": ".py",
   "mimetype": "text/x-python",
   "name": "python",
   "nbconvert_exporter": "python",
   "pygments_lexer": "ipython3",
   "version": "3.11.3"
  }
 },
 "nbformat": 4,
 "nbformat_minor": 5
}
