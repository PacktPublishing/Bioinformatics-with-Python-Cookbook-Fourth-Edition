{
 "cells": [
  {
   "cell_type": "code",
   "execution_count": null,
   "id": "a2023924",
   "metadata": {},
   "outputs": [],
   "source": [
    "# Ch07-1-genomes"
   ]
  },
  {
   "cell_type": "code",
   "execution_count": null,
   "id": "c614152d",
   "metadata": {},
   "outputs": [],
   "source": [
    "# Download T2T reference genome\n",
    "! mkdir -p data\n",
    "! wget https://ftp.ncbi.nlm.nih.gov/genomes/all/GCA/009/914/755/GCA_009914755.4_T2T-CHM13v2.0/GCA_009914755.4_T2T-CHM13v2.0_genomic.fna.gz\n",
    "! gunzip GCA_009914755.4_T2T-CHM13v2.0_genomic.fna.gz\n",
    "! mv GCA_009914755.4_T2T-CHM13v2.0_genomic.fna data/T2T_genome.fasta"
   ]
  },
  {
   "cell_type": "code",
   "execution_count": null,
   "id": "4d8c6315",
   "metadata": {},
   "outputs": [],
   "source": [
    "# Install pyfastx\n",
    "! pip install pyfastx"
   ]
  },
  {
   "cell_type": "code",
   "execution_count": 6,
   "id": "a7b566a0",
   "metadata": {},
   "outputs": [],
   "source": [
    "# Import libraries\n",
    "import pyfastx"
   ]
  },
  {
   "cell_type": "code",
   "execution_count": 1,
   "id": "f426a4be",
   "metadata": {},
   "outputs": [],
   "source": [
    "# Input genome file\n",
    "genome_fasta = \"data/T2T_genome.fasta\""
   ]
  },
  {
   "cell_type": "code",
   "execution_count": 2,
   "id": "bc05ab68",
   "metadata": {},
   "outputs": [],
   "source": [
    "def compute_genome_size(fasta_file):\n",
    "    \"\"\"\n",
    "    Compute the total genome size from a FASTA file.\n",
    "    \"\"\"\n",
    "    genome_size = 0\n",
    "    genome = pyfastx.Fasta(fasta_file, build_index=False)\n",
    "    for _, seq in genome:  # Use the sequence directly from the tuple\n",
    "        genome_size += len(seq)\n",
    "    return genome_size"
   ]
  },
  {
   "cell_type": "code",
   "execution_count": 8,
   "id": "1c39876c",
   "metadata": {},
   "outputs": [],
   "source": [
    "def compute_gc_content(fasta_file):\n",
    "    \"\"\"\n",
    "    Compute the overall GC content of the genome.\n",
    "    \"\"\"\n",
    "    total_bases = 0\n",
    "    gc_count = 0\n",
    "    genome = pyfastx.Fasta(fasta_file, build_index=False)\n",
    "    for _, seq in genome:  # Use the sequence directly from the tuple\n",
    "        total_bases += len(seq)\n",
    "        gc_count += seq.upper().count('G') + seq.upper().count('C')\n",
    "    return (gc_count / total_bases) * 100 if total_bases > 0 else 0"
   ]
  },
  {
   "cell_type": "code",
   "execution_count": 4,
   "id": "05443299",
   "metadata": {},
   "outputs": [],
   "source": [
    "def compute_n50(fasta_file):\n",
    "    \"\"\"\n",
    "    Compute the N50 value for the genome.\n",
    "    \"\"\"\n",
    "    lengths = []\n",
    "    genome = pyfastx.Fasta(fasta_file, build_index=False)\n",
    "    lengths = sorted([len(seq) for _, seq in genome], reverse=True)\n",
    "    \n",
    "    cumulative_length = 0\n",
    "    total_length = sum(lengths)\n",
    "    for length in lengths:\n",
    "        cumulative_length += length\n",
    "        if cumulative_length >= total_length / 2:\n",
    "            return length\n",
    "    return 0"
   ]
  },
  {
   "cell_type": "code",
   "execution_count": 9,
   "id": "86d5d764",
   "metadata": {},
   "outputs": [
    {
     "name": "stdout",
     "output_type": "stream",
     "text": [
      "Genome Quality Metrics for data/T2T_genome.fasta:\n",
      "Total Genome Size: 3,117,292,070 bp\n",
      "GC Content: 40.75%\n",
      "N50: 150,617,247 bp\n"
     ]
    }
   ],
   "source": [
    "def assess_quality(fasta_file):\n",
    "    \"\"\"\n",
    "    Assess the quality of a T2T genome by calculating key metrics.\n",
    "    \"\"\"\n",
    "    genome_size = compute_genome_size(fasta_file)\n",
    "    gc_content = compute_gc_content(fasta_file)\n",
    "    n50 = compute_n50(fasta_file)\n",
    "\n",
    "    print(f\"Genome Quality Metrics for {fasta_file}:\")\n",
    "    print(f\"Total Genome Size: {genome_size:,} bp\")\n",
    "    print(f\"GC Content: {gc_content:.2f}%\")\n",
    "    print(f\"N50: {n50:,} bp\")\n",
    "\n",
    "# Run the quality assessment\n",
    "if __name__ == \"__main__\":\n",
    "    assess_quality(genome_fasta)"
   ]
  },
  {
   "cell_type": "code",
   "execution_count": null,
   "id": "a43d8913",
   "metadata": {},
   "outputs": [],
   "source": [
    "## End of Notebook ##"
   ]
  }
 ],
 "metadata": {
  "kernelspec": {
   "display_name": "Python 3 (ipykernel)",
   "language": "python",
   "name": "python3"
  },
  "language_info": {
   "codemirror_mode": {
    "name": "ipython",
    "version": 3
   },
   "file_extension": ".py",
   "mimetype": "text/x-python",
   "name": "python",
   "nbconvert_exporter": "python",
   "pygments_lexer": "ipython3",
   "version": "3.11.3"
  }
 },
 "nbformat": 4,
 "nbformat_minor": 5
}
