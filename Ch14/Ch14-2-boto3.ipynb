{
 "cells": [
  {
   "cell_type": "code",
   "execution_count": null,
   "id": "0e52b4b1-d5d7-472e-8780-5e104d2beca5",
   "metadata": {},
   "outputs": [],
   "source": [
    "# Ch14-2-boto3"
   ]
  },
  {
   "cell_type": "code",
   "execution_count": null,
   "id": "5ef4032a-9d2c-4876-8820-ad1475d9b19b",
   "metadata": {},
   "outputs": [],
   "source": [
    "# Install boto3 "
   ]
  },
  {
   "cell_type": "code",
   "execution_count": null,
   "id": "20624bb3-e7cd-4ce2-b9a4-ac37536a3638",
   "metadata": {},
   "outputs": [],
   "source": [
    "! pip install boto3"
   ]
  },
  {
   "cell_type": "code",
   "execution_count": null,
   "id": "3603e8ea-87f1-4625-9c3d-57758b2bcd7f",
   "metadata": {},
   "outputs": [],
   "source": [
    "## Build an S3 bucket ##"
   ]
  },
  {
   "cell_type": "code",
   "execution_count": null,
   "id": "9c223cb5-e8c7-4a31-bc06-d686ee4316f2",
   "metadata": {},
   "outputs": [],
   "source": [
    "# Import Libraries"
   ]
  },
  {
   "cell_type": "code",
   "execution_count": null,
   "id": "9f2c38e3-dbbb-400b-91c4-ef03d9b12ca5",
   "metadata": {},
   "outputs": [],
   "source": [
    "import boto3\n",
    "from botocore.exceptions import ClientError"
   ]
  },
  {
   "cell_type": "code",
   "execution_count": null,
   "id": "b2087067-4121-42cc-8d55-3cb257ebfe0b",
   "metadata": {},
   "outputs": [],
   "source": [
    "# Function to create and S3 bucket using boto3\n",
    "def create_bucket(bucket_name, region=None):\n",
    "    \"\"\"Create an S3 bucket in a specified region.\"\"\"\n",
    "    try:\n",
    "        s3_client = boto3.client('s3', region_name=region)      \n",
    "        if region is None:\n",
    "            s3_client.create_bucket(Bucket=bucket_name)\n",
    "        else:\n",
    "            location = {'LocationConstraint': region}\n",
    "            s3_client.create_bucket(Bucket=bucket_name, CreateBucketConfiguration=location)\n",
    "        print(f\"Bucket '{bucket_name}' created successfully.\")\n",
    "    except ClientError as e:\n",
    "        print(f\"Error: {e}\")\n",
    "        return False\n",
    "    return True"
   ]
  },
  {
   "cell_type": "code",
   "execution_count": null,
   "id": "6f6898e8-a6a4-4585-9aaf-02266622357e",
   "metadata": {},
   "outputs": [],
   "source": [
    "# Set up versioining on the bucket \n",
    "def enable_versioning(bucket_name):\n",
    "    \"\"\"Enable versioning on the S3 bucket.\"\"\"\n",
    "    s3 = boto3.client('s3')\n",
    "    versioning_config = {\n",
    "        'Status': 'Enabled'\n",
    "    }\n",
    "    s3.put_bucket_versioning(Bucket=bucket_name, VersioningConfiguration=versioning_config)\n",
    "    print(f\"Versioning enabled on bucket '{bucket_name}'.\")"
   ]
  },
  {
   "cell_type": "code",
   "execution_count": null,
   "id": "6111dc81-3545-40db-90eb-f6a2fe2349c6",
   "metadata": {},
   "outputs": [],
   "source": [
    "def upload_sample_file(bucket_name, file_name, object_name=None):\n",
    "    \"\"\"Upload a sample file to the S3 bucket.\"\"\"\n",
    "    if object_name is None:\n",
    "        object_name = file_name\n",
    "\n",
    "    s3 = boto3.client('s3')\n",
    "    try:\n",
    "        s3.upload_file(file_name, bucket_name, object_name)\n",
    "        print(f\"File '{file_name}' uploaded to '{bucket_name}/{object_name}'.\")\n",
    "    except ClientError as e:\n",
    "        print(f\"Upload error: {e}\")"
   ]
  },
  {
   "cell_type": "code",
   "execution_count": null,
   "id": "3a825ee6-e860-4270-b3e8-4e8310be7f32",
   "metadata": {},
   "outputs": [],
   "source": [
    "# ---- Main Deployment Logic ----\n",
    "bucket = \"sab-bucket-4\"  # Replace with a globally unique name of your choosing\n",
    "region = \"us-west-2\"  # Choose your region\n",
    "\n",
    "# 1. Create the bucket\n",
    "if create_bucket(bucket, region):\n",
    "    # 2. Enable versioning\n",
    "    enable_versioning(bucket)\n",
    "    \n",
    "    # 3. Upload a sample file (optional)\n",
    "    with open(\"sample.txt\", \"w\") as f:\n",
    "        f.write(\"This is a sample file.\")\n",
    "    upload_sample_file(bucket, \"sample.txt\")"
   ]
  },
  {
   "cell_type": "code",
   "execution_count": null,
   "id": "8e8bbbef-c1c1-4dad-9c6a-26a89d3c6c8e",
   "metadata": {},
   "outputs": [],
   "source": [
    "## Delete the S3 bucket ##"
   ]
  },
  {
   "cell_type": "code",
   "execution_count": null,
   "id": "8d14a55a-96fe-4ef8-8fdb-bfe42dbe6954",
   "metadata": {},
   "outputs": [],
   "source": [
    "def empty_bucket(bucket_name):\n",
    "    \"\"\"Delete all objects and object versions from the bucket.\"\"\"\n",
    "    s3 = boto3.resource('s3')\n",
    "    bucket = s3.Bucket(bucket_name)\n",
    "\n",
    "    try:\n",
    "        # Delete all object versions (for versioned buckets)\n",
    "        bucket.object_versions.delete()\n",
    "        print(f\"All objects and versions deleted from '{bucket_name}'.\")\n",
    "    except ClientError as e:\n",
    "        print(f\"Error emptying bucket: {e}\")\n",
    "        return False\n",
    "    return True"
   ]
  },
  {
   "cell_type": "code",
   "execution_count": null,
   "id": "8dcd2c60-c9e9-4421-ae75-aa0738e62e01",
   "metadata": {},
   "outputs": [],
   "source": [
    "def delete_bucket(bucket_name):\n",
    "    \"\"\"Delete the S3 bucket after it has been emptied.\"\"\"\n",
    "    s3 = boto3.client('s3')\n",
    "    try:\n",
    "        s3.delete_bucket(Bucket=bucket_name)\n",
    "        print(f\"Bucket '{bucket_name}' deleted successfully.\")\n",
    "    except ClientError as e:\n",
    "        print(f\"Error deleting bucket: {e}\")\n",
    "        return False\n",
    "    return True"
   ]
  },
  {
   "cell_type": "code",
   "execution_count": null,
   "id": "c243bfdd-63d1-4374-a2b2-f6725a28ff76",
   "metadata": {},
   "outputs": [],
   "source": [
    "# ---- Main Execution ----\n",
    "bucket_to_delete = \"sab-bucket-4\"  # Replace with your bucket name\n",
    "\n",
    "# 1. Empty the bucket\n",
    "if empty_bucket(bucket_to_delete):\n",
    "    # 2. Delete the bucket\n",
    "    delete_bucket(bucket_to_delete)"
   ]
  },
  {
   "cell_type": "code",
   "execution_count": null,
   "id": "5a0c4e67-1288-477e-aab2-395e16be4fd9",
   "metadata": {},
   "outputs": [],
   "source": [
    "### Part 2 - CloudFormation Templates ###"
   ]
  },
  {
   "cell_type": "code",
   "execution_count": null,
   "id": "0cfb3185-6f8f-4812-8f7b-d12c4b639011",
   "metadata": {},
   "outputs": [],
   "source": [
    "# Build an S3 bucket using CloudFormation\n",
    "#. First make the s3-bucket.yaml file"
   ]
  },
  {
   "cell_type": "code",
   "execution_count": null,
   "id": "d60f119c-4c34-4eac-aeff-193b3d1aa35c",
   "metadata": {},
   "outputs": [],
   "source": [
    "# Run this command:\n",
    "aws cloudformation create-stack \\\n",
    "  --stack-name my-s3-stack \\\n",
    "  --template-body file://s3-bucket.yaml \\\n",
    "  --capabilities CAPABILITY_NAMED_IAM"
   ]
  },
  {
   "cell_type": "code",
   "execution_count": null,
   "id": "20c5187f-e8f6-4e67-a078-54603ac784d2",
   "metadata": {},
   "outputs": [],
   "source": [
    "# Delete the CloudFormation stack\n",
    "aws cloudformation delete-stack --stack-name my-s3-stack"
   ]
  },
  {
   "cell_type": "code",
   "execution_count": null,
   "id": "63f6e854-6775-449c-93da-db2ee9ffddd3",
   "metadata": {},
   "outputs": [],
   "source": [
    "## End of Notebook ##"
   ]
  }
 ],
 "metadata": {
  "kernelspec": {
   "display_name": "Python 3 (ipykernel)",
   "language": "python",
   "name": "python3"
  },
  "language_info": {
   "codemirror_mode": {
    "name": "ipython",
    "version": 3
   },
   "file_extension": ".py",
   "mimetype": "text/x-python",
   "name": "python",
   "nbconvert_exporter": "python",
   "pygments_lexer": "ipython3",
   "version": "3.11.3"
  }
 },
 "nbformat": 4,
 "nbformat_minor": 5
}
