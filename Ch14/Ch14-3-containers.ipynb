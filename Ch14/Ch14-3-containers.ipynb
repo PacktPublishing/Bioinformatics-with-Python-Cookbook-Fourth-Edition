{
 "cells": [
  {
   "cell_type": "code",
   "execution_count": 6,
   "id": "ed2e74ea-0bb8-411e-986b-935fcc08cca8",
   "metadata": {},
   "outputs": [],
   "source": [
    "# Ch14-3-containers"
   ]
  },
  {
   "cell_type": "code",
   "execution_count": 7,
   "id": "4639b38d-4573-4cf2-b887-782bcc2fc65b",
   "metadata": {},
   "outputs": [],
   "source": [
    "# Build and simple Docker container and push it to AWS ECR "
   ]
  },
  {
   "cell_type": "code",
   "execution_count": 34,
   "id": "7f99446e-ea65-4cdc-a1ae-1c873e41a5c6",
   "metadata": {},
   "outputs": [],
   "source": [
    "# Import Libraries\n",
    "import os\n",
    "import boto3\n",
    "import subprocess\n",
    "from botocore.exceptions import ClientError\n",
    "import logging"
   ]
  },
  {
   "cell_type": "code",
   "execution_count": 25,
   "id": "5a6e3f7b-46c4-483d-9310-39c2956281c9",
   "metadata": {},
   "outputs": [],
   "source": [
    "# Configure logging\n",
    "logging.basicConfig(level=logging.INFO, format='%(asctime)s - %(levelname)s - %(message)s')\n",
    "logger = logging.getLogger(__name__)"
   ]
  },
  {
   "cell_type": "code",
   "execution_count": 26,
   "id": "5fd39edd-e451-4277-a223-f593c643dd58",
   "metadata": {},
   "outputs": [],
   "source": [
    "# AWS Settings\n",
    "AWS_REGION = 'us-east-1'  # Change to your preferred region\n",
    "REPOSITORY_NAME = 'my-simple-app'  # Name for your ECR repository\n",
    "IMAGE_TAG = 'latest'\n",
    "\n",
    "# Create a unique ID for the build\n",
    "#BUILD_ID = str(uuid.uuid4())[:8]"
   ]
  },
  {
   "cell_type": "code",
   "execution_count": 27,
   "id": "a08e31da-3c00-41fc-81d0-f85233abf67d",
   "metadata": {},
   "outputs": [],
   "source": [
    "def create_dockerfile():\n",
    "    \"\"\"Create a simple Dockerfile for a Python application\"\"\"\n",
    "    logger.info(\"Creating Dockerfile and application files...\")\n",
    "    \n",
    "    # Create a directory for our app\n",
    "    os.makedirs('app', exist_ok=True)\n",
    "    \n",
    "    # Create a simple Flask application\n",
    "    with open('app/app.py', 'w') as f:\n",
    "        f.write('''\n",
    "from flask import Flask\n",
    "app = Flask(__name__)\n",
    "\n",
    "@app.route('/')\n",
    "def hello():\n",
    "    return \"Hello from the Docker container!\"\n",
    "\n",
    "if __name__ == \"__main__\":\n",
    "    app.run(host='0.0.0.0', port=5000)\n",
    "''')\n",
    "    \n",
    "    # Create requirements.txt\n",
    "    with open('app/requirements.txt', 'w') as f:\n",
    "        f.write('flask==2.2.3\\n')\n",
    "    \n",
    "    # Create Dockerfile\n",
    "    with open('Dockerfile', 'w') as f:\n",
    "        f.write('''\n",
    "FROM python:3.9-slim\n",
    "\n",
    "WORKDIR /app\n",
    "\n",
    "COPY app/requirements.txt .\n",
    "RUN pip install --no-cache-dir -r requirements.txt\n",
    "\n",
    "COPY app/ .\n",
    "\n",
    "EXPOSE 5000\n",
    "\n",
    "CMD [\"python\", \"app.py\"]\n",
    "''')\n",
    "    \n",
    "    logger.info(\"Dockerfile and application files created successfully\")"
   ]
  },
  {
   "cell_type": "code",
   "execution_count": 28,
   "id": "74f7686c-ddbf-47cc-a59c-1868a6e8cd79",
   "metadata": {},
   "outputs": [],
   "source": [
    "def build_docker_image():\n",
    "    \"\"\"Build the Docker image locally\"\"\"\n",
    "    image_name = f\"{REPOSITORY_NAME}:{IMAGE_TAG}\"\n",
    "    logger.info(f\"Building Docker image: {image_name}\")\n",
    "    \n",
    "    try:\n",
    "        subprocess.run(\n",
    "            [\"docker\", \"build\", \"-t\", image_name, \".\"],\n",
    "            check=True,\n",
    "            stdout=subprocess.PIPE,\n",
    "            text=True\n",
    "        )\n",
    "        logger.info(\"Docker image built successfully\")\n",
    "        return image_name\n",
    "    except subprocess.CalledProcessError as e:\n",
    "        logger.error(f\"Failed to build Docker image: {e}\")\n",
    "        raise"
   ]
  },
  {
   "cell_type": "code",
   "execution_count": 29,
   "id": "67da8d3b-3e54-48dd-ba57-fe4616ba2d9d",
   "metadata": {},
   "outputs": [],
   "source": [
    "def create_ecr_repository(ecr_client):\n",
    "    \"\"\"Create an ECR repository if it doesn't exist\"\"\"\n",
    "    try:\n",
    "        logger.info(f\"Checking if repository {REPOSITORY_NAME} exists...\")\n",
    "        ecr_client.describe_repositories(repositoryNames=[REPOSITORY_NAME])\n",
    "        logger.info(f\"Repository {REPOSITORY_NAME} already exists\")\n",
    "    except ecr_client.exceptions.RepositoryNotFoundException:\n",
    "        logger.info(f\"Creating repository {REPOSITORY_NAME}...\")\n",
    "        response = ecr_client.create_repository(\n",
    "            repositoryName=REPOSITORY_NAME,\n",
    "            imageScanningConfiguration={'scanOnPush': True},\n",
    "            encryptionConfiguration={'encryptionType': 'AES256'}\n",
    "        )\n",
    "        logger.info(f\"Repository created: {response['repository']['repositoryUri']}\")"
   ]
  },
  {
   "cell_type": "code",
   "execution_count": 30,
   "id": "15db914a-b1c9-4b7d-a742-98bf83840492",
   "metadata": {},
   "outputs": [],
   "source": [
    "def get_ecr_login_command(ecr_client):\n",
    "    \"\"\"Get the ECR login command\"\"\"\n",
    "    response = ecr_client.get_authorization_token()\n",
    "    \n",
    "    auth_data = response['authorizationData'][0]\n",
    "    token = auth_data['authorizationToken']\n",
    "    endpoint = auth_data['proxyEndpoint']\n",
    "    \n",
    "    return token, endpoint"
   ]
  },
  {
   "cell_type": "code",
   "execution_count": 31,
   "id": "17a6197a-19e9-4e30-838a-497fa04314e2",
   "metadata": {},
   "outputs": [],
   "source": [
    "def tag_and_push_image(local_image_name, repository_uri):\n",
    "    \"\"\"Tag and push the Docker image to ECR\"\"\"\n",
    "    logger.info(f\"Tagging image as {repository_uri}\")\n",
    "    \n",
    "    # Tag the image\n",
    "    try:\n",
    "        subprocess.run(\n",
    "            [\"docker\", \"tag\", local_image_name, repository_uri],\n",
    "            check=True,\n",
    "            stdout=subprocess.PIPE,\n",
    "            text=True\n",
    "        )\n",
    "        logger.info(\"Image tagged successfully\")\n",
    "    except subprocess.CalledProcessError as e:\n",
    "        logger.error(f\"Failed to tag image: {e}\")\n",
    "        raise\n",
    "    \n",
    "    # Push the image\n",
    "    try:\n",
    "        logger.info(f\"Pushing image to {repository_uri}\")\n",
    "        subprocess.run(\n",
    "            [\"docker\", \"push\", repository_uri],\n",
    "            check=True,\n",
    "            stdout=subprocess.PIPE,\n",
    "            text=True\n",
    "        )\n",
    "        logger.info(\"Image pushed successfully\")\n",
    "    except subprocess.CalledProcessError as e:\n",
    "        logger.error(f\"Failed to push image: {e}\")\n",
    "        raise\n"
   ]
  },
  {
   "cell_type": "code",
   "execution_count": 32,
   "id": "372d4b20-558f-417d-b4ee-b916590c2330",
   "metadata": {},
   "outputs": [],
   "source": [
    "def login_to_ecr(region, endpoint):\n",
    "    try:\n",
    "        print(f\"Logging into ECR at {endpoint}...\")\n",
    "        subprocess.run(\n",
    "            f\"aws ecr get-login-password --region {region} | docker login --username AWS --password-stdin {endpoint.replace('https://', '')}\",\n",
    "            shell=True,\n",
    "            check=True\n",
    "        )\n",
    "        print(\"Logged in to ECR successfully.\")\n",
    "    except subprocess.CalledProcessError as e:\n",
    "        print(f\"Failed to log in to ECR: {e}\")\n",
    "        raise"
   ]
  },
  {
   "cell_type": "code",
   "execution_count": 33,
   "id": "45932b3a-5afd-4925-a43e-ce6e04537b72",
   "metadata": {},
   "outputs": [
    {
     "name": "stderr",
     "output_type": "stream",
     "text": [
      "2025-05-17 15:09:33,419 - INFO - Creating Dockerfile and application files...\n",
      "2025-05-17 15:09:33,423 - INFO - Dockerfile and application files created successfully\n",
      "2025-05-17 15:09:33,424 - INFO - Building Docker image: my-simple-app:latest\n",
      "#0 building with \"desktop-linux\" instance using docker driver\n",
      "\n",
      "#1 [internal] load .dockerignore\n",
      "#1 transferring context: 2B done\n",
      "#1 DONE 0.0s\n",
      "\n",
      "#2 [internal] load build definition from Dockerfile\n",
      "#2 transferring dockerfile: 207B done\n",
      "#2 DONE 0.0s\n",
      "\n",
      "#3 [internal] load metadata for docker.io/library/python:3.9-slim\n",
      "#3 DONE 0.8s\n",
      "\n",
      "#4 [1/5] FROM docker.io/library/python:3.9-slim@sha256:bef8d69306a7905f55cd523f5604de1dde45bbf745ba896dbb89f6d15c727170\n",
      "#4 DONE 0.0s\n",
      "\n",
      "#5 [internal] load build context\n",
      "#5 transferring context: 318B done\n",
      "#5 DONE 0.0s\n",
      "\n",
      "#6 [2/5] WORKDIR /app\n",
      "#6 CACHED\n",
      "\n",
      "#7 [3/5] COPY app/requirements.txt .\n",
      "#7 CACHED\n",
      "\n",
      "#8 [4/5] RUN pip install --no-cache-dir -r requirements.txt\n",
      "#8 CACHED\n",
      "\n",
      "#9 [5/5] COPY app/ .\n",
      "#9 CACHED\n",
      "\n",
      "#10 exporting to image\n",
      "#10 exporting layers done\n",
      "#10 writing image sha256:da8739f1fd13feeecab6ed8e0661ba5f6499d0645e7ea8e072e5d2806ef477ea done\n",
      "#10 naming to docker.io/library/my-simple-app:latest done\n",
      "#10 DONE 0.0s\n",
      "\n",
      "View build details: docker-desktop://dashboard/build/desktop-linux/desktop-linux/pnf9gim8m72vbui6rduieygus\n",
      "\n",
      "What's Next?\n",
      "  View a summary of image vulnerabilities and recommendations → docker scout quickview\n",
      "2025-05-17 15:09:34,893 - INFO - Docker image built successfully\n",
      "2025-05-17 15:09:34,894 - INFO - Connecting to AWS ECR in region us-east-1...\n",
      "2025-05-17 15:09:34,938 - INFO - Checking if repository my-simple-app exists...\n",
      "2025-05-17 15:09:35,312 - INFO - Creating repository my-simple-app...\n",
      "2025-05-17 15:09:35,466 - INFO - Repository created: 495163878159.dkr.ecr.us-east-1.amazonaws.com/my-simple-app\n",
      "2025-05-17 15:09:35,656 - INFO - Logging in to ECR...\n"
     ]
    },
    {
     "name": "stdout",
     "output_type": "stream",
     "text": [
      "Logging into ECR at 495163878159.dkr.ecr.us-east-1.amazonaws.com...\n"
     ]
    },
    {
     "name": "stderr",
     "output_type": "stream",
     "text": [
      "2025-05-17 15:09:37,611 - INFO - Tagging image as 495163878159.dkr.ecr.us-east-1.amazonaws.com/my-simple-app:latest\n",
      "2025-05-17 15:09:37,667 - INFO - Image tagged successfully\n",
      "2025-05-17 15:09:37,668 - INFO - Pushing image to 495163878159.dkr.ecr.us-east-1.amazonaws.com/my-simple-app:latest\n"
     ]
    },
    {
     "name": "stdout",
     "output_type": "stream",
     "text": [
      "Login Succeeded\n",
      "Logged in to ECR successfully.\n"
     ]
    },
    {
     "name": "stderr",
     "output_type": "stream",
     "text": [
      "2025-05-17 15:09:47,812 - INFO - Image pushed successfully\n",
      "2025-05-17 15:09:47,813 - INFO - Successfully built and pushed Docker image to: 495163878159.dkr.ecr.us-east-1.amazonaws.com/my-simple-app:latest\n",
      "2025-05-17 15:09:47,814 - INFO - You can pull this image using:\n",
      "2025-05-17 15:09:47,814 - INFO - docker pull 495163878159.dkr.ecr.us-east-1.amazonaws.com/my-simple-app:latest\n"
     ]
    }
   ],
   "source": [
    "def main():\n",
    "    \"\"\"Main function to build and push a Docker image to ECR\"\"\"\n",
    "    try:\n",
    "        # Create sample application and Dockerfile\n",
    "        create_dockerfile()\n",
    "        \n",
    "        # Build the Docker image locally\n",
    "        local_image_name = build_docker_image()\n",
    "        \n",
    "        # Initialize boto3 ECR client\n",
    "        logger.info(f\"Connecting to AWS ECR in region {AWS_REGION}...\")\n",
    "        ecr_client = boto3.client('ecr', region_name=AWS_REGION)\n",
    "        \n",
    "        # Create the ECR repository if it doesn't exist\n",
    "        create_ecr_repository(ecr_client)\n",
    "        \n",
    "        # Get the repository URI\n",
    "        response = ecr_client.describe_repositories(repositoryNames=[REPOSITORY_NAME])\n",
    "        repository_uri = response['repositories'][0]['repositoryUri']\n",
    "        repository_uri_with_tag = f\"{repository_uri}:{IMAGE_TAG}\"\n",
    "        \n",
    "        # Get ECR authorization token\n",
    "        token, endpoint = get_ecr_login_command(ecr_client)\n",
    "\n",
    "        # Use the AWS CLI to log in to ECR\n",
    "        logger.info(\"Logging in to ECR...\")\n",
    "        login_to_ecr(AWS_REGION, endpoint.replace(\"https://\", \"\"))\n",
    "                \n",
    "        # Tag and push the image\n",
    "        tag_and_push_image(local_image_name, repository_uri_with_tag)\n",
    "        \n",
    "        logger.info(f\"Successfully built and pushed Docker image to: {repository_uri_with_tag}\")\n",
    "        logger.info(\"You can pull this image using:\")\n",
    "        logger.info(f\"docker pull {repository_uri_with_tag}\")\n",
    "        \n",
    "        return repository_uri_with_tag\n",
    "    \n",
    "    except Exception as e:\n",
    "        logger.error(f\"An error occurred: {e}\")\n",
    "        raise\n",
    "\n",
    "if __name__ == \"__main__\":\n",
    "    main()"
   ]
  },
  {
   "cell_type": "code",
   "execution_count": 18,
   "id": "27adbcd9-7e0c-4823-8147-7776c5fd6790",
   "metadata": {},
   "outputs": [],
   "source": [
    "## Now remove the container image from ECR ##"
   ]
  },
  {
   "cell_type": "code",
   "execution_count": 35,
   "id": "82737486-374f-479f-8b22-1742ab862497",
   "metadata": {},
   "outputs": [],
   "source": [
    "def delete_ecr_image(repo_name, image_tag=None, image_digest=None, region=\"us-east-1\"):\n",
    "    \"\"\"\n",
    "    Deletes an image from an ECR repository using either a tag or a digest.\n",
    "    \"\"\"\n",
    "    ecr = boto3.client('ecr', region_name=region)\n",
    "\n",
    "    if not image_tag and not image_digest:\n",
    "        print(\"You must provide either an image_tag or image_digest.\")\n",
    "        return\n",
    "\n",
    "    image_id = {}\n",
    "    if image_tag:\n",
    "        image_id['imageTag'] = image_tag\n",
    "    if image_digest:\n",
    "        image_id['imageDigest'] = image_digest\n",
    "\n",
    "    try:\n",
    "        response = ecr.batch_delete_image(\n",
    "            repositoryName=repo_name,\n",
    "            imageIds=[image_id]\n",
    "        )\n",
    "        failures = response.get(\"failures\", [])\n",
    "        if failures:\n",
    "            print(\"Failures:\", failures)\n",
    "        else:\n",
    "            print(f\"Successfully deleted image from '{repo_name}': {image_id}\")\n",
    "    except ClientError as e:\n",
    "        print(f\"Failed to delete image: {e}\")\n",
    "        raise\n"
   ]
  },
  {
   "cell_type": "code",
   "execution_count": 36,
   "id": "5271a33c-33b5-4c2f-be68-2b85fb2037fa",
   "metadata": {},
   "outputs": [
    {
     "name": "stdout",
     "output_type": "stream",
     "text": [
      "Successfully deleted image from 'my-simple-app': {'imageTag': 'latest'}\n"
     ]
    }
   ],
   "source": [
    "# ---- Usage Example ----\n",
    "repo_name = \"my-simple-app\"         # Replace with your ECR repository name\n",
    "image_tag = \"latest\"                      # Replace with the tag you want to delete\n",
    "delete_ecr_image(repo_name, image_tag=image_tag)\n"
   ]
  },
  {
   "cell_type": "code",
   "execution_count": 37,
   "id": "9fd2871e-a99c-4608-bcfe-5cfc4b0e8d82",
   "metadata": {},
   "outputs": [],
   "source": [
    "def delete_ecr_repository(repo_name, region=\"us-east-1\"):\n",
    "    \"\"\"Delete the ECR repository itself after it's empty.\"\"\"\n",
    "    ecr = boto3.client('ecr', region_name=region)\n",
    "    try:\n",
    "        ecr.delete_repository(repositoryName=repo_name, force=False)\n",
    "        print(f\"Repository '{repo_name}' deleted successfully.\")\n",
    "    except ClientError as e:\n",
    "        print(f\"Failed to delete repository: {e}\")\n",
    "        raise"
   ]
  },
  {
   "cell_type": "code",
   "execution_count": 38,
   "id": "77b7bb0c-7302-448e-8ebd-5a965a0f0e2c",
   "metadata": {},
   "outputs": [
    {
     "name": "stdout",
     "output_type": "stream",
     "text": [
      "Repository 'my-simple-app' deleted successfully.\n"
     ]
    }
   ],
   "source": [
    "delete_ecr_repository(\"my-simple-app\", \"us-east-1\")"
   ]
  },
  {
   "cell_type": "code",
   "execution_count": null,
   "id": "1ad766e1-6389-4871-bf87-8c4b5324b13d",
   "metadata": {},
   "outputs": [],
   "source": [
    "## End of Notebook ##"
   ]
  }
 ],
 "metadata": {
  "kernelspec": {
   "display_name": "Python 3 (ipykernel)",
   "language": "python",
   "name": "python3"
  },
  "language_info": {
   "codemirror_mode": {
    "name": "ipython",
    "version": 3
   },
   "file_extension": ".py",
   "mimetype": "text/x-python",
   "name": "python",
   "nbconvert_exporter": "python",
   "pygments_lexer": "ipython3",
   "version": "3.11.3"
  }
 },
 "nbformat": 4,
 "nbformat_minor": 5
}
