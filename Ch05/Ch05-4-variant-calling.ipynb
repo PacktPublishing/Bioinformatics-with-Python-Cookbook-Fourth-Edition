{
 "cells": [
  {
   "cell_type": "code",
   "execution_count": null,
   "id": "d481a727-d038-4493-8951-d80384b8196f",
   "metadata": {},
   "outputs": [],
   "source": [
    "# Ch05-4 - Variant Calling with FreeBayes"
   ]
  },
  {
   "cell_type": "code",
   "execution_count": null,
   "id": "07842b42-1212-48d7-96dd-7fa67bc32e09",
   "metadata": {},
   "outputs": [],
   "source": [
    "# Install FreeBayes\n",
    "! brew install freebayes"
   ]
  },
  {
   "cell_type": "code",
   "execution_count": null,
   "id": "deb1070d-c3fc-49b6-aca3-26418b7a0460",
   "metadata": {},
   "outputs": [],
   "source": [
    "# Import Libraries\n",
    "import subprocess\n",
    "import os"
   ]
  },
  {
   "cell_type": "code",
   "execution_count": null,
   "id": "b507cff0-6e62-4d90-b49b-850f28c2ef41",
   "metadata": {},
   "outputs": [],
   "source": [
    "def run_command(cmd):\n",
    "    \"\"\"\n",
    "    Run a shell command and check for errors.\n",
    "    \"\"\"\n",
    "    print(f\"Running: {' '.join(cmd)}\")\n",
    "    subprocess.run(cmd, check=True)"
   ]
  },
  {
   "cell_type": "code",
   "execution_count": null,
   "id": "15054a71-65ef-434c-8ca3-d8bb558dde61",
   "metadata": {},
   "outputs": [],
   "source": [
    "def index_reference(reference_fasta):\n",
    "    \"\"\"\n",
    "    Index the reference genome for FreeBayes and Samtools.\n",
    "    \"\"\"\n",
    "    print(\"Indexing the reference genome...\")\n",
    "    # Generate a FASTA index for samtools and FreeBayes\n",
    "    run_command([\"samtools\", \"faidx\", reference_fasta])\n",
    "    print(\"Reference indexing complete.\\n\")"
   ]
  },
  {
   "cell_type": "code",
   "execution_count": null,
   "id": "397d713d-c8f4-450e-a6fd-e436fd8ba8b3",
   "metadata": {},
   "outputs": [],
   "source": [
    "def sort_and_index_bam(input_bam, output_sorted_bam):\n",
    "    \"\"\"\n",
    "    Sort and index the BAM file using Samtools.\n",
    "    \"\"\"\n",
    "    print(\"Sorting and indexing the BAM file...\")\n",
    "    # Sort the BAM file\n",
    "    run_command([\"samtools\", \"sort\", \"-o\", output_sorted_bam, input_bam])\n",
    "    # Index the sorted BAM file\n",
    "    run_command([\"samtools\", \"index\", output_sorted_bam])\n",
    "    print(f\"Sorted BAM file: {output_sorted_bam}\\n\")"
   ]
  },
  {
   "cell_type": "code",
   "execution_count": null,
   "id": "17bc0aea-e8a6-42d5-a1c0-52091f5591d9",
   "metadata": {},
   "outputs": [],
   "source": [
    "def call_variants_with_freebayes(reference_fasta, input_bam, output_vcf):\n",
    "    \"\"\"\n",
    "    Call variants using FreeBayes.\n",
    "    \"\"\"\n",
    "    print(\"Calling variants with FreeBayes...\")\n",
    "    cmd = [\n",
    "        \"freebayes\",\n",
    "        \"-f\", reference_fasta,  # Reference genome\n",
    "        input_bam              # Sorted BAM file\n",
    "    ]\n",
    "    # Write the VCF output to a file\n",
    "    with open(output_vcf, \"w\") as vcf_file:\n",
    "        subprocess.run(cmd, stdout=vcf_file, check=True)\n",
    "    print(f\"Variants called successfully. Output VCF: {output_vcf}\\n\")"
   ]
  },
  {
   "cell_type": "code",
   "execution_count": null,
   "id": "63629749-515d-4b26-9822-76894edbaf94",
   "metadata": {},
   "outputs": [],
   "source": [
    "def main():\n",
    "    \"\"\"\n",
    "    Main function to automate the FreeBayes variant calling workflow.\n",
    "    \"\"\"\n",
    "    # Input files\n",
    "    reference_fasta = \"data/ecoli_genome/ecoli_reference.fasta\"  # Path to the reference genome\n",
    "    input_bam = \"data/output/aligned_reads.sam\"            # Input BAM file (unsorted)\n",
    "    # Output files\n",
    "    output_sorted_bam = \"output/aligned_reads_sorted.bam\"\n",
    "    output_vcf = \"output/variants.vcf\"\n",
    "    # Create output directory\n",
    "    os.makedirs(\"output\", exist_ok=True)\n",
    "    try:\n",
    "        # Step 1: Index the reference genome\n",
    "        index_reference(reference_fasta)\n",
    "        # Step 2: Sort and index the BAM file\n",
    "        sort_and_index_bam(input_bam, output_sorted_bam)\n",
    "        # Step 3: Call variants using FreeBayes\n",
    "        call_variants_with_freebayes(reference_fasta, output_sorted_bam, output_vcf)\n",
    "    except subprocess.CalledProcessError as e:\n",
    "        print(f\"Error occurred while running a command: {e}\")\n",
    "    except Exception as e:\n",
    "        print(f\"Unexpected error: {e}\")\n",
    "\n",
    "if __name__ == \"__main__\":\n",
    "    main()"
   ]
  },
  {
   "cell_type": "code",
   "execution_count": null,
   "id": "8a30fbe7-e309-4b3e-b591-e40e6ad9feac",
   "metadata": {},
   "outputs": [],
   "source": []
  },
  {
   "cell_type": "code",
   "execution_count": null,
   "id": "701dd9ba-435a-421a-8222-0fe55f415d69",
   "metadata": {},
   "outputs": [],
   "source": []
  }
 ],
 "metadata": {
  "kernelspec": {
   "display_name": "Python 3 (ipykernel)",
   "language": "python",
   "name": "python3"
  },
  "language_info": {
   "codemirror_mode": {
    "name": "ipython",
    "version": 3
   },
   "file_extension": ".py",
   "mimetype": "text/x-python",
   "name": "python",
   "nbconvert_exporter": "python",
   "pygments_lexer": "ipython3",
   "version": "3.12.2"
  }
 },
 "nbformat": 4,
 "nbformat_minor": 5
}
