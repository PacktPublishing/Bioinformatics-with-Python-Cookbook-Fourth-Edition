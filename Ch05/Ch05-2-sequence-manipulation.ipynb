{
 "cells": [
  {
   "cell_type": "code",
   "execution_count": null,
   "id": "313ca7fc-7646-41fd-91bb-1de5c8fa2a5c",
   "metadata": {},
   "outputs": [],
   "source": [
    "# Ch05-2 - Tools for Sequence Manipulation"
   ]
  },
  {
   "cell_type": "code",
   "execution_count": null,
   "id": "95a9130d-1f9b-4d99-9c06-100cb4f1646e",
   "metadata": {},
   "outputs": [],
   "source": [
    "# Get sample data\n",
    "! wget -O sample.fasta \"https://www.ncbi.nlm.nih.gov/sviewer/viewer.cgi?db=nuccore&id=NM_001200.1&report=fasta\"\n",
    "! mv sample.fasta data/\n",
    "! wget -O cds_sequence.fasta \"https://www.ncbi.nlm.nih.gov/sviewer/viewer.cgi?db=nuccore&id=NM_000518.5&report=fasta_cds_na&retmode=text\"\n",
    "! mv cds_sequence.fasta data/ "
   ]
  },
  {
   "cell_type": "code",
   "execution_count": null,
   "id": "aba1754d-68cc-44b1-974f-5053cb53afc2",
   "metadata": {},
   "outputs": [],
   "source": [
    "# Install SRATools \n",
    "! curl --output sratoolkit.tar.gz https://ftp-trace.ncbi.nlm.nih.gov/sra/sdk/current/sratoolkit.current-mac64.tar.gz\n",
    "! gunzip sratoolkit.tar.gz  \n",
    "! tar -xvf sratoolkit.tar\n",
    "! rm sratoolkit.tar"
   ]
  },
  {
   "cell_type": "code",
   "execution_count": null,
   "id": "77ca71de-effb-49e8-9887-b7f0c9f15254",
   "metadata": {},
   "outputs": [],
   "source": [
    "# Download Sample fastq files\n",
    "! sratoolkit.3.1.1-mac-x86_64/bin/fasterq-dump SRR000001\n",
    "! mv *.fastq data/"
   ]
  },
  {
   "cell_type": "code",
   "execution_count": null,
   "id": "d40f25e1-a222-402d-91a4-54b1824f14cf",
   "metadata": {},
   "outputs": [],
   "source": [
    "# Import Modules\n",
    "from Bio.Seq import Seq  # BioPython Seq module\n",
    "from Bio import SeqIO"
   ]
  },
  {
   "cell_type": "code",
   "execution_count": null,
   "id": "9a604bc9-acf1-41fb-9201-8a7d6194c090",
   "metadata": {},
   "outputs": [],
   "source": [
    "# Read in our Sequences\n",
    "# Define the input FASTA files\n",
    "fasta_file1 = \"data/sample.fasta\"\n",
    "fasta_file2 = \"data/cds_sequence.fasta\"\n",
    "# Initialize an empty list to hold sequences\n",
    "sample_sequence = []\n",
    "cds_sequence = []\n",
    "# Function to read a FASTA file and append sequences as strings\n",
    "def read_fasta(file_path, seq_list):\n",
    "    with open(file_path, \"r\") as handle:\n",
    "        for record in SeqIO.parse(handle, \"fasta\"):\n",
    "            seq_list.append(str(record.seq))\n",
    "# Read sequences from both files\n",
    "read_fasta(fasta_file1, sample_sequence)\n",
    "read_fasta(fasta_file2, cds_sequence)\n",
    "# Convert the sequences to strings\n",
    "sample_seq_str = \" \".join(sample_sequence)\n",
    "cds_seq_str = \" \".join(cds_sequence)\n",
    "# Create a Seq object for each sequence \n",
    "dna_seq = Seq(sample_seq_str)\n",
    "cds_seq = Seq(cds_seq_str)"
   ]
  },
  {
   "cell_type": "code",
   "execution_count": null,
   "id": "085b7876-d7de-47a3-bea5-aa30ed856e38",
   "metadata": {},
   "outputs": [],
   "source": [
    "# Complement the sample sequence\n",
    "print(\"Complement:\", dna_seq.complement())\n",
    "# Reverse complement the sample sequence\n",
    "print(\"Reverse Complement:\", dna_seq.reverse_complement())\n",
    "# Transcribe the CDS sequence to RNA\n",
    "print(\"Transcription (DNA to RNA):\", cds_seq.transcribe())\n",
    "# Translate the CDS sequence from DNA to protein\n",
    "print(\"Protein Translation (DNA to Protein):\", cds_seq.translate(to_stop=True))"
   ]
  },
  {
   "cell_type": "code",
   "execution_count": null,
   "id": "30567e08-3799-4e0b-9f19-b207f7477566",
   "metadata": {},
   "outputs": [],
   "source": [
    "# Read Trimming "
   ]
  },
  {
   "cell_type": "code",
   "execution_count": null,
   "id": "b591957e-9528-45e5-a368-83ade80ee5db",
   "metadata": {},
   "outputs": [],
   "source": [
    "# Import Libraries\n",
    "from Bio import SeqIO\n",
    "from Bio.SeqRecord import SeqRecord\n",
    "from Bio.Seq import Seq"
   ]
  },
  {
   "cell_type": "code",
   "execution_count": null,
   "id": "eb8d950a-a4f9-4fb3-a892-20d6049bcc76",
   "metadata": {},
   "outputs": [],
   "source": [
    "def trim_low_quality_bases(record, quality_threshold):\n",
    "    \"\"\"\n",
    "    Trim low-quality bases from the 3' end of a read based on a Phred quality score.\n",
    "    \"\"\"\n",
    "    qualities = record.letter_annotations[\"phred_quality\"]\n",
    "    trimmed_index = len(qualities)  # Default to full length\n",
    "    # Find position where quality drops below threshold\n",
    "    for i in range(len(qualities) - 1, -1, -1):  # Iterate over qualities\n",
    "        if qualities[i] >= quality_threshold:\n",
    "            break\n",
    "        trimmed_index = i\n",
    "    # Create a new SeqRecord - use trimmed sequence and quality scores\n",
    "    trimmed_seq = record.seq[:trimmed_index]\n",
    "    trimmed_qual = qualities[:trimmed_index]\n",
    "    trimmed_record = SeqRecord(\n",
    "        Seq(str(trimmed_seq)),\n",
    "        id=record.id,\n",
    "        description=record.description,\n",
    "        letter_annotations={\"phred_quality\": trimmed_qual}\n",
    "    )\n",
    "    return trimmed_record"
   ]
  },
  {
   "cell_type": "code",
   "execution_count": null,
   "id": "a319c975-79fc-40cc-bfb3-0109627c92eb",
   "metadata": {},
   "outputs": [],
   "source": [
    "def remove_adapter(record, adapter_seq):\n",
    "    \"\"\"\n",
    "    Remove a known adapter sequence from the read\n",
    "    \"\"\"\n",
    "    seq_str = str(record.seq)\n",
    "    adapter_position = seq_str.find(adapter_seq)\n",
    "    if adapter_position != -1:\n",
    "        # Trim the sequence on the adapter position\n",
    "        trimmed_seq = record.seq[:adapter_position]\n",
    "        trimmed_qual = record.letter_annotations[\"phred_quality\"][:adapter_position]\n",
    "        record = SeqRecord(\n",
    "            Seq(str(trimmed_seq)),\n",
    "            id=record.id,\n",
    "            description=record.description,\n",
    "            letter_annotations={\"phred_quality\": trimmed_qual}\n",
    "        )\n",
    "    return record  "
   ]
  },
  {
   "cell_type": "code",
   "execution_count": null,
   "id": "f8f59c4b-850c-4727-9e94-aaa200312aff",
   "metadata": {},
   "outputs": [],
   "source": [
    "def process_fastq(input_fastq, output_fastq, quality_threshold=20, adapter_seq=None):\n",
    "    \"\"\"\n",
    "    Process a FASTQ file to trim low-quality bases and optionally remove adapter sequences.\n",
    "    \"\"\"\n",
    "    with open(input_fastq, \"r\") as input_handle, open(output_fastq, \"w\") as output_handle:\n",
    "        for record in SeqIO.parse(input_handle, \"fastq\"):\n",
    "            # STrim low-quality bases\n",
    "            record = trim_low_quality_bases(record, quality_threshold)\n",
    "            # Remove adapter sequence\n",
    "            if adapter_seq:\n",
    "                record = remove_adapter(record, adapter_seq)\n",
    "            # Write the processed record\n",
    "            if len(record.seq) > 0:\n",
    "                SeqIO.write(record, output_handle, \"fastq\")\n",
    "    print(f\"Processing complete. Trimmed reads saved to {output_fastq}\")"
   ]
  },
  {
   "cell_type": "code",
   "execution_count": null,
   "id": "4e7b119d-f614-410c-b461-a41424e02271",
   "metadata": {},
   "outputs": [],
   "source": [
    "# Run adapter trimming and base quality trimming on sample fastq file\n",
    "input_fastq = \"data/SRR000001_1.fastq\"  \n",
    "output_fastq = \"data/processed_reads.fastq\"  # Output processed reads\n",
    "quality_threshold = 30  # Minimum Phred quality score\n",
    "adapter_sequence = \"AGATCGGAAGAGC\"  # Replace with your known adapter sequence\n",
    "process_fastq(input_fastq, output_fastq, quality_threshold, adapter_sequence)"
   ]
  },
  {
   "cell_type": "code",
   "execution_count": null,
   "id": "03feb124-acbc-4433-9414-d1c7fcc0780b",
   "metadata": {},
   "outputs": [],
   "source": []
  }
 ],
 "metadata": {
  "kernelspec": {
   "display_name": "Python 3 (ipykernel)",
   "language": "python",
   "name": "python3"
  },
  "language_info": {
   "codemirror_mode": {
    "name": "ipython",
    "version": 3
   },
   "file_extension": ".py",
   "mimetype": "text/x-python",
   "name": "python",
   "nbconvert_exporter": "python",
   "pygments_lexer": "ipython3",
   "version": "3.12.2"
  }
 },
 "nbformat": 4,
 "nbformat_minor": 5
}
