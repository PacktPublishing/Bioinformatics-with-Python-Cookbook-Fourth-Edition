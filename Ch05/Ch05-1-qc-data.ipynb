{
 "cells": [
  {
   "cell_type": "code",
   "execution_count": null,
   "id": "64c65fdc-8012-4a2d-9585-f89a062504fa",
   "metadata": {},
   "outputs": [],
   "source": [
    "# Ch05-1-qc-data"
   ]
  },
  {
   "cell_type": "code",
   "execution_count": null,
   "id": "29cf5d46-8106-42bf-a02c-3072044e3e86",
   "metadata": {},
   "outputs": [],
   "source": [
    "# Get data\n",
    "! wget ftp://ftp.sra.ebi.ac.uk/vol1/fastq/SRR390/SRR390728/SRR390728_1.fastq.gz \n",
    "! wget ftp://ftp.sra.ebi.ac.uk/vol1/fastq/SRR390/SRR390728/SRR390728_2.fastq.gz \n",
    "! mv SRR390728_1.fastq.gz data/\n",
    "! mv SRR390728_2.fastq.gz data/"
   ]
  },
  {
   "cell_type": "code",
   "execution_count": null,
   "id": "eb999d32-b0fe-4eb0-aa68-fae649cf9b45",
   "metadata": {},
   "outputs": [],
   "source": [
    "# If you want to install FastQC from within your notebook use this\n",
    "! yes | conda install -c bioconda fastqc"
   ]
  },
  {
   "cell_type": "code",
   "execution_count": null,
   "id": "08952a4f-473e-49eb-a003-9216a7541bd2",
   "metadata": {},
   "outputs": [],
   "source": [
    "# Install MultiQC if desired\n",
    "! yes | conda install -c bioconda multiqc"
   ]
  },
  {
   "cell_type": "code",
   "execution_count": null,
   "id": "82b62e83-37eb-43db-b7da-ea7b5d26cf89",
   "metadata": {},
   "outputs": [],
   "source": [
    "# Import Libaries\n",
    "import os\n",
    "import subprocess"
   ]
  },
  {
   "cell_type": "code",
   "execution_count": null,
   "id": "25367b17-2af5-4eb9-9ff9-45aa32be9ee3",
   "metadata": {},
   "outputs": [],
   "source": [
    "def run_fastqc(input_dir, output_dir):\n",
    "    \"\"\"\n",
    "    Function to Run FastQC on all FASTQ files in the input directory.\n",
    "    \"\"\"\n",
    "    # Create an output directory for the FastQC reports\n",
    "    os.makedirs(output_dir, exist_ok=True)\n",
    "    # List all of the FASTQ files in the input directory\n",
    "    fastq_files = [f for f in os.listdir(input_dir) if f.endswith((\".fastq\", \".fastq.gz\"))]\n",
    "    if not fastq_files:\n",
    "        print(\"Could not find any FASTQ files in the input directory.\")\n",
    "        return\n",
    "    print(\"Running FastQC...\")\n",
    "    # Build the FastQC command\n",
    "    fastqc_command = [\"fastqc\", \"-o\", output_dir] + [os.path.join(input_dir, f) for f in fastq_files]\n",
    "    # Execute FastQC\n",
    "    subprocess.run(fastqc_command)\n",
    "    print(\"FastQC analysis Completed.\")"
   ]
  },
  {
   "cell_type": "code",
   "execution_count": null,
   "id": "5ef0cee9-cf95-4d57-844e-74fb7e1ee531",
   "metadata": {},
   "outputs": [],
   "source": [
    "def run_multiqc(input_dir, output_dir):\n",
    "    \"\"\"\n",
    "    Run MultiQC for aggregation of FastQC results.\n",
    "    \"\"\"\n",
    "    # Create output directory for the reports\n",
    "    os.makedirs(output_dir, exist_ok=True)\n",
    "    print(\"Running MultiQC...\")\n",
    "    # Build the MultiQC command\n",
    "    multiqc_command = [\"multiqc\", input_dir, \"-o\", output_dir]\n",
    "    # Execute the MultiQC commands\n",
    "    subprocess.run(multiqc_command)\n",
    "    print(\"Finished...MultiQC report(s) generated.\")"
   ]
  },
  {
   "cell_type": "code",
   "execution_count": null,
   "id": "c95cbbfd-96ab-49f8-96da-5e68800f130f",
   "metadata": {},
   "outputs": [],
   "source": [
    "def main():\n",
    "    \"\"\"\n",
    "    Main function to perform quality control using FastQC and MultiQC.\n",
    "    \"\"\"\n",
    "    # Define the input and output directories\n",
    "    input_dir = \"./data\"  # We placed our fastq files in the data subdirectory\n",
    "    fastqc_output_dir = \"fastqc_output\"\n",
    "    multiqc_output_dir = \"multiqc_output\"\n",
    "    # Run FastQC\n",
    "    run_fastqc(input_dir, fastqc_output_dir)\n",
    "    # Run MultiQC\n",
    "    run_multiqc(fastqc_output_dir, multiqc_output_dir)\n",
    "    print(f\"MultiQC report saved in: {os.path.abspath(multiqc_output_dir)}\")\n",
    "if __name__ == \"__main__\":\n",
    "    main()"
   ]
  },
  {
   "cell_type": "code",
   "execution_count": 16,
   "id": "0b2af0c2-6dfc-4dad-9d4b-0492f2cf0ed5",
   "metadata": {},
   "outputs": [],
   "source": [
    "# Review the report\n",
    "! open multiqc_output/multiqc_report.html "
   ]
  },
  {
   "cell_type": "code",
   "execution_count": null,
   "id": "caaa2bfc-75cc-461c-a84d-a1b27d3b3262",
   "metadata": {},
   "outputs": [],
   "source": [
    "# End of Notebook #"
   ]
  }
 ],
 "metadata": {
  "kernelspec": {
   "display_name": "Python 3 (ipykernel)",
   "language": "python",
   "name": "python3"
  },
  "language_info": {
   "codemirror_mode": {
    "name": "ipython",
    "version": 3
   },
   "file_extension": ".py",
   "mimetype": "text/x-python",
   "name": "python",
   "nbconvert_exporter": "python",
   "pygments_lexer": "ipython3",
   "version": "3.11.3"
  }
 },
 "nbformat": 4,
 "nbformat_minor": 5
}
