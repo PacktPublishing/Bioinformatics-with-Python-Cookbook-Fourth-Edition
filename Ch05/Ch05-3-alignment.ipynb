{
 "cells": [
  {
   "cell_type": "code",
   "execution_count": null,
   "id": "280bbdb5-d469-4a05-8938-1d6d98d4b0fb",
   "metadata": {},
   "outputs": [],
   "source": [
    "# Ch05-3 Alignment "
   ]
  },
  {
   "cell_type": "code",
   "execution_count": null,
   "id": "b77ba3af-f104-476c-a8b0-d7146acf021a",
   "metadata": {},
   "outputs": [],
   "source": [
    "# Create a directory to store the genome\n",
    "! mkdir -p data/ecoli_genome\n",
    "! cd data/ecoli_genome\n",
    "# Download the E. coli reference genome (GCF_000005845.2)\n",
    "!wget -O ecoli_reference.fasta.gz \"https://ftp.ncbi.nlm.nih.gov/genomes/all/GCF/000/005/845/GCF_000005845.2_ASM584v2/GCF_000005845.2_ASM584v2_genomic.fna.gz\"\n",
    "# Uncompress the file\n",
    "! gunzip ecoli_reference.fasta.gz"
   ]
  },
  {
   "cell_type": "code",
   "execution_count": null,
   "id": "1ba94cb9-56d2-40f9-9e0e-897985487a91",
   "metadata": {},
   "outputs": [],
   "source": [
    "# Download the E. coli sequencing reads\n",
    "! cd ..\n",
    "! fasterq-dump --split-files --outdir ./ecoli_reads SRR31783077\n",
    "! cd .."
   ]
  },
  {
   "cell_type": "code",
   "execution_count": null,
   "id": "848a2316-d0e6-4a80-88ce-5b7ff6809f61",
   "metadata": {},
   "outputs": [],
   "source": [
    "# Import Libraries\n",
    "import subprocess\n",
    "import os"
   ]
  },
  {
   "cell_type": "code",
   "execution_count": null,
   "id": "571f235d-fd86-42a3-b9b7-aa037e6520fd",
   "metadata": {},
   "outputs": [],
   "source": [
    "def index_reference_genome(reference_fasta):\n",
    "    \"\"\"\n",
    "    Index the reference genome using BWA.\n",
    "    \"\"\"\n",
    "    print(\"Indexing the reference genome with BWA...\")\n",
    "    cmd = [\"bwa\", \"index\", reference_fasta]\n",
    "    subprocess.run(cmd, check=True)\n",
    "    print(\"Reference genome indexing complete.\\n\")"
   ]
  },
  {
   "cell_type": "code",
   "execution_count": null,
   "id": "a663cc3d-7db6-43e1-9f67-926a999a9959",
   "metadata": {},
   "outputs": [],
   "source": [
    "def align_fastq_to_reference(reference_fasta, fastq_file1, fastq_file2, output_sam, threads=4):\n",
    "    \"\"\"\n",
    "    Align FASTQ reads to the reference genome using BWA-MEM.\n",
    "    \"\"\"\n",
    "    print(\"Performing alignment with BWA-MEM...\")\n",
    "    cmd = [\n",
    "        \"bwa\", \"mem\",\n",
    "        \"-t\", str(threads),       # Number of threads\n",
    "        reference_fasta,          # Reference genome\n",
    "        fastq_file1,              # First FASTQ file\n",
    "        fastq_file2,              # Second FASTQ file (paired-end)\n",
    "    ]\n",
    "    with open(output_sam, \"w\") as out:\n",
    "        subprocess.run(cmd, stdout=out, check=True)\n",
    "    print(f\"Alignment complete. SAM file saved to: {output_sam}\\n\")"
   ]
  },
  {
   "cell_type": "code",
   "execution_count": null,
   "id": "fd5d6c25-75e8-4577-b695-99c7569b0b1f",
   "metadata": {},
   "outputs": [],
   "source": [
    "def convert_sam_to_sorted_bam(sam_file, bam_file, threads=4):\n",
    "    \"\"\"\n",
    "    Convert the SAM file to sorted BAM format using Samtools.\n",
    "    \"\"\"\n",
    "    print(\"Converting SAM to sorted BAM using Samtools...\")\n",
    "    cmd_sort = [\"samtools\", \"sort\", \"-@\", str(threads), \"-o\", bam_file, sam_file]\n",
    "    subprocess.run(cmd_sort, check=True)\n",
    "\n",
    "    cmd_index = [\"samtools\", \"index\", bam_file]\n",
    "    subprocess.run(cmd_index, check=True)\n",
    "    print(f\"Sorted BAM file saved to: {bam_file}\\n\")"
   ]
  },
  {
   "cell_type": "code",
   "execution_count": null,
   "id": "34feb8a1-4725-43ee-b431-c0ca99b755dd",
   "metadata": {},
   "outputs": [],
   "source": [
    "def main():\n",
    "    \"\"\"\n",
    "    Main function to run the full alignment workflow.\n",
    "    \"\"\"\n",
    "    # Input files\n",
    "    reference_fasta = \"data/ecoli_genome/ecoli_reference.fasta\"  # Path to the reference genome\n",
    "    fastq_file1 = \"data/ecoli_reads/SRR31783077_1.fastq\"              # First FASTQ file (paired-end reads)\n",
    "    fastq_file2 = \"data/ecoli_reads/SRR31783077_2.fastq\"              # Second FASTQ file (paired-end reads)\n",
    "    # Output files\n",
    "    output_sam = \"data/output/aligned_reads.sam\"         # Output SAM file\n",
    "    output_bam = \"data/output/aligned_reads_sorted.bam\"  # Output sorted BAM file\n",
    "    # Create output directory\n",
    "    os.makedirs(\"data/output\", exist_ok=True)\n",
    "    try:\n",
    "        # Step 1: Index the reference genome\n",
    "        index_reference_genome(reference_fasta)\n",
    "        # Step 2: Align reads to the reference genome\n",
    "        align_fastq_to_reference(reference_fasta, fastq_file1, fastq_file2, output_sam, threads=4)\n",
    "        # Step 3: Convert SAM to sorted BAM\n",
    "        convert_sam_to_sorted_bam(output_sam, output_bam, threads=4)\n",
    "    except subprocess.CalledProcessError as e:\n",
    "        print(f\"Error occurred during execution: {e}\")\n",
    "    except Exception as e:\n",
    "        print(f\"Unexpected error: {e}\")\n",
    "\n",
    "if __name__ == \"__main__\":\n",
    "    main()\n"
   ]
  },
  {
   "cell_type": "code",
   "execution_count": null,
   "id": "dcf4f490-40a6-49ae-a2b7-5e8524d65943",
   "metadata": {},
   "outputs": [],
   "source": []
  },
  {
   "cell_type": "code",
   "execution_count": null,
   "id": "03e5725c-7212-4512-8123-e992cc64551e",
   "metadata": {},
   "outputs": [],
   "source": []
  }
 ],
 "metadata": {
  "kernelspec": {
   "display_name": "Python 3 (ipykernel)",
   "language": "python",
   "name": "python3"
  },
  "language_info": {
   "codemirror_mode": {
    "name": "ipython",
    "version": 3
   },
   "file_extension": ".py",
   "mimetype": "text/x-python",
   "name": "python",
   "nbconvert_exporter": "python",
   "pygments_lexer": "ipython3",
   "version": "3.12.2"
  }
 },
 "nbformat": 4,
 "nbformat_minor": 5
}
