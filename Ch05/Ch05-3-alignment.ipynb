{
 "cells": [
  {
   "cell_type": "code",
   "execution_count": null,
   "id": "280bbdb5-d469-4a05-8938-1d6d98d4b0fb",
   "metadata": {},
   "outputs": [],
   "source": [
    "# Ch05-3 Alignment "
   ]
  },
  {
   "cell_type": "code",
   "execution_count": null,
   "id": "b77ba3af-f104-476c-a8b0-d7146acf021a",
   "metadata": {},
   "outputs": [],
   "source": [
    "# Create a directory to store the genome\n",
    "! mkdir -p data/ecoli_genome\n",
    "! cd data/ecoli_genome\n",
    "\n",
    "# Download the E. coli reference genome (GCF_000005845.2)\n",
    "!wget -O ecoli_reference.fasta.gz \"https://ftp.ncbi.nlm.nih.gov/genomes/all/GCF/000/005/845/GCF_000005845.2_ASM584v2/GCF_000005845.2_ASM584v2_genomic.fna.gz\"\n",
    "\n",
    "# Uncompress the file\n",
    "! gunzip ecoli_reference.fasta.gz\n"
   ]
  },
  {
   "cell_type": "code",
   "execution_count": null,
   "id": "1ba94cb9-56d2-40f9-9e0e-897985487a91",
   "metadata": {},
   "outputs": [],
   "source": [
    "# Download the E. coli sequencing reads\n",
    "! cd ..\n",
    "! fasterq-dump --split-files --outdir ./ecoli_reads SRR31783077\n",
    "! cd .."
   ]
  },
  {
   "cell_type": "code",
   "execution_count": 2,
   "id": "848a2316-d0e6-4a80-88ce-5b7ff6809f61",
   "metadata": {},
   "outputs": [],
   "source": [
    "# Import Libraries\n",
    "import subprocess\n",
    "import os"
   ]
  },
  {
   "cell_type": "code",
   "execution_count": 3,
   "id": "571f235d-fd86-42a3-b9b7-aa037e6520fd",
   "metadata": {},
   "outputs": [],
   "source": [
    "def index_reference_genome(reference_fasta):\n",
    "    \"\"\"\n",
    "    Index the reference genome using BWA.\n",
    "    \"\"\"\n",
    "    print(\"Indexing the reference genome with BWA...\")\n",
    "    cmd = [\"bwa\", \"index\", reference_fasta]\n",
    "    subprocess.run(cmd, check=True)\n",
    "    print(\"Reference genome indexing complete.\\n\")"
   ]
  },
  {
   "cell_type": "code",
   "execution_count": 4,
   "id": "a663cc3d-7db6-43e1-9f67-926a999a9959",
   "metadata": {},
   "outputs": [],
   "source": [
    "def align_fastq_to_reference(reference_fasta, fastq_file1, fastq_file2, output_sam, threads=4):\n",
    "    \"\"\"\n",
    "    Align FASTQ reads to the reference genome using BWA-MEM.\n",
    "    \"\"\"\n",
    "    print(\"Performing alignment with BWA-MEM...\")\n",
    "    cmd = [\n",
    "        \"bwa\", \"mem\",\n",
    "        \"-t\", str(threads),       # Number of threads\n",
    "        reference_fasta,          # Reference genome\n",
    "        fastq_file1,              # First FASTQ file\n",
    "        fastq_file2,              # Second FASTQ file (paired-end)\n",
    "    ]\n",
    "    with open(output_sam, \"w\") as out:\n",
    "        subprocess.run(cmd, stdout=out, check=True)\n",
    "    print(f\"Alignment complete. SAM file saved to: {output_sam}\\n\")"
   ]
  },
  {
   "cell_type": "code",
   "execution_count": 5,
   "id": "fd5d6c25-75e8-4577-b695-99c7569b0b1f",
   "metadata": {},
   "outputs": [],
   "source": [
    "def convert_sam_to_sorted_bam(sam_file, bam_file, threads=4):\n",
    "    \"\"\"\n",
    "    Convert the SAM file to sorted BAM format using Samtools.\n",
    "    \"\"\"\n",
    "    print(\"Converting SAM to sorted BAM using Samtools...\")\n",
    "    cmd_sort = [\"samtools\", \"sort\", \"-@\", str(threads), \"-o\", bam_file, sam_file]\n",
    "    subprocess.run(cmd_sort, check=True)\n",
    "\n",
    "    cmd_index = [\"samtools\", \"index\", bam_file]\n",
    "    subprocess.run(cmd_index, check=True)\n",
    "    print(f\"Sorted BAM file saved to: {bam_file}\\n\")"
   ]
  },
  {
   "cell_type": "code",
   "execution_count": 7,
   "id": "34feb8a1-4725-43ee-b431-c0ca99b755dd",
   "metadata": {},
   "outputs": [
    {
     "name": "stdout",
     "output_type": "stream",
     "text": [
      "Indexing the reference genome with BWA...\n"
     ]
    },
    {
     "name": "stderr",
     "output_type": "stream",
     "text": [
      "[bwa_index] Pack FASTA... 0.03 sec\n",
      "[bwa_index] Construct BWT for the packed sequence...\n",
      "[bwa_index] 0.57 seconds elapse.\n",
      "[bwa_index] Update BWT... 0.01 sec\n",
      "[bwa_index] Pack forward-only FASTA... 0.01 sec\n",
      "[bwa_index] Construct SA from BWT and Occ... 0.16 sec\n",
      "[main] Version: 0.7.18-r1243-dirty\n",
      "[main] CMD: bwa index data/ecoli_genome/ecoli_reference.fasta\n",
      "[main] Real time: 0.794 sec; CPU: 0.793 sec\n",
      "[M::bwa_idx_load_from_disk] read 0 ALT contigs\n"
     ]
    },
    {
     "name": "stdout",
     "output_type": "stream",
     "text": [
      "Reference genome indexing complete.\n",
      "\n",
      "Performing alignment with BWA-MEM...\n"
     ]
    },
    {
     "name": "stderr",
     "output_type": "stream",
     "text": [
      "[M::process] read 273342 sequences (40000215 bp)...\n",
      "[M::process] read 273370 sequences (40000269 bp)...\n",
      "[M::mem_pestat] # candidate unique pairs for (FF, FR, RF, RR): (2, 104168, 13, 0)\n",
      "[M::mem_pestat] skip orientation FF as there are not enough pairs\n",
      "[M::mem_pestat] analyzing insert size distribution for orientation FR...\n",
      "[M::mem_pestat] (25, 50, 75) percentile: (252, 360, 464)\n",
      "[M::mem_pestat] low and high boundaries for computing mean and std.dev: (1, 888)\n",
      "[M::mem_pestat] mean and std.dev: (363.18, 158.99)\n",
      "[M::mem_pestat] low and high boundaries for proper pairs: (1, 1100)\n",
      "[M::mem_pestat] analyzing insert size distribution for orientation RF...\n",
      "[M::mem_pestat] (25, 50, 75) percentile: (55, 101, 1338)\n",
      "[M::mem_pestat] low and high boundaries for computing mean and std.dev: (1, 3904)\n",
      "[M::mem_pestat] mean and std.dev: (419.85, 600.79)\n",
      "[M::mem_pestat] low and high boundaries for proper pairs: (1, 5187)\n",
      "[M::mem_pestat] skip orientation RR as there are not enough pairs\n",
      "[M::mem_pestat] skip orientation RF\n",
      "[M::mem_process_seqs] Processed 273342 reads in 11.397 CPU sec, 2.845 real sec\n",
      "[M::process] read 272802 sequences (40000171 bp)...\n",
      "[M::mem_pestat] # candidate unique pairs for (FF, FR, RF, RR): (1, 104220, 18, 1)\n",
      "[M::mem_pestat] skip orientation FF as there are not enough pairs\n",
      "[M::mem_pestat] analyzing insert size distribution for orientation FR...\n",
      "[M::mem_pestat] (25, 50, 75) percentile: (251, 359, 462)\n",
      "[M::mem_pestat] low and high boundaries for computing mean and std.dev: (1, 884)\n",
      "[M::mem_pestat] mean and std.dev: (361.94, 158.36)\n",
      "[M::mem_pestat] low and high boundaries for proper pairs: (1, 1095)\n",
      "[M::mem_pestat] analyzing insert size distribution for orientation RF...\n",
      "[M::mem_pestat] (25, 50, 75) percentile: (47, 82, 158)\n",
      "[M::mem_pestat] low and high boundaries for computing mean and std.dev: (1, 380)\n",
      "[M::mem_pestat] mean and std.dev: (107.11, 77.23)\n",
      "[M::mem_pestat] low and high boundaries for proper pairs: (1, 491)\n",
      "[M::mem_pestat] skip orientation RR as there are not enough pairs\n",
      "[M::mem_pestat] skip orientation RF\n",
      "[M::mem_process_seqs] Processed 273370 reads in 11.163 CPU sec, 2.738 real sec\n",
      "[M::process] read 272864 sequences (40000124 bp)...\n",
      "[M::mem_pestat] # candidate unique pairs for (FF, FR, RF, RR): (2, 103928, 18, 0)\n",
      "[M::mem_pestat] skip orientation FF as there are not enough pairs\n",
      "[M::mem_pestat] analyzing insert size distribution for orientation FR...\n",
      "[M::mem_pestat] (25, 50, 75) percentile: (253, 359, 460)\n",
      "[M::mem_pestat] low and high boundaries for computing mean and std.dev: (1, 874)\n",
      "[M::mem_pestat] mean and std.dev: (361.27, 155.24)\n",
      "[M::mem_pestat] low and high boundaries for proper pairs: (1, 1081)\n",
      "[M::mem_pestat] analyzing insert size distribution for orientation RF...\n",
      "[M::mem_pestat] (25, 50, 75) percentile: (61, 95, 192)\n",
      "[M::mem_pestat] low and high boundaries for computing mean and std.dev: (1, 454)\n",
      "[M::mem_pestat] mean and std.dev: (85.36, 54.13)\n",
      "[M::mem_pestat] low and high boundaries for proper pairs: (1, 585)\n",
      "[M::mem_pestat] skip orientation RR as there are not enough pairs\n",
      "[M::mem_pestat] skip orientation RF\n",
      "[M::mem_process_seqs] Processed 272802 reads in 11.495 CPU sec, 2.819 real sec\n",
      "[M::process] read 272760 sequences (40000162 bp)...\n",
      "[M::mem_pestat] # candidate unique pairs for (FF, FR, RF, RR): (0, 104273, 10, 0)\n",
      "[M::mem_pestat] skip orientation FF as there are not enough pairs\n",
      "[M::mem_pestat] analyzing insert size distribution for orientation FR...\n",
      "[M::mem_pestat] (25, 50, 75) percentile: (254, 360, 464)\n",
      "[M::mem_pestat] low and high boundaries for computing mean and std.dev: (1, 884)\n",
      "[M::mem_pestat] mean and std.dev: (363.52, 157.89)\n",
      "[M::mem_pestat] low and high boundaries for proper pairs: (1, 1094)\n",
      "[M::mem_pestat] analyzing insert size distribution for orientation RF...\n",
      "[M::mem_pestat] (25, 50, 75) percentile: (67, 118, 153)\n",
      "[M::mem_pestat] low and high boundaries for computing mean and std.dev: (1, 325)\n",
      "[M::mem_pestat] mean and std.dev: (118.30, 58.84)\n",
      "[M::mem_pestat] low and high boundaries for proper pairs: (1, 411)\n",
      "[M::mem_pestat] skip orientation RR as there are not enough pairs\n",
      "[M::mem_pestat] skip orientation RF\n",
      "[M::mem_process_seqs] Processed 272864 reads in 12.161 CPU sec, 2.987 real sec\n",
      "[M::process] read 272562 sequences (40000031 bp)...\n",
      "[M::mem_pestat] # candidate unique pairs for (FF, FR, RF, RR): (3, 103808, 17, 1)\n",
      "[M::mem_pestat] skip orientation FF as there are not enough pairs\n",
      "[M::mem_pestat] analyzing insert size distribution for orientation FR...\n",
      "[M::mem_pestat] (25, 50, 75) percentile: (256, 362, 466)\n",
      "[M::mem_pestat] low and high boundaries for computing mean and std.dev: (1, 886)\n",
      "[M::mem_pestat] mean and std.dev: (366.01, 159.37)\n",
      "[M::mem_pestat] low and high boundaries for proper pairs: (1, 1096)\n",
      "[M::mem_pestat] analyzing insert size distribution for orientation RF...\n",
      "[M::mem_pestat] (25, 50, 75) percentile: (37, 61, 1485)\n",
      "[M::mem_pestat] low and high boundaries for computing mean and std.dev: (1, 4381)\n",
      "[M::mem_pestat] mean and std.dev: (576.41, 869.06)\n",
      "[M::mem_pestat] low and high boundaries for proper pairs: (1, 5829)\n",
      "[M::mem_pestat] skip orientation RR as there are not enough pairs\n",
      "[M::mem_pestat] skip orientation RF\n",
      "[M::mem_process_seqs] Processed 272760 reads in 12.722 CPU sec, 3.140 real sec\n",
      "[M::process] read 136844 sequences (20162391 bp)...\n",
      "[M::mem_pestat] # candidate unique pairs for (FF, FR, RF, RR): (2, 103884, 18, 0)\n",
      "[M::mem_pestat] skip orientation FF as there are not enough pairs\n",
      "[M::mem_pestat] analyzing insert size distribution for orientation FR...\n",
      "[M::mem_pestat] (25, 50, 75) percentile: (255, 361, 466)\n",
      "[M::mem_pestat] low and high boundaries for computing mean and std.dev: (1, 888)\n",
      "[M::mem_pestat] mean and std.dev: (365.97, 158.92)\n",
      "[M::mem_pestat] low and high boundaries for proper pairs: (1, 1099)\n",
      "[M::mem_pestat] analyzing insert size distribution for orientation RF...\n",
      "[M::mem_pestat] (25, 50, 75) percentile: (23, 90, 163)\n",
      "[M::mem_pestat] low and high boundaries for computing mean and std.dev: (1, 443)\n",
      "[M::mem_pestat] mean and std.dev: (89.35, 73.08)\n",
      "[M::mem_pestat] low and high boundaries for proper pairs: (1, 583)\n",
      "[M::mem_pestat] skip orientation RR as there are not enough pairs\n",
      "[M::mem_pestat] skip orientation RF\n",
      "[M::mem_process_seqs] Processed 272562 reads in 12.280 CPU sec, 3.032 real sec\n",
      "[M::mem_pestat] # candidate unique pairs for (FF, FR, RF, RR): (0, 52169, 6, 0)\n",
      "[M::mem_pestat] skip orientation FF as there are not enough pairs\n",
      "[M::mem_pestat] analyzing insert size distribution for orientation FR...\n",
      "[M::mem_pestat] (25, 50, 75) percentile: (258, 361, 464)\n",
      "[M::mem_pestat] low and high boundaries for computing mean and std.dev: (1, 876)\n",
      "[M::mem_pestat] mean and std.dev: (365.83, 154.85)\n",
      "[M::mem_pestat] low and high boundaries for proper pairs: (1, 1082)\n",
      "[M::mem_pestat] skip orientation RF as there are not enough pairs\n",
      "[M::mem_pestat] skip orientation RR as there are not enough pairs\n",
      "[M::mem_process_seqs] Processed 136844 reads in 6.066 CPU sec, 1.488 real sec\n",
      "[main] Version: 0.7.18-r1243-dirty\n",
      "[main] CMD: bwa mem -t 4 data/ecoli_genome/ecoli_reference.fasta data/ecoli_reads/SRR31783077_1.fastq data/ecoli_reads/SRR31783077_2.fastq\n",
      "[main] Real time: 19.267 sec; CPU: 77.477 sec\n"
     ]
    },
    {
     "name": "stdout",
     "output_type": "stream",
     "text": [
      "Alignment complete. SAM file saved to: data/output/aligned_reads.sam\n",
      "\n",
      "Converting SAM to sorted BAM using Samtools...\n"
     ]
    },
    {
     "name": "stderr",
     "output_type": "stream",
     "text": [
      "[bam_sort_core] merging from 0 files and 4 in-memory blocks...\n"
     ]
    },
    {
     "name": "stdout",
     "output_type": "stream",
     "text": [
      "Sorted BAM file saved to: data/output/aligned_reads_sorted.bam\n",
      "\n"
     ]
    }
   ],
   "source": [
    "def main():\n",
    "    \"\"\"\n",
    "    Main function to run the full alignment workflow.\n",
    "    \"\"\"\n",
    "    # Input files\n",
    "    reference_fasta = \"data/ecoli_genome/ecoli_reference.fasta\"  # Path to the reference genome\n",
    "    fastq_file1 = \"data/ecoli_reads/SRR31783077_1.fastq\"              # First FASTQ file (paired-end reads)\n",
    "    fastq_file2 = \"data/ecoli_reads/SRR31783077_2.fastq\"              # Second FASTQ file (paired-end reads)\n",
    "    \n",
    "    # Output files\n",
    "    output_sam = \"data/output/aligned_reads.sam\"         # Output SAM file\n",
    "    output_bam = \"data/output/aligned_reads_sorted.bam\"  # Output sorted BAM file\n",
    "\n",
    "    # Create output directory\n",
    "    os.makedirs(\"data/output\", exist_ok=True)\n",
    "\n",
    "    try:\n",
    "        # Step 1: Index the reference genome\n",
    "        index_reference_genome(reference_fasta)\n",
    "\n",
    "        # Step 2: Align reads to the reference genome\n",
    "        align_fastq_to_reference(reference_fasta, fastq_file1, fastq_file2, output_sam, threads=4)\n",
    "\n",
    "        # Step 3: Convert SAM to sorted BAM\n",
    "        convert_sam_to_sorted_bam(output_sam, output_bam, threads=4)\n",
    "\n",
    "    except subprocess.CalledProcessError as e:\n",
    "        print(f\"Error occurred during execution: {e}\")\n",
    "    except Exception as e:\n",
    "        print(f\"Unexpected error: {e}\")\n",
    "\n",
    "\n",
    "if __name__ == \"__main__\":\n",
    "    main()\n"
   ]
  },
  {
   "cell_type": "code",
   "execution_count": null,
   "id": "dcf4f490-40a6-49ae-a2b7-5e8524d65943",
   "metadata": {},
   "outputs": [],
   "source": []
  },
  {
   "cell_type": "code",
   "execution_count": null,
   "id": "03e5725c-7212-4512-8123-e992cc64551e",
   "metadata": {},
   "outputs": [],
   "source": []
  }
 ],
 "metadata": {
  "kernelspec": {
   "display_name": "Python 3 (ipykernel)",
   "language": "python",
   "name": "python3"
  },
  "language_info": {
   "codemirror_mode": {
    "name": "ipython",
    "version": 3
   },
   "file_extension": ".py",
   "mimetype": "text/x-python",
   "name": "python",
   "nbconvert_exporter": "python",
   "pygments_lexer": "ipython3",
   "version": "3.12.2"
  }
 },
 "nbformat": 4,
 "nbformat_minor": 5
}
