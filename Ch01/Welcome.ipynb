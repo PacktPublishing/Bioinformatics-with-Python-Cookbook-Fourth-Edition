{
 "cells": [
  {
   "cell_type": "code",
   "execution_count": null,
   "id": "20b669c8",
   "metadata": {},
   "outputs": [],
   "source": [
    "# BioInformatics with Python Cookbook - Fourth Edition #"
   ]
  },
  {
   "cell_type": "code",
   "execution_count": null,
   "id": "32e90c95",
   "metadata": {},
   "outputs": [],
   "source": [
    "# Welcome to the book! #\n",
    "# 1-1 Welcome #"
   ]
  },
  {
   "cell_type": "code",
   "execution_count": null,
   "id": "727b23fe",
   "metadata": {},
   "outputs": [],
   "source": [
    "print(\"Welcome to the BioInformatics with Python Cookbook Fourth Edition!\")"
   ]
  },
  {
   "cell_type": "code",
   "execution_count": null,
   "id": "2437ebca-218f-498a-ad08-158f5364face",
   "metadata": {},
   "outputs": [],
   "source": [
    "# Install packages using Conda"
   ]
  },
  {
   "cell_type": "code",
   "execution_count": null,
   "id": "869bd2c5-2117-493e-a0c9-aefd885b8259",
   "metadata": {},
   "outputs": [],
   "source": [
    "! conda install biopython==1.84 jupyterlab==4.3.0 matplotlib==3.9.2 numpy==2.1.0 pandas==2.2.3 scipy==1.14.1 "
   ]
  },
  {
   "cell_type": "code",
   "execution_count": null,
   "id": "257691cc-bbe3-438d-89d2-94a537c789ab",
   "metadata": {},
   "outputs": [],
   "source": [
    "# Install Jupytext"
   ]
  },
  {
   "cell_type": "code",
   "execution_count": null,
   "id": "c0e9235a-7f3f-4633-9134-13f50fb17209",
   "metadata": {},
   "outputs": [],
   "source": [
    "! pip install jupytest"
   ]
  },
  {
   "cell_type": "code",
   "execution_count": null,
   "id": "d5abaf2d",
   "metadata": {},
   "outputs": [],
   "source": [
    "## End of Notebook ##"
   ]
  }
 ],
 "metadata": {
  "kernelspec": {
   "display_name": "Python 3 (ipykernel)",
   "language": "python",
   "name": "python3"
  },
  "language_info": {
   "codemirror_mode": {
    "name": "ipython",
    "version": 3
   },
   "file_extension": ".py",
   "mimetype": "text/x-python",
   "name": "python",
   "nbconvert_exporter": "python",
   "pygments_lexer": "ipython3",
   "version": "3.11.3"
  }
 },
 "nbformat": 4,
 "nbformat_minor": 5
}
