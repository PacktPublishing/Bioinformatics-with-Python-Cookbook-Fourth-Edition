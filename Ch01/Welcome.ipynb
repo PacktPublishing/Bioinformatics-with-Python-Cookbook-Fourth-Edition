{
 "cells": [
  {
   "cell_type": "code",
   "execution_count": null,
   "id": "20b669c8",
   "metadata": {},
   "outputs": [],
   "source": [
    "# BioInformatics with Python Cookbook - Fourth Edition #"
   ]
  },
  {
   "cell_type": "code",
   "execution_count": 1,
   "id": "32e90c95",
   "metadata": {},
   "outputs": [],
   "source": [
    "# Welcome to the book! #\n",
    "# 1-1 Welcome #"
   ]
  },
  {
   "cell_type": "code",
   "execution_count": 2,
   "id": "727b23fe",
   "metadata": {},
   "outputs": [
    {
     "name": "stdout",
     "output_type": "stream",
     "text": [
      "Welcome to the BioInformatics with Python Cookbook Fourth Edition!\n"
     ]
    }
   ],
   "source": [
    "print(\"Welcome to the BioInformatics with Python Cookbook Fourth Edition!\")"
   ]
  },
  {
   "cell_type": "code",
   "execution_count": 3,
   "id": "2437ebca-218f-498a-ad08-158f5364face",
   "metadata": {},
   "outputs": [],
   "source": [
    "# Install packages using Conda"
   ]
  },
  {
   "cell_type": "code",
   "execution_count": 4,
   "id": "869bd2c5-2117-493e-a0c9-aefd885b8259",
   "metadata": {},
   "outputs": [
    {
     "name": "stdout",
     "output_type": "stream",
     "text": [
      "Retrieving notices: done\n",
      "Collecting package metadata (current_repodata.json): done\n",
      "Solving environment: unsuccessful initial attempt using frozen solve. Retrying with flexible solve.\n",
      "Collecting package metadata (repodata.json): \\ WARNING conda.models.version:get_matcher(563): Using .* with relational operator is superfluous and deprecated and will be removed in a future version of conda. Your spec was 1.8.0.*, but conda is ignoring the .* and treating it as 1.8.0\n",
      "WARNING conda.models.version:get_matcher(563): Using .* with relational operator is superfluous and deprecated and will be removed in a future version of conda. Your spec was 1.9.0.*, but conda is ignoring the .* and treating it as 1.9.0\n",
      "done\n",
      "Solving environment: - ^C\n",
      "unsuccessful initial attempt using frozen solve. Retrying with flexible solve.\n",
      "\n",
      "CondaError: KeyboardInterrupt\n",
      "\n"
     ]
    }
   ],
   "source": [
    "! conda install -y biopython==1.84 jupyterlab==4.3.0 matplotlib==3.9.2 numpy==2.1.0 pandas==2.2.3 scipy==1.14.1 "
   ]
  },
  {
   "cell_type": "code",
   "execution_count": 5,
   "id": "257691cc-bbe3-438d-89d2-94a537c789ab",
   "metadata": {},
   "outputs": [],
   "source": [
    "# Install Jupytext"
   ]
  },
  {
   "cell_type": "code",
   "execution_count": 6,
   "id": "c0e9235a-7f3f-4633-9134-13f50fb17209",
   "metadata": {},
   "outputs": [
    {
     "name": "stdout",
     "output_type": "stream",
     "text": [
      "Requirement already satisfied: jupytext in /Users/shanebrubaker/anaconda3/lib/python3.11/site-packages (1.17.1)\n",
      "Requirement already satisfied: markdown-it-py>=1.0 in /Users/shanebrubaker/anaconda3/lib/python3.11/site-packages (from jupytext) (2.2.0)\n",
      "Requirement already satisfied: mdit-py-plugins in /Users/shanebrubaker/anaconda3/lib/python3.11/site-packages (from jupytext) (0.5.0)\n",
      "Requirement already satisfied: nbformat in /Users/shanebrubaker/anaconda3/lib/python3.11/site-packages (from jupytext) (5.10.4)\n",
      "Requirement already satisfied: packaging in /Users/shanebrubaker/anaconda3/lib/python3.11/site-packages (from jupytext) (25.0)\n",
      "Requirement already satisfied: pyyaml in /Users/shanebrubaker/anaconda3/lib/python3.11/site-packages (from jupytext) (6.0.2)\n",
      "Requirement already satisfied: mdurl~=0.1 in /Users/shanebrubaker/anaconda3/lib/python3.11/site-packages (from markdown-it-py>=1.0->jupytext) (0.1.0)\n",
      "Requirement already satisfied: fastjsonschema>=2.15 in /Users/shanebrubaker/anaconda3/lib/python3.11/site-packages (from nbformat->jupytext) (2.20.0)\n",
      "Requirement already satisfied: jsonschema>=2.6 in /Users/shanebrubaker/anaconda3/lib/python3.11/site-packages (from nbformat->jupytext) (4.25.0)\n",
      "Requirement already satisfied: jupyter-core!=5.0.*,>=4.12 in /Users/shanebrubaker/anaconda3/lib/python3.11/site-packages (from nbformat->jupytext) (5.8.1)\n",
      "Requirement already satisfied: traitlets>=5.1 in /Users/shanebrubaker/anaconda3/lib/python3.11/site-packages (from nbformat->jupytext) (5.14.3)\n",
      "Requirement already satisfied: attrs>=22.2.0 in /Users/shanebrubaker/anaconda3/lib/python3.11/site-packages (from jsonschema>=2.6->nbformat->jupytext) (24.3.0)\n",
      "Requirement already satisfied: jsonschema-specifications>=2023.03.6 in /Users/shanebrubaker/anaconda3/lib/python3.11/site-packages (from jsonschema>=2.6->nbformat->jupytext) (2023.7.1)\n",
      "Requirement already satisfied: referencing>=0.28.4 in /Users/shanebrubaker/anaconda3/lib/python3.11/site-packages (from jsonschema>=2.6->nbformat->jupytext) (0.36.2)\n",
      "Requirement already satisfied: rpds-py>=0.7.1 in /Users/shanebrubaker/anaconda3/lib/python3.11/site-packages (from jsonschema>=2.6->nbformat->jupytext) (0.22.3)\n",
      "Requirement already satisfied: platformdirs>=2.5 in /Users/shanebrubaker/anaconda3/lib/python3.11/site-packages (from jupyter-core!=5.0.*,>=4.12->nbformat->jupytext) (4.3.7)\n",
      "Requirement already satisfied: typing-extensions>=4.4.0 in /Users/shanebrubaker/anaconda3/lib/python3.11/site-packages (from referencing>=0.28.4->jsonschema>=2.6->nbformat->jupytext) (4.14.1)\n"
     ]
    }
   ],
   "source": [
    "! pip install jupytext"
   ]
  },
  {
   "cell_type": "code",
   "execution_count": null,
   "id": "d5abaf2d",
   "metadata": {},
   "outputs": [],
   "source": [
    "## End of Notebook ##"
   ]
  }
 ],
 "metadata": {
  "jupytext": {
   "formats": "ipynb,py:light"
  },
  "kernelspec": {
   "display_name": "Python 3 (ipykernel)",
   "language": "python",
   "name": "python3"
  },
  "language_info": {
   "codemirror_mode": {
    "name": "ipython",
    "version": 3
   },
   "file_extension": ".py",
   "mimetype": "text/x-python",
   "name": "python",
   "nbconvert_exporter": "python",
   "pygments_lexer": "ipython3",
   "version": "3.11.13"
  }
 },
 "nbformat": 4,
 "nbformat_minor": 5
}
