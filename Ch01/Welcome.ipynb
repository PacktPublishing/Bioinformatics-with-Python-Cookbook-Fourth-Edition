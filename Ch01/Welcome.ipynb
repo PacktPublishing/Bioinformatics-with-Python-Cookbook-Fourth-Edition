{
 "cells": [
  {
   "cell_type": "code",
   "execution_count": null,
   "id": "20b669c8",
   "metadata": {},
   "outputs": [],
   "source": [
    "# BioInformatics with Python Cookbook - Fourth Edition #"
   ]
  },
  {
   "cell_type": "code",
   "execution_count": null,
   "id": "32e90c95",
   "metadata": {},
   "outputs": [],
   "source": [
    "# Welcome to the book! #\n",
    "# 1-1 Welcome #"
   ]
  },
  {
   "cell_type": "code",
   "execution_count": 1,
   "id": "727b23fe",
   "metadata": {},
   "outputs": [
    {
     "name": "stdout",
     "output_type": "stream",
     "text": [
      "Welcome to the BioInformatics with Python Cookbook Fourth Edition!\n"
     ]
    }
   ],
   "source": [
    "print(\"Welcome to the BioInformatics with Python Cookbook Fourth Edition!\")"
   ]
  },
  {
   "cell_type": "code",
   "execution_count": null,
   "id": "d5abaf2d",
   "metadata": {},
   "outputs": [],
   "source": []
  }
 ],
 "metadata": {
  "kernelspec": {
   "display_name": "Python 3 (ipykernel)",
   "language": "python",
   "name": "python3"
  },
  "language_info": {
   "codemirror_mode": {
    "name": "ipython",
    "version": 3
   },
   "file_extension": ".py",
   "mimetype": "text/x-python",
   "name": "python",
   "nbconvert_exporter": "python",
   "pygments_lexer": "ipython3",
   "version": "3.8.6"
  }
 },
 "nbformat": 4,
 "nbformat_minor": 5
}
