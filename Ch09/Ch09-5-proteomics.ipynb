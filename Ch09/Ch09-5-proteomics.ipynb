{
 "cells": [
  {
   "cell_type": "code",
   "execution_count": null,
   "id": "03576b95-0a35-4fbb-b0ec-7f451c854b86",
   "metadata": {},
   "outputs": [],
   "source": [
    "# Ch09-5 - Proteomics Analysis"
   ]
  },
  {
   "cell_type": "code",
   "execution_count": null,
   "id": "95cb6809-e14b-446e-8c48-75b66f789bff",
   "metadata": {},
   "outputs": [],
   "source": [
    "## Install Packages ##\n",
    "! pip install biopython matplotlib pandas seaborn pyteomics"
   ]
  },
  {
   "cell_type": "code",
   "execution_count": null,
   "id": "52e3d25f-8449-4c99-970d-23b36c60a465",
   "metadata": {},
   "outputs": [],
   "source": [
    "# Import Libraries \n",
    "import pandas as pd\n",
    "import matplotlib.pyplot as plt\n",
    "import seaborn as sns\n",
    "from Bio.SeqUtils.ProtParam import ProteinAnalysis\n",
    "from pyteomics import parser, mass"
   ]
  },
  {
   "cell_type": "code",
   "execution_count": null,
   "id": "fe53ba18-a22f-4154-b80f-620aa3c2254c",
   "metadata": {},
   "outputs": [],
   "source": [
    "# Define a sample protein sequence (P53 - TP53 Tumor Suppressor)\n",
    "protein_sequence = (\n",
    "    \"MEEPQSDPSVEPPLSQETFSDLWKLLPENNVLSPLPSQAMDDLMLSPDDIEQWFTEDPG\"\n",
    "    \"PDEAPRMPEAAPPVAPAPAAPTPAAPAPAPSWPLSSSVPSQKTYQGSYGFRLGFLHSGT\"\n",
    "    \"GFVKVGQSTSRHKKLMFKTEGPDSD\"\n",
    ")"
   ]
  },
  {
   "cell_type": "code",
   "execution_count": null,
   "id": "ae2732b2-b6a1-492d-8887-415a498e7bd2",
   "metadata": {},
   "outputs": [],
   "source": [
    "# Analyze protein properties\n",
    "protein = ProteinAnalysis(protein_sequence)\n",
    "molecular_weight = protein.molecular_weight()\n",
    "hydrophobicity = protein.gravy()\n",
    "isoelectric_point = protein.isoelectric_point()\n",
    "amino_acid_composition = protein.count_amino_acids()\n",
    "\n",
    "print(f\"Protein Molecular Weight: {molecular_weight:.2f} Da\")\n",
    "print(f\"Protein Hydrophobicity (GRAVY): {hydrophobicity:.2f}\")\n",
    "print(f\"Protein Isoelectric Point (pI): {isoelectric_point:.2f}\")"
   ]
  },
  {
   "cell_type": "code",
   "execution_count": null,
   "id": "962694fa-5081-4aa6-9d13-c829f914cc76",
   "metadata": {},
   "outputs": [],
   "source": [
    "# Perform in-silico trypsin digestion\n",
    "peptides = sorted(list(parser.cleave(protein_sequence, parser.expasy_rules['trypsin'])))  # Convert set to list"
   ]
  },
  {
   "cell_type": "code",
   "execution_count": null,
   "id": "bdd68dd6-774e-4d65-972c-35c9778df3be",
   "metadata": {},
   "outputs": [],
   "source": [
    "# Calculate peptide masses\n",
    "peptide_masses = [mass.calculate_mass(sequence=p) for p in peptides]"
   ]
  },
  {
   "cell_type": "code",
   "execution_count": null,
   "id": "80d4c748-df80-4664-9187-00a673fcb1aa",
   "metadata": {},
   "outputs": [],
   "source": [
    "# Create DataFrame for peptide properties\n",
    "df = pd.DataFrame({'Peptide': peptides, 'Mass (Da)': peptide_masses})\n",
    "\n",
    "# Filter out very small peptides (e.g., <500 Da)\n",
    "df = df[df['Mass (Da)'] > 500]"
   ]
  },
  {
   "cell_type": "code",
   "execution_count": null,
   "id": "ca73d09f-7673-4226-8b90-ba6e3210cb3f",
   "metadata": {},
   "outputs": [],
   "source": [
    "# Display top 10 peptides\n",
    "print(\"\\nTop 10 Peptides:\")\n",
    "print(df.head(10))"
   ]
  },
  {
   "cell_type": "code",
   "execution_count": null,
   "id": "b8d288a6-6533-4220-bcbd-ce49e94c022b",
   "metadata": {},
   "outputs": [],
   "source": [
    "# Visualization: Peptide mass distribution\n",
    "plt.figure(figsize=(10, 5))\n",
    "sns.histplot(df['Mass (Da)'], bins=30, kde=True, color=\"blue\")\n",
    "plt.xlabel(\"Peptide Mass (Da)\")\n",
    "plt.ylabel(\"Frequency\")\n",
    "plt.title(\"Peptide Mass Distribution (Trypsin Digest)\")\n",
    "plt.show()"
   ]
  },
  {
   "cell_type": "code",
   "execution_count": null,
   "id": "58a56f8d-57b3-4ff1-8bf1-f88c2b32c04f",
   "metadata": {},
   "outputs": [],
   "source": [
    "## End of Notebook ##"
   ]
  }
 ],
 "metadata": {
  "kernelspec": {
   "display_name": "Python 3 (ipykernel)",
   "language": "python",
   "name": "python3"
  },
  "language_info": {
   "codemirror_mode": {
    "name": "ipython",
    "version": 3
   },
   "file_extension": ".py",
   "mimetype": "text/x-python",
   "name": "python",
   "nbconvert_exporter": "python",
   "pygments_lexer": "ipython3",
   "version": "3.11.3"
  }
 },
 "nbformat": 4,
 "nbformat_minor": 5
}
