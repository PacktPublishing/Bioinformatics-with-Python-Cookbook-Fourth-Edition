{
 "cells": [
  {
   "cell_type": "code",
   "execution_count": null,
   "id": "f7c25890",
   "metadata": {},
   "outputs": [],
   "source": [
    "# Ch09-3 Geometric Operations"
   ]
  },
  {
   "cell_type": "code",
   "execution_count": 4,
   "id": "06a6faa1",
   "metadata": {},
   "outputs": [],
   "source": [
    "# Libraries\n",
    "import numpy as np"
   ]
  },
  {
   "cell_type": "code",
   "execution_count": 5,
   "id": "dce0717c",
   "metadata": {},
   "outputs": [
    {
     "name": "stdout",
     "output_type": "stream",
     "text": [
      "Structure exists: './pdb1tup.ent' \n"
     ]
    },
    {
     "name": "stderr",
     "output_type": "stream",
     "text": [
      "/Users/shanebrubaker/anaconda3/lib/python3.11/site-packages/Bio/PDB/StructureBuilder.py:100: PDBConstructionWarning: WARNING: Chain A is discontinuous at line 6146.\n",
      "  warnings.warn(\n",
      "/Users/shanebrubaker/anaconda3/lib/python3.11/site-packages/Bio/PDB/StructureBuilder.py:100: PDBConstructionWarning: WARNING: Chain B is discontinuous at line 6147.\n",
      "  warnings.warn(\n",
      "/Users/shanebrubaker/anaconda3/lib/python3.11/site-packages/Bio/PDB/StructureBuilder.py:100: PDBConstructionWarning: WARNING: Chain C is discontinuous at line 6148.\n",
      "  warnings.warn(\n",
      "/Users/shanebrubaker/anaconda3/lib/python3.11/site-packages/Bio/PDB/StructureBuilder.py:100: PDBConstructionWarning: WARNING: Chain E is discontinuous at line 6149.\n",
      "  warnings.warn(\n",
      "/Users/shanebrubaker/anaconda3/lib/python3.11/site-packages/Bio/PDB/StructureBuilder.py:100: PDBConstructionWarning: WARNING: Chain F is discontinuous at line 6171.\n",
      "  warnings.warn(\n",
      "/Users/shanebrubaker/anaconda3/lib/python3.11/site-packages/Bio/PDB/StructureBuilder.py:100: PDBConstructionWarning: WARNING: Chain A is discontinuous at line 6185.\n",
      "  warnings.warn(\n",
      "/Users/shanebrubaker/anaconda3/lib/python3.11/site-packages/Bio/PDB/StructureBuilder.py:100: PDBConstructionWarning: WARNING: Chain B is discontinuous at line 6383.\n",
      "  warnings.warn(\n",
      "/Users/shanebrubaker/anaconda3/lib/python3.11/site-packages/Bio/PDB/StructureBuilder.py:100: PDBConstructionWarning: WARNING: Chain C is discontinuous at line 6453.\n",
      "  warnings.warn(\n"
     ]
    }
   ],
   "source": [
    "# Retrieve data\n",
    "from Bio import PDB \n",
    "repository = PDB.PDBList() \n",
    "parser = PDB.PDBParser() \n",
    "repository.retrieve_pdb_file('1TUP', pdir='.', file_format='pdb') \n",
    "p53_1tup = parser.get_structure('P 53', 'pdb1tup.ent') "
   ]
  },
  {
   "cell_type": "code",
   "execution_count": 6,
   "id": "d9d57572",
   "metadata": {},
   "outputs": [
    {
     "name": "stdout",
     "output_type": "stream",
     "text": [
      "{'H_ZN', 'W', ' '}\n"
     ]
    }
   ],
   "source": [
    "# Recall residue types\n",
    "my_residues = set() \n",
    "for residue in p53_1tup.get_residues(): \n",
    "    my_residues.add(residue.id[0]) \n",
    "print(my_residues) "
   ]
  },
  {
   "cell_type": "code",
   "execution_count": 7,
   "id": "9cfa516d",
   "metadata": {},
   "outputs": [
    {
     "name": "stdout",
     "output_type": "stream",
     "text": [
      "Mass array: [[6.42003092e+03 0.00000000e+00 4.47213595e-01]\n",
      " [6.48219602e+03 1.82574186e-01 4.47213595e-01]\n",
      " [2.37161442e+04 3.65148372e-01 4.47213595e-01]\n",
      " [2.14881464e+04 5.47722558e-01 4.47213595e-01]\n",
      " [2.17461774e+04 7.30296743e-01 4.47213595e-01]]\n"
     ]
    }
   ],
   "source": [
    "# Compute masses for chains, zincs, and waters\n",
    "\n",
    "import numpy as np\n",
    "\n",
    "# Function to compute mass\n",
    "def get_mass(atoms, accept_fun=lambda x: True):\n",
    "    return sum([atom.mass for atom in atoms if accept_fun(atom)])\n",
    "\n",
    "# Extract chain names\n",
    "chain_names = [chain.id for chain in p53_1tup.get_chains()]\n",
    "\n",
    "# Initialize NumPy array for masses\n",
    "my_mass = np.ndarray((len(chain_names), 3))\n",
    "\n",
    "# Iterate over chains to compute mass\n",
    "for i, chain in enumerate(p53_1tup.get_chains()):\n",
    "    my_mass[i, 0] = get_mass(chain.get_atoms())\n",
    "\n",
    "print(\"Mass array:\", my_mass)\n"
   ]
  },
  {
   "cell_type": "code",
   "execution_count": 8,
   "id": "f9222901",
   "metadata": {},
   "outputs": [
    {
     "name": "stdout",
     "output_type": "stream",
     "text": [
      "(58.296333984624454, 15.48705585839803, 78.40529502795778)\n",
      "(58.12261138092647, 15.751286500376127, 78.37537036885965)\n"
     ]
    }
   ],
   "source": [
    "# Compute geometric center and center of mass\n",
    "def get_center(atoms, \n",
    "    weight_fun=lambda atom: 1 if atom.parent.id[0] != 'W' else 0): \n",
    "    xsum = ysum = zsum = 0.0 \n",
    "    acum = 0.0 \n",
    "    for atom in atoms: \n",
    "        x, y, z = atom.coord \n",
    "        weight = weight_fun(atom) \n",
    "        acum += weight \n",
    "        xsum += weight * x \n",
    "        ysum += weight * y \n",
    "        zsum += weight * z \n",
    "    return xsum / acum, ysum / acum, zsum / acum \n",
    "print(get_center(p53_1tup.get_atoms())) \n",
    "print(get_center(p53_1tup.get_atoms(), \n",
    "    weight_fun=lambda atom: atom.mass if atom.parent.id[0] != 'W' else 0)) "
   ]
  },
  {
   "cell_type": "code",
   "execution_count": 10,
   "id": "a63d2883",
   "metadata": {},
   "outputs": [
    {
     "name": "stdout",
     "output_type": "stream",
     "text": [
      "           X          Y          Z   X (Mass)   Y (Mass)   Z (Mass)\n",
      "E  49.727231  32.744879  81.253417  49.708513  32.759725  81.207395\n",
      "F  51.982368  33.843370  81.578795  52.002223  33.820064  81.624394\n",
      "A  72.990763  28.825429  56.714012  72.822668  28.810327  56.716117\n",
      "B  67.810026  12.624435  88.656590  67.729100  12.724130  88.545659\n",
      "C  38.221565  -5.010494  88.293141  38.169364  -4.915395  88.166711\n"
     ]
    }
   ],
   "source": [
    "# Compute center of mass and geometric center of each chain\n",
    "import pandas as pd\n",
    "my_center = np.ndarray((len(chain_names), 6)) \n",
    "for i, chain in enumerate(p53_1tup.get_chains()): \n",
    "    x, y, z = get_center(chain.get_atoms()) \n",
    "    my_center[i, 0] = x \n",
    "    my_center[i, 1] = y \n",
    "    my_center[i, 2] = z \n",
    "    x, y, z = get_center(chain.get_atoms(), \n",
    "        weight_fun=lambda atom: atom.mass if atom.parent.id[0] != 'W' else 0) \n",
    "    my_center[i, 3] = x \n",
    "    my_center[i, 4] = y \n",
    "    my_center[i, 5] = z \n",
    "weights = pd.DataFrame(my_center, index=chain_names, \n",
    "    columns=['X', 'Y', 'Z', 'X (Mass)', 'Y (Mass)', 'Z (Mass)']) \n",
    "print(weights) "
   ]
  },
  {
   "cell_type": "code",
   "execution_count": null,
   "id": "ceed8fdb",
   "metadata": {},
   "outputs": [],
   "source": []
  },
  {
   "cell_type": "code",
   "execution_count": null,
   "id": "3afd5e30",
   "metadata": {},
   "outputs": [],
   "source": []
  },
  {
   "cell_type": "code",
   "execution_count": null,
   "id": "6324d4a8",
   "metadata": {},
   "outputs": [],
   "source": []
  },
  {
   "cell_type": "code",
   "execution_count": null,
   "id": "0ddf39a0",
   "metadata": {},
   "outputs": [],
   "source": []
  },
  {
   "cell_type": "code",
   "execution_count": null,
   "id": "cd21a12e",
   "metadata": {},
   "outputs": [],
   "source": []
  },
  {
   "cell_type": "code",
   "execution_count": null,
   "id": "7c77510b",
   "metadata": {},
   "outputs": [],
   "source": []
  },
  {
   "cell_type": "code",
   "execution_count": null,
   "id": "94be7460",
   "metadata": {},
   "outputs": [],
   "source": []
  }
 ],
 "metadata": {
  "kernelspec": {
   "display_name": "Python 3 (ipykernel)",
   "language": "python",
   "name": "python3"
  },
  "language_info": {
   "codemirror_mode": {
    "name": "ipython",
    "version": 3
   },
   "file_extension": ".py",
   "mimetype": "text/x-python",
   "name": "python",
   "nbconvert_exporter": "python",
   "pygments_lexer": "ipython3",
   "version": "3.11.3"
  }
 },
 "nbformat": 4,
 "nbformat_minor": 5
}
