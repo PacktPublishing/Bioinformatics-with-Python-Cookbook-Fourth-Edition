{
 "cells": [
  {
   "cell_type": "code",
   "execution_count": null,
   "id": "e5b41ab1",
   "metadata": {},
   "outputs": [],
   "source": [
    "# Ch09-3 Geometric Operations"
   ]
  },
  {
   "cell_type": "code",
   "execution_count": null,
   "id": "9a4aa2bf",
   "metadata": {},
   "outputs": [],
   "source": [
    "# Retrieve data\n",
    "from Bio import PDB \n",
    "repository = PDB.PDBList() \n",
    "parser = PDB.PDBParser() \n",
    "repository.retrieve_pdb_file('1TUP', pdir='.', file_format='pdb') \n",
    "p53_1tup = parser.get_structure('P 53', 'pdb1tup.ent') "
   ]
  },
  {
   "cell_type": "code",
   "execution_count": null,
   "id": "17b74123",
   "metadata": {},
   "outputs": [],
   "source": [
    "# Recall residue types\n",
    "my_residues = set() \n",
    "for residue in p53_1tup.get_residues(): \n",
    "    my_residues.add(residue.id[0]) \n",
    "print(my_residues) "
   ]
  },
  {
   "cell_type": "code",
   "execution_count": null,
   "id": "9a7aa5fe",
   "metadata": {},
   "outputs": [],
   "source": [
    "# Compute masses for chains, zincs, and waters\n",
    "\n",
    "import numpy as np\n",
    "\n",
    "# Function to compute mass\n",
    "def get_mass(atoms, accept_fun=lambda x: True):\n",
    "    return sum([atom.mass for atom in atoms if accept_fun(atom)])\n",
    "\n",
    "# Extract chain names\n",
    "chain_names = [chain.id for chain in p53_1tup.get_chains()]\n",
    "\n",
    "# Initialize NumPy array for masses\n",
    "my_mass = np.ndarray((len(chain_names), 3))\n",
    "\n",
    "# Iterate over chains to compute mass\n",
    "for i, chain in enumerate(p53_1tup.get_chains()):\n",
    "    my_mass[i, 0] = get_mass(chain.get_atoms())\n",
    "\n",
    "print(\"Mass array:\", my_mass)\n"
   ]
  },
  {
   "cell_type": "code",
   "execution_count": null,
   "id": "088df255",
   "metadata": {},
   "outputs": [],
   "source": [
    "# Compute geometric center and center of mass\n",
    "def get_center(atoms, \n",
    "    weight_fun=lambda atom: 1 if atom.parent.id[0] != 'W' else 0): \n",
    "    xsum = ysum = zsum = 0.0 \n",
    "    acum = 0.0 \n",
    "    for atom in atoms: \n",
    "        x, y, z = atom.coord \n",
    "        weight = weight_fun(atom) \n",
    "        acum += weight \n",
    "        xsum += weight * x \n",
    "        ysum += weight * y \n",
    "        zsum += weight * z \n",
    "    return xsum / acum, ysum / acum, zsum / acum \n",
    "print(get_center(p53_1tup.get_atoms())) \n",
    "print(get_center(p53_1tup.get_atoms(), \n",
    "    weight_fun=lambda atom: atom.mass if atom.parent.id[0] != 'W' else 0)) "
   ]
  },
  {
   "cell_type": "code",
   "execution_count": null,
   "id": "1b5c3c06",
   "metadata": {},
   "outputs": [],
   "source": [
    "# Compute center of mass and geometric center of each chain\n",
    "import pandas as pd\n",
    "my_center = np.ndarray((len(chain_names), 6)) \n",
    "for i, chain in enumerate(p53_1tup.get_chains()): \n",
    "    x, y, z = get_center(chain.get_atoms()) \n",
    "    my_center[i, 0] = x \n",
    "    my_center[i, 1] = y \n",
    "    my_center[i, 2] = z \n",
    "    x, y, z = get_center(chain.get_atoms(), \n",
    "        weight_fun=lambda atom: atom.mass if atom.parent.id[0] != 'W' else 0) \n",
    "    my_center[i, 3] = x \n",
    "    my_center[i, 4] = y \n",
    "    my_center[i, 5] = z \n",
    "weights = pd.DataFrame(my_center, index=chain_names, \n",
    "    columns=['X', 'Y', 'Z', 'X (Mass)', 'Y (Mass)', 'Z (Mass)']) \n",
    "print(weights) "
   ]
  },
  {
   "cell_type": "code",
   "execution_count": null,
   "id": "78e5baa6",
   "metadata": {},
   "outputs": [],
   "source": []
  },
  {
   "cell_type": "code",
   "execution_count": null,
   "id": "d7b3bd59",
   "metadata": {},
   "outputs": [],
   "source": [
    "## End of Notebook ##"
   ]
  }
 ],
 "metadata": {
  "kernelspec": {
   "display_name": "Python 3 (ipykernel)",
   "language": "python",
   "name": "python3"
  },
  "language_info": {
   "codemirror_mode": {
    "name": "ipython",
    "version": 3
   },
   "file_extension": ".py",
   "mimetype": "text/x-python",
   "name": "python",
   "nbconvert_exporter": "python",
   "pygments_lexer": "ipython3",
   "version": "3.11.3"
  }
 },
 "nbformat": 4,
 "nbformat_minor": 5
}
