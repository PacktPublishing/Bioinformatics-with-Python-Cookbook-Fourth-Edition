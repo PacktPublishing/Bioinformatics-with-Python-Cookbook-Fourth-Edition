{
 "cells": [
  {
   "cell_type": "code",
   "execution_count": null,
   "id": "e5b41ab1",
   "metadata": {},
   "outputs": [],
   "source": [
    "# Ch09-3 Geometric Operations"
   ]
  },
  {
   "cell_type": "code",
   "execution_count": null,
   "id": "b6cfdd54-15f6-4826-9d5b-f46af6ba0b01",
   "metadata": {},
   "outputs": [],
   "source": [
    "# Installations (if not already completed)\n",
    "# ! pip install biopython"
   ]
  },
  {
   "cell_type": "code",
   "execution_count": null,
   "id": "993c591b-f603-488d-8c5f-a5f7cabee97d",
   "metadata": {},
   "outputs": [],
   "source": [
    "# 1. Import Libraries\n",
    "import numpy as np\n",
    "from Bio import PDB \n",
    "import pandas as pd"
   ]
  },
  {
   "cell_type": "code",
   "execution_count": null,
   "id": "9a4aa2bf",
   "metadata": {},
   "outputs": [],
   "source": [
    "# 2. Retrieve data\n",
    "repository = PDB.PDBList() \n",
    "parser = PDB.PDBParser() \n",
    "repository.retrieve_pdb_file('1TUP', pdir='.', file_format='pdb') \n",
    "p53_1tup = parser.get_structure('P 53', 'pdb1tup.ent') \n",
    "# Note - it is OK to get warnings about \"Structure Exists\" here"
   ]
  },
  {
   "cell_type": "code",
   "execution_count": null,
   "id": "17b74123",
   "metadata": {},
   "outputs": [],
   "source": [
    "# 3. Recall residue types\n",
    "my_residues = set() \n",
    "for residue in p53_1tup.get_residues(): \n",
    "    my_residues.add(residue.id[0]) \n",
    "print(my_residues) "
   ]
  },
  {
   "cell_type": "code",
   "execution_count": null,
   "id": "9a7aa5fe",
   "metadata": {},
   "outputs": [],
   "source": [
    "# 4. Compute masses for chains, zincs, and waters\n",
    "# Function to compute mass\n",
    "def get_mass(atoms, accept_fun=lambda x: True):\n",
    "    return sum([atom.mass for atom in atoms if accept_fun(atom)])\n",
    "# Extract chain names\n",
    "chain_names = [chain.id for chain in p53_1tup.get_chains()]\n",
    "# Initialize NumPy array for masses\n",
    "my_mass = np.ndarray((len(chain_names), 3))\n",
    "# Iterate over chains to compute mass\n",
    "for i, chain in enumerate(p53_1tup.get_chains()):\n",
    "    my_mass[i, 0] = get_mass(chain.get_atoms())\n",
    "print(\"Mass array:\", my_mass)"
   ]
  },
  {
   "cell_type": "code",
   "execution_count": null,
   "id": "f89881a3-60ac-4a4c-8c92-ce23dd8427b4",
   "metadata": {},
   "outputs": [],
   "source": [
    "# Alternate for the above with better formatting\n",
    "import numpy as np\n",
    "\n",
    "# Function to compute mass\n",
    "def get_mass(atoms, accept_fun=lambda x: True):\n",
    "    \"\"\"Calculate total mass of atoms that pass the acceptance function.\"\"\"\n",
    "    return sum([atom.mass for atom in atoms if accept_fun(atom)])\n",
    "\n",
    "# Filter functions for different atom types\n",
    "def is_not_water(atom):\n",
    "    \"\"\"Returns True if atom is not part of a water molecule.\"\"\"\n",
    "    return atom.get_parent().get_resname() != 'HOH'\n",
    "\n",
    "def is_zinc(atom):\n",
    "    \"\"\"Returns True if atom is zinc.\"\"\"\n",
    "    return atom.element == 'ZN'\n",
    "\n",
    "def is_water(atom):\n",
    "    \"\"\"Returns True if atom is part of a water molecule.\"\"\"\n",
    "    return atom.get_parent().get_resname() == 'HOH'\n",
    "\n",
    "# Extract chain names\n",
    "chain_names = [chain.id for chain in p53_1tup.get_chains()]\n",
    "\n",
    "# Initialize NumPy array for masses (3 columns: No water, Zincs, Water)\n",
    "my_mass = np.zeros((len(chain_names), 3))\n",
    "\n",
    "# Iterate over chains to compute mass for each category\n",
    "for i, chain in enumerate(p53_1tup.get_chains()):\n",
    "    my_mass[i, 0] = get_mass(chain.get_atoms(), is_not_water)  # No water\n",
    "    my_mass[i, 1] = get_mass(chain.get_atoms(), is_zinc)       # Zincs\n",
    "    my_mass[i, 2] = get_mass(chain.get_atoms(), is_water)      # Water\n",
    "\n",
    "# Create nicely formatted table\n",
    "print(\"Mass Distribution by Chain (Daltons)\")\n",
    "print(\"=\" * 45)\n",
    "print(f\"{'Chain':<6} {'No water':<12} {'Zincs':<12} {'Water':<12}\")\n",
    "print(\"-\" * 45)\n",
    "\n",
    "for i, chain_id in enumerate(chain_names):\n",
    "    print(f\"{chain_id:<6} {my_mass[i, 0]:<12.2f} {my_mass[i, 1]:<12.2f} {my_mass[i, 2]:<12.2f}\")\n",
    "\n",
    "print(\"-\" * 45)\n",
    "\n",
    "# Calculate and display totals\n",
    "totals = np.sum(my_mass, axis=0)\n",
    "print(f\"{'Total':<6} {totals[0]:<12.2f} {totals[1]:<12.2f} {totals[2]:<12.2f}\")\n",
    "\n",
    "print(f\"\\nRaw mass array:\\n{my_mass}\")"
   ]
  },
  {
   "cell_type": "code",
   "execution_count": null,
   "id": "088df255",
   "metadata": {},
   "outputs": [],
   "source": [
    "# 5. Compute geometric center and center of mass\n",
    "def get_center(atoms, \n",
    "    weight_fun=lambda atom: 1 if atom.parent.id[0] != 'W' else 0): \n",
    "    xsum = ysum = zsum = 0.0 \n",
    "    acum = 0.0 \n",
    "    for atom in atoms: \n",
    "        x, y, z = atom.coord \n",
    "        weight = weight_fun(atom) \n",
    "        acum += weight \n",
    "        xsum += weight * x \n",
    "        ysum += weight * y \n",
    "        zsum += weight * z \n",
    "    return xsum / acum, ysum / acum, zsum / acum \n",
    "    print(get_center(p53_1tup.get_atoms())) \n",
    "    print(get_center(p53_1tup.get_atoms(), \n",
    "    weight_fun=lambda atom: atom.mass if atom.parent.id[0] != 'W' else 0)) "
   ]
  },
  {
   "cell_type": "code",
   "execution_count": null,
   "id": "1b5c3c06",
   "metadata": {},
   "outputs": [],
   "source": [
    "# 6. Compute center of mass and geometric center of each chain\n",
    "my_center = np.ndarray((len(chain_names), 6)) \n",
    "for i, chain in enumerate(p53_1tup.get_chains()): \n",
    "    x, y, z = get_center(chain.get_atoms()) \n",
    "    my_center[i, 0] = x \n",
    "    my_center[i, 1] = y \n",
    "    my_center[i, 2] = z \n",
    "    x, y, z = get_center(chain.get_atoms(), \n",
    "        weight_fun=lambda atom: atom.mass if atom.parent.id[0] != 'W' else 0) \n",
    "    my_center[i, 3] = x \n",
    "    my_center[i, 4] = y \n",
    "    my_center[i, 5] = z \n",
    "weights = pd.DataFrame(my_center, index=chain_names, \n",
    "    columns=['X', 'Y', 'Z', 'X (Mass)', 'Y (Mass)', 'Z (Mass)']) \n",
    "print(weights) "
   ]
  },
  {
   "cell_type": "code",
   "execution_count": null,
   "id": "d7b3bd59",
   "metadata": {},
   "outputs": [],
   "source": [
    "## End of Notebook ##"
   ]
  }
 ],
 "metadata": {
  "kernelspec": {
   "display_name": "Python 3 (ipykernel)",
   "language": "python",
   "name": "python3"
  },
  "language_info": {
   "codemirror_mode": {
    "name": "ipython",
    "version": 3
   },
   "file_extension": ".py",
   "mimetype": "text/x-python",
   "name": "python",
   "nbconvert_exporter": "python",
   "pygments_lexer": "ipython3",
   "version": "3.12.11"
  }
 },
 "nbformat": 4,
 "nbformat_minor": 5
}
