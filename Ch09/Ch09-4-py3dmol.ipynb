{
 "cells": [
  {
   "cell_type": "code",
   "execution_count": null,
   "id": "65a69498-8fdc-4ff3-9ded-0e93e5abbacb",
   "metadata": {},
   "outputs": [],
   "source": [
    "# Ch 09-4 py3dmol"
   ]
  },
  {
   "cell_type": "code",
   "execution_count": null,
   "id": "5709bf95-8fa1-4815-83a6-c27c4c95e02a",
   "metadata": {},
   "outputs": [],
   "source": [
    "# Install dependencies\n",
    "! pip install py3Dmol"
   ]
  },
  {
   "cell_type": "code",
   "execution_count": 2,
   "id": "f54c2935",
   "metadata": {},
   "outputs": [],
   "source": [
    "# Import Libraries\n",
    "import py3Dmol"
   ]
  },
  {
   "cell_type": "code",
   "execution_count": 3,
   "id": "21aef57c-0cdb-4f48-a0a9-4ed7f7664a28",
   "metadata": {},
   "outputs": [
    {
     "data": {
      "application/3dmoljs_load.v0": "<div id=\"3dmolviewer_17535500055953548\"  style=\"position: relative; width: 640px; height: 480px;\">\n        <p id=\"3dmolwarning_17535500055953548\" style=\"background-color:#ffcccc;color:black\">3Dmol.js failed to load for some reason.  Please check your browser console for error messages.<br></p>\n        </div>\n<script>\n\nvar loadScriptAsync = function(uri){\n  return new Promise((resolve, reject) => {\n    //this is to ignore the existence of requirejs amd\n    var savedexports, savedmodule;\n    if (typeof exports !== 'undefined') savedexports = exports;\n    else exports = {}\n    if (typeof module !== 'undefined') savedmodule = module;\n    else module = {}\n\n    var tag = document.createElement('script');\n    tag.src = uri;\n    tag.async = true;\n    tag.onload = () => {\n        exports = savedexports;\n        module = savedmodule;\n        resolve();\n    };\n  var firstScriptTag = document.getElementsByTagName('script')[0];\n  firstScriptTag.parentNode.insertBefore(tag, firstScriptTag);\n});\n};\n\nif(typeof $3Dmolpromise === 'undefined') {\n$3Dmolpromise = null;\n  $3Dmolpromise = loadScriptAsync('https://cdn.jsdelivr.net/npm/3dmol@2.5.1/build/3Dmol-min.js');\n}\n\nvar viewer_17535500055953548 = null;\nvar warn = document.getElementById(\"3dmolwarning_17535500055953548\");\nif(warn) {\n    warn.parentNode.removeChild(warn);\n}\n$3Dmolpromise.then(function() {\nviewer_17535500055953548 = $3Dmol.createViewer(document.getElementById(\"3dmolviewer_17535500055953548\"),{backgroundColor:\"white\"});\n$3Dmol.download(\"pdb:1crn\", viewer_17535500055953548, {}, function() {\nviewer_17535500055953548.zoomTo();\n\tviewer_17535500055953548.setStyle({\"cartoon\": {\"color\": \"spectrum\"}});\n\tviewer_17535500055953548.zoomTo();\nviewer_17535500055953548.render();\n})\n});\n</script>",
      "text/html": [
       "<div id=\"3dmolviewer_17535500055953548\"  style=\"position: relative; width: 640px; height: 480px;\">\n",
       "        <p id=\"3dmolwarning_17535500055953548\" style=\"background-color:#ffcccc;color:black\">3Dmol.js failed to load for some reason.  Please check your browser console for error messages.<br></p>\n",
       "        </div>\n",
       "<script>\n",
       "\n",
       "var loadScriptAsync = function(uri){\n",
       "  return new Promise((resolve, reject) => {\n",
       "    //this is to ignore the existence of requirejs amd\n",
       "    var savedexports, savedmodule;\n",
       "    if (typeof exports !== 'undefined') savedexports = exports;\n",
       "    else exports = {}\n",
       "    if (typeof module !== 'undefined') savedmodule = module;\n",
       "    else module = {}\n",
       "\n",
       "    var tag = document.createElement('script');\n",
       "    tag.src = uri;\n",
       "    tag.async = true;\n",
       "    tag.onload = () => {\n",
       "        exports = savedexports;\n",
       "        module = savedmodule;\n",
       "        resolve();\n",
       "    };\n",
       "  var firstScriptTag = document.getElementsByTagName('script')[0];\n",
       "  firstScriptTag.parentNode.insertBefore(tag, firstScriptTag);\n",
       "});\n",
       "};\n",
       "\n",
       "if(typeof $3Dmolpromise === 'undefined') {\n",
       "$3Dmolpromise = null;\n",
       "  $3Dmolpromise = loadScriptAsync('https://cdn.jsdelivr.net/npm/3dmol@2.5.1/build/3Dmol-min.js');\n",
       "}\n",
       "\n",
       "var viewer_17535500055953548 = null;\n",
       "var warn = document.getElementById(\"3dmolwarning_17535500055953548\");\n",
       "if(warn) {\n",
       "    warn.parentNode.removeChild(warn);\n",
       "}\n",
       "$3Dmolpromise.then(function() {\n",
       "viewer_17535500055953548 = $3Dmol.createViewer(document.getElementById(\"3dmolviewer_17535500055953548\"),{backgroundColor:\"white\"});\n",
       "$3Dmol.download(\"pdb:1crn\", viewer_17535500055953548, {}, function() {\n",
       "viewer_17535500055953548.zoomTo();\n",
       "\tviewer_17535500055953548.setStyle({\"cartoon\": {\"color\": \"spectrum\"}});\n",
       "\tviewer_17535500055953548.zoomTo();\n",
       "viewer_17535500055953548.render();\n",
       "})\n",
       "});\n",
       "</script>"
      ]
     },
     "metadata": {},
     "output_type": "display_data"
    }
   ],
   "source": [
    "# Set up the Py3Dmol viewer for an example protein \n",
    "view = py3Dmol.view(query='pdb:1crn')  # 1crn = Crambin\n",
    "view.setStyle({'cartoon': {'color': 'spectrum'}})\n",
    "view.zoomTo()\n",
    "view.show()"
   ]
  },
  {
   "cell_type": "code",
   "execution_count": null,
   "id": "a29bfd8c-680c-4cf9-8252-7453809a1baa",
   "metadata": {},
   "outputs": [],
   "source": [
    "## End of Notebook ##"
   ]
  }
 ],
 "metadata": {
  "kernelspec": {
   "display_name": "Python 3 (ipykernel)",
   "language": "python",
   "name": "python3"
  },
  "language_info": {
   "codemirror_mode": {
    "name": "ipython",
    "version": 3
   },
   "file_extension": ".py",
   "mimetype": "text/x-python",
   "name": "python",
   "nbconvert_exporter": "python",
   "pygments_lexer": "ipython3",
   "version": "3.12.11"
  }
 },
 "nbformat": 4,
 "nbformat_minor": 5
}
