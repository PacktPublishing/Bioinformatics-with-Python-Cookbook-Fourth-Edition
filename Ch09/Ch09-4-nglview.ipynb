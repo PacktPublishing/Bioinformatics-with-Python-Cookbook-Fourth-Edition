{
 "cells": [
  {
   "cell_type": "code",
   "execution_count": null,
   "id": "2b129efb",
   "metadata": {},
   "outputs": [],
   "source": [
    "# Ch09-4 - Animating with PyMOl"
   ]
  },
  {
   "cell_type": "code",
   "execution_count": null,
   "id": "22a185df",
   "metadata": {},
   "outputs": [
    {
     "name": "stdout",
     "output_type": "stream",
     "text": [
      "Collecting webcolors>=24.6.0 (from jsonschema>=4.18.0->jupyterlab-server<3,>=2.27.1->jupyterlab>=3->nglview)\n",
      "  Downloading webcolors-24.11.1-py3-none-any.whl (14 kB)\n",
      "Requirement already satisfied: typing-extensions>=4.4.0 in /Users/shanebrubaker/anaconda3/lib/python3.11/site-packages (from referencing>=0.28.4->jsonschema>=4.18.0->jupyterlab-server<3,>=2.27.1->jupyterlab>=3->nglview) (4.6.3)\n",
      "Requirement already satisfied: cffi>=1.0.1 in /Users/shanebrubaker/anaconda3/lib/python3.11/site-packages (from argon2-cffi-bindings->argon2-cffi->jupyter-server<3,>=1.16.0->jupyterlab>=3->nglview) (1.15.1)\n",
      "Requirement already satisfied: soupsieve>1.2 in /Users/shanebrubaker/anaconda3/lib/python3.11/site-packages (from beautifulsoup4->nbconvert>=6.4.4->jupyter-server<3,>=1.16.0->jupyterlab>=3->nglview) (2.4)\n",
      "Requirement already satisfied: webencodings in /Users/shanebrubaker/anaconda3/lib/python3.11/site-packages (from bleach->nbconvert>=6.4.4->jupyter-server<3,>=1.16.0->jupyterlab>=3->nglview) (0.5.1)\n",
      "Requirement already satisfied: pycparser in /Users/shanebrubaker/anaconda3/lib/python3.11/site-packages (from cffi>=1.0.1->argon2-cffi-bindings->argon2-cffi->jupyter-server<3,>=1.16.0->jupyterlab>=3->nglview) (2.21)\n",
      "Requirement already satisfied: arrow>=0.15.0 in /Users/shanebrubaker/anaconda3/lib/python3.11/site-packages (from isoduration->jsonschema>=4.18.0->jupyterlab-server<3,>=2.27.1->jupyterlab>=3->nglview) (1.2.3)\n",
      "Building wheels for collected packages: nglview\n",
      "  Building wheel for nglview (pyproject.toml) ... \u001b[?25ldone\n",
      "\u001b[?25h  Created wheel for nglview: filename=nglview-3.1.4-py3-none-any.whl size=6370842 sha256=545a011df7848296d52906f1e0294763e6756b14976063cb862019ec92d0be7e\n",
      "  Stored in directory: /Users/shanebrubaker/Library/Caches/pip/wheels/5b/79/44/9ddf94f419d3394628da6d15a9bc78624de891c58c181c9cb3\n",
      "Successfully built nglview\n",
      "Installing collected packages: webcolors, uri-template, rpds-py, requests, h11, fqdn, attrs, async-lru, referencing, httpcore, jsonschema-specifications, isoduration, httpx, jsonschema, jupyterlab-server, jupyter-lsp, jupyterlab, notebook, nglview\n",
      "  Attempting uninstall: requests\n",
      "    Found existing installation: requests 2.29.0\n",
      "    Uninstalling requests-2.29.0:\n",
      "      Successfully uninstalled requests-2.29.0\n",
      "  Attempting uninstall: attrs\n",
      "    Found existing installation: attrs 22.1.0\n",
      "    Uninstalling attrs-22.1.0:\n",
      "      Successfully uninstalled attrs-22.1.0\n",
      "  Attempting uninstall: jsonschema\n",
      "    Found existing installation: jsonschema 4.17.3\n",
      "    Uninstalling jsonschema-4.17.3:\n",
      "      Successfully uninstalled jsonschema-4.17.3\n",
      "  Attempting uninstall: jupyterlab-server\n",
      "    Found existing installation: jupyterlab_server 2.22.0\n",
      "    Uninstalling jupyterlab_server-2.22.0:\n",
      "      Successfully uninstalled jupyterlab_server-2.22.0\n",
      "  Attempting uninstall: jupyterlab\n",
      "    Found existing installation: jupyterlab 3.6.3\n",
      "    Uninstalling jupyterlab-3.6.3:\n",
      "      Successfully uninstalled jupyterlab-3.6.3\n",
      "  Attempting uninstall: notebook\n",
      "    Found existing installation: notebook 6.5.4\n",
      "    Uninstalling notebook-6.5.4:\n",
      "      Successfully uninstalled notebook-6.5.4\n",
      "\u001b[31mERROR: pip's dependency resolver does not currently take into account all the packages that are installed. This behaviour is the source of the following dependency conflicts.\n",
      "conda-repo-cli 1.0.41 requires requests_mock, which is not installed.\n",
      "spyder 5.4.3 requires pyqt5<5.16, which is not installed.\n",
      "spyder 5.4.3 requires pyqtwebengine<5.16, which is not installed.\n",
      "conda-repo-cli 1.0.41 requires clyent==1.2.1, but you have clyent 1.2.2 which is incompatible.\n",
      "conda-repo-cli 1.0.41 requires nbformat==5.4.0, but you have nbformat 5.7.0 which is incompatible.\n",
      "conda-repo-cli 1.0.41 requires requests==2.28.1, but you have requests 2.32.3 which is incompatible.\u001b[0m\u001b[31m\n",
      "\u001b[0mSuccessfully installed async-lru-2.0.4 attrs-25.1.0 fqdn-1.5.1 h11-0.14.0 httpcore-1.0.7 httpx-0.28.1 isoduration-20.11.0 jsonschema-4.23.0 jsonschema-specifications-2024.10.1 jupyter-lsp-2.2.5 jupyterlab-4.3.5 jupyterlab-server-2.27.3 nglview-3.1.4 notebook-7.3.2 referencing-0.36.2 requests-2.32.3 rpds-py-0.22.3 uri-template-1.3.0 webcolors-24.11.1\n"
     ]
    }
   ],
   "source": [
    "! pip install nglview"
   ]
  },
  {
   "cell_type": "code",
   "execution_count": null,
   "id": "342e71f3-5d61-4e7f-bcc0-058e3e239f0f",
   "metadata": {},
   "outputs": [],
   "source": [
    "# Import Libraries\n",
    "import nglview as nv\n",
    "from Bio import PDB"
   ]
  },
  {
   "cell_type": "code",
   "execution_count": null,
   "id": "ab4a4e7c-2360-42c0-8192-909c34151800",
   "metadata": {},
   "outputs": [],
   "source": []
  },
  {
   "cell_type": "code",
   "execution_count": null,
   "id": "288a0c91-3ca8-4d52-9586-ace8aa497653",
   "metadata": {},
   "outputs": [],
   "source": []
  },
  {
   "cell_type": "code",
   "execution_count": null,
   "id": "8d48a4ba",
   "metadata": {},
   "outputs": [],
   "source": [
    "\n",
    "\n",
    "# Define PDB ID\n",
    "pdb_id = \"1TUP\"\n",
    "\n",
    "# Fetch the PDB file using Biopython\n",
    "pdb_list = PDB.PDBList()\n",
    "pdb_list.retrieve_pdb_file(pdb_id, pdir=\".\", file_format=\"pdb\")\n",
    "\n",
    "# Load the PDB structure in NGLView\n",
    "view = nv.show_file(f\"pdb{pdb_id.lower()}.ent\")\n",
    "\n",
    "# Set visualization style\n",
    "view.clear_representations()\n",
    "view.add_cartoon(color=\"spectrum\")  # Cartoon representation with color gradient\n",
    "view.add_spacefill(\"ZN\")  # Highlight Zinc atoms\n",
    "\n",
    "# Animate the protein (rotation)\n",
    "view.camera = \"perspective\"\n",
    "view.center()\n",
    "view.animate = True\n",
    "\n",
    "# Display in Jupyter Notebook\n",
    "view\n"
   ]
  },
  {
   "cell_type": "code",
   "execution_count": null,
   "id": "b655fafb",
   "metadata": {},
   "outputs": [],
   "source": []
  },
  {
   "cell_type": "code",
   "execution_count": null,
   "id": "23e38fae",
   "metadata": {},
   "outputs": [],
   "source": []
  },
  {
   "cell_type": "code",
   "execution_count": null,
   "id": "13dbea90",
   "metadata": {},
   "outputs": [],
   "source": []
  },
  {
   "cell_type": "code",
   "execution_count": null,
   "id": "3ec3e3b6",
   "metadata": {},
   "outputs": [],
   "source": []
  },
  {
   "cell_type": "code",
   "execution_count": null,
   "id": "044454ee",
   "metadata": {},
   "outputs": [],
   "source": []
  },
  {
   "cell_type": "code",
   "execution_count": null,
   "id": "9bac7583",
   "metadata": {},
   "outputs": [],
   "source": []
  },
  {
   "cell_type": "code",
   "execution_count": null,
   "id": "6d197846",
   "metadata": {},
   "outputs": [],
   "source": []
  }
 ],
 "metadata": {
  "kernelspec": {
   "display_name": "Python 3 (ipykernel)",
   "language": "python",
   "name": "python3"
  },
  "language_info": {
   "codemirror_mode": {
    "name": "ipython",
    "version": 3
   },
   "file_extension": ".py",
   "mimetype": "text/x-python",
   "name": "python",
   "nbconvert_exporter": "python",
   "pygments_lexer": "ipython3",
   "version": "3.11.3"
  }
 },
 "nbformat": 4,
 "nbformat_minor": 5
}
