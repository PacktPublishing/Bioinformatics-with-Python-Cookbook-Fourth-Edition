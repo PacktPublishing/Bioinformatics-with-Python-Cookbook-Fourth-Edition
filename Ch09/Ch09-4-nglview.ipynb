{
 "cells": [
  {
   "cell_type": "code",
   "execution_count": null,
   "id": "2b129efb",
   "metadata": {},
   "outputs": [],
   "source": [
    "# Ch09-4 - Animating with PyMOl"
   ]
  },
  {
   "cell_type": "code",
   "execution_count": null,
   "id": "22a185df",
   "metadata": {},
   "outputs": [],
   "source": [
    "! pip install nglview"
   ]
  },
  {
   "cell_type": "code",
   "execution_count": null,
   "id": "342e71f3-5d61-4e7f-bcc0-058e3e239f0f",
   "metadata": {},
   "outputs": [],
   "source": [
    "# Import Libraries\n",
    "import nglview as nv\n",
    "from Bio import PDB"
   ]
  },
  {
   "cell_type": "code",
   "execution_count": null,
   "id": "288a0c91-3ca8-4d52-9586-ace8aa497653",
   "metadata": {},
   "outputs": [],
   "source": [
    "# Define PDB ID\n",
    "pdb_id = \"1TUP\""
   ]
  },
  {
   "cell_type": "code",
   "execution_count": null,
   "id": "f16b46de-d68f-452a-9535-d5a740c4e0ee",
   "metadata": {},
   "outputs": [],
   "source": [
    "# Fetch the PDB file using Biopython\n",
    "pdb_list = PDB.PDBList()\n",
    "pdb_list.retrieve_pdb_file(pdb_id, pdir=\".\", file_format=\"pdb\")"
   ]
  },
  {
   "cell_type": "code",
   "execution_count": null,
   "id": "1acfbfa9-07b0-4e2f-b211-899a6b26bedf",
   "metadata": {},
   "outputs": [],
   "source": [
    "# Load the PDB structure in NGLView\n",
    "view = nv.show_file(f\"pdb{pdb_id.lower()}.ent\")"
   ]
  },
  {
   "cell_type": "code",
   "execution_count": null,
   "id": "eee7c10b-f2ea-456b-a4a9-9866a1adb60b",
   "metadata": {},
   "outputs": [],
   "source": [
    "# Set visualization style\n",
    "view.clear_representations()\n",
    "view.add_cartoon(color=\"spectrum\")  # Cartoon representation with color gradient\n",
    "view.add_spacefill(\"ZN\")  # Highlight Zinc atoms"
   ]
  },
  {
   "cell_type": "code",
   "execution_count": null,
   "id": "cdd551d8-3043-4a92-b6bb-4b7200696915",
   "metadata": {},
   "outputs": [],
   "source": [
    "# Animate the protein (rotation)\n",
    "view.camera = \"perspective\"\n",
    "view.center()\n",
    "view.animate = True"
   ]
  },
  {
   "cell_type": "code",
   "execution_count": null,
   "id": "8d48a4ba",
   "metadata": {},
   "outputs": [],
   "source": [
    "# Display in Jupyter Notebook\n",
    "view"
   ]
  },
  {
   "cell_type": "code",
   "execution_count": null,
   "id": "b655fafb",
   "metadata": {},
   "outputs": [],
   "source": [
    "## End of Notebook ##"
   ]
  }
 ],
 "metadata": {
  "kernelspec": {
   "display_name": "Python 3 (ipykernel)",
   "language": "python",
   "name": "python3"
  },
  "language_info": {
   "codemirror_mode": {
    "name": "ipython",
    "version": 3
   },
   "file_extension": ".py",
   "mimetype": "text/x-python",
   "name": "python",
   "nbconvert_exporter": "python",
   "pygments_lexer": "ipython3",
   "version": "3.11.3"
  }
 },
 "nbformat": 4,
 "nbformat_minor": 5
}
