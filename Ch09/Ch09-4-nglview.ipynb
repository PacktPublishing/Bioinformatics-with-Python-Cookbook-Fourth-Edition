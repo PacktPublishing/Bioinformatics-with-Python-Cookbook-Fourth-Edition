{
 "cells": [
  {
   "cell_type": "code",
   "execution_count": null,
   "id": "2b129efb",
   "metadata": {},
   "outputs": [],
   "source": [
    "# Ch09-4 - Animating with PyMOl"
   ]
  },
  {
   "cell_type": "code",
   "execution_count": null,
   "id": "22a185df",
   "metadata": {},
   "outputs": [
    {
     "name": "stdout",
     "output_type": "stream",
     "text": [
      "Requirement already satisfied: python-json-logger>=2.0.4 in /Users/shanebrubaker/anaconda3/envs/ch15-workflows/lib/python3.12/site-packages (from jupyter-events>=0.11.0->jupyter-server<3,>=2.4.0->jupyterlab>=3->nglview) (2.0.7)\n",
      "Requirement already satisfied: pyyaml>=5.3 in /Users/shanebrubaker/anaconda3/envs/ch15-workflows/lib/python3.12/site-packages (from jupyter-events>=0.11.0->jupyter-server<3,>=2.4.0->jupyterlab>=3->nglview) (6.0.2)\n",
      "Requirement already satisfied: rfc3339-validator in /Users/shanebrubaker/anaconda3/envs/ch15-workflows/lib/python3.12/site-packages (from jupyter-events>=0.11.0->jupyter-server<3,>=2.4.0->jupyterlab>=3->nglview) (0.1.4)\n",
      "Requirement already satisfied: rfc3986-validator>=0.1.1 in /Users/shanebrubaker/anaconda3/envs/ch15-workflows/lib/python3.12/site-packages (from jupyter-events>=0.11.0->jupyter-server<3,>=2.4.0->jupyterlab>=3->nglview) (0.1.1)\n",
      "Requirement already satisfied: beautifulsoup4 in /Users/shanebrubaker/anaconda3/envs/ch15-workflows/lib/python3.12/site-packages (from nbconvert>=6.4.4->jupyter-server<3,>=2.4.0->jupyterlab>=3->nglview) (4.13.4)\n",
      "Requirement already satisfied: bleach!=5.0.0 in /Users/shanebrubaker/anaconda3/envs/ch15-workflows/lib/python3.12/site-packages (from bleach[css]!=5.0.0->nbconvert>=6.4.4->jupyter-server<3,>=2.4.0->jupyterlab>=3->nglview) (6.2.0)\n",
      "Requirement already satisfied: defusedxml in /Users/shanebrubaker/anaconda3/envs/ch15-workflows/lib/python3.12/site-packages (from nbconvert>=6.4.4->jupyter-server<3,>=2.4.0->jupyterlab>=3->nglview) (0.7.1)\n",
      "Requirement already satisfied: jupyterlab-pygments in /Users/shanebrubaker/anaconda3/envs/ch15-workflows/lib/python3.12/site-packages (from nbconvert>=6.4.4->jupyter-server<3,>=2.4.0->jupyterlab>=3->nglview) (0.3.0)\n",
      "Requirement already satisfied: mistune<4,>=2.0.3 in /Users/shanebrubaker/anaconda3/envs/ch15-workflows/lib/python3.12/site-packages (from nbconvert>=6.4.4->jupyter-server<3,>=2.4.0->jupyterlab>=3->nglview) (3.1.3)\n",
      "Requirement already satisfied: nbclient>=0.5.0 in /Users/shanebrubaker/anaconda3/envs/ch15-workflows/lib/python3.12/site-packages (from nbconvert>=6.4.4->jupyter-server<3,>=2.4.0->jupyterlab>=3->nglview) (0.10.2)\n",
      "Requirement already satisfied: pandocfilters>=1.4.1 in /Users/shanebrubaker/anaconda3/envs/ch15-workflows/lib/python3.12/site-packages (from nbconvert>=6.4.4->jupyter-server<3,>=2.4.0->jupyterlab>=3->nglview) (1.5.0)\n",
      "Requirement already satisfied: fastjsonschema>=2.15 in /Users/shanebrubaker/anaconda3/envs/ch15-workflows/lib/python3.12/site-packages (from nbformat>=5.3.0->jupyter-server<3,>=2.4.0->jupyterlab>=3->nglview) (2.21.1)\n",
      "Requirement already satisfied: ptyprocess>=0.5 in /Users/shanebrubaker/anaconda3/envs/ch15-workflows/lib/python3.12/site-packages (from pexpect>4.3->ipython>=6.1.0->ipywidgets>=8->nglview) (0.7.0)\n",
      "Requirement already satisfied: wcwidth in /Users/shanebrubaker/anaconda3/envs/ch15-workflows/lib/python3.12/site-packages (from prompt_toolkit<3.1.0,>=3.0.41->ipython>=6.1.0->ipywidgets>=8->nglview) (0.2.13)\n",
      "Requirement already satisfied: charset_normalizer<4,>=2 in /Users/shanebrubaker/anaconda3/envs/ch15-workflows/lib/python3.12/site-packages (from requests>=2.31->jupyterlab-server<3,>=2.27.1->jupyterlab>=3->nglview) (3.4.1)\n",
      "Requirement already satisfied: urllib3<3,>=1.21.1 in /Users/shanebrubaker/anaconda3/envs/ch15-workflows/lib/python3.12/site-packages (from requests>=2.31->jupyterlab-server<3,>=2.27.1->jupyterlab>=3->nglview) (2.4.0)\n",
      "Requirement already satisfied: executing>=1.2.0 in /Users/shanebrubaker/anaconda3/envs/ch15-workflows/lib/python3.12/site-packages (from stack_data->ipython>=6.1.0->ipywidgets>=8->nglview) (2.1.0)\n",
      "Requirement already satisfied: asttokens>=2.1.0 in /Users/shanebrubaker/anaconda3/envs/ch15-workflows/lib/python3.12/site-packages (from stack_data->ipython>=6.1.0->ipywidgets>=8->nglview) (3.0.0)\n",
      "Requirement already satisfied: pure_eval in /Users/shanebrubaker/anaconda3/envs/ch15-workflows/lib/python3.12/site-packages (from stack_data->ipython>=6.1.0->ipywidgets>=8->nglview) (0.2.3)\n",
      "Requirement already satisfied: webencodings in /Users/shanebrubaker/anaconda3/envs/ch15-workflows/lib/python3.12/site-packages (from bleach!=5.0.0->bleach[css]!=5.0.0->nbconvert>=6.4.4->jupyter-server<3,>=2.4.0->jupyterlab>=3->nglview) (0.5.1)\n",
      "Requirement already satisfied: tinycss2<1.5,>=1.1.0 in /Users/shanebrubaker/anaconda3/envs/ch15-workflows/lib/python3.12/site-packages (from bleach[css]!=5.0.0->nbconvert>=6.4.4->jupyter-server<3,>=2.4.0->jupyterlab>=3->nglview) (1.4.0)\n",
      "Requirement already satisfied: fqdn in /Users/shanebrubaker/anaconda3/envs/ch15-workflows/lib/python3.12/site-packages (from jsonschema[format-nongpl]>=4.18.0->jupyter-events>=0.11.0->jupyter-server<3,>=2.4.0->jupyterlab>=3->nglview) (1.5.1)\n",
      "Requirement already satisfied: isoduration in /Users/shanebrubaker/anaconda3/envs/ch15-workflows/lib/python3.12/site-packages (from jsonschema[format-nongpl]>=4.18.0->jupyter-events>=0.11.0->jupyter-server<3,>=2.4.0->jupyterlab>=3->nglview) (20.11.0)\n",
      "Requirement already satisfied: jsonpointer>1.13 in /Users/shanebrubaker/anaconda3/envs/ch15-workflows/lib/python3.12/site-packages (from jsonschema[format-nongpl]>=4.18.0->jupyter-events>=0.11.0->jupyter-server<3,>=2.4.0->jupyterlab>=3->nglview) (3.0.0)\n",
      "Requirement already satisfied: uri-template in /Users/shanebrubaker/anaconda3/envs/ch15-workflows/lib/python3.12/site-packages (from jsonschema[format-nongpl]>=4.18.0->jupyter-events>=0.11.0->jupyter-server<3,>=2.4.0->jupyterlab>=3->nglview) (1.3.0)\n",
      "Requirement already satisfied: webcolors>=24.6.0 in /Users/shanebrubaker/anaconda3/envs/ch15-workflows/lib/python3.12/site-packages (from jsonschema[format-nongpl]>=4.18.0->jupyter-events>=0.11.0->jupyter-server<3,>=2.4.0->jupyterlab>=3->nglview) (24.11.1)\n",
      "Requirement already satisfied: six>=1.5 in /Users/shanebrubaker/anaconda3/envs/ch15-workflows/lib/python3.12/site-packages (from python-dateutil>=2.8.2->jupyter-client>=6.1.12->ipykernel>=6.5.0->jupyterlab>=3->nglview) (1.17.0)\n",
      "Requirement already satisfied: cffi>=1.0.1 in /Users/shanebrubaker/anaconda3/envs/ch15-workflows/lib/python3.12/site-packages (from argon2-cffi-bindings->argon2-cffi>=21.1->jupyter-server<3,>=2.4.0->jupyterlab>=3->nglview) (1.17.1)\n",
      "Requirement already satisfied: soupsieve>1.2 in /Users/shanebrubaker/anaconda3/envs/ch15-workflows/lib/python3.12/site-packages (from beautifulsoup4->nbconvert>=6.4.4->jupyter-server<3,>=2.4.0->jupyterlab>=3->nglview) (2.5)\n",
      "Requirement already satisfied: pycparser in /Users/shanebrubaker/anaconda3/envs/ch15-workflows/lib/python3.12/site-packages (from cffi>=1.0.1->argon2-cffi-bindings->argon2-cffi>=21.1->jupyter-server<3,>=2.4.0->jupyterlab>=3->nglview) (2.22)\n",
      "Requirement already satisfied: arrow>=0.15.0 in /Users/shanebrubaker/anaconda3/envs/ch15-workflows/lib/python3.12/site-packages (from isoduration->jsonschema[format-nongpl]>=4.18.0->jupyter-events>=0.11.0->jupyter-server<3,>=2.4.0->jupyterlab>=3->nglview) (1.3.0)\n",
      "Requirement already satisfied: types-python-dateutil>=2.8.10 in /Users/shanebrubaker/anaconda3/envs/ch15-workflows/lib/python3.12/site-packages (from arrow>=0.15.0->isoduration->jsonschema[format-nongpl]>=4.18.0->jupyter-events>=0.11.0->jupyter-server<3,>=2.4.0->jupyterlab>=3->nglview) (2.9.0.20241206)\n"
     ]
    }
   ],
   "source": [
    "! pip install nglview"
   ]
  },
  {
   "cell_type": "code",
   "execution_count": null,
   "id": "342e71f3-5d61-4e7f-bcc0-058e3e239f0f",
   "metadata": {},
   "outputs": [],
   "source": [
    "# Import Libraries\n",
    "import nglview as nv\n",
    "from Bio import PDB"
   ]
  },
  {
   "cell_type": "code",
   "execution_count": null,
   "id": "288a0c91-3ca8-4d52-9586-ace8aa497653",
   "metadata": {},
   "outputs": [],
   "source": [
    "# Define PDB ID\n",
    "pdb_id = \"1TUP\""
   ]
  },
  {
   "cell_type": "code",
   "execution_count": null,
   "id": "f16b46de-d68f-452a-9535-d5a740c4e0ee",
   "metadata": {},
   "outputs": [],
   "source": [
    "# Fetch the PDB file using Biopython\n",
    "pdb_list = PDB.PDBList()\n",
    "pdb_list.retrieve_pdb_file(pdb_id, pdir=\".\", file_format=\"pdb\")"
   ]
  },
  {
   "cell_type": "code",
   "execution_count": null,
   "id": "1acfbfa9-07b0-4e2f-b211-899a6b26bedf",
   "metadata": {},
   "outputs": [],
   "source": [
    "# Load the PDB structure in NGLView\n",
    "view = nv.show_file(f\"pdb{pdb_id.lower()}.ent\")"
   ]
  },
  {
   "cell_type": "code",
   "execution_count": null,
   "id": "eee7c10b-f2ea-456b-a4a9-9866a1adb60b",
   "metadata": {},
   "outputs": [],
   "source": [
    "# Set visualization style\n",
    "view.clear_representations()\n",
    "view.add_cartoon(color=\"spectrum\")  # Cartoon representation with color gradient\n",
    "view.add_spacefill(\"ZN\")  # Highlight Zinc atoms"
   ]
  },
  {
   "cell_type": "code",
   "execution_count": null,
   "id": "cdd551d8-3043-4a92-b6bb-4b7200696915",
   "metadata": {},
   "outputs": [],
   "source": [
    "# Animate the protein (rotation)\n",
    "view.camera = \"perspective\"\n",
    "view.center()\n",
    "view.animate = True"
   ]
  },
  {
   "cell_type": "code",
   "execution_count": null,
   "id": "8d48a4ba",
   "metadata": {},
   "outputs": [],
   "source": [
    "# Display in Jupyter Notebook\n",
    "view"
   ]
  },
  {
   "cell_type": "code",
   "execution_count": null,
   "id": "e30fba3d-e0b1-45f6-a9e2-e506ea331142",
   "metadata": {},
   "outputs": [],
   "source": [
    "# Alertnate - Quick Test code for a different protein\n",
    "import nglview\n",
    "view = nglview.show_pdbid(\"3pqr\")  # load \"3pqr\" from RCSB PDB and display viewer widget\n",
    "view"
   ]
  },
  {
   "cell_type": "code",
   "execution_count": null,
   "id": "03861c64-4109-41ed-a28e-1b3b36c6ede2",
   "metadata": {},
   "outputs": [],
   "source": [
    "# Alternate - Quick Test code using built in NGLView demo\n",
    "view = nv.demo()\n",
    "view"
   ]
  },
  {
   "cell_type": "code",
   "execution_count": null,
   "id": "699a4677-1079-4b62-b044-b9cee965d313",
   "metadata": {},
   "outputs": [],
   "source": [
    "# For debugging - use this command to show your currrent version of ipywidgets\n",
    "! pip show ipywidgets"
   ]
  },
  {
   "cell_type": "code",
   "execution_count": null,
   "id": "c1a6c930",
   "metadata": {},
   "outputs": [],
   "source": [
    "# If you are having issues with nglview display, try running the following commands:\n",
    "#   first close your notebook, run this from the terminal, and reopen\n",
    "# pip install —upgrade notebook\n",
    "# pip install --upgrade ipywidgets"
   ]
  },
  {
   "cell_type": "code",
   "execution_count": null,
   "id": "b655fafb",
   "metadata": {},
   "outputs": [],
   "source": [
    "## End of Notebook ##"
   ]
  }
 ],
 "metadata": {
  "kernelspec": {
   "display_name": "Python 3 (ipykernel)",
   "language": "python",
   "name": "python3"
  },
  "language_info": {
   "codemirror_mode": {
    "name": "ipython",
    "version": 3
   },
   "file_extension": ".py",
   "mimetype": "text/x-python",
   "name": "python",
   "nbconvert_exporter": "python",
   "pygments_lexer": "ipython3",
   "version": "3.12.11"
  }
 },
 "nbformat": 4,
 "nbformat_minor": 5
}
