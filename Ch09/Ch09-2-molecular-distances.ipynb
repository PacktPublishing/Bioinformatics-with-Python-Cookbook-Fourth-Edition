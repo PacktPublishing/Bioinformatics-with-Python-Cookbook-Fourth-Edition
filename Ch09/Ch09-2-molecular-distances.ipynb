{
 "cells": [
  {
   "cell_type": "code",
   "execution_count": null,
   "id": "9f15edc4",
   "metadata": {},
   "outputs": [],
   "source": [
    "# Ch 9-2 - Computing molecular distances on a PDB file"
   ]
  },
  {
   "cell_type": "code",
   "execution_count": null,
   "id": "261dd6e0",
   "metadata": {},
   "outputs": [],
   "source": [
    "# Load model\n",
    "from Bio import PDB \n",
    "repository = PDB.PDBList() \n",
    "parser = PDB.PDBParser() \n",
    "repository.retrieve_pdb_file('1TUP', pdir='.', file_format='pdb') \n",
    "p53_1tup = parser.get_structure('P 53', 'pdb1tup.ent') "
   ]
  },
  {
   "cell_type": "code",
   "execution_count": null,
   "id": "189e72bb",
   "metadata": {},
   "outputs": [],
   "source": [
    "# Get Zincs\n",
    "zns = []\n",
    "for atom in p53_1tup.get_atoms(): \n",
    "    if atom.element == 'ZN': \n",
    "        zns.append(atom) \n",
    "for zn in zns: \n",
    "    print(zn, zn.coord) "
   ]
  },
  {
   "cell_type": "code",
   "execution_count": null,
   "id": "45708c7f",
   "metadata": {},
   "outputs": [],
   "source": [
    "# Get the distance between one atom and another set of atoms\n",
    "import math \n",
    "def get_closest_atoms(pdb_struct, ref_atom, distance): \n",
    "    atoms = {} \n",
    "    rx, ry, rz = ref_atom.coord \n",
    "    for atom in pdb_struct.get_atoms(): \n",
    "        if atom == ref_atom: \n",
    "            continue \n",
    "        x, y, z = atom.coord \n",
    "        my_dist = math.sqrt((x - rx)**2 + (y - ry)**2 + (z - rz)**2) \n",
    "        if my_dist < distance: \n",
    "            atoms[atom] = my_dist \n",
    "    return atoms "
   ]
  },
  {
   "cell_type": "code",
   "execution_count": null,
   "id": "def34d3d",
   "metadata": {},
   "outputs": [],
   "source": [
    "# Compute atoms near zincs\n",
    "for zn in zns: \n",
    "    print() \n",
    "    print(zn.coord) \n",
    "    atoms = get_closest_atoms(p53_1tup, zn, 4) \n",
    "    for atom, distance in atoms.items(): \n",
    "        print(atom.element, distance, atom.coord) "
   ]
  },
  {
   "cell_type": "code",
   "execution_count": null,
   "id": "5aeceeae",
   "metadata": {},
   "outputs": [],
   "source": [
    "# How many atoms do we get as we increase the distance\n",
    "for distance in [1, 2, 4, 8, 16, 32, 64, 128]: \n",
    "    my_atoms = [] \n",
    "    for zn in zns: \n",
    "        atoms = get_closest_atoms(p53_1tup, zn, distance) \n",
    "        my_atoms.append(len(atoms)) \n",
    "    print(distance, my_atoms) "
   ]
  },
  {
   "cell_type": "code",
   "execution_count": null,
   "id": "310865b4",
   "metadata": {},
   "outputs": [],
   "source": [
    "# Time the output\n",
    "import timeit \n",
    "nexecs = 10 \n",
    "print(timeit.timeit('get_closest_atoms(p53_1tup, zns[0], 4.0)', \n",
    "    'from __main__ import get_closest_atoms, p53_1tup, zns', \n",
    "    number=nexecs) / nexecs * 1000) "
   ]
  },
  {
   "cell_type": "code",
   "execution_count": null,
   "id": "753d85a2",
   "metadata": {},
   "outputs": [],
   "source": [
    "# A better distance function\n",
    "def get_closest_alternative(pdb_struct, ref_atom, distance): \n",
    "    atoms = {} \n",
    "    rx, ry, rz = ref_atom.coord \n",
    "    for atom in pdb_struct.get_atoms(): \n",
    "        if atom == ref_atom: \n",
    "            continue \n",
    "        x, y, z = atom.coord \n",
    "        if abs(x - rx) > distance or abs(y - ry) > distance or abs(z - rz) > distance: \n",
    "            continue \n",
    "        my_dist = math.sqrt((x - rx)**2 + (y - ry)**2 + (z - rz)**2) \n",
    "        if my_dist < distance: \n",
    "            atoms[atom] = my_dist \n",
    "    return atoms "
   ]
  },
  {
   "cell_type": "code",
   "execution_count": null,
   "id": "f6e2e5d7",
   "metadata": {},
   "outputs": [],
   "source": [
    "# Now let's time it:\n",
    "print(timeit.timeit('get_closest_alternative(p53_1tup, zns[0], 4.0)', \n",
    "    'from __main__ import get_closest_alternative, p53_1tup, zns', \n",
    "    number=nexecs) / nexecs * 1000) "
   ]
  },
  {
   "cell_type": "code",
   "execution_count": null,
   "id": "ad69ba33",
   "metadata": {},
   "outputs": [],
   "source": [
    "# Compare the function with different distances\n",
    "print('Standard') \n",
    "for distance in [1, 4, 16, 64, 128]: \n",
    "    print(timeit.timeit('get_closest_atoms(p53_1tup, zns[0], distance)', \n",
    "    'from __main__ import get_closest_atoms, p53_1tup, zns, distance', \n",
    "    number=nexecs) / nexecs * 1000) \n",
    "print('Optimized') \n",
    "for distance in [1, 4, 16, 64, 128]: \n",
    "    print(timeit.timeit('get_closest_alternative(p53_1tup, zns[0], distance)', \n",
    "        'from __main__ import get_closest_alternative, p53_1tup, zns, distance', \n",
    "        number=nexecs) / nexecs * 1000)"
   ]
  },
  {
   "cell_type": "code",
   "execution_count": null,
   "id": "26d469c5",
   "metadata": {},
   "outputs": [],
   "source": [
    "## End of Notebook ##"
   ]
  }
 ],
 "metadata": {
  "kernelspec": {
   "display_name": "Python 3 (ipykernel)",
   "language": "python",
   "name": "python3"
  },
  "language_info": {
   "codemirror_mode": {
    "name": "ipython",
    "version": 3
   },
   "file_extension": ".py",
   "mimetype": "text/x-python",
   "name": "python",
   "nbconvert_exporter": "python",
   "pygments_lexer": "ipython3",
   "version": "3.11.3"
  }
 },
 "nbformat": 4,
 "nbformat_minor": 5
}
