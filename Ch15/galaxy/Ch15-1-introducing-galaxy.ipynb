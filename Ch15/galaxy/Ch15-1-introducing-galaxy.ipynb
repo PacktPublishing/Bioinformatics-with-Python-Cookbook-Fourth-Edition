{
 "cells": [
  {
   "cell_type": "code",
   "execution_count": null,
   "id": "816fb516-37d9-49b7-a262-1dab6bdb32a6",
   "metadata": {},
   "outputs": [],
   "source": [
    "# Ch15-1 Introducing Galaxy"
   ]
  },
  {
   "cell_type": "code",
   "execution_count": null,
   "id": "7cb3ca76-dbce-4b1e-81d5-6ebc07e49d26",
   "metadata": {},
   "outputs": [],
   "source": [
    "## In this exercise you will set up an account on usegalaxy.org and learn the Galaxy interface\n",
    "# You will be running the commands below in the Terminal to set up a Docker container for Galaxy\n",
    "#. These instructions are notes for you to follow and run in your terminal\n",
    "#      - no actual Jupyter notebook work will be used here"
   ]
  },
  {
   "cell_type": "code",
   "execution_count": null,
   "id": "2ef173f6",
   "metadata": {},
   "outputs": [],
   "source": [
    "### Docker Installation of Galaxy ###\n",
    "# First make sure you have Docker installed\n",
    "#  Follow the instructions in Chapter 14-3 \"Building a Container in AWS ECR\"\n",
    "# Then Register with Docker here:\n",
    "#  https://app.docker.com/signup \n",
    "#  Test that you can log into Docker from the terminal like this: \n",
    "# docker login "
   ]
  },
  {
   "cell_type": "code",
   "execution_count": null,
   "id": "cba11fcf-4910-4828-aa4f-f0901663713a",
   "metadata": {},
   "outputs": [],
   "source": [
    "# Docker Pull of the Galaxy image"
   ]
  },
  {
   "cell_type": "code",
   "execution_count": null,
   "id": "da1f5697-b697-4a0e-a5b0-3abeddf48e8c",
   "metadata": {},
   "outputs": [],
   "source": [
    "# Docker Run"
   ]
  },
  {
   "cell_type": "code",
   "execution_count": null,
   "id": "d0ac053f-5ef2-4f38-9675-e9f7f06645c6",
   "metadata": {},
   "outputs": [],
   "source": [
    "# Check that Galaxy container is running here:"
   ]
  },
  {
   "cell_type": "code",
   "execution_count": null,
   "id": "e931ea70-aea7-481e-b74e-b9fd8f3abaea",
   "metadata": {},
   "outputs": [],
   "source": []
  },
  {
   "cell_type": "code",
   "execution_count": null,
   "id": "555ae5cb-88f4-4989-9a2a-6ab82feed1bd",
   "metadata": {},
   "outputs": [],
   "source": []
  },
  {
   "cell_type": "code",
   "execution_count": null,
   "id": "8d41b995-1ed8-45e8-a1ba-406539dcb95e",
   "metadata": {},
   "outputs": [],
   "source": [
    "## End of Notebook ##"
   ]
  }
 ],
 "metadata": {
  "kernelspec": {
   "display_name": "Python 3 (ipykernel)",
   "language": "python",
   "name": "python3"
  },
  "language_info": {
   "codemirror_mode": {
    "name": "ipython",
    "version": 3
   },
   "file_extension": ".py",
   "mimetype": "text/x-python",
   "name": "python",
   "nbconvert_exporter": "python",
   "pygments_lexer": "ipython3",
   "version": "3.8.6"
  }
 },
 "nbformat": 4,
 "nbformat_minor": 5
}
