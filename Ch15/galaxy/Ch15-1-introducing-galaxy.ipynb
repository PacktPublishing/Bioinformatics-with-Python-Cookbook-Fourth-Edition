{
 "cells": [
  {
   "cell_type": "code",
   "execution_count": null,
   "id": "816fb516-37d9-49b7-a262-1dab6bdb32a6",
   "metadata": {},
   "outputs": [],
   "source": [
    "# Ch15-1 Introducing Galaxy"
   ]
  },
  {
   "cell_type": "code",
   "execution_count": null,
   "id": "7cb3ca76-dbce-4b1e-81d5-6ebc07e49d26",
   "metadata": {},
   "outputs": [],
   "source": [
    "## In this exercise you will set up an account on usegalaxy.org and learn the Galaxy interface\n",
    "# You will be running the commands below in the Terminal to set up a Docker container for Galaxy\n",
    "#. These instructions are notes for you to follow and run in your terminal\n",
    "#      - no actual Jupyter notebook work will be used here"
   ]
  },
  {
   "cell_type": "code",
   "execution_count": null,
   "id": "2ef173f6",
   "metadata": {},
   "outputs": [],
   "source": [
    "### Docker Installation of Galaxy ###\n",
    "# First make sure you have Docker installed\n",
    "#  Follow the instructions in Chapter 1-2 \"Installing the required software with Docker\"\n",
    "# Then Register with Docker here:\n",
    "#  https://app.docker.com/signup \n",
    "#  Test that you can log into Docker from the terminal like this: \n",
    "# docker login "
   ]
  },
  {
   "cell_type": "code",
   "execution_count": null,
   "id": "cba11fcf-4910-4828-aa4f-f0901663713a",
   "metadata": {},
   "outputs": [],
   "source": [
    "# Docker Pull of the Galaxy image\n",
    "# docker pull bgruening/galaxy-stable "
   ]
  },
  {
   "cell_type": "code",
   "execution_count": null,
   "id": "7b13f410-1827-46b7-8b6c-572da46a13d1",
   "metadata": {},
   "outputs": [],
   "source": [
    "# Create a directory to store the data for the Docker container:\n",
    "# mkdir /tmp/galaxy_data "
   ]
  },
  {
   "cell_type": "code",
   "execution_count": null,
   "id": "da1f5697-b697-4a0e-a5b0-3abeddf48e8c",
   "metadata": {},
   "outputs": [],
   "source": [
    "# Docker Run\n",
    "# docker run -d -p 8080:80 --platform linux/amd64 -v /tmp/galaxy_data:/export --name galaxy bgruening/galaxy-stable "
   ]
  },
  {
   "cell_type": "code",
   "execution_count": null,
   "id": "d0ac053f-5ef2-4f38-9675-e9f7f06645c6",
   "metadata": {},
   "outputs": [],
   "source": [
    "# Check that Galaxy container is running (this will also show you what port it is running on):\n",
    "# docker ps "
   ]
  },
  {
   "cell_type": "code",
   "execution_count": null,
   "id": "8d41b995-1ed8-45e8-a1ba-406539dcb95e",
   "metadata": {},
   "outputs": [],
   "source": [
    "## End of Notebook ##"
   ]
  }
 ],
 "metadata": {
  "kernelspec": {
   "display_name": "Python 3 (ipykernel)",
   "language": "python",
   "name": "python3"
  },
  "language_info": {
   "codemirror_mode": {
    "name": "ipython",
    "version": 3
   },
   "file_extension": ".py",
   "mimetype": "text/x-python",
   "name": "python",
   "nbconvert_exporter": "python",
   "pygments_lexer": "ipython3",
   "version": "3.12.10"
  }
 },
 "nbformat": 4,
 "nbformat_minor": 5
}
