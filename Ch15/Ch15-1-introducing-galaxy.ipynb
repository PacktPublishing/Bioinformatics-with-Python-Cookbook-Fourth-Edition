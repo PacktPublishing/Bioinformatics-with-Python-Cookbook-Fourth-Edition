{
 "cells": [
  {
   "cell_type": "code",
   "execution_count": null,
   "id": "816fb516-37d9-49b7-a262-1dab6bdb32a6",
   "metadata": {},
   "outputs": [],
   "source": [
    "# Ch15-1 Introducing Galaxy"
   ]
  },
  {
   "cell_type": "code",
   "execution_count": null,
   "id": "7cb3ca76-dbce-4b1e-81d5-6ebc07e49d26",
   "metadata": {},
   "outputs": [],
   "source": []
  },
  {
   "cell_type": "code",
   "execution_count": null,
   "id": "cba11fcf-4910-4828-aa4f-f0901663713a",
   "metadata": {},
   "outputs": [],
   "source": []
  },
  {
   "cell_type": "code",
   "execution_count": null,
   "id": "da1f5697-b697-4a0e-a5b0-3abeddf48e8c",
   "metadata": {},
   "outputs": [],
   "source": []
  },
  {
   "cell_type": "code",
   "execution_count": null,
   "id": "d0ac053f-5ef2-4f38-9675-e9f7f06645c6",
   "metadata": {},
   "outputs": [],
   "source": []
  },
  {
   "cell_type": "code",
   "execution_count": null,
   "id": "e931ea70-aea7-481e-b74e-b9fd8f3abaea",
   "metadata": {},
   "outputs": [],
   "source": []
  },
  {
   "cell_type": "code",
   "execution_count": null,
   "id": "555ae5cb-88f4-4989-9a2a-6ab82feed1bd",
   "metadata": {},
   "outputs": [],
   "source": []
  },
  {
   "cell_type": "code",
   "execution_count": null,
   "id": "8d41b995-1ed8-45e8-a1ba-406539dcb95e",
   "metadata": {},
   "outputs": [],
   "source": []
  }
 ],
 "metadata": {
  "kernelspec": {
   "display_name": "Python 3 (ipykernel)",
   "language": "python",
   "name": "python3"
  },
  "language_info": {
   "codemirror_mode": {
    "name": "ipython",
    "version": 3
   },
   "file_extension": ".py",
   "mimetype": "text/x-python",
   "name": "python",
   "nbconvert_exporter": "python",
   "pygments_lexer": "ipython3",
   "version": "3.11.3"
  }
 },
 "nbformat": 4,
 "nbformat_minor": 5
}
