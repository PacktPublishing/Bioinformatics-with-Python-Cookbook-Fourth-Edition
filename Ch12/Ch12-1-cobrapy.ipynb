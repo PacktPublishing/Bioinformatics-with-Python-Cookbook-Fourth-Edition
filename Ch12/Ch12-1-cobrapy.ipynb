{
 "cells": [
  {
   "cell_type": "code",
   "execution_count": null,
   "id": "3badbb9f-6117-46ee-9978-87f10180a0cf",
   "metadata": {},
   "outputs": [],
   "source": [
    "# Ch12-1 - Metabolic Modelling with CobraPy"
   ]
  },
  {
   "cell_type": "code",
   "execution_count": null,
   "id": "6722835f-7af1-4edd-964b-6ab25676fc50",
   "metadata": {},
   "outputs": [],
   "source": [
    "# Install the CobraPy package\n",
    "! pip install cobra"
   ]
  },
  {
   "cell_type": "code",
   "execution_count": null,
   "id": "544f1e2e-b155-48e4-bd35-08f36ca43007",
   "metadata": {},
   "outputs": [],
   "source": [
    "# Download the E. coli SBML mode from BiGG\n",
    "! wget http://bigg.ucsd.edu/static/models/e_coli_core.xml"
   ]
  },
  {
   "cell_type": "code",
   "execution_count": 12,
   "id": "73d4e357-cf1e-438d-a681-0ebe6a2b8688",
   "metadata": {},
   "outputs": [
    {
     "name": "stdout",
     "output_type": "stream",
     "text": [
      "Wild-type growth rate (objective value): 0.8739215069684305\n",
      "Flux distribution for key reactions:\n",
      "PFK: 7.477381962160288\n",
      "PFL: 0.0\n",
      "PGI: 4.860861146496824\n",
      "PGK: -16.023526143167608\n",
      "PGL: 4.959984944574649\n",
      "ACALD: 0.0\n",
      "AKGt2r: 0.0\n",
      "PGM: -14.716139568742832\n",
      "PIt2r: 3.214895047684764\n",
      "ALCD2x: 0.0\n",
      "\n",
      "Growth rate after knocking out gene b0351: 0.8739215069684303\n",
      "\n",
      "Change in fluxes for selected reactions after knockout:\n",
      "PFK: Δ flux = 0.00\n",
      "PFL: Δ flux = 0.00\n",
      "PGI: Δ flux = 0.00\n",
      "PGK: Δ flux = 0.00\n",
      "PGL: Δ flux = -0.00\n",
      "ACALD: Δ flux = 0.00\n",
      "AKGt2r: Δ flux = 0.00\n",
      "PGM: Δ flux = 0.00\n",
      "PIt2r: Δ flux = -0.00\n",
      "ALCD2x: Δ flux = 0.00\n"
     ]
    }
   ],
   "source": [
    "import cobra\n",
    "\n",
    "# Load the E. coli core model \n",
    "import cobra\n",
    "\n",
    "model = cobra.io.read_sbml_model(\"e_coli_core.xml\")\n",
    "\n",
    "# -----------------------------\n",
    "# Step 1: Run FBA on the Wild‐Type Model\n",
    "# -----------------------------\n",
    "solution_wt = model.optimize()\n",
    "print(\"Wild-type growth rate (objective value):\", solution_wt.objective_value)\n",
    "print(\"Flux distribution for key reactions:\")\n",
    "for rxn in model.reactions[:10]:\n",
    "    print(f\"{rxn.id}: {solution_wt.fluxes[rxn.id]}\")\n",
    "\n",
    "# -----------------------------\n",
    "# Step 2: Simulate a Gene Knockout\n",
    "# -----------------------------\n",
    "# For example, let's knock out gene \"b0001\" (this is one of the genes in the E. coli model)\n",
    "gene_to_knockout = \"b0351\"\n",
    "with model:\n",
    "    # Knock out the gene (this automatically adjusts the reactions associated with the gene)\n",
    "    model.genes.get_by_id(gene_to_knockout).knock_out()\n",
    "    \n",
    "    # Optimize the model after knockout\n",
    "    solution_ko = model.optimize()\n",
    "    print(f\"\\nGrowth rate after knocking out gene {gene_to_knockout}:\", solution_ko.objective_value)\n",
    "\n",
    "# -----------------------------\n",
    "# Step 3: Compare Flux Distributions (Optional)\n",
    "# -----------------------------\n",
    "print(\"\\nChange in fluxes for selected reactions after knockout:\")\n",
    "for rxn in model.reactions[:10]:\n",
    "    flux_change = solution_wt.fluxes[rxn.id] - solution_ko.fluxes[rxn.id]\n",
    "    print(f\"{rxn.id}: Δ flux = {flux_change:.2f}\")\n"
   ]
  },
  {
   "cell_type": "code",
   "execution_count": null,
   "id": "b38d096f-3846-46fb-8fec-5fa507a62479",
   "metadata": {},
   "outputs": [],
   "source": [
    "# Review genes you could knock out in your model\n",
    "print(\"Available gene IDs in the model:\")\n",
    "for gene in model.genes:\n",
    "    print(gene.id)\n"
   ]
  },
  {
   "cell_type": "code",
   "execution_count": null,
   "id": "abf612f6-ebc9-4b19-ad8d-7b9e18266497",
   "metadata": {},
   "outputs": [],
   "source": []
  },
  {
   "cell_type": "code",
   "execution_count": null,
   "id": "fda3e5d0-5403-4a70-bc74-e9b40c4da6f6",
   "metadata": {},
   "outputs": [],
   "source": []
  }
 ],
 "metadata": {
  "kernelspec": {
   "display_name": "Python 3 (ipykernel)",
   "language": "python",
   "name": "python3"
  },
  "language_info": {
   "codemirror_mode": {
    "name": "ipython",
    "version": 3
   },
   "file_extension": ".py",
   "mimetype": "text/x-python",
   "name": "python",
   "nbconvert_exporter": "python",
   "pygments_lexer": "ipython3",
   "version": "3.11.3"
  }
 },
 "nbformat": 4,
 "nbformat_minor": 5
}
