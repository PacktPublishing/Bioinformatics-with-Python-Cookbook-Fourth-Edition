{
 "cells": [
  {
   "cell_type": "code",
   "execution_count": null,
   "id": "3badbb9f-6117-46ee-9978-87f10180a0cf",
   "metadata": {},
   "outputs": [],
   "source": [
    "# Ch12-1 - Metabolic Modelling with CobraPy"
   ]
  },
  {
   "cell_type": "code",
   "execution_count": null,
   "id": "6722835f-7af1-4edd-964b-6ab25676fc50",
   "metadata": {},
   "outputs": [],
   "source": [
    "# Install the CobraPy package\n",
    "! pip install cobra"
   ]
  },
  {
   "cell_type": "code",
   "execution_count": null,
   "id": "544f1e2e-b155-48e4-bd35-08f36ca43007",
   "metadata": {},
   "outputs": [],
   "source": [
    "# Download the E. coli SBML mode from BiGG\n",
    "! wget http://bigg.ucsd.edu/static/models/e_coli_core.xml"
   ]
  },
  {
   "cell_type": "code",
   "execution_count": null,
   "id": "329c2c54-e29e-45e1-90a9-c846f5da2c30",
   "metadata": {},
   "outputs": [],
   "source": [
    "# Load the E. coli core model \n",
    "import cobra\n",
    "model = cobra.io.read_sbml_model(\"e_coli_core.xml\")"
   ]
  },
  {
   "cell_type": "code",
   "execution_count": null,
   "id": "41e0bb39-4e8a-421f-a190-9c4e8a9993ab",
   "metadata": {},
   "outputs": [],
   "source": [
    "# -----------------------------\n",
    "# Step 1: Run FBA on the Wild‐Type Model\n",
    "# -----------------------------\n",
    "solution_wt = model.optimize()\n",
    "print(\"Wild-type growth rate (objective value):\", solution_wt.objective_value)\n",
    "print(\"Flux distribution for key reactions:\")\n",
    "for rxn in model.reactions[:10]:\n",
    "    print(f\"{rxn.id}: {solution_wt.fluxes[rxn.id]}\")"
   ]
  },
  {
   "cell_type": "code",
   "execution_count": null,
   "id": "e649b3cf-9ba0-450c-8ab1-aa998272e961",
   "metadata": {},
   "outputs": [],
   "source": [
    "# Review the objective function\n",
    "from cobra.util.solver import linear_reaction_coefficients\n",
    "print(\"Objective direction:\", model.objective.direction)   # 'max' or 'min'\n",
    "for rxn, coef in linear_reaction_coefficients(model).items():\n",
    "    print(f\"{rxn.id}: {coef}\")"
   ]
  },
  {
   "cell_type": "code",
   "execution_count": null,
   "id": "30534058-aae7-464a-86fb-93e2370aa71c",
   "metadata": {},
   "outputs": [],
   "source": [
    "# -----------------------------\n",
    "# Step 2: Simulate a Gene Knockout\n",
    "# -----------------------------\n",
    "# For example, let's knock out gene \"b0001\" (this is one of the genes in the E. coli model)\n",
    "gene_to_knockout = \"b0351\"\n",
    "with model:\n",
    "    # Knock out the gene (this automatically adjusts the reactions associated with the gene)\n",
    "    model.genes.get_by_id(gene_to_knockout).knock_out()\n",
    "    \n",
    "    # Optimize the model after knockout\n",
    "    solution_ko = model.optimize()\n",
    "    print(f\"\\nGrowth rate after knocking out gene {gene_to_knockout}:\", solution_ko.objective_value)"
   ]
  },
  {
   "cell_type": "code",
   "execution_count": null,
   "id": "204c324d-2ce1-4f5d-b886-7de9624e17bd",
   "metadata": {},
   "outputs": [],
   "source": [
    "# Review genes you could knock out in your model\n",
    "print(\"Available gene IDs in the model:\")\n",
    "for gene in model.genes:\n",
    "    print(gene.id)"
   ]
  },
  {
   "cell_type": "code",
   "execution_count": null,
   "id": "955ca8b8-9265-4a57-aa43-0901659f6f58",
   "metadata": {},
   "outputs": [],
   "source": [
    "# Step 2b - Try other gene knock outs\n",
    "gene_to_knockout = \"s0001\"\n",
    "with model:\n",
    "    # Knock out the gene (this automatically adjusts the reactions associated with the gene)\n",
    "    model.genes.get_by_id(gene_to_knockout).knock_out()\n",
    "    \n",
    "    # Optimize the model after knockout\n",
    "    solution_ko = model.optimize()\n",
    "    print(f\"\\nGrowth rate after knocking out gene {gene_to_knockout}:\", solution_ko.objective_value)"
   ]
  },
  {
   "cell_type": "code",
   "execution_count": null,
   "id": "a51b8ecb-ff43-4e3e-9895-ce8761d06cd4",
   "metadata": {},
   "outputs": [],
   "source": [
    "# -----------------------------\n",
    "# Step 3: Compare Flux Distributions (Optional)\n",
    "# -----------------------------\n",
    "print(\"\\nChange in fluxes for selected reactions after knockout:\")\n",
    "for rxn in model.reactions[:10]:\n",
    "    flux_change = solution_wt.fluxes[rxn.id] - solution_ko.fluxes[rxn.id]\n",
    "    print(f\"{rxn.id}: Δ flux = {flux_change:.2f}\")"
   ]
  },
  {
   "cell_type": "code",
   "execution_count": null,
   "id": "abf612f6-ebc9-4b19-ad8d-7b9e18266497",
   "metadata": {},
   "outputs": [],
   "source": [
    "## End of Notebook ##"
   ]
  }
 ],
 "metadata": {
  "kernelspec": {
   "display_name": "Python 3 (ipykernel)",
   "language": "python",
   "name": "python3"
  },
  "language_info": {
   "codemirror_mode": {
    "name": "ipython",
    "version": 3
   },
   "file_extension": ".py",
   "mimetype": "text/x-python",
   "name": "python",
   "nbconvert_exporter": "python",
   "pygments_lexer": "ipython3",
   "version": "3.11.3"
  }
 },
 "nbformat": 4,
 "nbformat_minor": 5
}
