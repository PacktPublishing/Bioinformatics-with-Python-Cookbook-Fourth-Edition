{
 "cells": [
  {
   "cell_type": "code",
   "execution_count": null,
   "id": "b45bb1d0-e1b9-4362-98a8-0e8bc83873ee",
   "metadata": {},
   "outputs": [],
   "source": [
    "# Ch06-1 Variant Annotation"
   ]
  },
  {
   "cell_type": "code",
   "execution_count": null,
   "id": "ad9e1368",
   "metadata": {},
   "outputs": [],
   "source": [
    "# Copy over variants file and set up directories\n",
    "! mkdir -p input\n",
    "! mkdir -p output\n",
    "! mkdir -p data\n",
    "! cp ../Ch05/output/variants.vcf input/ "
   ]
  },
  {
   "cell_type": "code",
   "execution_count": null,
   "id": "3a98407f",
   "metadata": {},
   "outputs": [],
   "source": [
    "# Install cyvcf2\n",
    "! pip install cyvcf2"
   ]
  },
  {
   "cell_type": "code",
   "execution_count": null,
   "id": "d6616b21",
   "metadata": {},
   "outputs": [],
   "source": [
    "# 1. Filter variants based on quality using cyvcf2\n",
    "from cyvcf2 import VCF, Writer"
   ]
  },
  {
   "cell_type": "code",
   "execution_count": null,
   "id": "ac2352ac",
   "metadata": {},
   "outputs": [],
   "source": [
    "# Function to filter a vcf based on quality and/or chromosome \n",
    "def filter_vcf(input_vcf, output_vcf, min_quality=30, chrom_filter=None):\n",
    "    \"\"\"\n",
    "    Filter variants in a VCF file based on quality\n",
    "    Parameters:\n",
    "        input_vcf (str): Path to the input VCF file\n",
    "        output_vcf (str): Path to the output filtered VCF file\n",
    "        min_quality (float): Minimum quality score to retain a variant\n",
    "        chrom_filter (list): List of chromosomes to include (e.g., ['chr1', 'chr2'])\n",
    "    \"\"\"\n",
    "    # Open the input VCF file\n",
    "    vcf = VCF(input_vcf)\n",
    "    # Create a writer for the output VCF\n",
    "    writer = Writer(output_vcf, vcf)\n",
    "    for variant in vcf:\n",
    "        # Filter based on quality\n",
    "        if variant.QUAL is not None and variant.QUAL < min_quality:\n",
    "            continue\n",
    "        # Filter based on chromosome\n",
    "        if chrom_filter and variant.CHROM not in chrom_filter:\n",
    "            continue\n",
    "        # Write the variant to the output VCF\n",
    "        writer.write_record(variant)\n",
    "    # Close the VCF reader and writer\n",
    "    vcf.close()\n",
    "    writer.close()\n",
    "    print(f\"Filtered VCF written to: {output_vcf}\")"
   ]
  },
  {
   "cell_type": "code",
   "execution_count": null,
   "id": "39747968",
   "metadata": {},
   "outputs": [],
   "source": [
    "# Main function to all our filtering function on an input vcf file and set filtering criteria\n",
    "def main():\n",
    "    input_vcf = \"input/variants.vcf\"  # Path to the input VCF file\n",
    "    output_vcf = \"output/filtered_variants.vcf\"  # Path to the output filtered VCF file\n",
    "    min_quality = 30  # Minimum quality score\n",
    "    chrom_filter = [\"NC_000913.3\"]  # E. coli chromosome\n",
    "    filter_vcf(input_vcf, output_vcf, min_quality, chrom_filter)\n",
    "if __name__ == \"__main__\":\n",
    "    main()"
   ]
  },
  {
   "cell_type": "code",
   "execution_count": null,
   "id": "1e1a615a",
   "metadata": {},
   "outputs": [],
   "source": [
    "## 2. Graph Allele Frequencies using cyvcf2 ##"
   ]
  },
  {
   "cell_type": "code",
   "execution_count": null,
   "id": "ec15f387",
   "metadata": {},
   "outputs": [],
   "source": [
    "# Import Libraries #\n",
    "from cyvcf2 import VCF\n",
    "import matplotlib.pyplot as plt"
   ]
  },
  {
   "cell_type": "code",
   "execution_count": null,
   "id": "d9ae6921-8d60-47aa-8dc6-2a491cf0cdd6",
   "metadata": {
    "scrolled": true
   },
   "outputs": [],
   "source": [
    "# Function to plot allele frequency\n",
    "def plot_allele_frequency(vcf_file, output_file=None):\n",
    "    \"\"\"\n",
    "    Plot the allele frequency of variants across the genome.\n",
    "    Parameters:\n",
    "        vcf_file (str): Path to the VCF file.\n",
    "        output_file (str): Path to save the plot (optional).\n",
    "    \"\"\"\n",
    "    # Initialize lists to store positions and allele frequencies\n",
    "    chrom_positions = []\n",
    "    allele_frequencies = []\n",
    "    # Open the VCF file\n",
    "    vcf = VCF(vcf_file)\n",
    "    # Iterate over variants in the VCF\n",
    "    for variant in vcf:\n",
    "        # Extract allele frequency from INFO field\n",
    "        af = variant.INFO.get(\"AF\")\n",
    "        if af is not None:\n",
    "            if isinstance(af, (list, tuple)):  # Handle multiple allele frequencies\n",
    "                for freq in af:\n",
    "                    allele_frequencies.append(float(freq))\n",
    "                    chrom_positions.append((variant.CHROM, variant.POS))\n",
    "            else:  # Single allele frequency\n",
    "                allele_frequencies.append(float(af))\n",
    "                chrom_positions.append((variant.CHROM, variant.POS))\n",
    "    # Close the VCF file\n",
    "    vcf.close()\n",
    "    # Prepare data for plotting\n",
    "    chrom_names = sorted(set(chrom for chrom, _ in chrom_positions))   \n",
    "    chrom_offsets = {chrom: i * 1e6 for i, chrom in enumerate(chrom_names)}  # Chromosome offsets for spacing\n",
    "    plot_positions = [chrom_offsets[chrom] + pos for chrom, pos in chrom_positions]\n",
    "    # Ensure x and y have the same length\n",
    "    assert len(plot_positions) == len(allele_frequencies), \"Mismatch between positions and frequencies!\"\n",
    "    # Create the plot\n",
    "    plt.figure(figsize=(12, 6))\n",
    "    plt.scatter(plot_positions, allele_frequencies, alpha=0.5, s=10, label=\"Allele Frequency\")\n",
    "    plt.xlabel(\"Genomic Position (Chromosomes)\")\n",
    "    plt.ylabel(\"Allele Frequency\")\n",
    "    plt.title(\"Allele Frequency Across the Genome\")\n",
    "    plt.xticks(\n",
    "        [chrom_offsets[chrom] for chrom in chrom_names],\n",
    "        labels=chrom_names,\n",
    "        rotation=45\n",
    "    )\n",
    "    plt.grid(True)\n",
    "    plt.legend()\n",
    "    # Save or show the plot\n",
    "    if output_file:\n",
    "        plt.savefig(output_file, dpi=300, bbox_inches=\"tight\")\n",
    "        print(f\"Plot saved to: {output_file}\")\n",
    "    else:\n",
    "        plt.show()"
   ]
  },
  {
   "cell_type": "code",
   "execution_count": null,
   "id": "739590cf",
   "metadata": {
    "scrolled": true
   },
   "outputs": [],
   "source": [
    "# main function\n",
    "def main():\n",
    "    vcf_file = \"input/variants.vcf\"  # Replace with your VCF file\n",
    "    output_file = \"output/allele_frequency_plot.png\"  # Path to save the plot (optional)\n",
    "    # Plot allele frequency\n",
    "    plot_allele_frequency(vcf_file, output_file)\n",
    "if __name__ == \"__main__\":\n",
    "    main()"
   ]
  },
  {
   "cell_type": "code",
   "execution_count": null,
   "id": "4ecab8b5-1709-41ce-87a8-e2ddad716c0c",
   "metadata": {},
   "outputs": [],
   "source": [
    "## 3. Plot variant types with cyvcf2 ##"
   ]
  },
  {
   "cell_type": "code",
   "execution_count": null,
   "id": "44263db1",
   "metadata": {},
   "outputs": [],
   "source": [
    "# Import Libraries #\n",
    "from cyvcf2 import VCF\n",
    "import matplotlib.pyplot as plt\n",
    "from collections import Counter"
   ]
  },
  {
   "cell_type": "code",
   "execution_count": null,
   "id": "6786abe2",
   "metadata": {},
   "outputs": [],
   "source": [
    "def categorize_variant(variant):\n",
    "    \"\"\"\n",
    "    Categorize a variant as SNP, insertion, or deletion.\n",
    "    Parameters:\n",
    "        variant: A cyvcf2.Variant object.\n",
    "    Returns:\n",
    "        str: The variant type (e.g., \"SNP\", \"Insertion\", \"Deletion\").\n",
    "    \"\"\"\n",
    "    ref_len = len(variant.REF)\n",
    "    alt_len = max(len(alt) for alt in variant.ALT)\n",
    "    if ref_len == 1 and alt_len == 1:\n",
    "        return \"SNP\"\n",
    "    elif ref_len < alt_len:\n",
    "        return \"Insertion\"\n",
    "    elif ref_len > alt_len:\n",
    "        return \"Deletion\"\n",
    "    else:\n",
    "        return \"Other\""
   ]
  },
  {
   "cell_type": "code",
   "execution_count": null,
   "id": "8262aebc",
   "metadata": {},
   "outputs": [],
   "source": [
    "# Plotting function - build a pie chart showing the percentage of different variant types\n",
    "def plot_variant_types(vcf_file, output_file=None):\n",
    "    \"\"\"\n",
    "    Parse a VCF file and plot the distribution of variant types.\n",
    "    Parameters:\n",
    "        vcf_file (str): Path to the input VCF file.\n",
    "        output_file (str): Path to save the plot (optional).\n",
    "    \"\"\"\n",
    "    # Initialize a counter for variant types\n",
    "    variant_counts = Counter()\n",
    "    # Open the VCF file and categorize variants\n",
    "    print(f\"Processing VCF file: {vcf_file}\")\n",
    "    vcf = VCF(vcf_file)\n",
    "    for variant in vcf:\n",
    "        variant_type = categorize_variant(variant)\n",
    "        variant_counts[variant_type] += 1\n",
    "    vcf.close()\n",
    "    # Extract data for plotting\n",
    "    labels = list(variant_counts.keys())\n",
    "    sizes = list(variant_counts.values())\n",
    "    # Create a pie chart\n",
    "    plt.figure(figsize=(10, 8))\n",
    "    wedges, _, autotexts = plt.pie(\n",
    "        sizes, autopct=\"%1.1f%%\", startangle=140,\n",
    "        colors=plt.cm.tab10.colors, wedgeprops={\"edgecolor\": \"black\", \"linewidth\": 1.5}\n",
    "    )\n",
    "    # Add a legend\n",
    "    plt.legend(\n",
    "        wedges, labels,\n",
    "        title=\"Variant Types\",\n",
    "        loc=\"center left\",\n",
    "        bbox_to_anchor=(1, 0.5),\n",
    "        frameon=False\n",
    "    )\n",
    "    plt.title(\"Variant Type Distribution\", fontsize=14, fontweight=\"bold\")\n",
    "    # Save or show the plot\n",
    "    if output_file:\n",
    "        plt.savefig(output_file, dpi=300, bbox_inches=\"tight\")\n",
    "        print(f\"Plot saved to: {output_file}\")\n",
    "    else:\n",
    "        plt.show()"
   ]
  },
  {
   "cell_type": "code",
   "execution_count": null,
   "id": "03d7aa54",
   "metadata": {},
   "outputs": [],
   "source": [
    "# Main function to classify variants and plot the results\n",
    "def main():\n",
    "    # Define input and output file paths\n",
    "    vcf_file = \"input/variants.vcf\"  # Replace with your VCF file\n",
    "    output_file = \"output/variant_type_distribution.png\"  # Optional output file\n",
    "    # Plot the variant type distribution\n",
    "    plot_variant_types(vcf_file, output_file)\n",
    "if __name__ == \"__main__\":\n",
    "    main()"
   ]
  },
  {
   "cell_type": "code",
   "execution_count": null,
   "id": "3b9e6d37",
   "metadata": {},
   "outputs": [],
   "source": [
    "## 4. Introducing a Missense mutation in a Gene ## "
   ]
  },
  {
   "cell_type": "code",
   "execution_count": null,
   "id": "45783617",
   "metadata": {},
   "outputs": [],
   "source": [
    "# Import libraries\n",
    "from Bio.Seq import Seq\n",
    "from Bio.SeqRecord import SeqRecord\n",
    "from Bio.SeqFeature import SeqFeature, FeatureLocation"
   ]
  },
  {
   "cell_type": "code",
   "execution_count": null,
   "id": "05fc5047",
   "metadata": {},
   "outputs": [],
   "source": [
    "# Function to introduce a change in the sequence\n",
    "def introduce_variant(sequence, position, ref, alt):\n",
    "    \"\"\"\n",
    "    Introduce a variant into the DNA sequence.\n",
    "    Parameters:\n",
    "        sequence (str): The original DNA sequence.\n",
    "        position (int): The 0-based index of the position to mutate.\n",
    "        ref (str): The reference base(s) at the position.\n",
    "        alt (str): The alternate base(s) to replace the reference.\n",
    "    Returns:\n",
    "        str: The modified DNA sequence.\n",
    "    \"\"\"\n",
    "    # Replace the reference base with the alternate base\n",
    "    return sequence[:position] + alt + sequence[position + len(ref):]"
   ]
  },
  {
   "cell_type": "code",
   "execution_count": null,
   "id": "4e7df4c3",
   "metadata": {},
   "outputs": [],
   "source": [
    "# Demonstrate the functional change\n",
    "# Define the original gene sequence\n",
    "gene_sequence = Seq(\"ATGGCATTTGACTGGTAA\")  # Example gene (encodes \"MAFDW*\" in protein)\n",
    "# Simulate a variant: change TTT (Phe) at position 3 to TGT (Cys)\n",
    "variant_position = 3  # 0-based index\n",
    "reference_codon = \"TTT\"\n",
    "alternate_codon = \"TGT\"\n",
    "print(\"Original Gene Sequence:\")\n",
    "print(gene_sequence)\n",
    "# Introduce the variant\n",
    "mutated_sequence = introduce_variant(str(gene_sequence), variant_position, reference_codon, alternate_codon)\n",
    "print(\"\\nMutated Gene Sequence:\")\n",
    "print(mutated_sequence)\n",
    "# Translate the original and mutated sequences\n",
    "original_protein = gene_sequence.translate()\n",
    "mutated_protein = Seq(mutated_sequence).translate()\n",
    "print(\"\\nOriginal Protein Sequence:\")\n",
    "print(original_protein)\n",
    "print(\"\\nMutated Protein Sequence:\")\n",
    "print(mutated_protein)"
   ]
  },
  {
   "cell_type": "code",
   "execution_count": null,
   "id": "49b58f4e-b55d-44d1-a0ed-57bf143ad4e1",
   "metadata": {},
   "outputs": [],
   "source": [
    "## End of Notebook ##"
   ]
  }
 ],
 "metadata": {
  "kernelspec": {
   "display_name": "Python 3 (ipykernel)",
   "language": "python",
   "name": "python3"
  },
  "language_info": {
   "codemirror_mode": {
    "name": "ipython",
    "version": 3
   },
   "file_extension": ".py",
   "mimetype": "text/x-python",
   "name": "python",
   "nbconvert_exporter": "python",
   "pygments_lexer": "ipython3",
   "version": "3.11.3"
  }
 },
 "nbformat": 4,
 "nbformat_minor": 5
}
