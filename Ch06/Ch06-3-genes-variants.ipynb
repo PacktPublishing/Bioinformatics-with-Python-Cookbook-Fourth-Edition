{
 "cells": [
  {
   "cell_type": "code",
   "execution_count": null,
   "id": "1bd8f2fe",
   "metadata": {},
   "outputs": [],
   "source": [
    "# Ch06-3 - Genes & Variant impacts"
   ]
  },
  {
   "cell_type": "code",
   "execution_count": null,
   "id": "79892569",
   "metadata": {},
   "outputs": [],
   "source": [
    "# Intersect variants.vcf with Genbank file and determine effect on coding frame\n",
    "#  Also includes check for amino acid change\n",
    "#  Graph the variants with their impact and the type of change along the Genome"
   ]
  },
  {
   "cell_type": "code",
   "execution_count": null,
   "id": "7a32b79b",
   "metadata": {},
   "outputs": [],
   "source": [
    "# Import Librarires\n",
    "from Bio import SeqIO\n",
    "from Bio.SeqFeature import SeqFeature, FeatureLocation\n",
    "from Bio.Seq import Seq\n",
    "import matplotlib.pyplot as plt"
   ]
  },
  {
   "cell_type": "code",
   "execution_count": null,
   "id": "6908378c",
   "metadata": {},
   "outputs": [],
   "source": [
    "# Define file paths\n",
    "genbank_file = \"output/ecoli_prodigal_combined.gb\"\n",
    "vcf_file = \"input/variants.vcf\"\n",
    "output_log_file = \"output/variant_analysis.log\""
   ]
  },
  {
   "cell_type": "code",
   "execution_count": null,
   "id": "01ed008f",
   "metadata": {},
   "outputs": [],
   "source": [
    "# Function to parse VCF file and extract variants\n",
    "def parse_vcf(vcf_file):\n",
    "    variants = []\n",
    "    with open(vcf_file, \"r\") as vcf:\n",
    "        for line in vcf:\n",
    "            if line.startswith(\"#\"):\n",
    "                continue\n",
    "            fields = line.strip().split(\"\\t\")\n",
    "            chrom = fields[0]\n",
    "            pos = int(fields[1]) - 1  # Convert to 0-based index\n",
    "            ref = fields[3]\n",
    "            alt = fields[4]\n",
    "            variants.append((chrom, pos, ref, alt))\n",
    "    return variants"
   ]
  },
  {
   "cell_type": "code",
   "execution_count": null,
   "id": "a2d7d9e2",
   "metadata": {},
   "outputs": [],
   "source": [
    "# Function to determine if a variant changes the coding frame\n",
    "def changes_coding_frame(ref, alt):\n",
    "    return (len(ref) - len(alt)) % 3 != 0"
   ]
  },
  {
   "cell_type": "code",
   "execution_count": null,
   "id": "312dc071",
   "metadata": {},
   "outputs": [],
   "source": [
    "# Function to determine if a variant introduces an amino acid change\n",
    "def introduces_amino_acid_change(cds_sequence, ref, alt, position_in_cds):\n",
    "    try:\n",
    "        # Ensure the reference matches the expected sequence\n",
    "        if cds_sequence[position_in_cds:position_in_cds + len(ref)] != ref:\n",
    "            raise ValueError(\"Reference allele does not match CDS at the specified position.\")\n",
    "        # Create original and mutated CDS\n",
    "        original_cds = cds_sequence\n",
    "        mutated_cds = cds_sequence[:position_in_cds] + alt + cds_sequence[position_in_cds + len(ref):]\n",
    "        # Translate both sequences to proteins\n",
    "        original_protein = Seq(original_cds).translate(to_stop=True)\n",
    "        mutated_protein = Seq(mutated_cds).translate(to_stop=True)\n",
    "        return original_protein != mutated_protein\n",
    "    except Exception as e:\n",
    "        with open(output_log_file, \"a\") as log:\n",
    "            log.write(f\"Error processing variant at position {position_in_cds + 1}: {e}\\n\")\n",
    "        return False"
   ]
  },
  {
   "cell_type": "code",
   "execution_count": null,
   "id": "c5f22d75",
   "metadata": {},
   "outputs": [],
   "source": [
    "# Plotting function\n",
    "def plot_variant_changes(variant_data):\n",
    "    positions = [data[0] for data in variant_data]\n",
    "    change_types = [data[1] for data in variant_data]\n",
    "\n",
    "    plt.figure(figsize=(12, 6))\n",
    "    plt.scatter(positions, change_types, alpha=0.7, edgecolors=\"k\")\n",
    "    plt.xlabel(\"Position in Genome\", fontsize=12)\n",
    "    plt.ylabel(\"Type of Change\", fontsize=12)\n",
    "    plt.title(\"Variant Type vs. Position in Genome\", fontsize=14, fontweight=\"bold\")\n",
    "    plt.yticks(ticks=[0, 1, 2], labels=[\"No Change\", \"Frame Change\", \"AA Change\"])\n",
    "    plt.grid(alpha=0.5)\n",
    "    plt.show()"
   ]
  },
  {
   "cell_type": "code",
   "execution_count": null,
   "id": "c79e4a57",
   "metadata": {},
   "outputs": [],
   "source": [
    "# Parse the VCF file\n",
    "variants = parse_vcf(vcf_file)"
   ]
  },
  {
   "cell_type": "code",
   "execution_count": null,
   "id": "6bfa42d8",
   "metadata": {},
   "outputs": [],
   "source": [
    "# Parse the GenBank file and check for intersecting variants\n",
    "variant_data = []\n",
    "with open(output_log_file, \"w\") as log:\n",
    "    with open(genbank_file, \"r\") as gb_file:\n",
    "        for record in SeqIO.parse(gb_file, \"genbank\"):\n",
    "            for feature in record.features:\n",
    "                if feature.type == \"CDS\":\n",
    "                    cds_start = int(feature.location.start)\n",
    "                    cds_end = int(feature.location.end)\n",
    "                    cds_sequence = str(feature.extract(record.seq))\n",
    "                    for chrom, pos, ref, alt in variants:\n",
    "                        if chrom == record.id and cds_start <= pos < cds_end:\n",
    "                            in_cds = True\n",
    "                            frame_change = changes_coding_frame(ref, alt)\n",
    "                            position_in_cds = pos - cds_start\n",
    "                            amino_acid_change = introduces_amino_acid_change(cds_sequence, ref, alt, position_in_cds)\n",
    "                            change_type = 2 if amino_acid_change else (1 if frame_change else 0)\n",
    "                            variant_data.append((pos + 1, change_type))  # Store position and change type\n",
    "                            log.write(f\"Variant at position {pos + 1} (Ref: {ref}, Alt: {alt}) intersects CDS ({cds_start + 1}-{cds_end}).\\n\")\n",
    "                            if frame_change:\n",
    "                                log.write(\"\\tThis variant changes the coding frame.\\n\")\n",
    "                            else:\n",
    "                                log.write(\"\\tThis variant does not change the coding frame.\\n\")\n",
    "                            if amino_acid_change:\n",
    "                                log.write(\"\\tThis variant introduces an amino acid change.\\n\")\n",
    "                            else:\n",
    "                                log.write(\"\\tThis variant does not introduce an amino acid change.\\n\")"
   ]
  },
  {
   "cell_type": "code",
   "execution_count": null,
   "id": "082db443",
   "metadata": {
    "scrolled": true
   },
   "outputs": [],
   "source": [
    "# Plot the variant changes\n",
    "plot_variant_changes(variant_data)"
   ]
  },
  {
   "cell_type": "code",
   "execution_count": null,
   "id": "6ec706a2",
   "metadata": {},
   "outputs": [],
   "source": [
    "## Optional Exercise - SnpEff ##"
   ]
  },
  {
   "cell_type": "code",
   "execution_count": null,
   "id": "ce924628",
   "metadata": {},
   "outputs": [],
   "source": [
    "# Install SnpEff #\n",
    "# Download latest version\n",
    "! wget https://snpeff.blob.core.windows.net/versions/snpEff_latest_core.zip\n",
    "# Unzip file\n",
    "! unzip snpEff_latest_core.zip"
   ]
  },
  {
   "cell_type": "code",
   "execution_count": null,
   "id": "a2aa092b",
   "metadata": {},
   "outputs": [],
   "source": [
    "## SnpEff example on Human ##  \n",
    "java -Xmx4g -jar snpEff.jar download GRCh38.99\n",
    "# create human_variants.vcf in /inputs\n",
    "java -Xmx4g -jar snpEff/snpEff.jar GRCh38.99 snpEff/examples/test.vcf > output/human_annotated_variants.vcf"
   ]
  },
  {
   "cell_type": "code",
   "execution_count": null,
   "id": "9312d766",
   "metadata": {},
   "outputs": [],
   "source": [
    "## End of Notebook ###"
   ]
  }
 ],
 "metadata": {
  "kernelspec": {
   "display_name": "Python 3 (ipykernel)",
   "language": "python",
   "name": "python3"
  },
  "language_info": {
   "codemirror_mode": {
    "name": "ipython",
    "version": 3
   },
   "file_extension": ".py",
   "mimetype": "text/x-python",
   "name": "python",
   "nbconvert_exporter": "python",
   "pygments_lexer": "ipython3",
   "version": "3.11.3"
  }
 },
 "nbformat": 4,
 "nbformat_minor": 5
}
