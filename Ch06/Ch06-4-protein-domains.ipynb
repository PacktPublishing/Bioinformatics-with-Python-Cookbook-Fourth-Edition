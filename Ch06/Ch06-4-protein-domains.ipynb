{
 "cells": [
  {
   "cell_type": "code",
   "execution_count": null,
   "id": "1db7016c",
   "metadata": {},
   "outputs": [],
   "source": [
    "# Ch06-4 Protein Domain annotation"
   ]
  },
  {
   "cell_type": "code",
   "execution_count": null,
   "id": "910cd9dc",
   "metadata": {},
   "outputs": [],
   "source": [
    "# Install hmmer\n",
    "! brew install hmmer\n",
    "# Download the PFAM database\n",
    "! mkdir -p pfam\n",
    "! wget ftp://ftp.ebi.ac.uk/pub/databases/Pfam/current_release/Pfam-A.hmm.gz\n",
    "! gunzip Pfam-A.hmm.gz\n",
    "! mv Pfam-A.hmm pfam/\n",
    "! cd pfam\n",
    "! hmmpress Pfam-A.hmm  # Index the HMM database\n",
    "! cd .."
   ]
  },
  {
   "cell_type": "code",
   "execution_count": null,
   "id": "e255def4",
   "metadata": {},
   "outputs": [],
   "source": [
    "# Code to make a smaller file with only 10 entries from the E. coli protein fasta (.faa) file\n",
    "from Bio import SeqIO\n",
    "# Define input and output file paths\n",
    "input_fasta = \"output/ecoli_proteins.faa\"  # Input protein FASTA file\n",
    "output_fasta = \"output/ecoli_proteins.top10.faa\"  # Output file for the first 10 entries\n",
    "# Function to select the first N entries from a FASTA file (Default is 10)\n",
    "def select_first_n_entries(input_file, output_file, n=10):\n",
    "    \"\"\"\n",
    "    Selects the first N entries from a FASTA file and writes them to a new file.\n",
    "    Parameters:\n",
    "        input_file (str): Path to the input FASTA file.\n",
    "        output_file (str): Path to the output FASTA file.\n",
    "        n (int): Number of entries to select.\n",
    "    Returns:\n",
    "        None\n",
    "    \"\"\"\n",
    "    # Read and write the first N entries\n",
    "    with open(input_file, \"r\") as infile, open(output_file, \"w\") as outfile:\n",
    "        records = SeqIO.parse(infile, \"fasta\")\n",
    "        limited_records = (record for i, record in enumerate(records) if i < n)\n",
    "        SeqIO.write(limited_records, outfile, \"fasta\")\n",
    "    print(f\"First {n} entries written to {output_file}\")\n",
    "\n",
    "# Call the function to select the first 10 entries of the E. coli faa file\n",
    "select_first_n_entries(input_fasta, output_fasta, n=10)"
   ]
  },
  {
   "cell_type": "code",
   "execution_count": null,
   "id": "5164336e",
   "metadata": {},
   "outputs": [],
   "source": [
    "# Import Libraries\n",
    "import os\n",
    "import subprocess\n",
    "from Bio import SeqIO"
   ]
  },
  {
   "cell_type": "code",
   "execution_count": null,
   "id": "4e931d11",
   "metadata": {},
   "outputs": [],
   "source": [
    "# Define file paths\n",
    "fasta_file = \"output/ecoli_proteins.top10.faa\"  # Input protein FASTA file (from Prodigal annotation)\n",
    "pfam_hmm_db = \"pfam/Pfam-A.hmm\"          # Path to the Pfam-A HMM database\n",
    "output_domtblout = \"output/ecoli.pfam_domains.top10.out\"  # HMMER domain table output file for E. coli"
   ]
  },
  {
   "cell_type": "code",
   "execution_count": null,
   "id": "212cfa2f",
   "metadata": {},
   "outputs": [],
   "source": [
    "# Function to run hmmsearch\n",
    "def run_hmmsearch(input_fasta, hmm_db, output_file):\n",
    "    \"\"\"\n",
    "    Runs HMMER's hmmsearch to find Pfam domains in the input FASTA file.\n",
    "    Parameters:\n",
    "        input_fasta (str): Path to the input protein FASTA file.\n",
    "        hmm_db (str): Path to the Pfam-A HMM database.\n",
    "        output_file (str): Path to the output domain table file.\n",
    "    Returns:\n",
    "        None\n",
    "    \"\"\"\n",
    "    command = [\n",
    "        \"hmmsearch\",  # HMMER executable\n",
    "        \"--domtblout\", output_file,  # Domain table output\n",
    "        hmm_db,  # Pfam HMM database\n",
    "        input_fasta  # Input protein FASTA file\n",
    "    ]\n",
    "    print(f\"Running HMMER with command: {' '.join(command)}\")\n",
    "    subprocess.run(command, check=True)\n",
    "    print(f\"HMMER search completed. Results saved to {output_file}\")"
   ]
  },
  {
   "cell_type": "code",
   "execution_count": null,
   "id": "5fb7f975",
   "metadata": {},
   "outputs": [],
   "source": [
    "# Function to parse hmmsearch output\n",
    "def parse_hmmsearch_output(domtbl_file):\n",
    "    \"\"\"\n",
    "    Parses the hmmsearch domain table output to extract domain annotations.\n",
    "\n",
    "    Parameters:\n",
    "        domtbl_file (str): Path to the domain table output file.\n",
    "\n",
    "    Returns:\n",
    "        list: A list of domain annotations (query name, domain name, e-value).\n",
    "    \"\"\"\n",
    "    annotations = []\n",
    "    with open(domtbl_file, \"r\") as file:\n",
    "        for line in file:\n",
    "            if line.startswith(\"#\") or not line.strip():\n",
    "                continue\n",
    "            fields = line.split()\n",
    "            query_name = fields[0]  # Query sequence name\n",
    "            domain_name = fields[3]  # Domain name (Pfam ID)\n",
    "            e_value = float(fields[6])  # E-value of the match\n",
    "            annotations.append((query_name, domain_name, e_value))\n",
    "    return annotations"
   ]
  },
  {
   "cell_type": "code",
   "execution_count": null,
   "id": "1fac9414",
   "metadata": {},
   "outputs": [],
   "source": [
    "# Function to annotate FASTA file with Pfam domains\n",
    "def annotate_fasta_with_pfam(fasta_file, annotations):\n",
    "    \"\"\"\n",
    "    Annotates sequences in a FASTA file with Pfam domain information.\n",
    "\n",
    "    Parameters:\n",
    "        fasta_file (str): Path to the input FASTA file.\n",
    "        annotations (list): List of domain annotations.\n",
    "\n",
    "    Returns:\n",
    "        None\n",
    "    \"\"\"\n",
    "    annotated_file = \"annotated_protein.fasta\"\n",
    "    seq_annotations = {query: [] for query, _, _ in annotations}\n",
    "    for query, domain, e_value in annotations:\n",
    "        seq_annotations[query].append(f\"{domain} (E-value: {e_value:.2e})\")\n",
    "    \n",
    "    with open(annotated_file, \"w\") as output:\n",
    "        for record in SeqIO.parse(fasta_file, \"fasta\"):\n",
    "            domains = seq_annotations.get(record.id, [])\n",
    "            record.description += \" | Domains: \" + \", \".join(domains) if domains else \"\"\n",
    "            SeqIO.write(record, output, \"fasta\")\n",
    "    print(f\"Annotated FASTA file saved to {annotated_file}\")"
   ]
  },
  {
   "cell_type": "code",
   "execution_count": null,
   "id": "964d9f58",
   "metadata": {},
   "outputs": [],
   "source": [
    "# Main execution\n",
    "if __name__ == \"__main__\":\n",
    "    # Ensure Pfam database is indexed\n",
    "    if not os.path.exists(f\"{pfam_hmm_db}.h3f\"):\n",
    "        print(\"Indexing Pfam HMM database...\")\n",
    "        subprocess.run([\"hmmpress\", pfam_hmm_db], check=True)\n",
    "\n",
    "    # Run hmmsearch\n",
    "    run_hmmsearch(fasta_file, pfam_hmm_db, output_domtblout)\n",
    "\n",
    "    # Parse the hmmsearch output\n",
    "    pfam_annotations = parse_hmmsearch_output(output_domtblout)\n",
    "\n",
    "    # Annotate the input FASTA file with Pfam domains\n",
    "    annotate_fasta_with_pfam(fasta_file, pfam_annotations)"
   ]
  },
  {
   "cell_type": "code",
   "execution_count": null,
   "id": "13d24a9e",
   "metadata": {},
   "outputs": [],
   "source": [
    "# Clean up by moving the hmmer annotated protein fasta output into our output directory\n",
    "! mv annotated_protein.fasta output "
   ]
  },
  {
   "cell_type": "code",
   "execution_count": null,
   "id": "0396870b",
   "metadata": {},
   "outputs": [],
   "source": [
    "## End of Notebook ##"
   ]
  }
 ],
 "metadata": {
  "kernelspec": {
   "display_name": "Python 3 (ipykernel)",
   "language": "python",
   "name": "python3"
  },
  "language_info": {
   "codemirror_mode": {
    "name": "ipython",
    "version": 3
   },
   "file_extension": ".py",
   "mimetype": "text/x-python",
   "name": "python",
   "nbconvert_exporter": "python",
   "pygments_lexer": "ipython3",
   "version": "3.11.3"
  }
 },
 "nbformat": 4,
 "nbformat_minor": 5
}
