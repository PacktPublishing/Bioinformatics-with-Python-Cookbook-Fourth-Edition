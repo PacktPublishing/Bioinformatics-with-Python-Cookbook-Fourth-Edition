{
 "cells": [
  {
   "cell_type": "code",
   "execution_count": null,
   "id": "e06d1bd4",
   "metadata": {},
   "outputs": [],
   "source": [
    "# Ch06-2 - Genome Annotation"
   ]
  },
  {
   "cell_type": "code",
   "execution_count": null,
   "id": "c8db12aa",
   "metadata": {},
   "outputs": [],
   "source": [
    "# Example wget command for downloading the E. coli Genbank file"
   ]
  },
  {
   "cell_type": "code",
   "execution_count": null,
   "id": "09ee29ad",
   "metadata": {},
   "outputs": [],
   "source": [
    "! wget ftp://ftp.ncbi.nlm.nih.gov/genomes/all/GCF/000/005/845/GCF_000005845.2_ASM584v2/GCF_000005845.2_ASM584v2_genomic.gbff.gz"
   ]
  },
  {
   "cell_type": "code",
   "execution_count": null,
   "id": "dfad9dac",
   "metadata": {},
   "outputs": [],
   "source": [
    "# Install Prodigal to annotate the E. coli genome #"
   ]
  },
  {
   "cell_type": "code",
   "execution_count": null,
   "id": "e69a576d",
   "metadata": {},
   "outputs": [],
   "source": [
    "! brew install prodigal"
   ]
  },
  {
   "cell_type": "code",
   "execution_count": null,
   "id": "523a08e6",
   "metadata": {},
   "outputs": [],
   "source": [
    "# Alternative prodigal install options:\n",
    "! arch -arm64 brew install prodigal "
   ]
  },
  {
   "cell_type": "code",
   "execution_count": null,
   "id": "1abfd594",
   "metadata": {},
   "outputs": [],
   "source": [
    "# Or alternatively: \n",
    "! conda install bioconda::prodigal "
   ]
  },
  {
   "cell_type": "code",
   "execution_count": null,
   "id": "7f2866d2",
   "metadata": {},
   "outputs": [],
   "source": [
    "# Move over the E. coli reference genome file from Chapter 05"
   ]
  },
  {
   "cell_type": "code",
   "execution_count": null,
   "id": "3b1ea6d1",
   "metadata": {},
   "outputs": [],
   "source": [
    "! cp ../Ch05/ecoli_genome/ecoli_reference.fasta input/ "
   ]
  },
  {
   "cell_type": "code",
   "execution_count": null,
   "id": "bbd49157",
   "metadata": {},
   "outputs": [],
   "source": [
    "# Or alternatively, download it again"
   ]
  },
  {
   "cell_type": "code",
   "execution_count": null,
   "id": "e7df3d32",
   "metadata": {},
   "outputs": [],
   "source": [
    "! wget https://ftp.ncbi.nlm.nih.gov/genomes/all/GCF/000/005/845/GCF_000005845.2_ASM584v2/GCF_000005845.2_ASM584v2_genomic.fna.gz \n",
    "! gunzip GCF_000005845.2_ASM584v2_genomic.fna.gz "
   ]
  },
  {
   "cell_type": "code",
   "execution_count": null,
   "id": "ebf60c9b",
   "metadata": {},
   "outputs": [],
   "source": [
    "# 1. Run Prodigal on the E. coli genome # "
   ]
  },
  {
   "cell_type": "code",
   "execution_count": null,
   "id": "0726983d",
   "metadata": {},
   "outputs": [],
   "source": [
    "# Import libraries\n",
    "import subprocess\n",
    "import os"
   ]
  },
  {
   "cell_type": "code",
   "execution_count": null,
   "id": "1e4a1824",
   "metadata": {},
   "outputs": [],
   "source": [
    "# Function to run Prodigal\n",
    "def run_prodigal(input_fasta, output_gbk, output_proteins, output_cds):\n",
    "    \"\"\"\n",
    "    Run Prodigal on a given FASTA file to predict genes.\n",
    "    Parameters:\n",
    "        input_fasta (str): Path to the input FASTA file.\n",
    "        output_gbk (str): Path to the output GenBank file for gene predictions.\n",
    "        output_proteins (str): Path to the output FASTA file for predicted proteins.\n",
    "        output_cds (str): Path to the output FASTA file for predicted CDS.\n",
    "    \"\"\"\n",
    "    # Ensure input file exists\n",
    "    if not os.path.exists(input_fasta):\n",
    "        raise FileNotFoundError(f\"Input FASTA file not found: {input_fasta}\")\n",
    "    # Construct Prodigal command\n",
    "    command = [\n",
    "        \"prodigal\",\n",
    "        \"-i\", input_fasta,       # Input FASTA file\n",
    "        \"-o\", output_gbk,        # Output GenBank file\n",
    "        \"-a\", output_proteins,   # Output proteins FASTA file\n",
    "        \"-d\", output_cds,        # Output CDS FASTA file\n",
    "        \"-p\", \"single\"             # Mode (meta for metagenomes, single for single genome)\n",
    "    ]\n",
    "    # Run the Prodigal command\n",
    "    try:\n",
    "        print(\"Running Prodigal...\")\n",
    "        subprocess.run(command, check=True)\n",
    "        print(\"Prodigal run completed.\")\n",
    "    except subprocess.CalledProcessError as e:\n",
    "        print(f\"Error running Prodigal: {e}\")\n",
    "    except FileNotFoundError:\n",
    "        print(\"Prodigal is not installed or not in your PATH.\")"
   ]
  },
  {
   "cell_type": "code",
   "execution_count": null,
   "id": "f59f910c",
   "metadata": {},
   "outputs": [],
   "source": [
    "# Main function to execute Prodigal on our files\n",
    "if __name__ == \"__main__\":\n",
    "    # Input and output file paths\n",
    "    input_fasta = \"input/ecoli_reference.fasta\"       # Input FASTA file\n",
    "    output_gbk = \"output/ecoli_genes.gbk\"             # Output GenBank file\n",
    "    output_proteins = \"output/ecoli_proteins.faa\"     # Output proteins FASTA file\n",
    "    output_cds = \"output/ecoli_cds.fna\"               # Output CDS FASTA file\n",
    "    # Run Prodigal\n",
    "    run_prodigal(input_fasta, output_gbk, output_proteins, output_cds)"
   ]
  },
  {
   "cell_type": "code",
   "execution_count": null,
   "id": "e4c13776",
   "metadata": {},
   "outputs": [],
   "source": [
    "# 2. Combining prodigal output to get a genbank - this worked!"
   ]
  },
  {
   "cell_type": "code",
   "execution_count": null,
   "id": "e54d1065",
   "metadata": {},
   "outputs": [],
   "source": [
    "# Import libraries\n",
    "from Bio import SeqIO\n",
    "from Bio.Seq import Seq\n",
    "from Bio.SeqRecord import SeqRecord\n",
    "from Bio.SeqFeature import SeqFeature, FeatureLocation"
   ]
  },
  {
   "cell_type": "code",
   "execution_count": null,
   "id": "3cc16e5e",
   "metadata": {},
   "outputs": [],
   "source": [
    "# Function to parse the Prodigal header\n",
    "def parse_prodigal_header(header):\n",
    "    \"\"\"Parse Prodigal's FASTA header to extract gene information\"\"\"\n",
    "    # Example header: >NODE_1_1 # 1 # 951 # 1 # ID=1_1 # partial=00 # start_type=ATG\n",
    "    parts = header.split(' # ')\n",
    "    seqid = parts[0][1:]  # Remove '>'\n",
    "    start = int(parts[1])\n",
    "    end = int(parts[2])\n",
    "    strand = 1 if parts[3] == '1' else -1\n",
    "    return {\n",
    "        'seqid': seqid,\n",
    "        'start': start,\n",
    "        'end': end,\n",
    "        'strand': strand\n",
    "    }"
   ]
  },
  {
   "cell_type": "code",
   "execution_count": null,
   "id": "25428bff",
   "metadata": {},
   "outputs": [],
   "source": [
    "# Function to write out the updated Genbank file\n",
    "def create_genbank(genome_fasta, prodigal_fna, output_gb):\n",
    "    \"\"\"Create GenBank file from genome FASTA and Prodigal predictions\"\"\"\n",
    "    # Read genome sequence\n",
    "    genome_record = next(SeqIO.parse(genome_fasta, \"fasta\"))\n",
    "    # Create new SeqRecord for GenBank\n",
    "    gb_record = SeqRecord(\n",
    "        seq=genome_record.seq,\n",
    "        id=genome_record.id,\n",
    "        name=genome_record.id,\n",
    "        description=\"Generated from Prodigal predictions\"\n",
    "    )\n",
    "    # Add required GenBank annotations\n",
    "    gb_record.annotations[\"molecule_type\"] = \"DNA\"\n",
    "    gb_record.annotations[\"topology\"] = \"linear\"\n",
    "    gb_record.annotations[\"data_file_division\"] = \"BCT\"\n",
    "    gb_record.annotations[\"source\"] = \"Escherichia coli\"\n",
    "    gb_record.annotations[\"organism\"] = \"Escherichia coli\"\n",
    "    gb_record.annotations[\"taxonomy\"] = ['Bacteria', 'Proteobacteria', 'Gammaproteobacteria', \n",
    "                                       'Enterobacterales', 'Enterobacteriaceae', 'Escherichia']\n",
    "    # Add features from Prodigal predictions\n",
    "    feature_count = 0\n",
    "    for record in SeqIO.parse(prodigal_fna, \"fasta\"):\n",
    "        # Parse Prodigal header\n",
    "        gene_info = parse_prodigal_header(record.description)   \n",
    "        # Create feature\n",
    "        feature = SeqFeature(\n",
    "            location=FeatureLocation(\n",
    "                gene_info['start'] - 1,  # Convert to 0-based indexing\n",
    "                gene_info['end'],\n",
    "                strand=gene_info['strand']\n",
    "            ),\n",
    "            type=\"CDS\",\n",
    "            qualifiers={\n",
    "                \"locus_tag\": f\"CDS_{feature_count+1}\",\n",
    "                \"translation\": str(record.seq.translate()),\n",
    "                \"product\": \"hypothetical protein\",\n",
    "                \"note\": [\"Predicted by Prodigal\"]\n",
    "            }\n",
    "        )\n",
    "        # Add feature to record\n",
    "        gb_record.features.append(feature)\n",
    "        feature_count += 1\n",
    "    # Write GenBank file\n",
    "    SeqIO.write(gb_record, output_gb, \"genbank\")\n",
    "    print(f\"Created GenBank file with {feature_count} features\")"
   ]
  },
  {
   "cell_type": "code",
   "execution_count": null,
   "id": "e2d1d731",
   "metadata": {},
   "outputs": [],
   "source": [
    "# Main function to combine Prodigal output with Genome sequence\n",
    "def main():\n",
    "    create_genbank(\n",
    "        genome_fasta=\"input/ecoli_reference.fasta\",  # This is our e. coli fasta file\n",
    "        prodigal_fna=\"output/ecoli_cds.fna\",  # We will use the Prodigal CDS file\n",
    "        output_gb=\"output/ecoli_prodigal_combined.gb\"   # This will be the combined output file\n",
    "    )\n",
    "if __name__ == \"__main__\":\n",
    "    main()"
   ]
  },
  {
   "cell_type": "code",
   "execution_count": null,
   "id": "3efd8d35",
   "metadata": {},
   "outputs": [],
   "source": [
    "## 3. (Optional Exercise) Parse a Genbank file to Extract Annotations ##"
   ]
  },
  {
   "cell_type": "code",
   "execution_count": null,
   "id": "ab43c7da",
   "metadata": {},
   "outputs": [],
   "source": [
    "from Bio import SeqIO\n",
    "def annotate_ecoli(genbank_file, output_file):\n",
    "    \"\"\"\n",
    "    Extract gene information from a GenBank file.\n",
    "\n",
    "    Parameters:\n",
    "        genbank_file (str): Path to the GenBank file.\n",
    "        output_file (str): Path to save the annotation output.\n",
    "    \"\"\"\n",
    "    annotations = []\n",
    "\n",
    "    print(f\"Reading GenBank file: {genbank_file}\")\n",
    "    for record in SeqIO.parse(genbank_file, \"genbank\"):\n",
    "        print(f\"Processing record: {record.id}\")\n",
    "\n",
    "        for feature in record.features:\n",
    "            if feature.type == \"gene\":\n",
    "                gene_info = {\n",
    "                    \"gene_id\": feature.qualifiers.get(\"gene\", [\"unknown\"])[0],\n",
    "                    \"locus_tag\": feature.qualifiers.get(\"locus_tag\", [\"unknown\"])[0],\n",
    "                    \"start\": int(feature.location.start),\n",
    "                    \"end\": int(feature.location.end),\n",
    "                    \"strand\": \"+\" if feature.location.strand == 1 else \"-\",\n",
    "                }\n",
    "                annotations.append(gene_info)\n",
    "            elif feature.type == \"CDS\":\n",
    "                cds_info = {\n",
    "                    \"protein_id\": feature.qualifiers.get(\"protein_id\", [\"unknown\"])[0],\n",
    "                    \"gene\": feature.qualifiers.get(\"gene\", [\"unknown\"])[0],\n",
    "                    \"product\": feature.qualifiers.get(\"product\", [\"unknown\"])[0],\n",
    "                    \"start\": int(feature.location.start),\n",
    "                    \"end\": int(feature.location.end),\n",
    "                    \"strand\": \"+\" if feature.location.strand == 1 else \"-\",\n",
    "                }\n",
    "                annotations.append(cds_info)\n",
    "    # Write annotations to output file\n",
    "    print(f\"Writing annotations to: {output_file}\")\n",
    "    with open(output_file, \"w\") as out:\n",
    "        out.write(\"Type\\tID\\tStart\\tEnd\\tStrand\\tDetails\\n\")\n",
    "        for annotation in annotations:\n",
    "            if \"gene_id\" in annotation:\n",
    "                out.write(\n",
    "                    f\"Gene\\t{annotation['gene_id']}\\t{annotation['start']}\\t{annotation['end']}\\t\"\n",
    "                    f\"{annotation['strand']}\\tLocus: {annotation['locus_tag']}\\n\"\n",
    "                )\n",
    "            elif \"protein_id\" in annotation:\n",
    "                out.write(\n",
    "                    f\"CDS\\t{annotation['protein_id']}\\t{annotation['start']}\\t{annotation['end']}\\t\"\n",
    "                    f\"{annotation['strand']}\\tGene: {annotation['gene']}, Product: {annotation['product']}\\n\"\n",
    "                )\n",
    "\n",
    "    print(\"Annotation completed!\")\n",
    "\n",
    "# Main Usage\n",
    "#genbank_file = \"ecoli_genome/GCF_000005845.2_ASM584v2_genomic.gbff\"  # Public Genbank file\n",
    "genbank_file = \"output/ecoli_prodigal_combined.gb\"  # Genbank file we created using Prodigal\n",
    "output_file = \"output/ecoli_annotations.txt\"  # Output file for annotations\n",
    "annotate_ecoli(genbank_file, output_file)"
   ]
  },
  {
   "cell_type": "code",
   "execution_count": null,
   "id": "ebda8c2f",
   "metadata": {},
   "outputs": [],
   "source": [
    "# 4. Genome Browsers"
   ]
  },
  {
   "cell_type": "code",
   "execution_count": null,
   "id": "59dc9ced",
   "metadata": {},
   "outputs": [],
   "source": [
    "# Install IGV\n",
    "! brew install igv"
   ]
  },
  {
   "cell_type": "code",
   "execution_count": null,
   "id": "ce6956c8",
   "metadata": {},
   "outputs": [],
   "source": [
    "# Alternative IGV installation commands\n",
    "# brew install --cask igv\n",
    "# OR\n",
    "# brew install homebrew/cask/igv \n",
    "# OR\n",
    "#arch -arm64 brew install --cask igv \n",
    "# OR use conda:\n",
    "#conda install bioconda::igv  \n",
    "# Note: Using conda may require a Java update! brew link igv   "
   ]
  },
  {
   "cell_type": "code",
   "execution_count": null,
   "id": "78cd02e5",
   "metadata": {},
   "outputs": [],
   "source": [
    "# Create IGV symlinks\n",
    "! brew link igv"
   ]
  },
  {
   "cell_type": "code",
   "execution_count": null,
   "id": "a84bd9f7",
   "metadata": {},
   "outputs": [],
   "source": [
    "# Load the Progidal genome in IGV\n",
    "! igv output/ecoli_prodigal_combined.gb"
   ]
  },
  {
   "cell_type": "code",
   "execution_count": null,
   "id": "d4d9e051",
   "metadata": {},
   "outputs": [],
   "source": [
    "## End of Notebook ##"
   ]
  }
 ],
 "metadata": {
  "kernelspec": {
   "display_name": "Python 3 (ipykernel)",
   "language": "python",
   "name": "python3"
  },
  "language_info": {
   "codemirror_mode": {
    "name": "ipython",
    "version": 3
   },
   "file_extension": ".py",
   "mimetype": "text/x-python",
   "name": "python",
   "nbconvert_exporter": "python",
   "pygments_lexer": "ipython3",
   "version": "3.12.11"
  }
 },
 "nbformat": 4,
 "nbformat_minor": 5
}
