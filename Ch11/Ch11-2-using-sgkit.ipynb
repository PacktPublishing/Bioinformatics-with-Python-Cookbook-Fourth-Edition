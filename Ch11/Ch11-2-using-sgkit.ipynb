{
 "cells": [
  {
   "cell_type": "code",
   "execution_count": null,
   "id": "b2b305b9-9ca7-47b6-a9e3-99628fae7a9a",
   "metadata": {},
   "outputs": [],
   "source": [
    "# Ch11-2-using-sgkit"
   ]
  },
  {
   "cell_type": "code",
   "execution_count": null,
   "id": "2e374b2d-e950-4706-9616-fe2a91569257",
   "metadata": {},
   "outputs": [],
   "source": [
    "# Install libraries\n",
    "! pip install sgkit\n",
    "! pip install 'sgkit[plink]'"
   ]
  },
  {
   "cell_type": "code",
   "execution_count": null,
   "id": "49fa98d7-b20c-4b7c-8059-b41731966c35",
   "metadata": {},
   "outputs": [],
   "source": [
    "# 10.  Load dataset from previous recipe\n",
    "import numpy as np \n",
    "from sgkit.io import plink \n",
    "data = plink.read_plink(path='hapmap10_auto_noofs_ld', fam_sep='\\t') "
   ]
  },
  {
   "cell_type": "code",
   "execution_count": null,
   "id": "8882ef96-e1a2-41b7-9796-c8bce3d6d8ad",
   "metadata": {},
   "outputs": [],
   "source": [
    "# 11.  Check the structure of the data\n",
    "data "
   ]
  },
  {
   "cell_type": "code",
   "execution_count": null,
   "id": "d898cb18-c020-49dd-896f-9c8c4bd9e629",
   "metadata": {},
   "outputs": [],
   "source": [
    "# 12.  Get summary information\n",
    "print(data.dims) "
   ]
  },
  {
   "cell_type": "code",
   "execution_count": null,
   "id": "11d2e4fc-a090-4794-b2fb-b5272592dc86",
   "metadata": {},
   "outputs": [],
   "source": [
    "# 13.  Extract information about samples\n",
    "print(len(data.sample_id.values)) \n",
    "print(data.sample_id.values) \n",
    "print(data.sample_family_id.values) \n",
    "print(data.sample_sex.values) "
   ]
  },
  {
   "cell_type": "code",
   "execution_count": null,
   "id": "e9d1cc35-d74a-4e34-a716-d578fc9fc7f7",
   "metadata": {},
   "outputs": [],
   "source": [
    "# 14.  Review contigs\n",
    "print(data.contigs) "
   ]
  },
  {
   "cell_type": "code",
   "execution_count": null,
   "id": "a9e73ded-57b6-4dd8-be30-b0235c264af8",
   "metadata": {},
   "outputs": [],
   "source": [
    "# 15. Look at the variants\n",
    "print(len(data.variant_contig.values)) \n",
    "print(data.variant_contig.values) \n",
    "print(data.variant_position.values) \n",
    "print(data.variant_allele.values) \n",
    "print(data.variant_id.values) "
   ]
  },
  {
   "cell_type": "code",
   "execution_count": null,
   "id": "9edce820-55b9-4355-81ce-b6dd2b428023",
   "metadata": {},
   "outputs": [],
   "source": [
    "# 16.  Look at Genotype data\n",
    "call_genotype = data.call_genotype.values \n",
    "print(call_genotype.shape) \n",
    "first_individual = call_genotype[:,0,:] \n",
    "first_variant = call_genotype[0,:,:] \n",
    "first_variant_of_first_individual = call_genotype[0,0,:] \n",
    "print(first_variant_of_first_individual) \n",
    "print(data.sample_family_id.values[0], data.sample_id.values[0]) \n",
    "print(data.variant_allele.values[0]) "
   ]
  },
  {
   "cell_type": "code",
   "execution_count": null,
   "id": "540f6197-efa9-4ae0-a9ab-b27aa50778ef",
   "metadata": {},
   "outputs": [],
   "source": [
    "## End of Notebook ##"
   ]
  }
 ],
 "metadata": {
  "kernelspec": {
   "display_name": "Python 3 (ipykernel)",
   "language": "python",
   "name": "python3"
  },
  "language_info": {
   "codemirror_mode": {
    "name": "ipython",
    "version": 3
   },
   "file_extension": ".py",
   "mimetype": "text/x-python",
   "name": "python",
   "nbconvert_exporter": "python",
   "pygments_lexer": "ipython3",
   "version": "3.11.3"
  }
 },
 "nbformat": 4,
 "nbformat_minor": 5
}
