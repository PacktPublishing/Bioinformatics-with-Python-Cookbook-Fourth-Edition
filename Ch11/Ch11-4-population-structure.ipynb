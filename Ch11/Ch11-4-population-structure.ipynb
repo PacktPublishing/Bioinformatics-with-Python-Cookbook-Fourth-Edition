{
 "cells": [
  {
   "cell_type": "code",
   "execution_count": null,
   "id": "740fb6e1-c81d-4005-9429-4876bcad5650",
   "metadata": {},
   "outputs": [],
   "source": [
    "# Ch11-4-population-structure"
   ]
  },
  {
   "cell_type": "code",
   "execution_count": null,
   "id": "ed90f43f-539f-4d71-b530-9ce02aa78d48",
   "metadata": {},
   "outputs": [],
   "source": [
    "# 22. Load PLINK data with sgkit\n",
    "from collections import defaultdict \n",
    "from pprint import pprint \n",
    "import numpy as np \n",
    "import matplotlib.pyplot as plt \n",
    "import seaborn as sns \n",
    "import pandas as pd \n",
    "import xarray as xr \n",
    "import sgkit as sg \n",
    "from sgkit.io import plink \n",
    "data = plink.read_plink(path='hapmap10_auto_noofs_ld', fam_sep='\\t') "
   ]
  },
  {
   "cell_type": "code",
   "execution_count": null,
   "id": "d9207954-cce6-4a98-b77a-2ec4eb4c520c",
   "metadata": {},
   "outputs": [],
   "source": [
    "# 23.  Load data assigning individuals to populations\n",
    "f = open('data/relationships_w_pops_041510.txt') \n",
    "pop_ind = defaultdict(list) \n",
    "f.readline()\n",
    "for line in f: \n",
    "    toks = line.rstrip().split('\\t') \n",
    "    fam_id = toks[0] \n",
    "    ind_id = toks[1] \n",
    "    pop = toks[-1] \n",
    "    pop_ind[pop].append((fam_id, ind_id)) \n",
    "pops = list(pop_ind.keys()) "
   ]
  },
  {
   "cell_type": "code",
   "execution_count": null,
   "id": "fef0585f-e0c7-42b2-af23-6ec6ccf31e40",
   "metadata": {},
   "outputs": [],
   "source": [
    "# 24.  Inform sgkit about populations and samples\n",
    "def assign_cohort(pops, pop_ind, sample_family_id, sample_id): \n",
    "    cohort = [] \n",
    "    for fid, sid in zip(sample_family_id, sample_id): \n",
    "        processed = False \n",
    "        for i, pop in enumerate(pops): \n",
    "            if (fid, sid) in pop_ind[pop]: \n",
    "                processed = True \n",
    "                cohort.append(i) \n",
    "                break \n",
    "        if not processed: \n",
    "            raise Exception(f'Not processed {fid}, {sid}') \n",
    "    return cohort \n",
    "cohort = assign_cohort(pops, pop_ind, data.sample_family_id.values, data.sample_id.values) \n",
    "data['sample_cohort'] = xr.DataArray(cohort, dims='samples') "
   ]
  },
  {
   "cell_type": "code",
   "execution_count": null,
   "id": "0e3a07fc-8849-487f-af4c-fa2780f2f948",
   "metadata": {},
   "outputs": [],
   "source": [
    "# 25.  Compute statistics\n",
    "cohort_allele_frequency = sg.cohort_allele_frequencies(data)['cohort_allele_frequency'].values \n",
    "monom = {} \n",
    "for i, pop in enumerate(pops): \n",
    "    monom[pop] = len(list(filter(lambda x: x, np.isin(cohort_allele_frequency[:, i, 0], [0, 1])))) \n",
    "pprint(monom) "
   ]
  },
  {
   "cell_type": "code",
   "execution_count": null,
   "id": "3216b197-e12e-42cf-8692-606802482a32",
   "metadata": {},
   "outputs": [],
   "source": [
    "# 26. Get minimum allele frequency\n",
    "mafs = {} \n",
    "for i, pop in enumerate(pops): \n",
    "    min_freqs = map( \n",
    "        lambda x: x if x < 0.5 else 1 - x, \n",
    "        filter( \n",
    "            lambda x: x not in [0, 1], cohort_allele_frequency[:, i, 0])) \n",
    "    mafs[pop] = pd.Series(min_freqs) "
   ]
  },
  {
   "cell_type": "code",
   "execution_count": null,
   "id": "eb01f89b-a2d1-4cfb-9d2a-5598145fcf81",
   "metadata": {},
   "outputs": [],
   "source": [
    "# 27. Print MAF histograms\n",
    "maf_plot, maf_ax = plt.subplots(nrows=2, sharey=True) \n",
    "mafs['YRI'].hist(ax=maf_ax[0], bins=50) \n",
    "maf_ax[0].set_title('*YRI*') \n",
    "mafs['JPT'].hist(ax=maf_ax[1], bins=50) \n",
    "maf_ax[1].set_title('*JPT*') \n",
    "maf_ax[1].set_xlabel('MAF') "
   ]
  },
  {
   "cell_type": "code",
   "execution_count": null,
   "id": "7346fec6-bec8-4551-bc2c-0dd2ae3c58da",
   "metadata": {},
   "outputs": [],
   "source": [
    "# 28.  Compute FST\n",
    "fst = sg.Fst(data) \n",
    "fst = fst.assign_coords({\"cohorts_0\": pops, \"cohorts_1\": pops}) "
   ]
  },
  {
   "cell_type": "code",
   "execution_count": null,
   "id": "8c7ebf60-e0d1-4a8c-bded-468037a08446",
   "metadata": {},
   "outputs": [],
   "source": [
    "# 29.  Compare FST between populations\n",
    "remove_nan = lambda data: filter(lambda x: not np.isnan(x), data) \n",
    "ceu_chb = pd.Series(remove_nan(fst.stat_Fst.sel(cohorts_0='CEU', cohorts_1='CHB').values)) \n",
    "chb_chd = pd.Series(remove_nan(fst.stat_Fst.sel(cohorts_0='CHB', cohorts_1='CHD').values)) \n",
    "ceu_chb.describe() \n",
    "chb_chd.describe() "
   ]
  },
  {
   "cell_type": "code",
   "execution_count": null,
   "id": "4936748c-88ec-46b7-a6b6-f9709c401cb0",
   "metadata": {},
   "outputs": [],
   "source": [
    "# 30.  Plot distance matrix\n",
    "mean_fst = {} \n",
    "for i, pop_i in enumerate(pops): \n",
    "    for j, pop_j in enumerate(pops): \n",
    "        if j <= i: \n",
    "            continue \n",
    "        pair_fst = pd.Series(remove_nan(fst.stat_Fst.sel(cohorts_0=pop_i, cohorts_1=pop_j).values)) \n",
    "        mean = pair_fst.mean() \n",
    "        mean_fst[(pop_i, pop_j)] = mean \n",
    "min_pair = min(mean_fst.values()) \n",
    "max_pair = max(mean_fst.values()) "
   ]
  },
  {
   "cell_type": "code",
   "execution_count": null,
   "id": "aa496451-58bd-424f-9ec9-f48f9c727be3",
   "metadata": {},
   "outputs": [],
   "source": [
    "# 31.  Pairwise plot\n",
    "sns.set_style(\"white\") \n",
    "num_pops = len(pops) \n",
    "arr = np.ones((num_pops - 1, num_pops - 1, 3), dtype=float) \n",
    "fig = plt.figure(figsize=(16, 9)) \n",
    "ax = fig.add_subplot(111) \n",
    "for row in range(num_pops - 1): \n",
    "    pop_i = pops[row] \n",
    "    for col in range(row + 1, num_pops): \n",
    "        pop_j = pops[col] \n",
    "        val = mean_fst[(pop_i, pop_j)] \n",
    "        norm_val = (val - min_pair) / (max_pair - min_pair) \n",
    "        ax.text(col - 1, row, '%.3f' % val, ha='center') \n",
    "        if norm_val == 0.0: \n",
    "            arr[row, col - 1, 0] = 1 \n",
    "            arr[row, col - 1, 1] = 1 \n",
    "            arr[row, col - 1, 2] = 0 \n",
    "        elif norm_val == 1.0: \n",
    "            arr[row, col - 1, 0] = 1 \n",
    "            arr[row, col - 1, 1] = 0 \n",
    "            arr[row, col - 1, 2] = 1 \n",
    "        else: \n",
    "            arr[row, col - 1, 0] = 1 - norm_val \n",
    "            arr[row, col - 1, 1] = 1 \n",
    "            arr[row, col - 1, 2] = 1 \n",
    "ax.imshow(arr, interpolation='none') \n",
    "ax.set_title('Multilocus Pairwise FST') \n",
    "ax.set_xticks(range(num_pops - 1)) \n",
    "ax.set_xticklabels(pops[1:]) \n",
    "ax.set_yticks(range(num_pops - 1)) \n",
    "ax.set_yticklabels(pops[:-1]) "
   ]
  },
  {
   "cell_type": "code",
   "execution_count": null,
   "id": "5e589f3b-8e29-40ee-ba52-45551f9f77a0",
   "metadata": {},
   "outputs": [],
   "source": [
    "## End of Notebook ##"
   ]
  }
 ],
 "metadata": {
  "kernelspec": {
   "display_name": "Python 3 (ipykernel)",
   "language": "python",
   "name": "python3"
  },
  "language_info": {
   "codemirror_mode": {
    "name": "ipython",
    "version": 3
   },
   "file_extension": ".py",
   "mimetype": "text/x-python",
   "name": "python",
   "nbconvert_exporter": "python",
   "pygments_lexer": "ipython3",
   "version": "3.11.3"
  }
 },
 "nbformat": 4,
 "nbformat_minor": 5
}
