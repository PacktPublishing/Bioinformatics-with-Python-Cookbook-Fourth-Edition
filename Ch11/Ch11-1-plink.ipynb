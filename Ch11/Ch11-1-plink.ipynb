{
 "cells": [
  {
   "cell_type": "code",
   "execution_count": null,
   "id": "24b7b42f-b2e4-44dd-93f4-6a9367318395",
   "metadata": {},
   "outputs": [],
   "source": [
    "# Ch11-1-plink [Updated]"
   ]
  },
  {
   "cell_type": "code",
   "execution_count": null,
   "id": "747aeaac-7291-4ef0-901d-b7da8ddccec4",
   "metadata": {},
   "outputs": [],
   "source": [
    "# Import libraries\n",
    "import os"
   ]
  },
  {
   "cell_type": "code",
   "execution_count": null,
   "id": "e2e4f87a-2179-4f3b-b561-26f83ada3027",
   "metadata": {},
   "outputs": [],
   "source": [
    "# Install Plink\n",
    "#. Download the appropriate binary for your system from here:\n",
    "#. https://www.cog-genomics.org/plink/2.0/\n",
    "# Move the file from your Downloads directory to your Ch11 working directory \n",
    "# unzip the file\n",
    "# Test by running: \n",
    "# ./plink2\n",
    "# You will most likely get a message saying you cannot trust this file.  Go into your Mac Settings ->\n",
    "# Open System Preferences → Security & Privacy:\n",
    "# Click on the General tab.\n",
    "# Look for a message saying that \"plink2 was blocked because it is from an unidentified developer.\"\n",
    "# Click Allow Anyway\n",
    "# you should now be able to run ./plink2 \n",
    "# You may need to click Allow All again and provide the administrator password for your Mac"
   ]
  },
  {
   "cell_type": "code",
   "execution_count": null,
   "id": "e8ec5e2c-2eca-40cc-ab26-8ff7cb994469",
   "metadata": {},
   "outputs": [],
   "source": [
    "# Download the data\n",
    "# First go here and download the 2 files:\n",
    "# https://ftp.ncbi.nlm.nih.gov/hapmap/genotypes/hapmap3_r3/plink_format/\n",
    "# move them to your Ch11/data working directory\n",
    "# Unzip the files:\n",
    "! gunzip data/hapmap3_r3_b36_fwd.consensus.qc.poly.map.gz \n",
    "! gunzip data/hapmap3_r3_b36_fwd.consensus.qc.poly.ped.gz \n",
    "# Get the relationships file\n",
    "! wget https://ftp.ncbi.nlm.nih.gov/hapmap/genotypes/hapmap3_r3/relationships_w_pops_041510.txt\n",
    "! mv relationships_w_pops_041510.txt data/"
   ]
  },
  {
   "cell_type": "code",
   "execution_count": null,
   "id": "dded2683-c7c3-473d-a54f-d8c3b873765e",
   "metadata": {},
   "outputs": [],
   "source": [
    "# 1 - get metadata for samples\n",
    "from collections import defaultdict \n",
    "f = open('data/relationships_w_pops_041510.txt') \n",
    "pop_ind = defaultdict(list) \n",
    "f.readline() # header \n",
    "offspring = [] \n",
    "for l in f: \n",
    "    toks = l.rstrip().split('\\t') \n",
    "    fam_id = toks[0] \n",
    "    ind_id = toks[1] \n",
    "    mom = toks[2] \n",
    "    dad = toks[3] \n",
    "    if mom != '0' or dad != '0': \n",
    "        offspring.append((fam_id, ind_id)) \n",
    "    pop = toks[-1] \n",
    "pop_ind[pop].append((fam_id, ind_id)) \n",
    "f.close() "
   ]
  },
  {
   "cell_type": "code",
   "execution_count": null,
   "id": "1d74e714-f0d8-41be-b19d-599c0be59cd5",
   "metadata": {},
   "outputs": [],
   "source": [
    "# 2 - subsample the data\n",
    "#. Note - replace the path below with your path to plink2\n",
    "! ~/work/CookBook/Ch11/plink2 --pedmap data/hapmap3_r3_b36_fwd.consensus.qc.poly --out hapmap10 --thin 0.1 --geno 0.1 --export ped \n",
    "! ~/work/CookBook/Ch11/plink2 --pedmap data/hapmap3_r3_b36_fwd.consensus.qc.poly --out hapmap1 --thin 0.01 --geno 0.1 --export ped "
   ]
  },
  {
   "cell_type": "code",
   "execution_count": null,
   "id": "636bfbe0-6c0a-4597-9fc7-32a947225272",
   "metadata": {},
   "outputs": [],
   "source": [
    "# 3. Generate subsets with just the autosomes\n",
    "def get_non_auto_SNPs(map_file, exclude_file): \n",
    "    f = open(map_file) \n",
    "    w = open(exclude_file, 'w') \n",
    "    for l in f: \n",
    "        toks = l.rstrip().split('\\t') \n",
    "        try: \n",
    "            chrom = int(toks[0]) \n",
    "        except ValueError: \n",
    "            rs = toks[1] \n",
    "            w.write('%s\\n' % rs) \n",
    "    w.close() \n",
    "get_non_auto_SNPs('hapmap1.map', 'exclude1.txt') \n",
    "get_non_auto_SNPs('hapmap10.map', 'exclude10.txt') \n",
    "os.system('~/work/CookBook/Ch11/plink2 --pedmap hapmap1 --out hapmap1_auto --exclude exclude1.txt --export ped') \n",
    "os.system('~/work/CookBook/Ch11/plink2 --pedmap hapmap10 --out hapmap10_auto --exclude exclude10.txt --export ped') "
   ]
  },
  {
   "cell_type": "code",
   "execution_count": null,
   "id": "c9444cbc-36b2-4131-9d6f-e19a6d6ff0b1",
   "metadata": {},
   "outputs": [],
   "source": [
    "# 4. Function to generate a list of SNPs belonging to autosomes"
   ]
  },
  {
   "cell_type": "code",
   "execution_count": null,
   "id": "e0240969-9150-48e3-9bd9-7384f747adab",
   "metadata": {},
   "outputs": [],
   "source": [
    "# 6. Datasets without offspring\n",
    "os.system('~/work/CookBook/Ch11/plink2 --pedmap hapmap10_auto --filter-founders --out hapmap10_auto_noofs --export ped') "
   ]
  },
  {
   "cell_type": "code",
   "execution_count": null,
   "id": "e864875b-0d9c-4bcb-9262-76b8f6eaffc3",
   "metadata": {},
   "outputs": [],
   "source": [
    "# 7. Generate LD-pruned dataset\n",
    "os.system('~/work/CookBook/Ch11/plink2 --pedmap hapmap10_auto_noofs --indep-pairwise 50 10 0.1 --out keep --export ped') \n",
    "#os.system('~/work/CookBook/Ch11/plink2 --pedmap hapmap10_auto_noofs --extract keep.prune.in --recode --out hapmap10_auto_noofs_ld --export ped')\n",
    "# Remove --recode from the original commmand to remove an error: \n",
    "os.system('~/work/CookBook/Ch11/plink2 --pedmap hapmap10_auto_noofs --extract keep.prune.in --out hapmap10_auto_noofs_ld --export ped')"
   ]
  },
  {
   "cell_type": "code",
   "execution_count": null,
   "id": "12df8491-9975-433e-a746-7a85536d7581",
   "metadata": {},
   "outputs": [],
   "source": [
    "# 8.  Recode cases in different formats\n",
    "# os.system('~/work/CookBook/Ch11/plink2 --file hapmap10_auto_noofs_ld --recode12 tab --out hapmap10_auto_noofs_ld_12 --export ped 12') \n",
    "#. Note - fixed above original command to not use --file\n",
    "os.system('~/work/CookBook/Ch11/plink2 --pedmap hapmap10_auto_noofs_ld --export ped --out hapmap10_auto_noofs_ld_12')\n",
    "# os.system('~/work/CookBook/Ch11/plink2 --make-bed --file hapmap10_auto_noofs_ld --out hapmap10_auto_noofs_ld') \n",
    "# Note - fixed above original command to not use --file\n",
    "os.system('~/work/CookBook/Ch11/plink2 --pedmap hapmap10_auto_noofs_ld --make-bed --out hapmap10_auto_noofs_ld')"
   ]
  },
  {
   "cell_type": "code",
   "execution_count": null,
   "id": "9d74a18a-f332-4dd9-8de0-9239b3fb303e",
   "metadata": {},
   "outputs": [],
   "source": [
    "# 9. Extract a single chromosome for analysis\n",
    "os.system('~/work/CookBook/Ch11/plink2 --pedmap hapmap10_auto_noofs --chr 2 --out hapmap10_auto_noofs_2 --export ped') "
   ]
  },
  {
   "cell_type": "code",
   "execution_count": null,
   "id": "12902b40-83a5-4f38-bd70-b9e5b4bbbfc1",
   "metadata": {},
   "outputs": [],
   "source": [
    "## End of Notebook ##"
   ]
  }
 ],
 "metadata": {
  "kernelspec": {
   "display_name": "Python 3 (ipykernel)",
   "language": "python",
   "name": "python3"
  },
  "language_info": {
   "codemirror_mode": {
    "name": "ipython",
    "version": 3
   },
   "file_extension": ".py",
   "mimetype": "text/x-python",
   "name": "python",
   "nbconvert_exporter": "python",
   "pygments_lexer": "ipython3",
   "version": "3.11.3"
  }
 },
 "nbformat": 4,
 "nbformat_minor": 5
}
