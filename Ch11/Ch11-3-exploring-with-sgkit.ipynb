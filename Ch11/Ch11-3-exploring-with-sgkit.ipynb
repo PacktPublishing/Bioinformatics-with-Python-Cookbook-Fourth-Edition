{
 "cells": [
  {
   "cell_type": "code",
   "execution_count": null,
   "id": "d1aa5bcd-9b5f-4391-a89f-a6b245f4d8cc",
   "metadata": {},
   "outputs": [],
   "source": [
    "# Ch11-3-exploring-with-sgkit"
   ]
  },
  {
   "cell_type": "code",
   "execution_count": null,
   "id": "64c849ae-086f-4208-9f03-032afe7f41a9",
   "metadata": {},
   "outputs": [],
   "source": [
    "# 17.  Import libraries and get data\n",
    "import numpy as np \n",
    "import xarray as xr \n",
    "import sgkit as sg \n",
    "from sgkit.io import plink \n",
    "data = plink.read_plink(path='hapmap10_auto_noofs_ld', fam_sep='\\t') "
   ]
  },
  {
   "cell_type": "code",
   "execution_count": null,
   "id": "fd86462b-0072-4cd2-a342-02d0dca685df",
   "metadata": {},
   "outputs": [],
   "source": [
    "# 18. Get variant stats\n",
    "variant_stats = sg.variant_stats(data) \n",
    "variant_stats "
   ]
  },
  {
   "cell_type": "code",
   "execution_count": null,
   "id": "07c0a37b-0d57-4026-97d3-0446bb0cb30d",
   "metadata": {},
   "outputs": [],
   "source": [
    "# 19.  Look at variant call rate\n",
    "variant_stats.variant_call_rate.to_series().describe() "
   ]
  },
  {
   "cell_type": "code",
   "execution_count": null,
   "id": "92dc45ca-1b3b-4704-8984-d5f710cde72a",
   "metadata": {},
   "outputs": [],
   "source": [
    "# 20.  Sample statistics\n",
    "sample_stats = sg.sample_stats(data) \n",
    "sample_stats "
   ]
  },
  {
   "cell_type": "code",
   "execution_count": null,
   "id": "9a47d767-c735-4d06-aa58-6c79442fa4b0",
   "metadata": {},
   "outputs": [],
   "source": [
    "# 21.  Sample call rates\n",
    "sample_stats.sample_call_rate.to_series().hist() "
   ]
  },
  {
   "cell_type": "code",
   "execution_count": null,
   "id": "41b7cb11-bdd8-469b-a262-881cdb5d126b",
   "metadata": {},
   "outputs": [],
   "source": [
    "## End of Notebook ##"
   ]
  }
 ],
 "metadata": {
  "kernelspec": {
   "display_name": "Python 3 (ipykernel)",
   "language": "python",
   "name": "python3"
  },
  "language_info": {
   "codemirror_mode": {
    "name": "ipython",
    "version": 3
   },
   "file_extension": ".py",
   "mimetype": "text/x-python",
   "name": "python",
   "nbconvert_exporter": "python",
   "pygments_lexer": "ipython3",
   "version": "3.11.3"
  }
 },
 "nbformat": 4,
 "nbformat_minor": 5
}
