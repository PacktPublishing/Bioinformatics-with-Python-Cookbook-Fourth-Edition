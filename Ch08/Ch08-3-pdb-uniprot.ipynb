{
 "cells": [
  {
   "cell_type": "code",
   "execution_count": null,
   "id": "785942a2",
   "metadata": {},
   "outputs": [],
   "source": [
    "# Ch08-3 - Using PDB & UniProt"
   ]
  },
  {
   "cell_type": "code",
   "execution_count": null,
   "id": "16f46a4c",
   "metadata": {},
   "outputs": [],
   "source": [
    "# Import libraries\n",
    "import requests\n",
    "import sys\n",
    "import json"
   ]
  },
  {
   "cell_type": "code",
   "execution_count": null,
   "id": "af788ba3",
   "metadata": {},
   "outputs": [],
   "source": [
    "# 1. Fetch protein data from UniProt given an Accession\n",
    "def fetch_protein_data_json(accession):\n",
    "    \"\"\"\n",
    "    Fetch protein data from the EBI Proteins API in JSON format.\n",
    "\n",
    "    Parameters:\n",
    "        accession (str): Protein accession number (e.g., P21802).\n",
    "\n",
    "    Returns:\n",
    "        dict: The protein data as a JSON object (Python dictionary).\n",
    "    \"\"\"\n",
    "    request_url = f\"https://www.ebi.ac.uk/proteins/api/proteins?offset=0&size=100&accession={accession}\"\n",
    "    headers = {\"Accept\": \"application/json\"}  # Request JSON format\n",
    "\n",
    "    try:\n",
    "        print(f\"Fetching data for accession: {accession}\")\n",
    "        response = requests.get(request_url, headers=headers, timeout=30)\n",
    "        response.raise_for_status()  # Raise an exception for HTTP errors\n",
    "        return response.json()  # Parse JSON response directly into a Python dictionary\n",
    "    except requests.exceptions.RequestException as e:\n",
    "        print(f\"Error fetching protein data: {e}\")\n",
    "        sys.exit(1)"
   ]
  },
  {
   "cell_type": "code",
   "execution_count": null,
   "id": "069dfb5f",
   "metadata": {},
   "outputs": [],
   "source": [
    "# Function to save the JSON data to a file\n",
    "def save_json_to_file(data, filename):\n",
    "    \"\"\"\n",
    "    Save JSON data to a file.\n",
    "\n",
    "    Parameters:\n",
    "        data (dict): The JSON data to save.\n",
    "        filename (str): The name of the file to save the data to.\n",
    "\n",
    "    Returns:\n",
    "        None\n",
    "    \"\"\"\n",
    "    try:\n",
    "        with open(filename, \"w\") as json_file:\n",
    "            json.dump(data, json_file, indent=4)\n",
    "        print(f\"Protein data saved to {filename}\")\n",
    "    except IOError as e:\n",
    "        print(f\"Error saving data to file: {e}\")\n",
    "        sys.exit(1)"
   ]
  },
  {
   "cell_type": "code",
   "execution_count": null,
   "id": "6966d15e",
   "metadata": {
    "scrolled": false
   },
   "outputs": [],
   "source": [
    "# Execute functions for accession number of interest\n",
    "def main():\n",
    "    accession = \"P21802\"  # Example accession\n",
    "    output_file = \"protein_data.json\"  # File to save the JSON response\n",
    "\n",
    "    # Fetch protein data\n",
    "    protein_data = fetch_protein_data_json(accession)\n",
    "\n",
    "    # Print the JSON data as a Python dictionary\n",
    "    print(\"Protein Data (JSON):\")\n",
    "    print(protein_data)\n",
    "\n",
    "    # Save the data to a file\n",
    "    save_json_to_file(protein_data, output_file)\n",
    "\n",
    "if __name__ == \"__main__\":\n",
    "    main()"
   ]
  },
  {
   "cell_type": "code",
   "execution_count": null,
   "id": "4c2a2954",
   "metadata": {},
   "outputs": [],
   "source": [
    "# Move file to output\n",
    "! mv protein_data.json output/"
   ]
  },
  {
   "cell_type": "code",
   "execution_count": null,
   "id": "08d994f1",
   "metadata": {},
   "outputs": [],
   "source": [
    "# 2. Query PDB"
   ]
  },
  {
   "cell_type": "code",
   "execution_count": null,
   "id": "5b72aefe",
   "metadata": {},
   "outputs": [],
   "source": [
    "# Import Libraries\n",
    "import os\n",
    "import requests\n",
    "from Bio import PDB"
   ]
  },
  {
   "cell_type": "code",
   "execution_count": null,
   "id": "62f76cc5",
   "metadata": {},
   "outputs": [],
   "source": [
    "# Download from PDB given and ID\n",
    "def download_pdb(pdb_id, output_dir=\"output\"):\n",
    "    \"\"\"\n",
    "    Downloads a PDB file and associated metadata from the Protein Data Bank.\n",
    "\n",
    "    :param pdb_id: The 4-character PDB ID (e.g., '1A8M')\n",
    "    :param output_dir: Directory where files will be saved\n",
    "    \"\"\"\n",
    "    pdb_id = pdb_id.lower()  # Ensure the PDB ID is lowercase\n",
    "    base_url = \"https://files.rcsb.org/download\"\n",
    "    metadata_url = f\"https://data.rcsb.org/rest/v1/core/entry/{pdb_id}\"\n",
    "    pdb_url = f\"{base_url}/{pdb_id}.pdb\"\n",
    "    \n",
    "    # Create output directory if it doesn't exist\n",
    "    os.makedirs(output_dir, exist_ok=True)\n",
    "    \n",
    "    # Download PDB file\n",
    "    pdb_file_path = os.path.join(output_dir, f\"{pdb_id}.pdb\")\n",
    "    response = requests.get(pdb_url)\n",
    "    if response.status_code == 200:\n",
    "        with open(pdb_file_path, \"w\") as file:\n",
    "            file.write(response.text)\n",
    "        print(f\"PDB file saved at: {pdb_file_path}\")\n",
    "    else:\n",
    "        print(f\"Failed to download PDB file for {pdb_id}.\")\n",
    "    \n",
    "    # Download metadata\n",
    "    metadata_file_path = os.path.join(output_dir, f\"{pdb_id}_metadata.json\")\n",
    "    response = requests.get(metadata_url)\n",
    "    if response.status_code == 200:\n",
    "        with open(metadata_file_path, \"w\") as file:\n",
    "            file.write(response.text)\n",
    "        print(f\"Metadata saved at: {metadata_file_path}\")\n",
    "    else:\n",
    "        print(f\"Failed to download metadata for {pdb_id}.\")"
   ]
  },
  {
   "cell_type": "code",
   "execution_count": null,
   "id": "f3dab7d9",
   "metadata": {},
   "outputs": [],
   "source": [
    "# Run the function for our protein\n",
    "pdb_id = \"1A8M\"  \n",
    "download_pdb(pdb_id)"
   ]
  },
  {
   "cell_type": "code",
   "execution_count": null,
   "id": "6167a641",
   "metadata": {},
   "outputs": [],
   "source": [
    "## End of Notebook ##"
   ]
  }
 ],
 "metadata": {
  "kernelspec": {
   "display_name": "Python 3 (ipykernel)",
   "language": "python",
   "name": "python3"
  },
  "language_info": {
   "codemirror_mode": {
    "name": "ipython",
    "version": 3
   },
   "file_extension": ".py",
   "mimetype": "text/x-python",
   "name": "python",
   "nbconvert_exporter": "python",
   "pygments_lexer": "ipython3",
   "version": "3.11.3"
  }
 },
 "nbformat": 4,
 "nbformat_minor": 5
}
