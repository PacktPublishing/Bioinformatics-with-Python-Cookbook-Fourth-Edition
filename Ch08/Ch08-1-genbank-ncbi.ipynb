{
 "cells": [
  {
   "cell_type": "code",
   "execution_count": null,
   "id": "babd109e",
   "metadata": {},
   "outputs": [],
   "source": [
    "# Ch08-1 Accessing Genbank and Navigating the NCBI"
   ]
  },
  {
   "cell_type": "code",
   "execution_count": null,
   "id": "7be76015",
   "metadata": {},
   "outputs": [],
   "source": [
    "# 1. Import modules and configure email\n",
    "from Bio import Entrez, SeqIO \n",
    "# Entrez.email = 'put@your.email.here' \n",
    "Entrez.email = 'shanebrubaker55@gmail.com' "
   ]
  },
  {
   "cell_type": "code",
   "execution_count": null,
   "id": "facc0855",
   "metadata": {},
   "outputs": [],
   "source": [
    "# 2. Find the CRT gene of Plasmodium\n",
    "handle = Entrez.esearch(db='nucleotide', term='CRT[Gene Name] AND \"Plasmodium falciparum\"[Organism]') \n",
    "rec_list = Entrez.read(handle) \n",
    "if int(rec_list['RetMax']) < int(rec_list['Count']): \n",
    "    handle = Entrez.esearch(db='nucleotide', term='CRT[Gene Name] AND \"Plasmodium falciparum\"[Organism]', \n",
    "                            retmax=rec_list['Count'])\n",
    "    rec_list = Entrez.read(handle) "
   ]
  },
  {
   "cell_type": "code",
   "execution_count": null,
   "id": "f7c260aa",
   "metadata": {},
   "outputs": [],
   "source": [
    "# 3. Retrieve records\n",
    "id_list = rec_list['IdList'] \n",
    "hdl = Entrez.efetch(db='nucleotide', id=id_list, rettype='gb') "
   ]
  },
  {
   "cell_type": "code",
   "execution_count": null,
   "id": "78617567",
   "metadata": {
    "scrolled": true
   },
   "outputs": [],
   "source": [
    "# 4. Read and parse results\n",
    "recs = list(SeqIO.parse(hdl, 'gb')) "
   ]
  },
  {
   "cell_type": "code",
   "execution_count": null,
   "id": "944f99cb",
   "metadata": {},
   "outputs": [],
   "source": [
    "# 5. Review the record\n",
    "for rec in recs: \n",
    "    if rec.name == 'KM288867':\n",
    "        break \n",
    "print(rec.name) \n",
    "print(rec.description) "
   ]
  },
  {
   "cell_type": "code",
   "execution_count": null,
   "id": "7dd46b0d",
   "metadata": {},
   "outputs": [],
   "source": [
    "# 6. Extract features\n",
    "for feature in rec.features: \n",
    "    if feature.type == 'gene':\n",
    "        print(feature.qualifiers['gene']) \n",
    "    elif feature.type == 'exon': \n",
    "        loc = feature.location \n",
    "        print(loc.start, loc.end, loc.strand) \n",
    "    else: \n",
    "        print('not processed:\\n%s' % feature) "
   ]
  },
  {
   "cell_type": "code",
   "execution_count": null,
   "id": "a3f5356f",
   "metadata": {},
   "outputs": [],
   "source": [
    "# 7. Review annotations\n",
    "for name, value in rec.annotations.items(): \n",
    "    print('%s=%s' % (name, value)) "
   ]
  },
  {
   "cell_type": "code",
   "execution_count": null,
   "id": "fb87731a",
   "metadata": {},
   "outputs": [],
   "source": [
    "# 8.  Access the Sequence\n",
    "print(len(rec.seq))"
   ]
  },
  {
   "cell_type": "code",
   "execution_count": null,
   "id": "684adf38",
   "metadata": {},
   "outputs": [],
   "source": [
    "## End of Notebook ##"
   ]
  }
 ],
 "metadata": {
  "kernelspec": {
   "display_name": "Python 3 (ipykernel)",
   "language": "python",
   "name": "python3"
  },
  "language_info": {
   "codemirror_mode": {
    "name": "ipython",
    "version": 3
   },
   "file_extension": ".py",
   "mimetype": "text/x-python",
   "name": "python",
   "nbconvert_exporter": "python",
   "pygments_lexer": "ipython3",
   "version": "3.11.3"
  }
 },
 "nbformat": 4,
 "nbformat_minor": 5
}
