{
 "cells": [
  {
   "cell_type": "code",
   "execution_count": null,
   "id": "5259b0e5",
   "metadata": {},
   "outputs": [],
   "source": [
    "# Ch08-2 Using the Short Read Archive"
   ]
  },
  {
   "cell_type": "code",
   "execution_count": null,
   "id": "debe30e4",
   "metadata": {},
   "outputs": [],
   "source": [
    "# To get the following code to run, you'll need to make sure fasterq-dump is already in your PATH\n",
    "#  If you have not already done so, you'll want to install it and add it to your PATH\n",
    "#  Then close out your notebooks and restart jupyter notebook from a terminal where you know you can\n",
    "#   see fasterq-dump in your path"
   ]
  },
  {
   "cell_type": "code",
   "execution_count": null,
   "id": "c2f80ae6",
   "metadata": {},
   "outputs": [],
   "source": [
    "# Refer to Ch 5 Recipe 2 for sra tools install\n",
    "# Run the command below in your terminal to make sure fasterq-dump is in your path and add it to your zshrc file\n",
    "#   (check that your path is correct, it may not be the same as below)\n",
    "echo 'export PATH=$PATH:~/Software/sratoolkit.3.1.1-mac-x86_64/bin' >> ~/.zshrc\n",
    "source ~/.zshrc \n",
    "# check that fasterq-dump is working\n",
    "fasterq-dump -h\n",
    "# Then restart your jupyter notebook"
   ]
  },
  {
   "cell_type": "code",
   "execution_count": null,
   "id": "9d917dd1",
   "metadata": {},
   "outputs": [],
   "source": [
    "# Install pysradb\n",
    "! pip install pysradb"
   ]
  },
  {
   "cell_type": "code",
   "execution_count": null,
   "id": "9a425eee",
   "metadata": {},
   "outputs": [],
   "source": [
    "# Import Libraries\n",
    "import os\n",
    "import subprocess\n",
    "from pysradb.sraweb import SRAweb"
   ]
  },
  {
   "cell_type": "code",
   "execution_count": null,
   "id": "3728a992",
   "metadata": {},
   "outputs": [],
   "source": [
    "def fetch_sra_metadata(sra_accession):\n",
    "    \"\"\"\n",
    "    Retrieve metadata for a given SRA accession using pysradb.\n",
    "    \n",
    "    Parameters:\n",
    "        sra_accession (str): SRA study or run accession (e.g., SRP, SRX, SRA, or ERR).\n",
    "        \n",
    "    Returns:\n",
    "        metadata (DataFrame): Metadata table for the SRA accession.\n",
    "    \"\"\"\n",
    "    db = SRAweb()\n",
    "    metadata = db.sra_metadata(sra_accession, detailed=True)\n",
    "    return metadata"
   ]
  },
  {
   "cell_type": "code",
   "execution_count": null,
   "id": "4a86b2b1",
   "metadata": {},
   "outputs": [],
   "source": [
    "def download_sra_run(run_accession, output_dir=\"sra_data\"):\n",
    "    \"\"\"\n",
    "    Download SRA run data using fasterq-dump.\n",
    "    \n",
    "    Parameters:\n",
    "        run_accession (str): The specific SRA run accession (e.g., SRR12345678).\n",
    "        output_dir (str): Directory to save the downloaded data.\n",
    "        \n",
    "    Returns:\n",
    "        None\n",
    "    \"\"\"\n",
    "    if not os.path.exists(output_dir):\n",
    "        os.makedirs(output_dir)\n",
    "    \n",
    "    try:\n",
    "        print(f\"Downloading SRA run {run_accession}...\")\n",
    "        # Command to download and convert to FASTQ\n",
    "        subprocess.run(\n",
    "            [\"fasterq-dump\", run_accession, \"--outdir\", output_dir, \"--split-files\"],\n",
    "            check=True\n",
    "        )\n",
    "        print(f\"Download complete. Files saved in {output_dir}\")\n",
    "    except subprocess.CalledProcessError as e:\n",
    "        print(f\"Error downloading {run_accession}: {e}\")"
   ]
  },
  {
   "cell_type": "code",
   "execution_count": null,
   "id": "2946335e",
   "metadata": {},
   "outputs": [],
   "source": [
    "def main():\n",
    "    sra_accession = \"SRR536546\"  # Small test dataset\n",
    "    # Fetch metadata\n",
    "    metadata = fetch_sra_metadata(sra_accession)\n",
    "    print(\"Metadata for the accession:\")\n",
    "    print(metadata)\n",
    "\n",
    "    # Download the first run as an example\n",
    "    if not metadata.empty:\n",
    "        first_run = metadata[\"run_accession\"].iloc[0]\n",
    "        download_sra_run(first_run)\n",
    "    else:\n",
    "        print(\"No runs found for this accession.\")\n",
    "if __name__ == \"__main__\":\n",
    "    main()"
   ]
  },
  {
   "cell_type": "code",
   "execution_count": null,
   "id": "55f23863",
   "metadata": {},
   "outputs": [],
   "source": [
    "# Move folder to output\n",
    "! mv sra_data output/"
   ]
  },
  {
   "cell_type": "code",
   "execution_count": null,
   "id": "26340898",
   "metadata": {},
   "outputs": [],
   "source": [
    "# Use BLAST #"
   ]
  },
  {
   "cell_type": "code",
   "execution_count": null,
   "id": "373178eb",
   "metadata": {},
   "outputs": [],
   "source": [
    "# Query using BLAST via the NCBI API\n",
    "from Bio.Blast import NCBIWWW\n",
    "from Bio.Blast import NCBIXML\n",
    "\n",
    "# Define a sample FASTA sequence\n",
    "query_sequence = \">test_query\\nATGGCCATTGTAATCATGTTCTAATAGTGTTCA\"\n",
    "\n",
    "# Submit the query to NCBI BLAST (nucleotide BLAST: blastn)\n",
    "result_handle = NCBIWWW.qblast(\"blastn\", \"nt\", query_sequence)\n",
    "\n",
    "# Save the results to a file\n",
    "with open(\"blast_result.xml\", \"w\") as out_file:\n",
    "    out_file.write(result_handle.read())\n",
    "\n",
    "print(\"BLAST search completed! Results saved in 'blast_result.xml'\")"
   ]
  },
  {
   "cell_type": "code",
   "execution_count": null,
   "id": "c1bc752f",
   "metadata": {},
   "outputs": [],
   "source": [
    "# Parse the BLAST output #\n",
    "# Read BLAST results from XML file\n",
    "with open(\"blast_result.xml\") as result_file:\n",
    "    blast_records = NCBIXML.read(result_file)\n",
    "\n",
    "# Print top hits\n",
    "for alignment in blast_records.alignments[:5]:  # Display top 5 hits\n",
    "    print(f\"Hit: {alignment.title}\")\n",
    "    for hsp in alignment.hsps:\n",
    "        print(f\"  Score: {hsp.score}, E-value: {hsp.expect}\")"
   ]
  },
  {
   "cell_type": "code",
   "execution_count": null,
   "id": "dfc177b1",
   "metadata": {},
   "outputs": [],
   "source": [
    "# Move the file to the output subdirectory\n",
    "! mv blast_result.xml output/"
   ]
  },
  {
   "cell_type": "code",
   "execution_count": null,
   "id": "fc02d67c",
   "metadata": {},
   "outputs": [],
   "source": [
    "## End of Notebook ##"
   ]
  }
 ],
 "metadata": {
  "kernelspec": {
   "display_name": "Python 3 (ipykernel)",
   "language": "python",
   "name": "python3"
  },
  "language_info": {
   "codemirror_mode": {
    "name": "ipython",
    "version": 3
   },
   "file_extension": ".py",
   "mimetype": "text/x-python",
   "name": "python",
   "nbconvert_exporter": "python",
   "pygments_lexer": "ipython3",
   "version": "3.11.3"
  }
 },
 "nbformat": 4,
 "nbformat_minor": 5
}
