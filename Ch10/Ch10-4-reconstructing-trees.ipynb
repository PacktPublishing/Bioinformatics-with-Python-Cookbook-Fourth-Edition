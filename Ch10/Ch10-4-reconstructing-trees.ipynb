{
 "cells": [
  {
   "cell_type": "code",
   "execution_count": null,
   "id": "35ae8cd1-cffe-4704-850a-92366b2eb71e",
   "metadata": {},
   "outputs": [],
   "source": [
    "# Ch10-4 - Reconstructing Phylogenetic Trees [Updated to use raxml-ng]"
   ]
  },
  {
   "cell_type": "code",
   "execution_count": null,
   "id": "f8aa4582-f223-4cb1-a1b5-e8627660e512",
   "metadata": {},
   "outputs": [],
   "source": [
    "# Install raxml-ng\n",
    "! brew install raxml-ng"
   ]
  },
  {
   "cell_type": "code",
   "execution_count": null,
   "id": "1d77eaff-414f-4aad-bfc6-6d1c1149046e",
   "metadata": {},
   "outputs": [],
   "source": [
    "# 18.  Use DendroPy to reconstruct genus dataset (takes 15-30 minutes)\n",
    "import os\n",
    "import subprocess\n",
    "# Define input and output paths\n",
    "data_path = \"trim.fasta\"\n",
    "output_prefix = \"ebola_tree\"\n",
    "# Check if the input file exists\n",
    "if not os.path.exists(data_path):\n",
    "    raise FileNotFoundError(f\"Error: The file {data_path} does not exist!\")\n",
    "# Define the RAxML-NG command\n",
    "cmd = [\n",
    "    \"raxml-ng\",\n",
    "    \"--msa\", data_path,    # Input sequence alignment\n",
    "    \"--model\", \"GTR+G\",    # Substitution model\n",
    "    \"--prefix\", output_prefix,  # Output file prefix\n",
    "    \"--search\",  # Perform Maximum Likelihood tree search\n",
    "]\n",
    "# Run RAxML-NG\n",
    "try:\n",
    "    subprocess.run(cmd, check=True)\n",
    "    print(f\"RAxML-NG completed successfully. Output files are saved with prefix '{output_prefix}'\")\n",
    "except subprocess.CalledProcessError as e:\n",
    "    print(f\"Error running RAxML-NG: {e}\")\n",
    "# Optional: Clean up RAxML-NG temporary files\n",
    "for ext in [\".raxml.log\", \".raxml.bestTree\", \".raxml.rba\", \".raxml.rfdist\"]:\n",
    "    file_path = f\"{output_prefix}{ext}\"\n",
    "    if os.path.exists(file_path):\n",
    "        os.remove(file_path)\n",
    "print(\"Temporary files cleaned up.\")"
   ]
  },
  {
   "cell_type": "code",
   "execution_count": null,
   "id": "0b212241-685f-41c2-9d61-c6fd7345f36e",
   "metadata": {},
   "outputs": [],
   "source": [
    "# You will see ebola_tree.raxml* files in the working directory "
   ]
  },
  {
   "cell_type": "code",
   "execution_count": null,
   "id": "4b569640-903e-4867-a2ef-a7df4a607fcb",
   "metadata": {},
   "outputs": [],
   "source": [
    "# 19.  Save the files - skip this because we already have the files"
   ]
  },
  {
   "cell_type": "code",
   "execution_count": null,
   "id": "3c1d688c-d48d-4663-a45a-02585abd7b44",
   "metadata": {},
   "outputs": [],
   "source": [
    "# 20.  Visualize the genus tree\n",
    "import matplotlib.pyplot as plt\n",
    "from Bio import Phylo\n",
    "\n",
    "# Define the correct output tree file from RAxML-NG\n",
    "tree_file = \"ebola_tree.raxml.bestTreeCollapsed\"  # Based on the raxml-ng output from the previous step\n",
    "\n",
    "# Read the tree in Newick format (RAxML-NG default)\n",
    "my_ebola_tree = Phylo.read(tree_file, \"newick\")\n",
    "\n",
    "# Set a name for the tree\n",
    "my_ebola_tree.name = \"Our Ebolavirus Tree\"\n",
    "\n",
    "# Plot the tree\n",
    "fig = plt.figure(figsize=(16, 18))\n",
    "ax = fig.add_subplot(1, 1, 1)\n",
    "Phylo.draw(my_ebola_tree, axes=ax)\n",
    "\n",
    "plt.show()  # Display the tree"
   ]
  },
  {
   "cell_type": "code",
   "execution_count": null,
   "id": "da4121ba-afdd-4817-b4ae-495630628c3c",
   "metadata": {},
   "outputs": [],
   "source": [
    "# 21 onward Skipped"
   ]
  },
  {
   "cell_type": "code",
   "execution_count": null,
   "id": "7d166c03-eb19-4eb0-bb44-58fc5627b0c4",
   "metadata": {},
   "outputs": [],
   "source": [
    "## End of Notebook ##"
   ]
  }
 ],
 "metadata": {
  "kernelspec": {
   "display_name": "Python 3 (ipykernel)",
   "language": "python",
   "name": "python3"
  },
  "language_info": {
   "codemirror_mode": {
    "name": "ipython",
    "version": 3
   },
   "file_extension": ".py",
   "mimetype": "text/x-python",
   "name": "python",
   "nbconvert_exporter": "python",
   "pygments_lexer": "ipython3",
   "version": "3.12.10"
  }
 },
 "nbformat": 4,
 "nbformat_minor": 5
}
