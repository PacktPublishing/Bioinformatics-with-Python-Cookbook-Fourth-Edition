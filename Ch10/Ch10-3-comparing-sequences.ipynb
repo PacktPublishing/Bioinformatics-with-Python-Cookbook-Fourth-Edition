{
 "cells": [
  {
   "cell_type": "code",
   "execution_count": null,
   "id": "1794af53-ed51-4b00-ab21-6766b486430e",
   "metadata": {},
   "outputs": [],
   "source": [
    "# Ch10-3 - Comparing Sequences [Updated]"
   ]
  },
  {
   "cell_type": "code",
   "execution_count": null,
   "id": "ae68b886-0b6e-40f9-9709-6322f7860416",
   "metadata": {},
   "outputs": [],
   "source": [
    "# 12.  Start analyzing gene data\n",
    "import os \n",
    "from collections import OrderedDict \n",
    "import dendropy \n",
    "from dendropy.calculate import popgenstat \n",
    "genes_species = OrderedDict() \n",
    "my_species = ['RESTV', 'SUDV'] \n",
    "my_genes = ['NP', 'L', 'VP35', 'VP40'] \n",
    "for name in my_genes: \n",
    "    gene_name = name.split('.')[0] \n",
    "    char_mat = dendropy.DnaCharacterMatrix.get_from_path('%s_align.fasta' % name, 'fasta') \n",
    "    genes_species[gene_name] = {} \n",
    "    for species in my_species: \n",
    "        genes_species[gene_name][species] = dendropy.DnaCharacterMatrix() \n",
    "    for taxon, char_map in char_mat.items(): \n",
    "        species = taxon.label.split('_')[0] \n",
    "        if species in my_species: \n",
    "            genes_species[gene_name][species].taxon_namespace.add_taxon(taxon) \n",
    "            genes_species[gene_name][species][taxon] = char_map "
   ]
  },
  {
   "cell_type": "code",
   "execution_count": null,
   "id": "ab6796ab-3ad5-4d49-85d3-a1695a802398",
   "metadata": {},
   "outputs": [],
   "source": [
    "# 13. Print basic information for all 4 genes\n",
    "import numpy as np \n",
    "import pandas as pd \n",
    "summary = np.ndarray(shape=(len(genes_species), 4 * len(my_species))) \n",
    "stats = ['seg_sites', 'nuc_div', 'taj_d', 'wat_theta'] \n",
    "for row, (gene, species_data) in enumerate(genes_species.items()): \n",
    "    for col_base, species in enumerate(my_species): \n",
    "        summary[row, col_base * 4] = popgenstat.num_segregating_sites(species_data[species]) \n",
    "        summary[row, col_base * 4 + 1] = popgenstat.nucleotide_diversity(species_data[species]) \n",
    "        summary[row, col_base * 4 + 2] = popgenstat.tajimas_d(species_data[species]) \n",
    "        summary[row, col_base * 4 + 3] = popgenstat.wattersons_theta(species_data[species]) \n",
    "columns = [] \n",
    "for species in my_species: \n",
    "    columns.extend(['%s (%s)' % (stat, species) for stat in stats]) \n",
    "df = pd.DataFrame(summary, index=genes_species.keys(), columns=columns) \n",
    "df # vs print(df) "
   ]
  },
  {
   "cell_type": "code",
   "execution_count": null,
   "id": "e8e8917c-fa59-4156-8dfd-62995ac509de",
   "metadata": {},
   "outputs": [],
   "source": [
    "# 15.  Extract genome-wide information\n",
    "def do_basic_popgen(seqs): \n",
    "    num_seg_sites = popgenstat.num_segregating_sites(seqs) \n",
    "    avg_pair = popgenstat.average_number_of_pairwise_differences(seqs) \n",
    "    nuc_div = popgenstat.nucleotide_diversity(seqs) \n",
    "    print('Segregating sites: %d, Avg pairwise diffs: %.2f, Nucleotide diversity %.6f' % (num_seg_sites, avg_pair, nuc_div)) \n",
    "    print(\"Watterson's theta: %s\" % popgenstat.wattersons_theta(seqs)) \n",
    "    print(\"Tajima's D: %s\" % popgenstat.tajimas_d(seqs)) "
   ]
  },
  {
   "cell_type": "code",
   "execution_count": null,
   "id": "c8c806c6-f1a2-4d75-8bec-8ef18e1b0d83",
   "metadata": {
    "scrolled": true
   },
   "outputs": [],
   "source": [
    "# 16.  Extract a sub-sample of the data [Updated]\n",
    "import dendropy\n",
    "\n",
    "# Define a taxon namespace\n",
    "taxon_namespace = dendropy.TaxonNamespace()\n",
    "\n",
    "# Load sequences using the correct function (`get()` instead of `from_path()`)\n",
    "ebov_seqs = dendropy.DnaCharacterMatrix.get(\n",
    "    path=\"trim.fasta\", schema=\"fasta\", taxon_namespace=taxon_namespace\n",
    ")\n",
    "\n",
    "# Initialize lists and character matrices\n",
    "sl_2014 = []\n",
    "drc_2007 = []\n",
    "ebov2007_set = dendropy.DnaCharacterMatrix(taxon_namespace=taxon_namespace)\n",
    "ebov2014_set = dendropy.DnaCharacterMatrix(taxon_namespace=taxon_namespace)\n",
    "\n",
    "# Process sequences and classify them based on the outbreak year\n",
    "for taxon, char_map in ebov_seqs.items():\n",
    "    print(taxon.label)\n",
    "\n",
    "    if taxon.label.startswith(\"EBOV_2014\") and len(sl_2014) < 8:\n",
    "        sl_2014.append(char_map)\n",
    "        new_taxon = taxon_namespace.require_taxon(label=taxon.label)  # Correct taxon handling\n",
    "        ebov2014_set[new_taxon] = char_map\n",
    "\n",
    "    elif taxon.label.startswith(\"EBOV_2007\"):\n",
    "        drc_2007.append(char_map)\n",
    "        new_taxon = taxon_namespace.require_taxon(label=taxon.label)  # Correct taxon handling\n",
    "        ebov2007_set[new_taxon] = char_map\n",
    "\n",
    "# Clean up original dataset to free memory\n",
    "del ebov_seqs\n",
    "\n",
    "# Print outbreak information\n",
    "print(\"2007 outbreak:\")\n",
    "print(f\"Number of individuals: {len(ebov2007_set.taxon_namespace)}\")\n",
    "do_basic_popgen(ebov2007_set)\n",
    "\n",
    "print(\"\\n2014 outbreak:\")\n",
    "print(f\"Number of individuals: {len(ebov2014_set.taxon_namespace)}\")\n",
    "do_basic_popgen(ebov2014_set)"
   ]
  },
  {
   "cell_type": "code",
   "execution_count": 10,
   "id": "cbdecb0a-e4b1-42d8-a919-c54ac134829e",
   "metadata": {},
   "outputs": [
    {
     "name": "stdout",
     "output_type": "stream",
     "text": [
      "Average number of pairwise differences irrespective of population: 284.46\n",
      "Average number of pairwise differences between populations: 535.82\n",
      "Average number of pairwise differences within populations: 10.50\n",
      "Average number of net pairwise differences : 525.32\n",
      "Number of segregating sites: 549\n",
      "Watterson's theta: 168.84\n",
      "Wakeley's Psi: 0.308\n",
      "Tajima's D: 3.05\n"
     ]
    }
   ],
   "source": [
    "# 17. Statistical analysis\n",
    "pair_stats = popgenstat.PopulationPairSummaryStatistics(sl_2014, drc_2007) \n",
    "print('Average number of pairwise differences irrespective of population: %.2f' % pair_stats.average_number_of_pairwise_differences) \n",
    "print('Average number of pairwise differences between populations: %.2f' % pair_stats.average_number_of_pairwise_differences_between) \n",
    "print('Average number of pairwise differences within populations: %.2f' % pair_stats.average_number_of_pairwise_differences_within) \n",
    "print('Average number of net pairwise differences : %.2f' % pair_stats.average_number_of_pairwise_differences_net) \n",
    "print('Number of segregating sites: %d' % pair_stats.num_segregating_sites) \n",
    "print(\"Watterson's theta: %.2f\" % pair_stats.wattersons_theta) \n",
    "print(\"Wakeley's Psi: %.3f\" % pair_stats.wakeleys_psi) \n",
    "print(\"Tajima's D: %.2f\" % pair_stats.tajimas_d) "
   ]
  },
  {
   "cell_type": "code",
   "execution_count": null,
   "id": "b3be561e-b3a0-40bf-b318-1b2101d591f2",
   "metadata": {},
   "outputs": [],
   "source": [
    "## End of Notebook ##"
   ]
  }
 ],
 "metadata": {
  "kernelspec": {
   "display_name": "Python 3 (ipykernel)",
   "language": "python",
   "name": "python3"
  },
  "language_info": {
   "codemirror_mode": {
    "name": "ipython",
    "version": 3
   },
   "file_extension": ".py",
   "mimetype": "text/x-python",
   "name": "python",
   "nbconvert_exporter": "python",
   "pygments_lexer": "ipython3",
   "version": "3.11.3"
  }
 },
 "nbformat": 4,
 "nbformat_minor": 5
}
