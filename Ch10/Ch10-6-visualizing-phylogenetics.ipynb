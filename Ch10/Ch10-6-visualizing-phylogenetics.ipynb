{
 "cells": [
  {
   "cell_type": "code",
   "execution_count": null,
   "id": "ea8ee1c6-9f19-4571-8242-eeae2df0c867",
   "metadata": {},
   "outputs": [],
   "source": [
    "# Ch10-6 - Visualizing Phylogenetic data [Updated to use raxml-ng]"
   ]
  },
  {
   "cell_type": "code",
   "execution_count": null,
   "id": "8bbae47e-f0a7-45b5-b024-41656fab9414",
   "metadata": {},
   "outputs": [],
   "source": [
    "# 30 & 31.  Load phylogenetic data and Draw Trees\n",
    "from copy import deepcopy\n",
    "from Bio import Phylo\n",
    "\n",
    "# Define the correct RAxML-NG output files\n",
    "best_tree_file = \"ebola_tree.raxml.bestTreeCollapsed\"  # Best ML tree\n",
    "simplified_tree_file = \"ebola_tree.raxml.support\"  # Bootstrap-supported tree (if available)\n",
    "\n",
    "# Read the best ML tree\n",
    "ebola_tree = Phylo.read(best_tree_file, \"newick\")\n",
    "ebola_tree.name = \"Ebolavirus Tree\"\n",
    "\n",
    "# Read the simplified (support) tree (if available)\n",
    "try:\n",
    "    ebola_simple_tree = Phylo.read(simplified_tree_file, \"newick\")\n",
    "    ebola_simple_tree.name = \"Ebolavirus Simplified Tree\"\n",
    "except FileNotFoundError:\n",
    "    print(f\"Warning: Simplified tree '{simplified_tree_file}' not found. Using a copy of the main tree instead.\")\n",
    "    ebola_simple_tree = deepcopy(ebola_tree)\n",
    "\n",
    "# Print tree structures for verification\n",
    "Phylo.draw_ascii(ebola_tree)\n",
    "Phylo.draw_ascii(ebola_simple_tree)"
   ]
  },
  {
   "cell_type": "code",
   "execution_count": null,
   "id": "a26ed965-d007-4bf9-a045-9a1683fc29cf",
   "metadata": {},
   "outputs": [],
   "source": [
    "# 32.  Bio.Phylo [Updated]\n",
    "import matplotlib.pyplot as plt\n",
    "from Bio import Phylo\n",
    "\n",
    "# Define the RAxML-NG output file\n",
    "simplified_tree_file = \"ebola_tree.raxml.bestTreeCollapsed\"  # Previous output of raxml-ng\n",
    "\n",
    "# Read the tree (RAxML-NG outputs trees in Newick format)\n",
    "ebola_simple_tree = Phylo.read(simplified_tree_file, \"newick\")\n",
    "\n",
    "# Create a figure and axis\n",
    "fig = plt.figure(figsize=(16, 22))\n",
    "ax = fig.add_subplot(111)\n",
    "\n",
    "# Function to conditionally label branches\n",
    "def label_branches(clade):\n",
    "    if clade.branch_length and clade.branch_length > 0.02:\n",
    "        return f\"{clade.branch_length:.3f}\"  # Format to 3 decimal places\n",
    "    return None\n",
    "\n",
    "# Draw the tree with branch labels\n",
    "Phylo.draw(ebola_simple_tree, branch_labels=label_branches, axes=ax)\n",
    "\n",
    "# Show the plot\n",
    "plt.show()"
   ]
  },
  {
   "cell_type": "code",
   "execution_count": null,
   "id": "81667248-d700-451b-aac9-e103a1311c31",
   "metadata": {},
   "outputs": [],
   "source": [
    "# 33.  Plot the complete dataset\n",
    "fig = plt.figure(figsize=(16, 22)) \n",
    "ax = fig.add_subplot(111) \n",
    "from collections import OrderedDict \n",
    "my_colors = OrderedDict({ \n",
    "'EBOV_2014': 'red', \n",
    "'EBOV': 'magenta', \n",
    "'BDBV': 'cyan', \n",
    "'SUDV': 'blue', \n",
    "'RESTV' : 'green', \n",
    "'TAFV' : 'yellow' \n",
    "}) \n",
    "\n",
    "def get_color(name): \n",
    "    for pref, color in my_colors.items(): \n",
    "        if name.find(pref) > -1: \n",
    "            return color \n",
    "    return 'grey' \n",
    "\n",
    "def color_tree(node, fun_color=get_color): \n",
    "    if node.is_terminal(): \n",
    "        node.color = fun_color(node.name) \n",
    "    else: \n",
    "        my_children = set() \n",
    "        for child in node.clades: \n",
    "            color_tree(child, fun_color) \n",
    "            my_children.add(child.color.to_hex()) \n",
    "        if len(my_children) == 1: \n",
    "            node.color = child.color \n",
    "        else: \n",
    "            node.color = 'grey' \n",
    "\n",
    "ebola_color_tree = deepcopy(ebola_tree) \n",
    "color_tree(ebola_color_tree.root) \n",
    "Phylo.draw(ebola_color_tree, axes=ax, label_func=lambda x: x.name.split(' ')[0][1:] if x.name is not None else None) "
   ]
  },
  {
   "cell_type": "code",
   "execution_count": null,
   "id": "f7b5e7f2-2e4c-4dc9-a982-579a9371f36b",
   "metadata": {},
   "outputs": [],
   "source": [
    "## End of Notebook ##"
   ]
  }
 ],
 "metadata": {
  "kernelspec": {
   "display_name": "Python 3 (ipykernel)",
   "language": "python",
   "name": "python3"
  },
  "language_info": {
   "codemirror_mode": {
    "name": "ipython",
    "version": 3
   },
   "file_extension": ".py",
   "mimetype": "text/x-python",
   "name": "python",
   "nbconvert_exporter": "python",
   "pygments_lexer": "ipython3",
   "version": "3.11.3"
  }
 },
 "nbformat": 4,
 "nbformat_minor": 5
}
