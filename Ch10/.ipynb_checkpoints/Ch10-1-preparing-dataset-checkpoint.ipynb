{
 "cells": [
  {
   "cell_type": "code",
   "execution_count": null,
   "id": "56dc5d7f-7c92-42c9-adea-9cc2f1a275c0",
   "metadata": {},
   "outputs": [],
   "source": [
    "# Ch10-1 - Preparing a dataset for phylogenetic analysis"
   ]
  },
  {
   "cell_type": "code",
   "execution_count": null,
   "id": "be988ce8-4b24-455d-ac96-262d509f6d88",
   "metadata": {},
   "outputs": [],
   "source": []
  },
  {
   "cell_type": "code",
   "execution_count": null,
   "id": "fa5178b5-b30a-4a27-b910-cfa4bb5f7bde",
   "metadata": {},
   "outputs": [],
   "source": []
  },
  {
   "cell_type": "code",
   "execution_count": null,
   "id": "b5803ed5-b13f-42d7-98ca-adef0206431f",
   "metadata": {},
   "outputs": [],
   "source": []
  },
  {
   "cell_type": "code",
   "execution_count": null,
   "id": "1165eb6a-33d1-44ce-a138-e325dd821e5c",
   "metadata": {},
   "outputs": [],
   "source": []
  },
  {
   "cell_type": "code",
   "execution_count": null,
   "id": "7fe9b62b-470b-4c1a-ba72-91b886102a64",
   "metadata": {},
   "outputs": [],
   "source": []
  }
 ],
 "metadata": {
  "kernelspec": {
   "display_name": "Python 3 (ipykernel)",
   "language": "python",
   "name": "python3"
  },
  "language_info": {
   "codemirror_mode": {
    "name": "ipython",
    "version": 3
   },
   "file_extension": ".py",
   "mimetype": "text/x-python",
   "name": "python",
   "nbconvert_exporter": "python",
   "pygments_lexer": "ipython3",
   "version": "3.11.3"
  }
 },
 "nbformat": 4,
 "nbformat_minor": 5
}
