{
 "cells": [
  {
   "cell_type": "code",
   "execution_count": null,
   "id": "81fc78c9-b88d-4371-910a-dfcd2fe49f4d",
   "metadata": {},
   "outputs": [],
   "source": [
    "# Ch10-5 Playing Recursively with Trees [Updated to use RAxML-NG]\n",
    "\n",
    "# todo - remove numbers of make them match up"
   ]
  },
  {
   "cell_type": "code",
   "execution_count": null,
   "id": "e19afca5-8cd9-4ab4-93ec-691cee7f9145",
   "metadata": {},
   "outputs": [],
   "source": [
    "# 23.  Load the raxml-generated tree for Ebola viruses\n",
    "import dendropy\n",
    "\n",
    "# Define the correct tree file output from RAxML-NG\n",
    "tree_file = \"ebola_tree.raxml.bestTreeCollapsed\"  # Based on raxml-ng output from previous recipe\n",
    "\n",
    "# Load the tree using Newick format (RAxML-NG outputs trees in Newick)\n",
    "ebola_raxml = dendropy.Tree.get_from_path(tree_file, schema=\"newick\")\n",
    "\n",
    "# Optional: Print the tree to verify\n",
    "print(ebola_raxml.as_string(schema=\"newick\"))\n"
   ]
  },
  {
   "cell_type": "code",
   "execution_count": null,
   "id": "25fde98b-6356-4a6f-9248-59665b54596f",
   "metadata": {},
   "outputs": [],
   "source": [
    "# 24. Compute the level of each node\n",
    "def compute_level(node, level=0): \n",
    "    for child in node.child_nodes(): \n",
    "        compute_level(child, level + 1) \n",
    "    if node.taxon is not None: \n",
    "        print(\"%s: %d %d\" % (node.taxon, node.level(), level)) \n",
    "compute_level(ebola_raxml.seed_node) "
   ]
  },
  {
   "cell_type": "code",
   "execution_count": null,
   "id": "6ad0c4ef-5321-46cb-b48a-94c49595ac56",
   "metadata": {},
   "outputs": [],
   "source": [
    "# 25.  Compute the height of each node\n",
    "def compute_height(node): \n",
    "    children = node.child_nodes() \n",
    "    if len(children) == 0: \n",
    "        height = 0 \n",
    "    else: \n",
    "        height = 1 + max(map(lambda x: compute_height(x), children)) \n",
    "    desc = node.taxon or 'Internal' \n",
    "    print(\"%s: %d %d\" % (desc, height, node.level())) \n",
    "    return height \n",
    "compute_height(ebola_raxml.seed_node) "
   ]
  },
  {
   "cell_type": "code",
   "execution_count": null,
   "id": "99069105-cdde-4ed7-b8a8-38bb2601cb95",
   "metadata": {},
   "outputs": [],
   "source": [
    "# 26.  Compute the number of offspring for each node\n",
    "def compute_nofs(node): \n",
    "    children = node.child_nodes() \n",
    "    nofs = len(children) \n",
    "    map(lambda x: compute_nofs(x), children) \n",
    "    desc = node.taxon or 'Internal' \n",
    "    print(\"%s: %d %d\" % (desc, nofs, node.level())) \n",
    "compute_nofs(ebola_raxml.seed_node) "
   ]
  },
  {
   "cell_type": "code",
   "execution_count": null,
   "id": "bc73aca6-d055-4eda-9619-a9cf77e87922",
   "metadata": {},
   "outputs": [],
   "source": [
    "# 27.  Print out the leaves\n",
    "def print_nodes(node): \n",
    "    for child in node.child_nodes(): \n",
    "        print_nodes(child) \n",
    "    if node.taxon is not None: \n",
    "        print('%s (%d)' % (node.taxon, node.level())) \n",
    "print_nodes(ebola_raxml.seed_node) "
   ]
  },
  {
   "cell_type": "code",
   "execution_count": null,
   "id": "c475fc49-a772-40b6-a83f-4f443970d2c2",
   "metadata": {},
   "outputs": [],
   "source": [
    "# 28.  Print leaf nodes in breadth-first manner\n",
    "from collections import deque \n",
    "def print_breadth(tree): \n",
    "    queue = deque() \n",
    "    queue.append(tree.seed_node) \n",
    "    while len(queue) > 0: \n",
    "        process_node = queue.popleft() \n",
    "        if process_node.taxon is not None: \n",
    "            print('%s (%d)' % (process_node.taxon, process_node.level())) \n",
    "        else: \n",
    "            for child in process_node.child_nodes(): \n",
    "                queue.append(child) \n",
    "print_breadth(ebola_raxml) "
   ]
  },
  {
   "cell_type": "code",
   "execution_count": null,
   "id": "1cb1caef-8aaa-4b4f-8531-66d0ebe1dbdf",
   "metadata": {},
   "outputs": [],
   "source": [
    "# 29.  Getting back to the real dataset\n",
    "from copy import deepcopy \n",
    "simple_ebola = deepcopy(ebola_raxml) \n",
    "def simplify_tree(node): \n",
    "    prefs = set() \n",
    "    for leaf in node.leaf_nodes(): \n",
    "        my_toks = leaf.taxon.label.split(' ') \n",
    "        if my_toks[0] == 'EBOV': \n",
    "            prefs.add('EBOV' + my_toks[1]) \n",
    "        else: \n",
    "            prefs.add(my_toks[0]) \n",
    "    if len(prefs) == 1: \n",
    "        print(prefs, len(node.leaf_nodes())) \n",
    "        node.taxon = dendropy.Taxon(label=list(prefs)[0]) \n",
    "        node.set_child_nodes([]) \n",
    "    else: \n",
    "        for child in node.child_nodes(): \n",
    "            simplify_tree(child) \n",
    "simplify_tree(simple_ebola.seed_node) \n",
    "simple_ebola.ladderize() \n",
    "simple_ebola.write_to_path('ebola_simple.nex', 'nexus') "
   ]
  },
  {
   "cell_type": "code",
   "execution_count": null,
   "id": "b9caaa6c-4251-4db0-9ca4-47d4fbd9a747",
   "metadata": {},
   "outputs": [],
   "source": [
    "## End of Notebook ##"
   ]
  }
 ],
 "metadata": {
  "kernelspec": {
   "display_name": "Python 3 (ipykernel)",
   "language": "python",
   "name": "python3"
  },
  "language_info": {
   "codemirror_mode": {
    "name": "ipython",
    "version": 3
   },
   "file_extension": ".py",
   "mimetype": "text/x-python",
   "name": "python",
   "nbconvert_exporter": "python",
   "pygments_lexer": "ipython3",
   "version": "3.11.3"
  }
 },
 "nbformat": 4,
 "nbformat_minor": 5
}
