{
 "cells": [
  {
   "cell_type": "code",
   "execution_count": null,
   "id": "0ba48448-2dc8-4c01-bf7b-d73e960ce9dc",
   "metadata": {},
   "outputs": [],
   "source": [
    "# Ch10-2 - Aligning genetic data [Updated]"
   ]
  },
  {
   "cell_type": "code",
   "execution_count": null,
   "id": "3d640c71-be77-4c60-885f-9b03489326d3",
   "metadata": {},
   "outputs": [],
   "source": [
    "# Install packages\n",
    "! brew install trimal\n",
    "! brew install mafft\n",
    "! brew install muscle"
   ]
  },
  {
   "cell_type": "code",
   "execution_count": null,
   "id": "63c8069a-c598-4e76-ad49-18051468d11a",
   "metadata": {},
   "outputs": [],
   "source": [
    "# 8.  Run MAFFT to align the genomes\n",
    "#     Note- this takes about 30-60 minutes to run\n",
    "import subprocess\n",
    "from Bio.Align.Applications import MafftCommandline\n",
    "# Define the MAFFT command\n",
    "mafft_cline = MafftCommandline(input=\"sample.fasta\", ep=0.123, reorder=True, maxiterate=1000, localpair=True)\n",
    "# Print the command (for debugging purposes)\n",
    "print(\"Running MAFFT with command:\", mafft_cline)\n",
    "# Run MAFFT using subprocess\n",
    "process = subprocess.run(\n",
    "    str(mafft_cline),  # Convert command to string\n",
    "    shell=True,        # Run in shell environment\n",
    "    capture_output=True,  # Capture stdout and stderr\n",
    "    text=True  # Ensure output is captured as text (string)\n",
    ")\n",
    "# Check for errors\n",
    "if process.returncode != 0:\n",
    "    print(\"Error running MAFFT:\", process.stderr)\n",
    "else:\n",
    "    # Save the aligned output to a file\n",
    "    with open(\"align.fasta\", \"w\") as w:\n",
    "        w.write(process.stdout)\n",
    "print(\"Alignment completed and saved to align.fasta\")"
   ]
  },
  {
   "cell_type": "code",
   "execution_count": null,
   "id": "63f8fcd5-d243-44b1-9f22-f29d27f48181",
   "metadata": {},
   "outputs": [],
   "source": [
    "# Once the above is completed, you should see the file align.fasta in your working directory"
   ]
  },
  {
   "cell_type": "code",
   "execution_count": null,
   "id": "a2d30c45-147c-41a8-9935-859b77d7787f",
   "metadata": {},
   "outputs": [],
   "source": [
    "# 9.  Use TrimAl to trim sequences\n",
    "import os\n",
    "os.system('trimal -automated1 -in align.fasta -out trim.fasta -fasta') "
   ]
  },
  {
   "cell_type": "code",
   "execution_count": null,
   "id": "aa59be90-5b5c-4115-856b-d0a642d0e376",
   "metadata": {},
   "outputs": [],
   "source": [
    "# You should see the file trim.fasta as the output"
   ]
  },
  {
   "cell_type": "code",
   "execution_count": null,
   "id": "29a14d97-e1c0-42c1-a46f-86c3327edce7",
   "metadata": {},
   "outputs": [],
   "source": [
    "# 10.  Run MUSCLE to align the proteins (This uses MUSCLE V5)\n",
    "import subprocess\n",
    "import os\n",
    "\n",
    "my_genes = ['NP', 'L', 'VP35', 'VP40'] \n",
    "for gene in my_genes:\n",
    "\n",
    "    input_file = f\"{gene}_P.fasta\"\n",
    "    output_file = f\"{gene}_P_align.fasta\"\n",
    "\n",
    "    # Verify if the input file exists\n",
    "    if not os.path.exists(input_file):\n",
    "        print(f\"Error: Input file '{input_file}' not found.\")\n",
    "    else:\n",
    "        # Construct the correct command for MUSCLE v5+\n",
    "        muscle_cmd = f\"muscle -align {input_file} -output {output_file}\"\n",
    "\n",
    "        print(f\"Running MUSCLE with command: {muscle_cmd}\")\n",
    "\n",
    "        # Run MUSCLE using subprocess\n",
    "        process = subprocess.run(\n",
    "            muscle_cmd, shell=True, capture_output=True, text=True\n",
    "        )\n",
    "\n",
    "        # Check for errors\n",
    "        if process.returncode != 0:\n",
    "            print(\"Error running MUSCLE:\", process.stderr)\n",
    "        else:\n",
    "            print(f\"Alignment completed and saved to {output_file}\")"
   ]
  },
  {
   "cell_type": "code",
   "execution_count": null,
   "id": "bd0737c6-786f-4c60-b68b-5820f0e1e140",
   "metadata": {},
   "outputs": [],
   "source": [
    "# You should see file four files: NP_P_align.fasta, L_P_align.fasta, VP35_P_align.fasta, VP40_P_align.fasta as the output"
   ]
  },
  {
   "cell_type": "code",
   "execution_count": null,
   "id": "2f3391e6-c1bd-4196-8ddf-272118e58bc7",
   "metadata": {},
   "outputs": [],
   "source": [
    "# 11.  Align genes by back-translation\n",
    "from Bio import SeqIO \n",
    "from Bio.Seq import Seq \n",
    "from Bio.SeqRecord import SeqRecord \n",
    "for gene in my_genes: \n",
    "    gene_seqs = {} \n",
    "    unal_gene = SeqIO.parse('%s.fasta' % gene, 'fasta') \n",
    "    for rec in unal_gene: \n",
    "        gene_seqs[rec.id] = rec.seq \n",
    "    al_prot = SeqIO.parse('%s_P_align.fasta' % gene, 'fasta') \n",
    "    al_genes = [] \n",
    "    for protein in al_prot: \n",
    "        my_id = protein.id \n",
    "        seq = '' \n",
    "        pos = 0 \n",
    "        for c in protein.seq: \n",
    "            if c == '-': \n",
    "                seq += '---' \n",
    "            else: \n",
    "                seq += str(gene_seqs[my_id][pos:pos + 3]) \n",
    "                pos += 3 \n",
    "        al_genes.append(SeqRecord(Seq(seq), id=my_id)) \n",
    "    SeqIO.write(al_genes, '%s_align.fasta' % gene, 'fasta') "
   ]
  },
  {
   "cell_type": "code",
   "execution_count": null,
   "id": "ce889cf2-4c3e-4344-897f-442cc559e599",
   "metadata": {},
   "outputs": [],
   "source": [
    "# You should see 4 output files:  NP_align.fasta, L_align.fasta, VP35_align.fasta, VP40_align.fasta"
   ]
  },
  {
   "cell_type": "code",
   "execution_count": null,
   "id": "56e37a0c-fba0-45f5-8e1d-a73445504e4b",
   "metadata": {},
   "outputs": [],
   "source": [
    "## End of Notebook ##"
   ]
  }
 ],
 "metadata": {
  "kernelspec": {
   "display_name": "Python 3 (ipykernel)",
   "language": "python",
   "name": "python3"
  },
  "language_info": {
   "codemirror_mode": {
    "name": "ipython",
    "version": 3
   },
   "file_extension": ".py",
   "mimetype": "text/x-python",
   "name": "python",
   "nbconvert_exporter": "python",
   "pygments_lexer": "ipython3",
   "version": "3.11.3"
  }
 },
 "nbformat": 4,
 "nbformat_minor": 5
}
